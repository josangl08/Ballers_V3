{
 "cells": [
  {
   "cell_type": "markdown",
   "metadata": {},
   "source": [
    "# Análisis Exploratorio de Datos (EDA) - Liga Tailandesa\n",
    "\n",
    "**Proyecto:** Player Development Index (PDI) para Liga Tailandesa  \n",
    "**Metodología:** CRISP-DM  \n",
    "**Objetivo Académico:** Análisis exploratorio riguroso de 2,359 registros de 5 temporadas  \n",
    "**Fecha:** Agosto 2025  \n",
    "\n",
    "---\n",
    "\n",
    "## 1. Introducción y Objetivos\n",
    "\n",
    "### 1.1 Contexto del Proyecto\n",
    "Este análisis forma parte del proyecto de fin de máster en Python aplicado al deporte. Utilizamos datos reales de la Liga Tailandesa para desarrollar un sistema de evaluación de jugadores basado en machine learning.\n",
    "\n",
    "### 1.2 Objetivos del EDA\n",
    "1. **Comprensión de datos**: Estructura, dimensiones y calidad del dataset\n",
    "2. **Análisis por posición**: Distribuciones y patrones específicos por rol\n",
    "3. **Identificación de features**: Variables relevantes para el PDI\n",
    "4. **Detección de anomalías**: Outliers y valores faltantes\n",
    "5. **Preparación para modelado**: Insights para feature engineering\n",
    "\n",
    "### 1.3 Estructura de Datos\n",
    "- **Registros**: 2,359 observaciones de jugadores profesionales\n",
    "- **Variables**: 155 columnas con métricas técnicas, tácticas y físicas\n",
    "- **Posiciones**: 8 roles principales (GK, CB, FB, DMF, CMF, AMF, W, CF)\n",
    "- **Temporadas**: 5 temporadas de la Liga Tailandesa"
   ]
  },
  {
   "cell_type": "markdown",
   "metadata": {},
   "source": [
    "## 2. Importación de Librerías y Configuración"
   ]
  },
  {
   "cell_type": "code",
   "execution_count": 9,
   "metadata": {},
   "outputs": [],
   "source": [
    "import pandas as pd\n",
    "from scipy import stats\n",
    "import numpy as np\n",
    "import sys\n",
    "import warnings\n",
    "import plotly.io as pio\n",
    "from pathlib import Path\n",
    "from plotly.subplots import make_subplots\n",
    "import plotly.graph_objects as go\n",
    "import plotly.express as px\n",
    "\n",
    "# Configuración del proyecto\n",
    "sys.path.append('..')\n",
    "from controllers.ml.feature_engineer import FeatureEngineer\n",
    "from controllers.ml.ml_metrics_controller import MLMetricsController\n",
    "\n",
    "# Configuraciones\n",
    "warnings.filterwarnings('ignore')\n",
    "pd.set_option('display.max_columns', None)\n",
    "pd.set_option('display.width', None)\n",
    "pio.templates.default = \"plotly_white\""
   ]
  },
  {
   "cell_type": "markdown",
   "metadata": {},
   "source": [
    "## 3. Carga y Descripción Inicial de Datos"
   ]
  },
  {
   "cell_type": "code",
   "execution_count": 10,
   "metadata": {},
   "outputs": [
    {
     "name": "stdout",
     "output_type": "stream",
     "text": [
      "🔄 Cargando datos de la Liga Tailandesa desde CSV...\n",
      "📁 Cargando 5 archivos CSV...\n",
      "   ✅ 2020-21: 465 registros\n",
      "   ✅ 2021-22: 458 registros\n",
      "   ✅ 2022-23: 473 registros\n",
      "   ✅ 2023-24: 470 registros\n",
      "   ✅ 2024-25: 493 registros\n",
      "✅ Datos cargados exitosamente: 2,359 registros de 5 temporadas\n",
      "\n",
      "📊 Dimensiones del dataset: (2359, 127)\n",
      "📅 Temporadas disponibles: ['2020-21', '2021-22', '2022-23', '2023-24', '2024-25']\n",
      "🏟️ Equipos únicos: 181\n",
      "👤 Jugadores únicos: 1081\n"
     ]
    }
   ],
   "source": [
    "def load_thai_league_csv_data():\n",
    "    \"\"\"\n",
    "    Carga datos de la Liga Tailandesa desde archivos CSV.\n",
    "    \n",
    "    Returns:\n",
    "        pd.DataFrame: Dataset completo de estadísticas profesionales\n",
    "    \"\"\"\n",
    "    try:\n",
    "        csv_dir = Path('../data/thai_league_cache')\n",
    "        if not csv_dir.exists():\n",
    "            print(f\"❌ Directorio no encontrado: {csv_dir}\")\n",
    "            return None\n",
    "        \n",
    "        csv_files = list(csv_dir.glob('thai_league_*.csv'))\n",
    "        if not csv_files:\n",
    "            print(f\"❌ No se encontraron archivos CSV en: {csv_dir}\")\n",
    "            return None\n",
    "        \n",
    "        print(f\"📁 Cargando {len(csv_files)} archivos CSV...\")\n",
    "        \n",
    "        all_dataframes = []\n",
    "        for csv_file in sorted(csv_files):\n",
    "            try:\n",
    "                season = csv_file.stem.replace('thai_league_', '')\n",
    "                df = pd.read_csv(csv_file)\n",
    "                df['season'] = season\n",
    "                print(f\"   ✅ {season}: {len(df):,} registros\")\n",
    "                all_dataframes.append(df)\n",
    "            except Exception as e:\n",
    "                print(f\"   ❌ Error cargando {csv_file}: {e}\")\n",
    "                continue\n",
    "        \n",
    "        if not all_dataframes:\n",
    "            print(\"❌ No se pudo cargar ningún archivo CSV\")\n",
    "            return None\n",
    "        \n",
    "        # Combinar todos los DataFrames\n",
    "        combined_df = pd.concat(all_dataframes, ignore_index=True)\n",
    "        print(f\"✅ Datos cargados exitosamente: {len(combined_df):,} registros de {len(combined_df['season'].unique())} temporadas\")\n",
    "        \n",
    "        return combined_df\n",
    "            \n",
    "    except Exception as e:\n",
    "        print(f\"❌ Error cargando datos CSV: {str(e)}\")\n",
    "        return None\n",
    "\n",
    "# Cargar datos desde CSV\n",
    "print(\"🔄 Cargando datos de la Liga Tailandesa desde CSV...\")\n",
    "df_thai = load_thai_league_csv_data()\n",
    "\n",
    "if df_thai is not None:\n",
    "    print(f\"\\n📊 Dimensiones del dataset: {df_thai.shape}\")\n",
    "    print(f\"📅 Temporadas disponibles: {sorted(df_thai['season'].unique())}\")\n",
    "    print(f\"🏟️ Equipos únicos: {df_thai['Team'].nunique() if 'Team' in df_thai.columns else 'N/A'}\")\n",
    "    print(f\"👤 Jugadores únicos: {df_thai['Player'].nunique() if 'Player' in df_thai.columns else 'N/A'}\")\n",
    "else:\n",
    "    print(\"❌ No se pudieron cargar los datos\")"
   ]
  },
  {
   "cell_type": "code",
   "execution_count": 13,
   "metadata": {},
   "outputs": [
    {
     "name": "stdout",
     "output_type": "stream",
     "text": [
      "============================================================\n",
      "📋 RESUMEN EJECUTIVO DEL DATASET\n",
      "============================================================\n",
      "🔢 Total de registros: 2,359\n",
      "📏 Total de variables: 127\n",
      "💾 Memoria utilizada: 4.1 MB\n",
      "\n",
      "📅 Distribución por temporadas:\n",
      "   2020-21: 465 registros (19.7%)\n",
      "   2021-22: 458 registros (19.4%)\n",
      "   2022-23: 473 registros (20.1%)\n",
      "   2023-24: 470 registros (19.9%)\n",
      "   2024-25: 493 registros (20.9%)\n",
      "\n",
      "⚽ Distribución por posiciones principales:\n",
      "   CF: 351 jugadores (14.9%)\n",
      "   GK: 191 jugadores (8.1%)\n",
      "   LB: 167 jugadores (7.1%)\n",
      "   RB: 160 jugadores (6.8%)\n",
      "   RCB: 146 jugadores (6.2%)\n",
      "   RCMF: 142 jugadores (6.0%)\n",
      "   RW: 125 jugadores (5.3%)\n",
      "   LCMF: 122 jugadores (5.2%)\n",
      "   LCB: 111 jugadores (4.7%)\n",
      "   LW: 105 jugadores (4.5%)\n",
      "   AMF: 81 jugadores (3.4%)\n",
      "   RCB3: 66 jugadores (2.8%)\n",
      "   DMF: 65 jugadores (2.8%)\n",
      "   LCB3: 62 jugadores (2.6%)\n",
      "   RCMF3: 47 jugadores (2.0%)\n",
      "   LCMF3: 47 jugadores (2.0%)\n",
      "   RAMF: 44 jugadores (1.9%)\n",
      "   RWB: 41 jugadores (1.7%)\n",
      "   LAMF: 40 jugadores (1.7%)\n",
      "   RDMF: 40 jugadores (1.7%)\n",
      "   CB: 37 jugadores (1.6%)\n",
      "   LDMF: 34 jugadores (1.4%)\n",
      "   LWB: 34 jugadores (1.4%)\n",
      "   LB5: 29 jugadores (1.2%)\n",
      "   LWF: 25 jugadores (1.1%)\n",
      "   RB5: 23 jugadores (1.0%)\n",
      "   RWF: 23 jugadores (1.0%)\n",
      "\n",
      "🔍 Completitud de variables críticas:\n",
      "\n",
      "============================================================\n"
     ]
    }
   ],
   "source": [
    "# Información básica del dataset\n",
    "print(\"=\" * 60)\n",
    "print(\"📋 RESUMEN EJECUTIVO DEL DATASET\")\n",
    "print(\"=\" * 60)\n",
    "\n",
    "if df_thai is not None:\n",
    "    # Información general\n",
    "    print(f\"🔢 Total de registros: {len(df_thai):,}\")\n",
    "    print(f\"📏 Total de variables: {len(df_thai.columns)}\")\n",
    "    print(f\"💾 Memoria utilizada: {df_thai.memory_usage(deep=True).sum() / 1024**2:.1f} MB\")\n",
    "    \n",
    "    # Distribución por temporadas\n",
    "    print(\"\\n📅 Distribución por temporadas:\")\n",
    "    season_counts = df_thai['season'].value_counts().sort_index()\n",
    "    for season, count in season_counts.items():\n",
    "        percentage = (count / len(df_thai)) * 100\n",
    "        print(f\"   {season}: {count:,} registros ({percentage:.1f}%)\")\n",
    "    \n",
    "    # Distribución por posiciones\n",
    "    print(\"\\n⚽ Distribución por posiciones principales:\")\n",
    "    position_counts = df_thai['Primary position'].value_counts()\n",
    "    for position, count in position_counts.items():\n",
    "        if isinstance(position, str):  # Check if position is a valid string\n",
    "            percentage = (count / len(df_thai)) * 100\n",
    "            print(f\"   {position}: {count:,} jugadores ({percentage:.1f}%)\")\n",
    "    \n",
    "    # Valores faltantes por columna crítica\n",
    "    critical_columns = ['goals', 'assists', 'matches_played', 'minutes_played', 'pass_accuracy_pct']\n",
    "    print(\"\\n🔍 Completitud de variables críticas:\")\n",
    "    for col in critical_columns:\n",
    "        if col in df_thai.columns:\n",
    "            missing_pct = (df_thai[col].isnull().sum() / len(df_thai)) * 100\n",
    "            print(f\"   {col}: {100-missing_pct:.1f}% completo\")\n",
    "\n",
    "print(\"\\n\" + \"=\" * 60)"
   ]
  },
  {
   "cell_type": "markdown",
   "metadata": {},
   "source": [
    "## 4. Análisis de Calidad de Datos\n",
    "\n",
    "### 4.1 Identificación de Variables por Tipo"
   ]
  },
  {
   "cell_type": "code",
   "execution_count": 14,
   "metadata": {},
   "outputs": [
    {
     "name": "stdout",
     "output_type": "stream",
     "text": [
      "🔍 ANÁLISIS DE ESTRUCTURA DE DATOS\n",
      "==================================================\n",
      "\n",
      "📊 IDENTIFICADORES (9 variables):\n",
      "   • Full name\n",
      "   • Wyscout id\n",
      "   • Team\n",
      "   • Team within selected timeframe\n",
      "   • Team logo\n",
      "   • Competition\n",
      "   • Sliding tackles per 90\n",
      "   • PAdj Sliding tackles\n",
      "   • season\n",
      "\n",
      "📊 DEMOGRAFICAS (15 variables):\n",
      "   • Position\n",
      "   • Primary position\n",
      "   • Primary position, %\n",
      "   • Secondary position\n",
      "   • Secondary position, %\n",
      "   • Third position\n",
      "   • Third position, %\n",
      "   • Age\n",
      "   • Birthday\n",
      "   • Birth country\n",
      "   ... y 5 más\n",
      "\n",
      "📊 METRICAS BASICAS (15 variables):\n",
      "   • Goals\n",
      "   • Assists\n",
      "   • Goals per 90\n",
      "   • Non-penalty goals\n",
      "   • Non-penalty goals per 90\n",
      "   • Head goals\n",
      "   • Head goals per 90\n",
      "   • Assists per 90\n",
      "   • Shot assists per 90\n",
      "   • Second assists per 90\n",
      "   ... y 5 más\n",
      "\n",
      "📊 METRICAS PER 90 (0 variables):\n",
      "\n",
      "📊 METRICAS PORCENTAJE (5 variables):\n",
      "   • Successful defensive actions per 90\n",
      "   • Successful attacking actions per 90\n",
      "   • Goal conversion, %\n",
      "   • Successful dribbles, %\n",
      "   • Penalty conversion, %\n",
      "\n",
      "📊 METRICAS AVANZADAS (9 variables):\n",
      "   • xG\n",
      "   • xA\n",
      "   • xG per 90\n",
      "   • Progressive runs per 90\n",
      "   • xA per 90\n",
      "   • Progressive passes per 90\n",
      "   • Accurate progressive passes, %\n",
      "   • xG against\n",
      "   • xG against per 90\n",
      "\n",
      "📊 DISCIPLINA (6 variables):\n",
      "   • Fouls per 90\n",
      "   • Yellow cards\n",
      "   • Yellow cards per 90\n",
      "   • Red cards\n",
      "   • Red cards per 90\n",
      "   • Fouls suffered per 90\n",
      "\n",
      "📈 RESUMEN DE COMPLETITUD:\n",
      "   Completitud general del dataset: 91.1%\n",
      "   Celdas totales: 299,593\n",
      "   Celdas faltantes: 26,749\n"
     ]
    }
   ],
   "source": [
    "def analyze_data_types(df):\n",
    "    \"\"\"\n",
    "    Analiza tipos de datos y categoriza variables según su naturaleza.\n",
    "    \n",
    "    Args:\n",
    "        df (pd.DataFrame): Dataset a analizar\n",
    "        \n",
    "    Returns:\n",
    "        dict: Categorización de variables\n",
    "    \"\"\"\n",
    "    analysis = {\n",
    "        'identificadores': [],\n",
    "        'demograficas': [],\n",
    "        'metricas_basicas': [],\n",
    "        'metricas_per_90': [],\n",
    "        'metricas_porcentaje': [],\n",
    "        'metricas_avanzadas': [],\n",
    "        'disciplina': []\n",
    "    }\n",
    "    \n",
    "    # Categorizar columnas basado en nombres y patrones\n",
    "    for col in df.columns:\n",
    "        col_lower = col.lower()\n",
    "        \n",
    "        # Identificadores y metadatos\n",
    "        if any(x in col_lower for x in ['id', 'name', 'team', 'season', 'competition']):\n",
    "            analysis['identificadores'].append(col)\n",
    "        \n",
    "        # Información demográfica\n",
    "        elif any(x in col_lower for x in ['age', 'height', 'weight', 'birth', 'country', 'position']):\n",
    "            analysis['demograficas'].append(col)\n",
    "        \n",
    "        # Métricas básicas\n",
    "        elif any(x in col_lower for x in ['matches_played', 'minutes_played', 'goals', 'assists']):\n",
    "            analysis['metricas_basicas'].append(col)\n",
    "        \n",
    "        # Métricas por 90 minutos\n",
    "        elif 'per_90' in col_lower or '_90' in col_lower:\n",
    "            analysis['metricas_per_90'].append(col)\n",
    "        \n",
    "        # Métricas de porcentaje\n",
    "        elif any(x in col_lower for x in ['pct', 'accuracy', 'success', 'conversion']):\n",
    "            analysis['metricas_porcentaje'].append(col)\n",
    "        \n",
    "        # Métricas avanzadas (xG, xA, etc.)\n",
    "        elif any(x in col_lower for x in ['expected', 'xg', 'xa', 'progressive']):\n",
    "            analysis['metricas_avanzadas'].append(col)\n",
    "        \n",
    "        # Disciplina\n",
    "        elif any(x in col_lower for x in ['card', 'foul']):\n",
    "            analysis['disciplina'].append(col)\n",
    "    \n",
    "    return analysis\n",
    "\n",
    "# Analizar estructura de datos\n",
    "if df_thai is not None:\n",
    "    data_structure = analyze_data_types(df_thai)\n",
    "    \n",
    "    print(\"🔍 ANÁLISIS DE ESTRUCTURA DE DATOS\")\n",
    "    print(\"=\" * 50)\n",
    "    \n",
    "    for category, columns in data_structure.items():\n",
    "        print(f\"\\n📊 {category.upper().replace('_', ' ')} ({len(columns)} variables):\")\n",
    "        for col in columns[:10]:  # Mostrar primeras 10\n",
    "            print(f\"   • {col}\")\n",
    "        if len(columns) > 10:\n",
    "            print(f\"   ... y {len(columns) - 10} más\")\n",
    "    \n",
    "    # Resumen estadístico de completitud\n",
    "    print(f\"\\n📈 RESUMEN DE COMPLETITUD:\")\n",
    "    total_cells = len(df_thai) * len(df_thai.columns)\n",
    "    missing_cells = df_thai.isnull().sum().sum()\n",
    "    completeness = ((total_cells - missing_cells) / total_cells) * 100\n",
    "    \n",
    "    print(f\"   Completitud general del dataset: {completeness:.1f}%\")\n",
    "    print(f\"   Celdas totales: {total_cells:,}\")\n",
    "    print(f\"   Celdas faltantes: {missing_cells:,}\")"
   ]
  },
  {
   "cell_type": "markdown",
   "metadata": {},
   "source": [
    "### 4.2 Análisis de Valores Faltantes por Categoría"
   ]
  },
  {
   "cell_type": "code",
   "execution_count": 15,
   "metadata": {},
   "outputs": [
    {
     "name": "stdout",
     "output_type": "stream",
     "text": [
      "🔍 Generando análisis de valores faltantes...\n"
     ]
    },
    {
     "data": {
      "application/vnd.plotly.v1+json": {
       "config": {
        "plotlyServerURL": "https://plot.ly"
       },
       "data": [
        {
         "name": "Identificadores",
         "showlegend": false,
         "type": "box",
         "xaxis": "x",
         "y": {
          "bdata": "AAAAAAAAWUAAAAAAAABZQHZctI6L1lZAAAAAAAAAWUB2XLSOi9ZWQPyCf1/w71VA2q0yu1VmV0AAAAAAAABZQAAAAAAAAFlA",
          "dtype": "f8"
         },
         "yaxis": "y"
        },
        {
         "name": "Demograficas",
         "showlegend": false,
         "type": "box",
         "xaxis": "x",
         "y": {
          "bdata": "v0vqd0n9WEC/S+p3Sf1YQAAAAAAAAFlAssstdrnFUUAAAAAAAABZQJkVD7PiYUZAAAAAAAAAWUA+475n3PdYQP0uqd8l9VhAv0vqd0n9WEAAAAAAAABZQAAAAAAAAFlAAAAAAAAAWUAAAAAAAABZQAAAAAAAAFlA",
          "dtype": "f8"
         },
         "yaxis": "y"
        },
        {
         "name": "Metricas Basicas",
         "showlegend": false,
         "type": "box",
         "xaxis": "x",
         "y": {
          "bdata": "AAAAAAAAWUAAAAAAAABZQBpiSEMMaVdAAAAAAAAAWUDarTK7VWZXQAAAAAAAAFlA2q0yu1VmV0DarTK7VWZXQNqtMrtVZldA2q0yu1VmV0DarTK7VWZXQAAAAAAAAFlAwKM9eLQHH0AQ4otBfDEgQMCjPXi0Bx9A",
          "dtype": "f8"
         },
         "yaxis": "y"
        },
        {
         "name": "Metricas Porcentaje",
         "showlegend": false,
         "type": "box",
         "xaxis": "x",
         "y": {
          "bdata": "2q0yu1VmV0DarTK7VWZXQAAAAAAAAFlA2q0yu1VmV0AAAAAAAABZQA==",
          "dtype": "f8"
         },
         "yaxis": "y"
        },
        {
         "name": "Metricas Avanzadas",
         "showlegend": false,
         "type": "box",
         "xaxis": "x",
         "y": {
          "bdata": "AAAAAAAAWUAAAAAAAABZQNqtMrtVZldA2q0yu1VmV0DarTK7VWZXQNqtMrtVZldA2q0yu1VmV0AAAAAAAABZQNqtMrtVZldA",
          "dtype": "f8"
         },
         "yaxis": "y"
        },
        {
         "name": "Disciplina",
         "showlegend": false,
         "type": "box",
         "xaxis": "x",
         "y": {
          "bdata": "2q0yu1VmV0AAAAAAAABZQBpiSEMMaVdAAAAAAAAAWUAaYkhDDGlXQNqtMrtVZldA",
          "dtype": "f8"
         },
         "yaxis": "y"
        },
        {
         "marker": {
          "color": "lightcoral"
         },
         "orientation": "h",
         "showlegend": false,
         "type": "bar",
         "x": {
          "bdata": "xCV8uIQPV0DEJXy4hA9XQL6DznfQ+VZAZ+rwTB2eS0A60UgnGuk8QCDoAwR9gChAUxxdiqNLIUBTHF2Ko0shQGci1UykmhlAZyLVTKSaGUBnItVMpJoZQGci1UykmhlAZyLVTKSaGUBnItVMpJoZQGci1UykmhlAZyLVTKSaGUBnItVMpJoZQGci1UykmhlAZyLVTKSaGUBnItVMpJoZQA==",
          "dtype": "f8"
         },
         "xaxis": "x2",
         "y": [
          "Conceded goals per 90",
          "Prevented goals per 90",
          "Prevented goals",
          "Third position",
          "Secondary position",
          "Competition",
          "Team",
          "Team logo",
          "Sliding tackles per 90",
          "Non-penalty goals per 90",
          "Head goals per 90",
          "Assists per 90",
          "Shot assists per 90",
          "Second assists per 90",
          "Third assists per 90",
          "Successful defensive actions per 90",
          "Successful attacking actions per 90",
          "Successful dribbles, %",
          "xG per 90",
          "Progressive runs per 90"
         ],
         "yaxis": "y2"
        },
        {
         "marker": {
          "color": "lightblue"
         },
         "nbinsx": 20,
         "showlegend": false,
         "type": "histogram",
         "x": {
          "bdata": "AAAAAAAAWUAAAAAAAABZQHZctI6L1lZAAAAAAAAAWUB2XLSOi9ZWQPyCf1/w71VA2q0yu1VmV0AAAAAAAABZQAAAAAAAAFlAv0vqd0n9WEC/S+p3Sf1YQAAAAAAAAFlAssstdrnFUUAAAAAAAABZQJkVD7PiYUZAAAAAAAAAWUA+475n3PdYQP0uqd8l9VhAv0vqd0n9WEAAAAAAAABZQAAAAAAAAFlAAAAAAAAAWUAAAAAAAABZQAAAAAAAAFlAAAAAAAAAWUAAAAAAAABZQBpiSEMMaVdAAAAAAAAAWUDarTK7VWZXQAAAAAAAAFlA2q0yu1VmV0DarTK7VWZXQNqtMrtVZldA2q0yu1VmV0DarTK7VWZXQAAAAAAAAFlAwKM9eLQHH0AQ4otBfDEgQMCjPXi0Bx9A2q0yu1VmV0DarTK7VWZXQAAAAAAAAFlA2q0yu1VmV0AAAAAAAABZQAAAAAAAAFlAAAAAAAAAWUDarTK7VWZXQNqtMrtVZldA2q0yu1VmV0DarTK7VWZXQNqtMrtVZldAAAAAAAAAWUDarTK7VWZXQNqtMrtVZldAAAAAAAAAWUAaYkhDDGlXQAAAAAAAAFlAGmJIQwxpV0DarTK7VWZXQA==",
          "dtype": "f8"
         },
         "xaxis": "x3",
         "yaxis": "y3"
        }
       ],
       "layout": {
        "annotations": [
         {
          "font": {
           "size": 16
          },
          "showarrow": false,
          "text": "Distribución de Completitud por Categoría",
          "x": 0.225,
          "xanchor": "center",
          "xref": "paper",
          "y": 1,
          "yanchor": "bottom",
          "yref": "paper"
         },
         {
          "font": {
           "size": 16
          },
          "showarrow": false,
          "text": "Top 20 Variables con Más Datos Faltantes",
          "x": 0.775,
          "xanchor": "center",
          "xref": "paper",
          "y": 1,
          "yanchor": "bottom",
          "yref": "paper"
         },
         {
          "font": {
           "size": 16
          },
          "showarrow": false,
          "text": "Histograma de Completitud",
          "x": 0.225,
          "xanchor": "center",
          "xref": "paper",
          "y": 0.375,
          "yanchor": "bottom",
          "yref": "paper"
         },
         {
          "font": {
           "size": 16
          },
          "showarrow": false,
          "text": "Mapa de Calor - Completitud por Temporada",
          "x": 0.775,
          "xanchor": "center",
          "xref": "paper",
          "y": 0.375,
          "yanchor": "bottom",
          "yref": "paper"
         }
        ],
        "height": 800,
        "showlegend": false,
        "template": {
         "data": {
          "bar": [
           {
            "error_x": {
             "color": "#2a3f5f"
            },
            "error_y": {
             "color": "#2a3f5f"
            },
            "marker": {
             "line": {
              "color": "white",
              "width": 0.5
             },
             "pattern": {
              "fillmode": "overlay",
              "size": 10,
              "solidity": 0.2
             }
            },
            "type": "bar"
           }
          ],
          "barpolar": [
           {
            "marker": {
             "line": {
              "color": "white",
              "width": 0.5
             },
             "pattern": {
              "fillmode": "overlay",
              "size": 10,
              "solidity": 0.2
             }
            },
            "type": "barpolar"
           }
          ],
          "carpet": [
           {
            "aaxis": {
             "endlinecolor": "#2a3f5f",
             "gridcolor": "#C8D4E3",
             "linecolor": "#C8D4E3",
             "minorgridcolor": "#C8D4E3",
             "startlinecolor": "#2a3f5f"
            },
            "baxis": {
             "endlinecolor": "#2a3f5f",
             "gridcolor": "#C8D4E3",
             "linecolor": "#C8D4E3",
             "minorgridcolor": "#C8D4E3",
             "startlinecolor": "#2a3f5f"
            },
            "type": "carpet"
           }
          ],
          "choropleth": [
           {
            "colorbar": {
             "outlinewidth": 0,
             "ticks": ""
            },
            "type": "choropleth"
           }
          ],
          "contour": [
           {
            "colorbar": {
             "outlinewidth": 0,
             "ticks": ""
            },
            "colorscale": [
             [
              0,
              "#0d0887"
             ],
             [
              0.1111111111111111,
              "#46039f"
             ],
             [
              0.2222222222222222,
              "#7201a8"
             ],
             [
              0.3333333333333333,
              "#9c179e"
             ],
             [
              0.4444444444444444,
              "#bd3786"
             ],
             [
              0.5555555555555556,
              "#d8576b"
             ],
             [
              0.6666666666666666,
              "#ed7953"
             ],
             [
              0.7777777777777778,
              "#fb9f3a"
             ],
             [
              0.8888888888888888,
              "#fdca26"
             ],
             [
              1,
              "#f0f921"
             ]
            ],
            "type": "contour"
           }
          ],
          "contourcarpet": [
           {
            "colorbar": {
             "outlinewidth": 0,
             "ticks": ""
            },
            "type": "contourcarpet"
           }
          ],
          "heatmap": [
           {
            "colorbar": {
             "outlinewidth": 0,
             "ticks": ""
            },
            "colorscale": [
             [
              0,
              "#0d0887"
             ],
             [
              0.1111111111111111,
              "#46039f"
             ],
             [
              0.2222222222222222,
              "#7201a8"
             ],
             [
              0.3333333333333333,
              "#9c179e"
             ],
             [
              0.4444444444444444,
              "#bd3786"
             ],
             [
              0.5555555555555556,
              "#d8576b"
             ],
             [
              0.6666666666666666,
              "#ed7953"
             ],
             [
              0.7777777777777778,
              "#fb9f3a"
             ],
             [
              0.8888888888888888,
              "#fdca26"
             ],
             [
              1,
              "#f0f921"
             ]
            ],
            "type": "heatmap"
           }
          ],
          "histogram": [
           {
            "marker": {
             "pattern": {
              "fillmode": "overlay",
              "size": 10,
              "solidity": 0.2
             }
            },
            "type": "histogram"
           }
          ],
          "histogram2d": [
           {
            "colorbar": {
             "outlinewidth": 0,
             "ticks": ""
            },
            "colorscale": [
             [
              0,
              "#0d0887"
             ],
             [
              0.1111111111111111,
              "#46039f"
             ],
             [
              0.2222222222222222,
              "#7201a8"
             ],
             [
              0.3333333333333333,
              "#9c179e"
             ],
             [
              0.4444444444444444,
              "#bd3786"
             ],
             [
              0.5555555555555556,
              "#d8576b"
             ],
             [
              0.6666666666666666,
              "#ed7953"
             ],
             [
              0.7777777777777778,
              "#fb9f3a"
             ],
             [
              0.8888888888888888,
              "#fdca26"
             ],
             [
              1,
              "#f0f921"
             ]
            ],
            "type": "histogram2d"
           }
          ],
          "histogram2dcontour": [
           {
            "colorbar": {
             "outlinewidth": 0,
             "ticks": ""
            },
            "colorscale": [
             [
              0,
              "#0d0887"
             ],
             [
              0.1111111111111111,
              "#46039f"
             ],
             [
              0.2222222222222222,
              "#7201a8"
             ],
             [
              0.3333333333333333,
              "#9c179e"
             ],
             [
              0.4444444444444444,
              "#bd3786"
             ],
             [
              0.5555555555555556,
              "#d8576b"
             ],
             [
              0.6666666666666666,
              "#ed7953"
             ],
             [
              0.7777777777777778,
              "#fb9f3a"
             ],
             [
              0.8888888888888888,
              "#fdca26"
             ],
             [
              1,
              "#f0f921"
             ]
            ],
            "type": "histogram2dcontour"
           }
          ],
          "mesh3d": [
           {
            "colorbar": {
             "outlinewidth": 0,
             "ticks": ""
            },
            "type": "mesh3d"
           }
          ],
          "parcoords": [
           {
            "line": {
             "colorbar": {
              "outlinewidth": 0,
              "ticks": ""
             }
            },
            "type": "parcoords"
           }
          ],
          "pie": [
           {
            "automargin": true,
            "type": "pie"
           }
          ],
          "scatter": [
           {
            "fillpattern": {
             "fillmode": "overlay",
             "size": 10,
             "solidity": 0.2
            },
            "type": "scatter"
           }
          ],
          "scatter3d": [
           {
            "line": {
             "colorbar": {
              "outlinewidth": 0,
              "ticks": ""
             }
            },
            "marker": {
             "colorbar": {
              "outlinewidth": 0,
              "ticks": ""
             }
            },
            "type": "scatter3d"
           }
          ],
          "scattercarpet": [
           {
            "marker": {
             "colorbar": {
              "outlinewidth": 0,
              "ticks": ""
             }
            },
            "type": "scattercarpet"
           }
          ],
          "scattergeo": [
           {
            "marker": {
             "colorbar": {
              "outlinewidth": 0,
              "ticks": ""
             }
            },
            "type": "scattergeo"
           }
          ],
          "scattergl": [
           {
            "marker": {
             "colorbar": {
              "outlinewidth": 0,
              "ticks": ""
             }
            },
            "type": "scattergl"
           }
          ],
          "scattermap": [
           {
            "marker": {
             "colorbar": {
              "outlinewidth": 0,
              "ticks": ""
             }
            },
            "type": "scattermap"
           }
          ],
          "scattermapbox": [
           {
            "marker": {
             "colorbar": {
              "outlinewidth": 0,
              "ticks": ""
             }
            },
            "type": "scattermapbox"
           }
          ],
          "scatterpolar": [
           {
            "marker": {
             "colorbar": {
              "outlinewidth": 0,
              "ticks": ""
             }
            },
            "type": "scatterpolar"
           }
          ],
          "scatterpolargl": [
           {
            "marker": {
             "colorbar": {
              "outlinewidth": 0,
              "ticks": ""
             }
            },
            "type": "scatterpolargl"
           }
          ],
          "scatterternary": [
           {
            "marker": {
             "colorbar": {
              "outlinewidth": 0,
              "ticks": ""
             }
            },
            "type": "scatterternary"
           }
          ],
          "surface": [
           {
            "colorbar": {
             "outlinewidth": 0,
             "ticks": ""
            },
            "colorscale": [
             [
              0,
              "#0d0887"
             ],
             [
              0.1111111111111111,
              "#46039f"
             ],
             [
              0.2222222222222222,
              "#7201a8"
             ],
             [
              0.3333333333333333,
              "#9c179e"
             ],
             [
              0.4444444444444444,
              "#bd3786"
             ],
             [
              0.5555555555555556,
              "#d8576b"
             ],
             [
              0.6666666666666666,
              "#ed7953"
             ],
             [
              0.7777777777777778,
              "#fb9f3a"
             ],
             [
              0.8888888888888888,
              "#fdca26"
             ],
             [
              1,
              "#f0f921"
             ]
            ],
            "type": "surface"
           }
          ],
          "table": [
           {
            "cells": {
             "fill": {
              "color": "#EBF0F8"
             },
             "line": {
              "color": "white"
             }
            },
            "header": {
             "fill": {
              "color": "#C8D4E3"
             },
             "line": {
              "color": "white"
             }
            },
            "type": "table"
           }
          ]
         },
         "layout": {
          "annotationdefaults": {
           "arrowcolor": "#2a3f5f",
           "arrowhead": 0,
           "arrowwidth": 1
          },
          "autotypenumbers": "strict",
          "coloraxis": {
           "colorbar": {
            "outlinewidth": 0,
            "ticks": ""
           }
          },
          "colorscale": {
           "diverging": [
            [
             0,
             "#8e0152"
            ],
            [
             0.1,
             "#c51b7d"
            ],
            [
             0.2,
             "#de77ae"
            ],
            [
             0.3,
             "#f1b6da"
            ],
            [
             0.4,
             "#fde0ef"
            ],
            [
             0.5,
             "#f7f7f7"
            ],
            [
             0.6,
             "#e6f5d0"
            ],
            [
             0.7,
             "#b8e186"
            ],
            [
             0.8,
             "#7fbc41"
            ],
            [
             0.9,
             "#4d9221"
            ],
            [
             1,
             "#276419"
            ]
           ],
           "sequential": [
            [
             0,
             "#0d0887"
            ],
            [
             0.1111111111111111,
             "#46039f"
            ],
            [
             0.2222222222222222,
             "#7201a8"
            ],
            [
             0.3333333333333333,
             "#9c179e"
            ],
            [
             0.4444444444444444,
             "#bd3786"
            ],
            [
             0.5555555555555556,
             "#d8576b"
            ],
            [
             0.6666666666666666,
             "#ed7953"
            ],
            [
             0.7777777777777778,
             "#fb9f3a"
            ],
            [
             0.8888888888888888,
             "#fdca26"
            ],
            [
             1,
             "#f0f921"
            ]
           ],
           "sequentialminus": [
            [
             0,
             "#0d0887"
            ],
            [
             0.1111111111111111,
             "#46039f"
            ],
            [
             0.2222222222222222,
             "#7201a8"
            ],
            [
             0.3333333333333333,
             "#9c179e"
            ],
            [
             0.4444444444444444,
             "#bd3786"
            ],
            [
             0.5555555555555556,
             "#d8576b"
            ],
            [
             0.6666666666666666,
             "#ed7953"
            ],
            [
             0.7777777777777778,
             "#fb9f3a"
            ],
            [
             0.8888888888888888,
             "#fdca26"
            ],
            [
             1,
             "#f0f921"
            ]
           ]
          },
          "colorway": [
           "#636efa",
           "#EF553B",
           "#00cc96",
           "#ab63fa",
           "#FFA15A",
           "#19d3f3",
           "#FF6692",
           "#B6E880",
           "#FF97FF",
           "#FECB52"
          ],
          "font": {
           "color": "#2a3f5f"
          },
          "geo": {
           "bgcolor": "white",
           "lakecolor": "white",
           "landcolor": "white",
           "showlakes": true,
           "showland": true,
           "subunitcolor": "#C8D4E3"
          },
          "hoverlabel": {
           "align": "left"
          },
          "hovermode": "closest",
          "mapbox": {
           "style": "light"
          },
          "paper_bgcolor": "white",
          "plot_bgcolor": "white",
          "polar": {
           "angularaxis": {
            "gridcolor": "#EBF0F8",
            "linecolor": "#EBF0F8",
            "ticks": ""
           },
           "bgcolor": "white",
           "radialaxis": {
            "gridcolor": "#EBF0F8",
            "linecolor": "#EBF0F8",
            "ticks": ""
           }
          },
          "scene": {
           "xaxis": {
            "backgroundcolor": "white",
            "gridcolor": "#DFE8F3",
            "gridwidth": 2,
            "linecolor": "#EBF0F8",
            "showbackground": true,
            "ticks": "",
            "zerolinecolor": "#EBF0F8"
           },
           "yaxis": {
            "backgroundcolor": "white",
            "gridcolor": "#DFE8F3",
            "gridwidth": 2,
            "linecolor": "#EBF0F8",
            "showbackground": true,
            "ticks": "",
            "zerolinecolor": "#EBF0F8"
           },
           "zaxis": {
            "backgroundcolor": "white",
            "gridcolor": "#DFE8F3",
            "gridwidth": 2,
            "linecolor": "#EBF0F8",
            "showbackground": true,
            "ticks": "",
            "zerolinecolor": "#EBF0F8"
           }
          },
          "shapedefaults": {
           "line": {
            "color": "#2a3f5f"
           }
          },
          "ternary": {
           "aaxis": {
            "gridcolor": "#DFE8F3",
            "linecolor": "#A2B1C6",
            "ticks": ""
           },
           "baxis": {
            "gridcolor": "#DFE8F3",
            "linecolor": "#A2B1C6",
            "ticks": ""
           },
           "bgcolor": "white",
           "caxis": {
            "gridcolor": "#DFE8F3",
            "linecolor": "#A2B1C6",
            "ticks": ""
           }
          },
          "title": {
           "x": 0.05
          },
          "xaxis": {
           "automargin": true,
           "gridcolor": "#EBF0F8",
           "linecolor": "#EBF0F8",
           "ticks": "",
           "title": {
            "standoff": 15
           },
           "zerolinecolor": "#EBF0F8",
           "zerolinewidth": 2
          },
          "yaxis": {
           "automargin": true,
           "gridcolor": "#EBF0F8",
           "linecolor": "#EBF0F8",
           "ticks": "",
           "title": {
            "standoff": 15
           },
           "zerolinecolor": "#EBF0F8",
           "zerolinewidth": 2
          }
         }
        },
        "title": {
         "text": "📊 Análisis Integral de Calidad de Datos - Liga Tailandesa",
         "x": 0.5
        },
        "xaxis": {
         "anchor": "y",
         "domain": [
          0,
          0.45
         ]
        },
        "xaxis2": {
         "anchor": "y2",
         "domain": [
          0.55,
          1
         ],
         "title": {
          "text": "Completitud (%)"
         }
        },
        "xaxis3": {
         "anchor": "y3",
         "domain": [
          0,
          0.45
         ],
         "title": {
          "text": "Completitud (%)"
         }
        },
        "xaxis4": {
         "anchor": "y4",
         "domain": [
          0.55,
          1
         ]
        },
        "yaxis": {
         "anchor": "x",
         "domain": [
          0.625,
          1
         ]
        },
        "yaxis2": {
         "anchor": "x2",
         "domain": [
          0.625,
          1
         ],
         "title": {
          "text": "Variables"
         }
        },
        "yaxis3": {
         "anchor": "x3",
         "domain": [
          0,
          0.375
         ],
         "title": {
          "text": "Frecuencia"
         }
        },
        "yaxis4": {
         "anchor": "x4",
         "domain": [
          0,
          0.375
         ]
        }
       }
      }
     },
     "metadata": {},
     "output_type": "display_data"
    },
    {
     "name": "stdout",
     "output_type": "stream",
     "text": [
      "\n",
      "📈 RESUMEN DE COMPLETITUD POR CATEGORÍA:\n",
      "                     mean   std   min    max\n",
      "categoria                                   \n",
      "Demograficas         94.4  15.6  44.8  100.0\n",
      "Disciplina           95.7   3.3  93.6  100.0\n",
      "Identificadores      96.0   5.0  87.7  100.0\n",
      "Metricas Avanzadas   95.7   3.2  93.6  100.0\n",
      "Metricas Basicas     78.6  36.7   7.8  100.0\n",
      "Metricas Porcentaje  96.2   3.5  93.6  100.0\n"
     ]
    }
   ],
   "source": [
    "def create_missing_values_analysis(df, data_structure):\n",
    "    \"\"\"\n",
    "    Crea análisis visual de valores faltantes por categoría.\n",
    "    \n",
    "    Args:\n",
    "        df (pd.DataFrame): Dataset\n",
    "        data_structure (dict): Estructura categorizada de variables\n",
    "    \"\"\"\n",
    "    \n",
    "    # Preparar datos para visualización\n",
    "    missing_data = []\n",
    "    \n",
    "    for category, columns in data_structure.items():\n",
    "        if columns:  # Solo si hay columnas en la categoría\n",
    "            for col in columns:\n",
    "                if col in df.columns:\n",
    "                    missing_pct = (df[col].isnull().sum() / len(df)) * 100\n",
    "                    missing_data.append({\n",
    "                        'variable': col,\n",
    "                        'categoria': category.replace('_', ' ').title(),\n",
    "                        'missing_pct': missing_pct,\n",
    "                        'available_pct': 100 - missing_pct\n",
    "                    })\n",
    "    \n",
    "    df_missing = pd.DataFrame(missing_data)\n",
    "    \n",
    "    # Crear visualización interactiva\n",
    "    fig = make_subplots(\n",
    "        rows=2, cols=2,\n",
    "        subplot_titles=[\n",
    "            \"Distribución de Completitud por Categoría\",\n",
    "            \"Top 20 Variables con Más Datos Faltantes\",\n",
    "            \"Histograma de Completitud\",\n",
    "            \"Mapa de Calor - Completitud por Temporada\"\n",
    "        ],\n",
    "        specs=[[{\"type\": \"box\"}, {\"type\": \"bar\"}],\n",
    "               [{\"type\": \"histogram\"}, {\"type\": \"heatmap\"}]]\n",
    "    )\n",
    "    \n",
    "    # 1. Box plot por categoría\n",
    "    for category in df_missing['categoria'].unique():\n",
    "        cat_data = df_missing[df_missing['categoria'] == category]['available_pct']\n",
    "        fig.add_trace(\n",
    "            go.Box(y=cat_data, name=category, showlegend=False),\n",
    "            row=1, col=1\n",
    "        )\n",
    "    \n",
    "    # 2. Top variables con datos faltantes\n",
    "    top_missing = df_missing.nlargest(20, 'missing_pct')\n",
    "    fig.add_trace(\n",
    "        go.Bar(\n",
    "            x=top_missing['missing_pct'],\n",
    "            y=top_missing['variable'],\n",
    "            orientation='h',\n",
    "            marker_color='lightcoral',\n",
    "            showlegend=False\n",
    "        ),\n",
    "        row=1, col=2\n",
    "    )\n",
    "    \n",
    "    # 3. Histograma de completitud\n",
    "    fig.add_trace(\n",
    "        go.Histogram(\n",
    "            x=df_missing['available_pct'],\n",
    "            nbinsx=20,\n",
    "            marker_color='lightblue',\n",
    "            showlegend=False\n",
    "        ),\n",
    "        row=2, col=1\n",
    "    )\n",
    "    \n",
    "    # 4. Completitud por temporada (muestra)\n",
    "    if 'season' in df.columns:\n",
    "        season_completeness = []\n",
    "        key_metrics = ['goals', 'assists', 'passes_per_90', 'duels_won_pct']\n",
    "        \n",
    "        for season in sorted(df['season'].unique()):\n",
    "            season_df = df[df['season'] == season]\n",
    "            for metric in key_metrics:\n",
    "                if metric in df.columns:\n",
    "                    completeness = ((len(season_df) - season_df[metric].isnull().sum()) / len(season_df)) * 100\n",
    "                    season_completeness.append([season, metric, completeness])\n",
    "        \n",
    "        if season_completeness:\n",
    "            df_season_comp = pd.DataFrame(season_completeness, columns=['season', 'metric', 'completeness'])\n",
    "            pivot_data = df_season_comp.pivot(index='metric', columns='season', values='completeness')\n",
    "            \n",
    "            fig.add_trace(\n",
    "                go.Heatmap(\n",
    "                    z=pivot_data.values,\n",
    "                    x=pivot_data.columns,\n",
    "                    y=pivot_data.index,\n",
    "                    colorscale='RdYlGn',\n",
    "                    showscale=False\n",
    "                ),\n",
    "                row=2, col=2\n",
    "            )\n",
    "    \n",
    "    # Actualizar layout\n",
    "    fig.update_layout(\n",
    "        height=800,\n",
    "        title_text=\"📊 Análisis Integral de Calidad de Datos - Liga Tailandesa\",\n",
    "        title_x=0.5,\n",
    "        showlegend=False\n",
    "    )\n",
    "    \n",
    "    # Actualizar ejes\n",
    "    fig.update_xaxes(title_text=\"Completitud (%)\", row=1, col=2)\n",
    "    fig.update_yaxes(title_text=\"Variables\", row=1, col=2)\n",
    "    fig.update_xaxes(title_text=\"Completitud (%)\", row=2, col=1)\n",
    "    fig.update_yaxes(title_text=\"Frecuencia\", row=2, col=1)\n",
    "    \n",
    "    fig.show()\n",
    "    \n",
    "    return df_missing\n",
    "\n",
    "# Ejecutar análisis de valores faltantes\n",
    "if df_thai is not None and 'data_structure' in locals():\n",
    "    print(\"🔍 Generando análisis de valores faltantes...\")\n",
    "    missing_analysis = create_missing_values_analysis(df_thai, data_structure)\n",
    "    \n",
    "    # Resumen estadístico\n",
    "    print(\"\\n📈 RESUMEN DE COMPLETITUD POR CATEGORÍA:\")\n",
    "    category_summary = missing_analysis.groupby('categoria')['available_pct'].agg(['mean', 'std', 'min', 'max'])\n",
    "    print(category_summary.round(1))"
   ]
  },
  {
   "cell_type": "markdown",
   "metadata": {},
   "source": [
    "## 5. Análisis por Posiciones\n",
    "\n",
    "### 5.1 Distribución de Jugadores por Posición y Temporada"
   ]
  },
  {
   "cell_type": "code",
   "execution_count": 17,
   "metadata": {},
   "outputs": [
    {
     "name": "stdout",
     "output_type": "stream",
     "text": [
      "🔄 Generando análisis por posiciones...\n"
     ]
    },
    {
     "data": {
      "application/vnd.plotly.v1+json": {
       "config": {
        "plotlyServerURL": "https://plot.ly"
       },
       "data": [
        {
         "domain": {
          "x": [
           0,
           0.45
          ],
          "y": [
           0.625,
           1
          ]
         },
         "hole": 0.3,
         "labels": [
          "Delantero Centro",
          "Portero",
          "LB",
          "RB",
          "RCB",
          "RCMF",
          "RW",
          "LCMF",
          "LCB",
          "LW",
          "Mediocentro Ofensivo",
          "RCB3",
          "Mediocentro Defensivo",
          "LCB3",
          "RCMF3",
          "LCMF3",
          "RAMF",
          "RWB",
          "LAMF",
          "RDMF",
          "Central",
          "LDMF",
          "LWB",
          "LB5",
          "LWF",
          "RB5",
          "RWF"
         ],
         "showlegend": true,
         "type": "pie",
         "values": {
          "bdata": "XwG/AKcAoACSAI4AfQB6AG8AaQBRAEIAQQA+AC8ALwAsACkAKAAoACUAIgAiAB0AGQAXABcA",
          "dtype": "i2"
         }
        },
        {
         "line": {
          "color": "rgb(141,211,199)"
         },
         "mode": "lines+markers",
         "name": "Portero",
         "showlegend": false,
         "type": "scatter",
         "x": [
          "2020-21",
          "2021-22",
          "2022-23",
          "2023-24",
          "2024-25"
         ],
         "xaxis": "x",
         "y": {
          "bdata": "JCYnIys=",
          "dtype": "i1"
         },
         "yaxis": "y"
        },
        {
         "line": {
          "color": "rgb(255,255,179)"
         },
         "mode": "lines+markers",
         "name": "Central",
         "showlegend": false,
         "type": "scatter",
         "x": [
          "2020-21",
          "2021-22",
          "2022-23",
          "2023-24",
          "2024-25"
         ],
         "xaxis": "x",
         "y": {
          "bdata": "Bw0GBQY=",
          "dtype": "i1"
         },
         "yaxis": "y"
        },
        {
         "line": {
          "color": "rgb(251,128,114)"
         },
         "mode": "lines+markers",
         "name": "Mediocentro Defensivo",
         "showlegend": false,
         "type": "scatter",
         "x": [
          "2020-21",
          "2021-22",
          "2022-23",
          "2023-24",
          "2024-25"
         ],
         "xaxis": "x",
         "y": {
          "bdata": "Cw4IDRM=",
          "dtype": "i1"
         },
         "yaxis": "y"
        },
        {
         "line": {
          "color": "rgb(253,180,98)"
         },
         "mode": "lines+markers",
         "name": "Mediocentro Ofensivo",
         "showlegend": false,
         "type": "scatter",
         "x": [
          "2020-21",
          "2021-22",
          "2022-23",
          "2023-24",
          "2024-25"
         ],
         "xaxis": "x",
         "y": {
          "bdata": "FQ8PDhA=",
          "dtype": "i1"
         },
         "yaxis": "y"
        },
        {
         "line": {
          "color": "rgb(252,205,229)"
         },
         "mode": "lines+markers",
         "name": "Delantero Centro",
         "showlegend": false,
         "type": "scatter",
         "x": [
          "2020-21",
          "2021-22",
          "2022-23",
          "2023-24",
          "2024-25"
         ],
         "xaxis": "x",
         "y": {
          "bdata": "S0ZGQEg=",
          "dtype": "i1"
         },
         "yaxis": "y"
        }
       ],
       "layout": {
        "annotations": [
         {
          "font": {
           "size": 16
          },
          "showarrow": false,
          "text": "Distribución General por Posición",
          "x": 0.225,
          "xanchor": "center",
          "xref": "paper",
          "y": 1,
          "yanchor": "bottom",
          "yref": "paper"
         },
         {
          "font": {
           "size": 16
          },
          "showarrow": false,
          "text": "Evolución Temporal por Posición",
          "x": 0.775,
          "xanchor": "center",
          "xref": "paper",
          "y": 1,
          "yanchor": "bottom",
          "yref": "paper"
         },
         {
          "font": {
           "size": 16
          },
          "showarrow": false,
          "text": "Minutos Jugados por Posición",
          "x": 0.225,
          "xanchor": "center",
          "xref": "paper",
          "y": 0.375,
          "yanchor": "bottom",
          "yref": "paper"
         },
         {
          "font": {
           "size": 16
          },
          "showarrow": false,
          "text": "Experiencia (Edad) por Posición",
          "x": 0.775,
          "xanchor": "center",
          "xref": "paper",
          "y": 0.375,
          "yanchor": "bottom",
          "yref": "paper"
         }
        ],
        "height": 800,
        "template": {
         "data": {
          "bar": [
           {
            "error_x": {
             "color": "#2a3f5f"
            },
            "error_y": {
             "color": "#2a3f5f"
            },
            "marker": {
             "line": {
              "color": "white",
              "width": 0.5
             },
             "pattern": {
              "fillmode": "overlay",
              "size": 10,
              "solidity": 0.2
             }
            },
            "type": "bar"
           }
          ],
          "barpolar": [
           {
            "marker": {
             "line": {
              "color": "white",
              "width": 0.5
             },
             "pattern": {
              "fillmode": "overlay",
              "size": 10,
              "solidity": 0.2
             }
            },
            "type": "barpolar"
           }
          ],
          "carpet": [
           {
            "aaxis": {
             "endlinecolor": "#2a3f5f",
             "gridcolor": "#C8D4E3",
             "linecolor": "#C8D4E3",
             "minorgridcolor": "#C8D4E3",
             "startlinecolor": "#2a3f5f"
            },
            "baxis": {
             "endlinecolor": "#2a3f5f",
             "gridcolor": "#C8D4E3",
             "linecolor": "#C8D4E3",
             "minorgridcolor": "#C8D4E3",
             "startlinecolor": "#2a3f5f"
            },
            "type": "carpet"
           }
          ],
          "choropleth": [
           {
            "colorbar": {
             "outlinewidth": 0,
             "ticks": ""
            },
            "type": "choropleth"
           }
          ],
          "contour": [
           {
            "colorbar": {
             "outlinewidth": 0,
             "ticks": ""
            },
            "colorscale": [
             [
              0,
              "#0d0887"
             ],
             [
              0.1111111111111111,
              "#46039f"
             ],
             [
              0.2222222222222222,
              "#7201a8"
             ],
             [
              0.3333333333333333,
              "#9c179e"
             ],
             [
              0.4444444444444444,
              "#bd3786"
             ],
             [
              0.5555555555555556,
              "#d8576b"
             ],
             [
              0.6666666666666666,
              "#ed7953"
             ],
             [
              0.7777777777777778,
              "#fb9f3a"
             ],
             [
              0.8888888888888888,
              "#fdca26"
             ],
             [
              1,
              "#f0f921"
             ]
            ],
            "type": "contour"
           }
          ],
          "contourcarpet": [
           {
            "colorbar": {
             "outlinewidth": 0,
             "ticks": ""
            },
            "type": "contourcarpet"
           }
          ],
          "heatmap": [
           {
            "colorbar": {
             "outlinewidth": 0,
             "ticks": ""
            },
            "colorscale": [
             [
              0,
              "#0d0887"
             ],
             [
              0.1111111111111111,
              "#46039f"
             ],
             [
              0.2222222222222222,
              "#7201a8"
             ],
             [
              0.3333333333333333,
              "#9c179e"
             ],
             [
              0.4444444444444444,
              "#bd3786"
             ],
             [
              0.5555555555555556,
              "#d8576b"
             ],
             [
              0.6666666666666666,
              "#ed7953"
             ],
             [
              0.7777777777777778,
              "#fb9f3a"
             ],
             [
              0.8888888888888888,
              "#fdca26"
             ],
             [
              1,
              "#f0f921"
             ]
            ],
            "type": "heatmap"
           }
          ],
          "histogram": [
           {
            "marker": {
             "pattern": {
              "fillmode": "overlay",
              "size": 10,
              "solidity": 0.2
             }
            },
            "type": "histogram"
           }
          ],
          "histogram2d": [
           {
            "colorbar": {
             "outlinewidth": 0,
             "ticks": ""
            },
            "colorscale": [
             [
              0,
              "#0d0887"
             ],
             [
              0.1111111111111111,
              "#46039f"
             ],
             [
              0.2222222222222222,
              "#7201a8"
             ],
             [
              0.3333333333333333,
              "#9c179e"
             ],
             [
              0.4444444444444444,
              "#bd3786"
             ],
             [
              0.5555555555555556,
              "#d8576b"
             ],
             [
              0.6666666666666666,
              "#ed7953"
             ],
             [
              0.7777777777777778,
              "#fb9f3a"
             ],
             [
              0.8888888888888888,
              "#fdca26"
             ],
             [
              1,
              "#f0f921"
             ]
            ],
            "type": "histogram2d"
           }
          ],
          "histogram2dcontour": [
           {
            "colorbar": {
             "outlinewidth": 0,
             "ticks": ""
            },
            "colorscale": [
             [
              0,
              "#0d0887"
             ],
             [
              0.1111111111111111,
              "#46039f"
             ],
             [
              0.2222222222222222,
              "#7201a8"
             ],
             [
              0.3333333333333333,
              "#9c179e"
             ],
             [
              0.4444444444444444,
              "#bd3786"
             ],
             [
              0.5555555555555556,
              "#d8576b"
             ],
             [
              0.6666666666666666,
              "#ed7953"
             ],
             [
              0.7777777777777778,
              "#fb9f3a"
             ],
             [
              0.8888888888888888,
              "#fdca26"
             ],
             [
              1,
              "#f0f921"
             ]
            ],
            "type": "histogram2dcontour"
           }
          ],
          "mesh3d": [
           {
            "colorbar": {
             "outlinewidth": 0,
             "ticks": ""
            },
            "type": "mesh3d"
           }
          ],
          "parcoords": [
           {
            "line": {
             "colorbar": {
              "outlinewidth": 0,
              "ticks": ""
             }
            },
            "type": "parcoords"
           }
          ],
          "pie": [
           {
            "automargin": true,
            "type": "pie"
           }
          ],
          "scatter": [
           {
            "fillpattern": {
             "fillmode": "overlay",
             "size": 10,
             "solidity": 0.2
            },
            "type": "scatter"
           }
          ],
          "scatter3d": [
           {
            "line": {
             "colorbar": {
              "outlinewidth": 0,
              "ticks": ""
             }
            },
            "marker": {
             "colorbar": {
              "outlinewidth": 0,
              "ticks": ""
             }
            },
            "type": "scatter3d"
           }
          ],
          "scattercarpet": [
           {
            "marker": {
             "colorbar": {
              "outlinewidth": 0,
              "ticks": ""
             }
            },
            "type": "scattercarpet"
           }
          ],
          "scattergeo": [
           {
            "marker": {
             "colorbar": {
              "outlinewidth": 0,
              "ticks": ""
             }
            },
            "type": "scattergeo"
           }
          ],
          "scattergl": [
           {
            "marker": {
             "colorbar": {
              "outlinewidth": 0,
              "ticks": ""
             }
            },
            "type": "scattergl"
           }
          ],
          "scattermap": [
           {
            "marker": {
             "colorbar": {
              "outlinewidth": 0,
              "ticks": ""
             }
            },
            "type": "scattermap"
           }
          ],
          "scattermapbox": [
           {
            "marker": {
             "colorbar": {
              "outlinewidth": 0,
              "ticks": ""
             }
            },
            "type": "scattermapbox"
           }
          ],
          "scatterpolar": [
           {
            "marker": {
             "colorbar": {
              "outlinewidth": 0,
              "ticks": ""
             }
            },
            "type": "scatterpolar"
           }
          ],
          "scatterpolargl": [
           {
            "marker": {
             "colorbar": {
              "outlinewidth": 0,
              "ticks": ""
             }
            },
            "type": "scatterpolargl"
           }
          ],
          "scatterternary": [
           {
            "marker": {
             "colorbar": {
              "outlinewidth": 0,
              "ticks": ""
             }
            },
            "type": "scatterternary"
           }
          ],
          "surface": [
           {
            "colorbar": {
             "outlinewidth": 0,
             "ticks": ""
            },
            "colorscale": [
             [
              0,
              "#0d0887"
             ],
             [
              0.1111111111111111,
              "#46039f"
             ],
             [
              0.2222222222222222,
              "#7201a8"
             ],
             [
              0.3333333333333333,
              "#9c179e"
             ],
             [
              0.4444444444444444,
              "#bd3786"
             ],
             [
              0.5555555555555556,
              "#d8576b"
             ],
             [
              0.6666666666666666,
              "#ed7953"
             ],
             [
              0.7777777777777778,
              "#fb9f3a"
             ],
             [
              0.8888888888888888,
              "#fdca26"
             ],
             [
              1,
              "#f0f921"
             ]
            ],
            "type": "surface"
           }
          ],
          "table": [
           {
            "cells": {
             "fill": {
              "color": "#EBF0F8"
             },
             "line": {
              "color": "white"
             }
            },
            "header": {
             "fill": {
              "color": "#C8D4E3"
             },
             "line": {
              "color": "white"
             }
            },
            "type": "table"
           }
          ]
         },
         "layout": {
          "annotationdefaults": {
           "arrowcolor": "#2a3f5f",
           "arrowhead": 0,
           "arrowwidth": 1
          },
          "autotypenumbers": "strict",
          "coloraxis": {
           "colorbar": {
            "outlinewidth": 0,
            "ticks": ""
           }
          },
          "colorscale": {
           "diverging": [
            [
             0,
             "#8e0152"
            ],
            [
             0.1,
             "#c51b7d"
            ],
            [
             0.2,
             "#de77ae"
            ],
            [
             0.3,
             "#f1b6da"
            ],
            [
             0.4,
             "#fde0ef"
            ],
            [
             0.5,
             "#f7f7f7"
            ],
            [
             0.6,
             "#e6f5d0"
            ],
            [
             0.7,
             "#b8e186"
            ],
            [
             0.8,
             "#7fbc41"
            ],
            [
             0.9,
             "#4d9221"
            ],
            [
             1,
             "#276419"
            ]
           ],
           "sequential": [
            [
             0,
             "#0d0887"
            ],
            [
             0.1111111111111111,
             "#46039f"
            ],
            [
             0.2222222222222222,
             "#7201a8"
            ],
            [
             0.3333333333333333,
             "#9c179e"
            ],
            [
             0.4444444444444444,
             "#bd3786"
            ],
            [
             0.5555555555555556,
             "#d8576b"
            ],
            [
             0.6666666666666666,
             "#ed7953"
            ],
            [
             0.7777777777777778,
             "#fb9f3a"
            ],
            [
             0.8888888888888888,
             "#fdca26"
            ],
            [
             1,
             "#f0f921"
            ]
           ],
           "sequentialminus": [
            [
             0,
             "#0d0887"
            ],
            [
             0.1111111111111111,
             "#46039f"
            ],
            [
             0.2222222222222222,
             "#7201a8"
            ],
            [
             0.3333333333333333,
             "#9c179e"
            ],
            [
             0.4444444444444444,
             "#bd3786"
            ],
            [
             0.5555555555555556,
             "#d8576b"
            ],
            [
             0.6666666666666666,
             "#ed7953"
            ],
            [
             0.7777777777777778,
             "#fb9f3a"
            ],
            [
             0.8888888888888888,
             "#fdca26"
            ],
            [
             1,
             "#f0f921"
            ]
           ]
          },
          "colorway": [
           "#636efa",
           "#EF553B",
           "#00cc96",
           "#ab63fa",
           "#FFA15A",
           "#19d3f3",
           "#FF6692",
           "#B6E880",
           "#FF97FF",
           "#FECB52"
          ],
          "font": {
           "color": "#2a3f5f"
          },
          "geo": {
           "bgcolor": "white",
           "lakecolor": "white",
           "landcolor": "white",
           "showlakes": true,
           "showland": true,
           "subunitcolor": "#C8D4E3"
          },
          "hoverlabel": {
           "align": "left"
          },
          "hovermode": "closest",
          "mapbox": {
           "style": "light"
          },
          "paper_bgcolor": "white",
          "plot_bgcolor": "white",
          "polar": {
           "angularaxis": {
            "gridcolor": "#EBF0F8",
            "linecolor": "#EBF0F8",
            "ticks": ""
           },
           "bgcolor": "white",
           "radialaxis": {
            "gridcolor": "#EBF0F8",
            "linecolor": "#EBF0F8",
            "ticks": ""
           }
          },
          "scene": {
           "xaxis": {
            "backgroundcolor": "white",
            "gridcolor": "#DFE8F3",
            "gridwidth": 2,
            "linecolor": "#EBF0F8",
            "showbackground": true,
            "ticks": "",
            "zerolinecolor": "#EBF0F8"
           },
           "yaxis": {
            "backgroundcolor": "white",
            "gridcolor": "#DFE8F3",
            "gridwidth": 2,
            "linecolor": "#EBF0F8",
            "showbackground": true,
            "ticks": "",
            "zerolinecolor": "#EBF0F8"
           },
           "zaxis": {
            "backgroundcolor": "white",
            "gridcolor": "#DFE8F3",
            "gridwidth": 2,
            "linecolor": "#EBF0F8",
            "showbackground": true,
            "ticks": "",
            "zerolinecolor": "#EBF0F8"
           }
          },
          "shapedefaults": {
           "line": {
            "color": "#2a3f5f"
           }
          },
          "ternary": {
           "aaxis": {
            "gridcolor": "#DFE8F3",
            "linecolor": "#A2B1C6",
            "ticks": ""
           },
           "baxis": {
            "gridcolor": "#DFE8F3",
            "linecolor": "#A2B1C6",
            "ticks": ""
           },
           "bgcolor": "white",
           "caxis": {
            "gridcolor": "#DFE8F3",
            "linecolor": "#A2B1C6",
            "ticks": ""
           }
          },
          "title": {
           "x": 0.05
          },
          "xaxis": {
           "automargin": true,
           "gridcolor": "#EBF0F8",
           "linecolor": "#EBF0F8",
           "ticks": "",
           "title": {
            "standoff": 15
           },
           "zerolinecolor": "#EBF0F8",
           "zerolinewidth": 2
          },
          "yaxis": {
           "automargin": true,
           "gridcolor": "#EBF0F8",
           "linecolor": "#EBF0F8",
           "ticks": "",
           "title": {
            "standoff": 15
           },
           "zerolinecolor": "#EBF0F8",
           "zerolinewidth": 2
          }
         }
        },
        "title": {
         "text": "⚽ Análisis Integral por Posiciones - Liga Tailandesa",
         "x": 0.5
        },
        "xaxis": {
         "anchor": "y",
         "domain": [
          0.55,
          1
         ],
         "title": {
          "text": "Temporada"
         }
        },
        "xaxis2": {
         "anchor": "y2",
         "domain": [
          0,
          0.45
         ]
        },
        "xaxis3": {
         "anchor": "y3",
         "domain": [
          0.55,
          1
         ]
        },
        "yaxis": {
         "anchor": "x",
         "domain": [
          0.625,
          1
         ],
         "title": {
          "text": "Número de Jugadores"
         }
        },
        "yaxis2": {
         "anchor": "x2",
         "domain": [
          0,
          0.375
         ],
         "title": {
          "text": "Minutos Jugados"
         }
        },
        "yaxis3": {
         "anchor": "x3",
         "domain": [
          0,
          0.375
         ],
         "title": {
          "text": "Edad (años)"
         }
        }
       }
      }
     },
     "metadata": {},
     "output_type": "display_data"
    },
    {
     "name": "stdout",
     "output_type": "stream",
     "text": [
      "\n",
      "📊 ESTADÍSTICAS DESCRIPTIVAS POR POSICIÓN:\n",
      "============================================================\n",
      "\n",
      "🏃‍♂️ Portero (GK)\n",
      "   📊 Cantidad: 191 jugadores\n",
      "\n",
      "🏃‍♂️ Central (CB)\n",
      "   📊 Cantidad: 37 jugadores\n",
      "\n",
      "🏃‍♂️ Mediocentro Defensivo (DMF)\n",
      "   📊 Cantidad: 65 jugadores\n",
      "\n",
      "🏃‍♂️ Mediocentro Ofensivo (AMF)\n",
      "   📊 Cantidad: 81 jugadores\n",
      "\n",
      "🏃‍♂️ Delantero Centro (CF)\n",
      "   📊 Cantidad: 351 jugadores\n"
     ]
    }
   ],
   "source": [
    "def create_position_analysis(df):\n",
    "    \"\"\"\n",
    "    Crea análisis completo de distribución por posiciones.\n",
    "    \n",
    "    Args:\n",
    "        df (pd.DataFrame): Dataset de la Liga Tailandesa\n",
    "    \"\"\"\n",
    "    \n",
    "    # Preparar datos de posiciones\n",
    "    position_data = df[df['Primary position'].notna()].copy()\n",
    "    \n",
    "    # Definir orden jerárquico de posiciones\n",
    "    position_order = ['GK', 'CB', 'FB', 'DMF', 'CMF', 'AMF', 'W', 'CF']\n",
    "    position_names = {\n",
    "        'GK': 'Portero',\n",
    "        'CB': 'Central',\n",
    "        'FB': 'Lateral',\n",
    "        'DMF': 'Mediocentro Defensivo',\n",
    "        'CMF': 'Mediocentro',\n",
    "        'AMF': 'Mediocentro Ofensivo',\n",
    "        'W': 'Extremo',\n",
    "        'CF': 'Delantero Centro'\n",
    "    }\n",
    "    \n",
    "    # Crear visualización multi-panel\n",
    "    fig = make_subplots(\n",
    "        rows=2, cols=2,\n",
    "        subplot_titles=[\n",
    "            \"Distribución General por Posición\",\n",
    "            \"Evolución Temporal por Posición\",\n",
    "            \"Minutos Jugados por Posición\",\n",
    "            \"Experiencia (Edad) por Posición\"\n",
    "        ],\n",
    "        specs=[[{\"type\": \"pie\"}, {\"type\": \"scatter\"}],\n",
    "               [{\"type\": \"box\"}, {\"type\": \"violin\"}]]\n",
    "    )\n",
    "    \n",
    "    # 1. Pie chart - Distribución general\n",
    "    position_counts = position_data['Primary position'].value_counts()\n",
    "    \n",
    "    fig.add_trace(\n",
    "        go.Pie(\n",
    "            labels=[position_names.get(pos, pos) for pos in position_counts.index],\n",
    "            values=position_counts.values,\n",
    "            hole=0.3,\n",
    "            showlegend=True\n",
    "        ),\n",
    "        row=1, col=1\n",
    "    )\n",
    "    \n",
    "    # 2. Líneas temporales por posición\n",
    "    if 'season' in df.columns:\n",
    "        season_position = position_data.groupby(['season', 'Primary position']).size().reset_index(name='count')\n",
    "        \n",
    "        colors = px.colors.qualitative.Set3[:len(position_order)]\n",
    "        \n",
    "        for i, position in enumerate(position_order):\n",
    "            if position in season_position['Primary position'].values:\n",
    "                pos_data = season_position[season_position['Primary position'] == position]\n",
    "                fig.add_trace(\n",
    "                    go.Scatter(\n",
    "                        x=pos_data['season'],\n",
    "                        y=pos_data['count'],\n",
    "                        mode='lines+markers',\n",
    "                        name=position_names.get(position, position),\n",
    "                        line=dict(color=colors[i]),\n",
    "                        showlegend=False\n",
    "                    ),\n",
    "                    row=1, col=2\n",
    "                )\n",
    "    \n",
    "    # 3. Box plot - Minutos por posición\n",
    "    if 'minutes_played' in df.columns:\n",
    "        for position in position_order:\n",
    "            if position in position_data['Primary position'].values:\n",
    "                pos_minutes = position_data[position_data['Primary position'] == position]['minutes_played'].dropna()\n",
    "                if len(pos_minutes) > 0:\n",
    "                    fig.add_trace(\n",
    "                        go.Box(\n",
    "                            y=pos_minutes,\n",
    "                            name=position,\n",
    "                            showlegend=False\n",
    "                        ),\n",
    "                        row=2, col=1\n",
    "                    )\n",
    "    \n",
    "    # 4. Violin plot - Edad por posición\n",
    "    if 'age' in df.columns:\n",
    "        for position in position_order:\n",
    "            if position in position_data['Primary position'].values:\n",
    "                pos_ages = position_data[position_data['Primary position'] == position]['age'].dropna()\n",
    "                if len(pos_ages) > 0:\n",
    "                    fig.add_trace(\n",
    "                        go.Violin(\n",
    "                            y=pos_ages,\n",
    "                            name=position,\n",
    "                            showlegend=False,\n",
    "                            box_visible=True\n",
    "                        ),\n",
    "                        row=2, col=2\n",
    "                    )\n",
    "    \n",
    "    # Actualizar layout\n",
    "    fig.update_layout(\n",
    "        height=800,\n",
    "        title_text=\"⚽ Análisis Integral por Posiciones - Liga Tailandesa\",\n",
    "        title_x=0.5\n",
    "    )\n",
    "    \n",
    "    # Actualizar ejes\n",
    "    fig.update_xaxes(title_text=\"Temporada\", row=1, col=2)\n",
    "    fig.update_yaxes(title_text=\"Número de Jugadores\", row=1, col=2)\n",
    "    fig.update_yaxes(title_text=\"Minutos Jugados\", row=2, col=1)\n",
    "    fig.update_yaxes(title_text=\"Edad (años)\", row=2, col=2)\n",
    "    \n",
    "    fig.show()\n",
    "    \n",
    "    # Generar estadísticas descriptivas por posición\n",
    "    print(\"\\n📊 ESTADÍSTICAS DESCRIPTIVAS POR POSICIÓN:\")\n",
    "    print(\"=\" * 60)\n",
    "    \n",
    "    key_metrics = ['age', 'height', 'weight', 'matches_played', 'minutes_played', 'goals', 'assists']\n",
    "    available_metrics = [col for col in key_metrics if col in df.columns]\n",
    "    \n",
    "    for position in position_order:\n",
    "        if position in position_data['Primary position'].values:\n",
    "            pos_df = position_data[position_data['Primary position'] == position]\n",
    "            print(f\"\\n🏃‍♂️ {position_names.get(position, position)} ({position})\")\n",
    "            print(f\"   📊 Cantidad: {len(pos_df)} jugadores\")\n",
    "            \n",
    "            for metric in available_metrics:\n",
    "                if metric in pos_df.columns:\n",
    "                    values = pos_df[metric].dropna()\n",
    "                    if len(values) > 0:\n",
    "                        print(f\"   📈 {metric}: {values.mean():.1f} ± {values.std():.1f} [{values.min():.0f}-{values.max():.0f}]\")\n",
    "\n",
    "# Ejecutar análisis por posiciones\n",
    "if df_thai is not None:\n",
    "    print(\"🔄 Generando análisis por posiciones...\")\n",
    "    create_position_analysis(df_thai)"
   ]
  },
  {
   "cell_type": "markdown",
   "metadata": {},
   "source": [
    "### 5.2 Perfiles de Rendimiento por Posición"
   ]
  },
  {
   "cell_type": "code",
   "execution_count": 19,
   "metadata": {},
   "outputs": [
    {
     "name": "stdout",
     "output_type": "stream",
     "text": [
      "🔄 Generando perfiles de rendimiento por posición...\n",
      "🔍 Métricas disponibles para análisis:\n",
      "   GK: []\n",
      "   CB: []\n",
      "   FB: []\n",
      "   DMF: []\n",
      "   CMF: []\n",
      "   AMF: []\n",
      "   W: []\n",
      "   CF: []\n"
     ]
    },
    {
     "data": {
      "application/vnd.plotly.v1+json": {
       "config": {
        "plotlyServerURL": "https://plot.ly"
       },
       "data": [],
       "layout": {
        "annotations": [
         {
          "font": {
           "size": 16
          },
          "showarrow": false,
          "text": "GK - Perfil de Rendimiento",
          "x": 0.10625,
          "xanchor": "center",
          "xref": "paper",
          "y": 1,
          "yanchor": "bottom",
          "yref": "paper"
         },
         {
          "font": {
           "size": 16
          },
          "showarrow": false,
          "text": "CB - Perfil de Rendimiento",
          "x": 0.36875,
          "xanchor": "center",
          "xref": "paper",
          "y": 1,
          "yanchor": "bottom",
          "yref": "paper"
         },
         {
          "font": {
           "size": 16
          },
          "showarrow": false,
          "text": "FB - Perfil de Rendimiento",
          "x": 0.6312500000000001,
          "xanchor": "center",
          "xref": "paper",
          "y": 1,
          "yanchor": "bottom",
          "yref": "paper"
         },
         {
          "font": {
           "size": 16
          },
          "showarrow": false,
          "text": "DMF - Perfil de Rendimiento",
          "x": 0.89375,
          "xanchor": "center",
          "xref": "paper",
          "y": 1,
          "yanchor": "bottom",
          "yref": "paper"
         },
         {
          "font": {
           "size": 16
          },
          "showarrow": false,
          "text": "CMF - Perfil de Rendimiento",
          "x": 0.10625,
          "xanchor": "center",
          "xref": "paper",
          "y": 0.375,
          "yanchor": "bottom",
          "yref": "paper"
         },
         {
          "font": {
           "size": 16
          },
          "showarrow": false,
          "text": "AMF - Perfil de Rendimiento",
          "x": 0.36875,
          "xanchor": "center",
          "xref": "paper",
          "y": 0.375,
          "yanchor": "bottom",
          "yref": "paper"
         },
         {
          "font": {
           "size": 16
          },
          "showarrow": false,
          "text": "W - Perfil de Rendimiento",
          "x": 0.6312500000000001,
          "xanchor": "center",
          "xref": "paper",
          "y": 0.375,
          "yanchor": "bottom",
          "yref": "paper"
         },
         {
          "font": {
           "size": 16
          },
          "showarrow": false,
          "text": "CF - Perfil de Rendimiento",
          "x": 0.89375,
          "xanchor": "center",
          "xref": "paper",
          "y": 0.375,
          "yanchor": "bottom",
          "yref": "paper"
         }
        ],
        "height": 600,
        "polar": {
         "domain": {
          "x": [
           0,
           0.2125
          ],
          "y": [
           0.625,
           1
          ]
         }
        },
        "polar2": {
         "domain": {
          "x": [
           0.2625,
           0.475
          ],
          "y": [
           0.625,
           1
          ]
         }
        },
        "polar3": {
         "domain": {
          "x": [
           0.525,
           0.7375
          ],
          "y": [
           0.625,
           1
          ]
         }
        },
        "polar4": {
         "domain": {
          "x": [
           0.7875,
           1
          ],
          "y": [
           0.625,
           1
          ]
         }
        },
        "polar5": {
         "domain": {
          "x": [
           0,
           0.2125
          ],
          "y": [
           0,
           0.375
          ]
         }
        },
        "polar6": {
         "domain": {
          "x": [
           0.2625,
           0.475
          ],
          "y": [
           0,
           0.375
          ]
         }
        },
        "polar7": {
         "domain": {
          "x": [
           0.525,
           0.7375
          ],
          "y": [
           0,
           0.375
          ]
         }
        },
        "polar8": {
         "domain": {
          "x": [
           0.7875,
           1
          ],
          "y": [
           0,
           0.375
          ]
         }
        },
        "template": {
         "data": {
          "bar": [
           {
            "error_x": {
             "color": "#2a3f5f"
            },
            "error_y": {
             "color": "#2a3f5f"
            },
            "marker": {
             "line": {
              "color": "white",
              "width": 0.5
             },
             "pattern": {
              "fillmode": "overlay",
              "size": 10,
              "solidity": 0.2
             }
            },
            "type": "bar"
           }
          ],
          "barpolar": [
           {
            "marker": {
             "line": {
              "color": "white",
              "width": 0.5
             },
             "pattern": {
              "fillmode": "overlay",
              "size": 10,
              "solidity": 0.2
             }
            },
            "type": "barpolar"
           }
          ],
          "carpet": [
           {
            "aaxis": {
             "endlinecolor": "#2a3f5f",
             "gridcolor": "#C8D4E3",
             "linecolor": "#C8D4E3",
             "minorgridcolor": "#C8D4E3",
             "startlinecolor": "#2a3f5f"
            },
            "baxis": {
             "endlinecolor": "#2a3f5f",
             "gridcolor": "#C8D4E3",
             "linecolor": "#C8D4E3",
             "minorgridcolor": "#C8D4E3",
             "startlinecolor": "#2a3f5f"
            },
            "type": "carpet"
           }
          ],
          "choropleth": [
           {
            "colorbar": {
             "outlinewidth": 0,
             "ticks": ""
            },
            "type": "choropleth"
           }
          ],
          "contour": [
           {
            "colorbar": {
             "outlinewidth": 0,
             "ticks": ""
            },
            "colorscale": [
             [
              0,
              "#0d0887"
             ],
             [
              0.1111111111111111,
              "#46039f"
             ],
             [
              0.2222222222222222,
              "#7201a8"
             ],
             [
              0.3333333333333333,
              "#9c179e"
             ],
             [
              0.4444444444444444,
              "#bd3786"
             ],
             [
              0.5555555555555556,
              "#d8576b"
             ],
             [
              0.6666666666666666,
              "#ed7953"
             ],
             [
              0.7777777777777778,
              "#fb9f3a"
             ],
             [
              0.8888888888888888,
              "#fdca26"
             ],
             [
              1,
              "#f0f921"
             ]
            ],
            "type": "contour"
           }
          ],
          "contourcarpet": [
           {
            "colorbar": {
             "outlinewidth": 0,
             "ticks": ""
            },
            "type": "contourcarpet"
           }
          ],
          "heatmap": [
           {
            "colorbar": {
             "outlinewidth": 0,
             "ticks": ""
            },
            "colorscale": [
             [
              0,
              "#0d0887"
             ],
             [
              0.1111111111111111,
              "#46039f"
             ],
             [
              0.2222222222222222,
              "#7201a8"
             ],
             [
              0.3333333333333333,
              "#9c179e"
             ],
             [
              0.4444444444444444,
              "#bd3786"
             ],
             [
              0.5555555555555556,
              "#d8576b"
             ],
             [
              0.6666666666666666,
              "#ed7953"
             ],
             [
              0.7777777777777778,
              "#fb9f3a"
             ],
             [
              0.8888888888888888,
              "#fdca26"
             ],
             [
              1,
              "#f0f921"
             ]
            ],
            "type": "heatmap"
           }
          ],
          "histogram": [
           {
            "marker": {
             "pattern": {
              "fillmode": "overlay",
              "size": 10,
              "solidity": 0.2
             }
            },
            "type": "histogram"
           }
          ],
          "histogram2d": [
           {
            "colorbar": {
             "outlinewidth": 0,
             "ticks": ""
            },
            "colorscale": [
             [
              0,
              "#0d0887"
             ],
             [
              0.1111111111111111,
              "#46039f"
             ],
             [
              0.2222222222222222,
              "#7201a8"
             ],
             [
              0.3333333333333333,
              "#9c179e"
             ],
             [
              0.4444444444444444,
              "#bd3786"
             ],
             [
              0.5555555555555556,
              "#d8576b"
             ],
             [
              0.6666666666666666,
              "#ed7953"
             ],
             [
              0.7777777777777778,
              "#fb9f3a"
             ],
             [
              0.8888888888888888,
              "#fdca26"
             ],
             [
              1,
              "#f0f921"
             ]
            ],
            "type": "histogram2d"
           }
          ],
          "histogram2dcontour": [
           {
            "colorbar": {
             "outlinewidth": 0,
             "ticks": ""
            },
            "colorscale": [
             [
              0,
              "#0d0887"
             ],
             [
              0.1111111111111111,
              "#46039f"
             ],
             [
              0.2222222222222222,
              "#7201a8"
             ],
             [
              0.3333333333333333,
              "#9c179e"
             ],
             [
              0.4444444444444444,
              "#bd3786"
             ],
             [
              0.5555555555555556,
              "#d8576b"
             ],
             [
              0.6666666666666666,
              "#ed7953"
             ],
             [
              0.7777777777777778,
              "#fb9f3a"
             ],
             [
              0.8888888888888888,
              "#fdca26"
             ],
             [
              1,
              "#f0f921"
             ]
            ],
            "type": "histogram2dcontour"
           }
          ],
          "mesh3d": [
           {
            "colorbar": {
             "outlinewidth": 0,
             "ticks": ""
            },
            "type": "mesh3d"
           }
          ],
          "parcoords": [
           {
            "line": {
             "colorbar": {
              "outlinewidth": 0,
              "ticks": ""
             }
            },
            "type": "parcoords"
           }
          ],
          "pie": [
           {
            "automargin": true,
            "type": "pie"
           }
          ],
          "scatter": [
           {
            "fillpattern": {
             "fillmode": "overlay",
             "size": 10,
             "solidity": 0.2
            },
            "type": "scatter"
           }
          ],
          "scatter3d": [
           {
            "line": {
             "colorbar": {
              "outlinewidth": 0,
              "ticks": ""
             }
            },
            "marker": {
             "colorbar": {
              "outlinewidth": 0,
              "ticks": ""
             }
            },
            "type": "scatter3d"
           }
          ],
          "scattercarpet": [
           {
            "marker": {
             "colorbar": {
              "outlinewidth": 0,
              "ticks": ""
             }
            },
            "type": "scattercarpet"
           }
          ],
          "scattergeo": [
           {
            "marker": {
             "colorbar": {
              "outlinewidth": 0,
              "ticks": ""
             }
            },
            "type": "scattergeo"
           }
          ],
          "scattergl": [
           {
            "marker": {
             "colorbar": {
              "outlinewidth": 0,
              "ticks": ""
             }
            },
            "type": "scattergl"
           }
          ],
          "scattermap": [
           {
            "marker": {
             "colorbar": {
              "outlinewidth": 0,
              "ticks": ""
             }
            },
            "type": "scattermap"
           }
          ],
          "scattermapbox": [
           {
            "marker": {
             "colorbar": {
              "outlinewidth": 0,
              "ticks": ""
             }
            },
            "type": "scattermapbox"
           }
          ],
          "scatterpolar": [
           {
            "marker": {
             "colorbar": {
              "outlinewidth": 0,
              "ticks": ""
             }
            },
            "type": "scatterpolar"
           }
          ],
          "scatterpolargl": [
           {
            "marker": {
             "colorbar": {
              "outlinewidth": 0,
              "ticks": ""
             }
            },
            "type": "scatterpolargl"
           }
          ],
          "scatterternary": [
           {
            "marker": {
             "colorbar": {
              "outlinewidth": 0,
              "ticks": ""
             }
            },
            "type": "scatterternary"
           }
          ],
          "surface": [
           {
            "colorbar": {
             "outlinewidth": 0,
             "ticks": ""
            },
            "colorscale": [
             [
              0,
              "#0d0887"
             ],
             [
              0.1111111111111111,
              "#46039f"
             ],
             [
              0.2222222222222222,
              "#7201a8"
             ],
             [
              0.3333333333333333,
              "#9c179e"
             ],
             [
              0.4444444444444444,
              "#bd3786"
             ],
             [
              0.5555555555555556,
              "#d8576b"
             ],
             [
              0.6666666666666666,
              "#ed7953"
             ],
             [
              0.7777777777777778,
              "#fb9f3a"
             ],
             [
              0.8888888888888888,
              "#fdca26"
             ],
             [
              1,
              "#f0f921"
             ]
            ],
            "type": "surface"
           }
          ],
          "table": [
           {
            "cells": {
             "fill": {
              "color": "#EBF0F8"
             },
             "line": {
              "color": "white"
             }
            },
            "header": {
             "fill": {
              "color": "#C8D4E3"
             },
             "line": {
              "color": "white"
             }
            },
            "type": "table"
           }
          ]
         },
         "layout": {
          "annotationdefaults": {
           "arrowcolor": "#2a3f5f",
           "arrowhead": 0,
           "arrowwidth": 1
          },
          "autotypenumbers": "strict",
          "coloraxis": {
           "colorbar": {
            "outlinewidth": 0,
            "ticks": ""
           }
          },
          "colorscale": {
           "diverging": [
            [
             0,
             "#8e0152"
            ],
            [
             0.1,
             "#c51b7d"
            ],
            [
             0.2,
             "#de77ae"
            ],
            [
             0.3,
             "#f1b6da"
            ],
            [
             0.4,
             "#fde0ef"
            ],
            [
             0.5,
             "#f7f7f7"
            ],
            [
             0.6,
             "#e6f5d0"
            ],
            [
             0.7,
             "#b8e186"
            ],
            [
             0.8,
             "#7fbc41"
            ],
            [
             0.9,
             "#4d9221"
            ],
            [
             1,
             "#276419"
            ]
           ],
           "sequential": [
            [
             0,
             "#0d0887"
            ],
            [
             0.1111111111111111,
             "#46039f"
            ],
            [
             0.2222222222222222,
             "#7201a8"
            ],
            [
             0.3333333333333333,
             "#9c179e"
            ],
            [
             0.4444444444444444,
             "#bd3786"
            ],
            [
             0.5555555555555556,
             "#d8576b"
            ],
            [
             0.6666666666666666,
             "#ed7953"
            ],
            [
             0.7777777777777778,
             "#fb9f3a"
            ],
            [
             0.8888888888888888,
             "#fdca26"
            ],
            [
             1,
             "#f0f921"
            ]
           ],
           "sequentialminus": [
            [
             0,
             "#0d0887"
            ],
            [
             0.1111111111111111,
             "#46039f"
            ],
            [
             0.2222222222222222,
             "#7201a8"
            ],
            [
             0.3333333333333333,
             "#9c179e"
            ],
            [
             0.4444444444444444,
             "#bd3786"
            ],
            [
             0.5555555555555556,
             "#d8576b"
            ],
            [
             0.6666666666666666,
             "#ed7953"
            ],
            [
             0.7777777777777778,
             "#fb9f3a"
            ],
            [
             0.8888888888888888,
             "#fdca26"
            ],
            [
             1,
             "#f0f921"
            ]
           ]
          },
          "colorway": [
           "#636efa",
           "#EF553B",
           "#00cc96",
           "#ab63fa",
           "#FFA15A",
           "#19d3f3",
           "#FF6692",
           "#B6E880",
           "#FF97FF",
           "#FECB52"
          ],
          "font": {
           "color": "#2a3f5f"
          },
          "geo": {
           "bgcolor": "white",
           "lakecolor": "white",
           "landcolor": "white",
           "showlakes": true,
           "showland": true,
           "subunitcolor": "#C8D4E3"
          },
          "hoverlabel": {
           "align": "left"
          },
          "hovermode": "closest",
          "mapbox": {
           "style": "light"
          },
          "paper_bgcolor": "white",
          "plot_bgcolor": "white",
          "polar": {
           "angularaxis": {
            "gridcolor": "#EBF0F8",
            "linecolor": "#EBF0F8",
            "ticks": ""
           },
           "bgcolor": "white",
           "radialaxis": {
            "gridcolor": "#EBF0F8",
            "linecolor": "#EBF0F8",
            "ticks": ""
           }
          },
          "scene": {
           "xaxis": {
            "backgroundcolor": "white",
            "gridcolor": "#DFE8F3",
            "gridwidth": 2,
            "linecolor": "#EBF0F8",
            "showbackground": true,
            "ticks": "",
            "zerolinecolor": "#EBF0F8"
           },
           "yaxis": {
            "backgroundcolor": "white",
            "gridcolor": "#DFE8F3",
            "gridwidth": 2,
            "linecolor": "#EBF0F8",
            "showbackground": true,
            "ticks": "",
            "zerolinecolor": "#EBF0F8"
           },
           "zaxis": {
            "backgroundcolor": "white",
            "gridcolor": "#DFE8F3",
            "gridwidth": 2,
            "linecolor": "#EBF0F8",
            "showbackground": true,
            "ticks": "",
            "zerolinecolor": "#EBF0F8"
           }
          },
          "shapedefaults": {
           "line": {
            "color": "#2a3f5f"
           }
          },
          "ternary": {
           "aaxis": {
            "gridcolor": "#DFE8F3",
            "linecolor": "#A2B1C6",
            "ticks": ""
           },
           "baxis": {
            "gridcolor": "#DFE8F3",
            "linecolor": "#A2B1C6",
            "ticks": ""
           },
           "bgcolor": "white",
           "caxis": {
            "gridcolor": "#DFE8F3",
            "linecolor": "#A2B1C6",
            "ticks": ""
           }
          },
          "title": {
           "x": 0.05
          },
          "xaxis": {
           "automargin": true,
           "gridcolor": "#EBF0F8",
           "linecolor": "#EBF0F8",
           "ticks": "",
           "title": {
            "standoff": 15
           },
           "zerolinecolor": "#EBF0F8",
           "zerolinewidth": 2
          },
          "yaxis": {
           "automargin": true,
           "gridcolor": "#EBF0F8",
           "linecolor": "#EBF0F8",
           "ticks": "",
           "title": {
            "standoff": 15
           },
           "zerolinecolor": "#EBF0F8",
           "zerolinewidth": 2
          }
         }
        },
        "title": {
         "text": "⚽ Perfiles de Rendimiento por Posición (Percentil 75)",
         "x": 0.5
        }
       }
      }
     },
     "metadata": {},
     "output_type": "display_data"
    },
    {
     "name": "stdout",
     "output_type": "stream",
     "text": [
      "\n",
      "📊 RESUMEN ESTADÍSTICO POR POSICIÓN:\n",
      "================================================================================\n",
      "Posición   N Edad Media Partidos Media Minutos Totales\n",
      "      GK 191       None           None            None\n",
      "      CB  37       None           None            None\n",
      "     DMF  65       None           None            None\n",
      "     AMF  81       None           None            None\n",
      "      CF 351       None           None            None\n"
     ]
    }
   ],
   "source": [
    "def create_performance_profiles_by_position(df):\n",
    "    \"\"\"\n",
    "    Crea perfiles de rendimiento específicos por posición.\n",
    "    \n",
    "    Args:\n",
    "        df (pd.DataFrame): Dataset de la Liga Tailandesa\n",
    "    \"\"\"\n",
    "    \n",
    "    # Definir métricas clave por posición\n",
    "    position_metrics = {\n",
    "        'GK': ['goals_conceded_per_90', 'saves_per_90', 'pass_accuracy_pct'],\n",
    "        'CB': ['aerial_duels_won_pct', 'defensive_duels_won_pct', 'long_passes_accuracy_pct'],\n",
    "        'FB': ['crosses_per_90', 'defensive_duels_won_pct', 'forward_passes_per_90'],\n",
    "        'DMF': ['interceptions_per_90', 'pass_accuracy_pct', 'defensive_duels_won_pct'],\n",
    "        'CMF': ['passes_per_90', 'pass_accuracy_pct', 'progressive_passes_per_90'],\n",
    "        'AMF': ['key_passes_per_90', 'assists_per_90', 'progressive_passes_per_90'],\n",
    "        'W': ['dribbles_success_pct', 'crosses_per_90', 'assists_per_90'],\n",
    "        'CF': ['goals_per_90', 'shots_on_target_pct', 'goal_conversion_pct']\n",
    "    }\n",
    "    \n",
    "    # Métricas alternativas si las principales no están disponibles\n",
    "    fallback_metrics = {\n",
    "        'ofensivas': ['goals_per_90', 'assists_per_90', 'shots_per_90', 'touches_in_box_per_90'],\n",
    "        'defensivas': ['defensive_actions_per_90', 'interceptions_per_90', 'aerial_duels_won_pct'],\n",
    "        'pases': ['passes_per_90', 'pass_accuracy_pct', 'forward_passes_per_90', 'progressive_passes_per_90'],\n",
    "        'fisicas': ['duels_won_pct', 'duels_per_90', 'offensive_duels_won_pct']\n",
    "    }\n",
    "    \n",
    "    # Encontrar métricas disponibles\n",
    "    available_columns = df.columns.tolist()\n",
    "    \n",
    "    print(\"🔍 Métricas disponibles para análisis:\")\n",
    "    available_metrics = {}\n",
    "    \n",
    "    for position, metrics in position_metrics.items():\n",
    "        available_for_position = [m for m in metrics if m in available_columns]\n",
    "        if not available_for_position:\n",
    "            # Usar métricas fallback\n",
    "            for category, fallbacks in fallback_metrics.items():\n",
    "                available_fallbacks = [m for m in fallbacks if m in available_columns]\n",
    "                if available_fallbacks:\n",
    "                    available_for_position.extend(available_fallbacks[:3])  # Tomar primeras 3\n",
    "                    break\n",
    "        \n",
    "        available_metrics[position] = available_for_position[:5]  # Máximo 5 métricas\n",
    "        print(f\"   {position}: {available_for_position}\")\n",
    "    \n",
    "    # Crear radar charts por posición\n",
    "    position_order = ['GK', 'CB', 'FB', 'DMF', 'CMF', 'AMF', 'W', 'CF']\n",
    "    \n",
    "    # Filtrar datos con posición válida\n",
    "    df_valid = df[df['Primary position'].notna()].copy()\n",
    "    \n",
    "    # Crear subplots para radar charts\n",
    "    cols = 4\n",
    "    rows = 2\n",
    "    \n",
    "    fig = make_subplots(\n",
    "        rows=rows, cols=cols,\n",
    "        subplot_titles=[f\"{pos} - Perfil de Rendimiento\" for pos in position_order],\n",
    "        specs=[[{\"type\": \"scatterpolar\"}] * cols for _ in range(rows)]\n",
    "    )\n",
    "    \n",
    "    for idx, position in enumerate(position_order):\n",
    "        row = (idx // cols) + 1\n",
    "        col = (idx % cols) + 1\n",
    "        \n",
    "        # Filtrar datos por posición\n",
    "        pos_data = df_valid[df_valid['Primary position'] == position]\n",
    "        \n",
    "        if len(pos_data) > 0 and available_metrics.get(position):\n",
    "            metrics = available_metrics[position]\n",
    "            \n",
    "            # Calcular percentiles para cada métrica\n",
    "            percentiles = []\n",
    "            metric_names = []\n",
    "            \n",
    "            for metric in metrics:\n",
    "                if metric in pos_data.columns:\n",
    "                    values = pos_data[metric].dropna()\n",
    "                    if len(values) > 0:\n",
    "                        # Calcular percentil 75 como referencia de \"buen rendimiento\"\n",
    "                        p75 = np.percentile(values, 75)\n",
    "                        percentiles.append(p75)\n",
    "                        \n",
    "                        # Simplificar nombre de métrica\n",
    "                        clean_name = metric.replace('_per_90', '/90').replace('_pct', '%').replace('_', ' ').title()\n",
    "                        metric_names.append(clean_name[:15])  # Truncar nombres largos\n",
    "            \n",
    "            if percentiles:\n",
    "                # Normalizar a escala 0-100 para visualización\n",
    "                if max(percentiles) > 0:\n",
    "                    normalized_values = [(p / max(percentiles)) * 100 for p in percentiles]\n",
    "                else:\n",
    "                    normalized_values = [50] * len(percentiles)\n",
    "                \n",
    "                # Añadir radar chart\n",
    "                fig.add_trace(\n",
    "                    go.Scatterpolar(\n",
    "                        r=normalized_values,\n",
    "                        theta=metric_names,\n",
    "                        fill='toself',\n",
    "                        name=position,\n",
    "                        showlegend=False\n",
    "                    ),\n",
    "                    row=row, col=col\n",
    "                )\n",
    "    \n",
    "    # Actualizar layout\n",
    "    fig.update_layout(\n",
    "        height=600,\n",
    "        title_text=\"⚽ Perfiles de Rendimiento por Posición (Percentil 75)\",\n",
    "        title_x=0.5\n",
    "    )\n",
    "    \n",
    "    fig.show()\n",
    "    \n",
    "    # Crear tabla resumen de estadísticas por posición\n",
    "    print(\"\\n📊 RESUMEN ESTADÍSTICO POR POSICIÓN:\")\n",
    "    print(\"=\" * 80)\n",
    "    \n",
    "    summary_stats = []\n",
    "    \n",
    "    for position in position_order:\n",
    "        pos_data = df_valid[df_valid['Primary position'] == position]\n",
    "        if len(pos_data) > 0:\n",
    "            # Estadísticas básicas\n",
    "            stats = {\n",
    "                'Posición': position,\n",
    "                'N': len(pos_data),\n",
    "                'Edad Media': pos_data['age'].mean() if 'age' in pos_data.columns else None,\n",
    "                'Partidos Media': pos_data['matches_played'].mean() if 'matches_played' in pos_data.columns else None,\n",
    "                'Minutos Totales': pos_data['minutes_played'].sum() if 'minutes_played' in pos_data.columns else None\n",
    "            }\n",
    "            \n",
    "            # Añadir métricas específicas de la posición\n",
    "            for metric in available_metrics.get(position, [])[:3]:  # Top 3 métricas\n",
    "                if metric in pos_data.columns:\n",
    "                    clean_name = metric.replace('_per_90', '/90').replace('_pct', '%')\n",
    "                    stats[clean_name] = pos_data[metric].mean()\n",
    "            \n",
    "            summary_stats.append(stats)\n",
    "    \n",
    "    # Convertir a DataFrame y mostrar\n",
    "    if summary_stats:\n",
    "        df_summary = pd.DataFrame(summary_stats)\n",
    "        \n",
    "        # Redondear valores numéricos\n",
    "        numeric_cols = df_summary.select_dtypes(include=[np.number]).columns\n",
    "        df_summary[numeric_cols] = df_summary[numeric_cols].round(2)\n",
    "        \n",
    "        print(df_summary.to_string(index=False))\n",
    "\n",
    "# Ejecutar análisis de perfiles de rendimiento\n",
    "if df_thai is not None:\n",
    "    print(\"🔄 Generando perfiles de rendimiento por posición...\")\n",
    "    create_performance_profiles_by_position(df_thai)"
   ]
  },
  {
   "cell_type": "markdown",
   "metadata": {},
   "source": [
    "## 6. Análisis de Correlaciones y Relaciones entre Variables\n",
    "\n",
    "### 6.1 Matriz de Correlación de Métricas Clave"
   ]
  },
  {
   "cell_type": "code",
   "execution_count": null,
   "metadata": {},
   "outputs": [
    {
     "name": "stdout",
     "output_type": "stream",
     "text": [
      "🔄 Generando análisis de correlaciones...\n",
      "🔍 Analizando correlaciones entre 0 métricas:\n",
      "   []\n"
     ]
    },
    {
     "data": {
      "application/vnd.plotly.v1+json": {
       "config": {
        "plotlyServerURL": "https://plot.ly"
       },
       "data": [
        {
         "colorscale": [
          [
           0,
           "rgb(103,0,31)"
          ],
          [
           0.1,
           "rgb(178,24,43)"
          ],
          [
           0.2,
           "rgb(214,96,77)"
          ],
          [
           0.3,
           "rgb(244,165,130)"
          ],
          [
           0.4,
           "rgb(253,219,199)"
          ],
          [
           0.5,
           "rgb(247,247,247)"
          ],
          [
           0.6,
           "rgb(209,229,240)"
          ],
          [
           0.7,
           "rgb(146,197,222)"
          ],
          [
           0.8,
           "rgb(67,147,195)"
          ],
          [
           0.9,
           "rgb(33,102,172)"
          ],
          [
           1,
           "rgb(5,48,97)"
          ]
         ],
         "hovertemplate": "%{x} vs %{y}<br>Correlación: %{z:.3f}<extra></extra>",
         "showscale": true,
         "type": "heatmap",
         "x": [],
         "xaxis": "x",
         "y": [],
         "yaxis": "y",
         "z": [],
         "zmid": 0
        },
        {
         "colorscale": [
          [
           0,
           "rgb(103,0,31)"
          ],
          [
           0.1,
           "rgb(178,24,43)"
          ],
          [
           0.2,
           "rgb(214,96,77)"
          ],
          [
           0.3,
           "rgb(244,165,130)"
          ],
          [
           0.4,
           "rgb(253,219,199)"
          ],
          [
           0.5,
           "rgb(247,247,247)"
          ],
          [
           0.6,
           "rgb(209,229,240)"
          ],
          [
           0.7,
           "rgb(146,197,222)"
          ],
          [
           0.8,
           "rgb(67,147,195)"
          ],
          [
           0.9,
           "rgb(33,102,172)"
          ],
          [
           1,
           "rgb(5,48,97)"
          ]
         ],
         "hovertemplate": "%{x} vs %{y}<br>Correlación: %{z:.3f}<extra></extra>",
         "showscale": false,
         "type": "heatmap",
         "x": [],
         "xaxis": "x2",
         "y": [],
         "yaxis": "y2",
         "z": [],
         "zmid": 0
        },
        {
         "marker": {
          "color": "lightblue"
         },
         "nbinsx": 30,
         "opacity": 0.7,
         "showlegend": false,
         "type": "histogram",
         "x": [],
         "xaxis": "x3",
         "yaxis": "y3"
        }
       ],
       "layout": {
        "annotations": [
         {
          "font": {
           "size": 16
          },
          "showarrow": false,
          "text": "Matriz de Correlación Completa",
          "x": 0.225,
          "xanchor": "center",
          "xref": "paper",
          "y": 1,
          "yanchor": "bottom",
          "yref": "paper"
         },
         {
          "font": {
           "size": 16
          },
          "showarrow": false,
          "text": "Correlaciones Fuertes (|r| > 0.5)",
          "x": 0.775,
          "xanchor": "center",
          "xref": "paper",
          "y": 1,
          "yanchor": "bottom",
          "yref": "paper"
         },
         {
          "font": {
           "size": 16
          },
          "showarrow": false,
          "text": "Distribución de Correlaciones",
          "x": 0.225,
          "xanchor": "center",
          "xref": "paper",
          "y": 0.375,
          "yanchor": "bottom",
          "yref": "paper"
         },
         {
          "font": {
           "size": 16
          },
          "showarrow": false,
          "text": "Red de Correlaciones Significativas",
          "x": 0.775,
          "xanchor": "center",
          "xref": "paper",
          "y": 0.375,
          "yanchor": "bottom",
          "yref": "paper"
         }
        ],
        "height": 800,
        "template": {
         "data": {
          "bar": [
           {
            "error_x": {
             "color": "#2a3f5f"
            },
            "error_y": {
             "color": "#2a3f5f"
            },
            "marker": {
             "line": {
              "color": "white",
              "width": 0.5
             },
             "pattern": {
              "fillmode": "overlay",
              "size": 10,
              "solidity": 0.2
             }
            },
            "type": "bar"
           }
          ],
          "barpolar": [
           {
            "marker": {
             "line": {
              "color": "white",
              "width": 0.5
             },
             "pattern": {
              "fillmode": "overlay",
              "size": 10,
              "solidity": 0.2
             }
            },
            "type": "barpolar"
           }
          ],
          "carpet": [
           {
            "aaxis": {
             "endlinecolor": "#2a3f5f",
             "gridcolor": "#C8D4E3",
             "linecolor": "#C8D4E3",
             "minorgridcolor": "#C8D4E3",
             "startlinecolor": "#2a3f5f"
            },
            "baxis": {
             "endlinecolor": "#2a3f5f",
             "gridcolor": "#C8D4E3",
             "linecolor": "#C8D4E3",
             "minorgridcolor": "#C8D4E3",
             "startlinecolor": "#2a3f5f"
            },
            "type": "carpet"
           }
          ],
          "choropleth": [
           {
            "colorbar": {
             "outlinewidth": 0,
             "ticks": ""
            },
            "type": "choropleth"
           }
          ],
          "contour": [
           {
            "colorbar": {
             "outlinewidth": 0,
             "ticks": ""
            },
            "colorscale": [
             [
              0,
              "#0d0887"
             ],
             [
              0.1111111111111111,
              "#46039f"
             ],
             [
              0.2222222222222222,
              "#7201a8"
             ],
             [
              0.3333333333333333,
              "#9c179e"
             ],
             [
              0.4444444444444444,
              "#bd3786"
             ],
             [
              0.5555555555555556,
              "#d8576b"
             ],
             [
              0.6666666666666666,
              "#ed7953"
             ],
             [
              0.7777777777777778,
              "#fb9f3a"
             ],
             [
              0.8888888888888888,
              "#fdca26"
             ],
             [
              1,
              "#f0f921"
             ]
            ],
            "type": "contour"
           }
          ],
          "contourcarpet": [
           {
            "colorbar": {
             "outlinewidth": 0,
             "ticks": ""
            },
            "type": "contourcarpet"
           }
          ],
          "heatmap": [
           {
            "colorbar": {
             "outlinewidth": 0,
             "ticks": ""
            },
            "colorscale": [
             [
              0,
              "#0d0887"
             ],
             [
              0.1111111111111111,
              "#46039f"
             ],
             [
              0.2222222222222222,
              "#7201a8"
             ],
             [
              0.3333333333333333,
              "#9c179e"
             ],
             [
              0.4444444444444444,
              "#bd3786"
             ],
             [
              0.5555555555555556,
              "#d8576b"
             ],
             [
              0.6666666666666666,
              "#ed7953"
             ],
             [
              0.7777777777777778,
              "#fb9f3a"
             ],
             [
              0.8888888888888888,
              "#fdca26"
             ],
             [
              1,
              "#f0f921"
             ]
            ],
            "type": "heatmap"
           }
          ],
          "histogram": [
           {
            "marker": {
             "pattern": {
              "fillmode": "overlay",
              "size": 10,
              "solidity": 0.2
             }
            },
            "type": "histogram"
           }
          ],
          "histogram2d": [
           {
            "colorbar": {
             "outlinewidth": 0,
             "ticks": ""
            },
            "colorscale": [
             [
              0,
              "#0d0887"
             ],
             [
              0.1111111111111111,
              "#46039f"
             ],
             [
              0.2222222222222222,
              "#7201a8"
             ],
             [
              0.3333333333333333,
              "#9c179e"
             ],
             [
              0.4444444444444444,
              "#bd3786"
             ],
             [
              0.5555555555555556,
              "#d8576b"
             ],
             [
              0.6666666666666666,
              "#ed7953"
             ],
             [
              0.7777777777777778,
              "#fb9f3a"
             ],
             [
              0.8888888888888888,
              "#fdca26"
             ],
             [
              1,
              "#f0f921"
             ]
            ],
            "type": "histogram2d"
           }
          ],
          "histogram2dcontour": [
           {
            "colorbar": {
             "outlinewidth": 0,
             "ticks": ""
            },
            "colorscale": [
             [
              0,
              "#0d0887"
             ],
             [
              0.1111111111111111,
              "#46039f"
             ],
             [
              0.2222222222222222,
              "#7201a8"
             ],
             [
              0.3333333333333333,
              "#9c179e"
             ],
             [
              0.4444444444444444,
              "#bd3786"
             ],
             [
              0.5555555555555556,
              "#d8576b"
             ],
             [
              0.6666666666666666,
              "#ed7953"
             ],
             [
              0.7777777777777778,
              "#fb9f3a"
             ],
             [
              0.8888888888888888,
              "#fdca26"
             ],
             [
              1,
              "#f0f921"
             ]
            ],
            "type": "histogram2dcontour"
           }
          ],
          "mesh3d": [
           {
            "colorbar": {
             "outlinewidth": 0,
             "ticks": ""
            },
            "type": "mesh3d"
           }
          ],
          "parcoords": [
           {
            "line": {
             "colorbar": {
              "outlinewidth": 0,
              "ticks": ""
             }
            },
            "type": "parcoords"
           }
          ],
          "pie": [
           {
            "automargin": true,
            "type": "pie"
           }
          ],
          "scatter": [
           {
            "fillpattern": {
             "fillmode": "overlay",
             "size": 10,
             "solidity": 0.2
            },
            "type": "scatter"
           }
          ],
          "scatter3d": [
           {
            "line": {
             "colorbar": {
              "outlinewidth": 0,
              "ticks": ""
             }
            },
            "marker": {
             "colorbar": {
              "outlinewidth": 0,
              "ticks": ""
             }
            },
            "type": "scatter3d"
           }
          ],
          "scattercarpet": [
           {
            "marker": {
             "colorbar": {
              "outlinewidth": 0,
              "ticks": ""
             }
            },
            "type": "scattercarpet"
           }
          ],
          "scattergeo": [
           {
            "marker": {
             "colorbar": {
              "outlinewidth": 0,
              "ticks": ""
             }
            },
            "type": "scattergeo"
           }
          ],
          "scattergl": [
           {
            "marker": {
             "colorbar": {
              "outlinewidth": 0,
              "ticks": ""
             }
            },
            "type": "scattergl"
           }
          ],
          "scattermap": [
           {
            "marker": {
             "colorbar": {
              "outlinewidth": 0,
              "ticks": ""
             }
            },
            "type": "scattermap"
           }
          ],
          "scattermapbox": [
           {
            "marker": {
             "colorbar": {
              "outlinewidth": 0,
              "ticks": ""
             }
            },
            "type": "scattermapbox"
           }
          ],
          "scatterpolar": [
           {
            "marker": {
             "colorbar": {
              "outlinewidth": 0,
              "ticks": ""
             }
            },
            "type": "scatterpolar"
           }
          ],
          "scatterpolargl": [
           {
            "marker": {
             "colorbar": {
              "outlinewidth": 0,
              "ticks": ""
             }
            },
            "type": "scatterpolargl"
           }
          ],
          "scatterternary": [
           {
            "marker": {
             "colorbar": {
              "outlinewidth": 0,
              "ticks": ""
             }
            },
            "type": "scatterternary"
           }
          ],
          "surface": [
           {
            "colorbar": {
             "outlinewidth": 0,
             "ticks": ""
            },
            "colorscale": [
             [
              0,
              "#0d0887"
             ],
             [
              0.1111111111111111,
              "#46039f"
             ],
             [
              0.2222222222222222,
              "#7201a8"
             ],
             [
              0.3333333333333333,
              "#9c179e"
             ],
             [
              0.4444444444444444,
              "#bd3786"
             ],
             [
              0.5555555555555556,
              "#d8576b"
             ],
             [
              0.6666666666666666,
              "#ed7953"
             ],
             [
              0.7777777777777778,
              "#fb9f3a"
             ],
             [
              0.8888888888888888,
              "#fdca26"
             ],
             [
              1,
              "#f0f921"
             ]
            ],
            "type": "surface"
           }
          ],
          "table": [
           {
            "cells": {
             "fill": {
              "color": "#EBF0F8"
             },
             "line": {
              "color": "white"
             }
            },
            "header": {
             "fill": {
              "color": "#C8D4E3"
             },
             "line": {
              "color": "white"
             }
            },
            "type": "table"
           }
          ]
         },
         "layout": {
          "annotationdefaults": {
           "arrowcolor": "#2a3f5f",
           "arrowhead": 0,
           "arrowwidth": 1
          },
          "autotypenumbers": "strict",
          "coloraxis": {
           "colorbar": {
            "outlinewidth": 0,
            "ticks": ""
           }
          },
          "colorscale": {
           "diverging": [
            [
             0,
             "#8e0152"
            ],
            [
             0.1,
             "#c51b7d"
            ],
            [
             0.2,
             "#de77ae"
            ],
            [
             0.3,
             "#f1b6da"
            ],
            [
             0.4,
             "#fde0ef"
            ],
            [
             0.5,
             "#f7f7f7"
            ],
            [
             0.6,
             "#e6f5d0"
            ],
            [
             0.7,
             "#b8e186"
            ],
            [
             0.8,
             "#7fbc41"
            ],
            [
             0.9,
             "#4d9221"
            ],
            [
             1,
             "#276419"
            ]
           ],
           "sequential": [
            [
             0,
             "#0d0887"
            ],
            [
             0.1111111111111111,
             "#46039f"
            ],
            [
             0.2222222222222222,
             "#7201a8"
            ],
            [
             0.3333333333333333,
             "#9c179e"
            ],
            [
             0.4444444444444444,
             "#bd3786"
            ],
            [
             0.5555555555555556,
             "#d8576b"
            ],
            [
             0.6666666666666666,
             "#ed7953"
            ],
            [
             0.7777777777777778,
             "#fb9f3a"
            ],
            [
             0.8888888888888888,
             "#fdca26"
            ],
            [
             1,
             "#f0f921"
            ]
           ],
           "sequentialminus": [
            [
             0,
             "#0d0887"
            ],
            [
             0.1111111111111111,
             "#46039f"
            ],
            [
             0.2222222222222222,
             "#7201a8"
            ],
            [
             0.3333333333333333,
             "#9c179e"
            ],
            [
             0.4444444444444444,
             "#bd3786"
            ],
            [
             0.5555555555555556,
             "#d8576b"
            ],
            [
             0.6666666666666666,
             "#ed7953"
            ],
            [
             0.7777777777777778,
             "#fb9f3a"
            ],
            [
             0.8888888888888888,
             "#fdca26"
            ],
            [
             1,
             "#f0f921"
            ]
           ]
          },
          "colorway": [
           "#636efa",
           "#EF553B",
           "#00cc96",
           "#ab63fa",
           "#FFA15A",
           "#19d3f3",
           "#FF6692",
           "#B6E880",
           "#FF97FF",
           "#FECB52"
          ],
          "font": {
           "color": "#2a3f5f"
          },
          "geo": {
           "bgcolor": "white",
           "lakecolor": "white",
           "landcolor": "white",
           "showlakes": true,
           "showland": true,
           "subunitcolor": "#C8D4E3"
          },
          "hoverlabel": {
           "align": "left"
          },
          "hovermode": "closest",
          "mapbox": {
           "style": "light"
          },
          "paper_bgcolor": "white",
          "plot_bgcolor": "white",
          "polar": {
           "angularaxis": {
            "gridcolor": "#EBF0F8",
            "linecolor": "#EBF0F8",
            "ticks": ""
           },
           "bgcolor": "white",
           "radialaxis": {
            "gridcolor": "#EBF0F8",
            "linecolor": "#EBF0F8",
            "ticks": ""
           }
          },
          "scene": {
           "xaxis": {
            "backgroundcolor": "white",
            "gridcolor": "#DFE8F3",
            "gridwidth": 2,
            "linecolor": "#EBF0F8",
            "showbackground": true,
            "ticks": "",
            "zerolinecolor": "#EBF0F8"
           },
           "yaxis": {
            "backgroundcolor": "white",
            "gridcolor": "#DFE8F3",
            "gridwidth": 2,
            "linecolor": "#EBF0F8",
            "showbackground": true,
            "ticks": "",
            "zerolinecolor": "#EBF0F8"
           },
           "zaxis": {
            "backgroundcolor": "white",
            "gridcolor": "#DFE8F3",
            "gridwidth": 2,
            "linecolor": "#EBF0F8",
            "showbackground": true,
            "ticks": "",
            "zerolinecolor": "#EBF0F8"
           }
          },
          "shapedefaults": {
           "line": {
            "color": "#2a3f5f"
           }
          },
          "ternary": {
           "aaxis": {
            "gridcolor": "#DFE8F3",
            "linecolor": "#A2B1C6",
            "ticks": ""
           },
           "baxis": {
            "gridcolor": "#DFE8F3",
            "linecolor": "#A2B1C6",
            "ticks": ""
           },
           "bgcolor": "white",
           "caxis": {
            "gridcolor": "#DFE8F3",
            "linecolor": "#A2B1C6",
            "ticks": ""
           }
          },
          "title": {
           "x": 0.05
          },
          "xaxis": {
           "automargin": true,
           "gridcolor": "#EBF0F8",
           "linecolor": "#EBF0F8",
           "ticks": "",
           "title": {
            "standoff": 15
           },
           "zerolinecolor": "#EBF0F8",
           "zerolinewidth": 2
          },
          "yaxis": {
           "automargin": true,
           "gridcolor": "#EBF0F8",
           "linecolor": "#EBF0F8",
           "ticks": "",
           "title": {
            "standoff": 15
           },
           "zerolinecolor": "#EBF0F8",
           "zerolinewidth": 2
          }
         }
        },
        "title": {
         "text": "🔗 Análisis de Correlaciones - Métricas Liga Tailandesa",
         "x": 0.5
        },
        "xaxis": {
         "anchor": "y",
         "domain": [
          0,
          0.45
         ]
        },
        "xaxis2": {
         "anchor": "y2",
         "domain": [
          0.55,
          1
         ]
        },
        "xaxis3": {
         "anchor": "y3",
         "domain": [
          0,
          0.45
         ],
         "title": {
          "text": "Correlación (r)"
         }
        },
        "xaxis4": {
         "anchor": "y4",
         "domain": [
          0.55,
          1
         ]
        },
        "yaxis": {
         "anchor": "x",
         "domain": [
          0.625,
          1
         ]
        },
        "yaxis2": {
         "anchor": "x2",
         "domain": [
          0.625,
          1
         ]
        },
        "yaxis3": {
         "anchor": "x3",
         "domain": [
          0,
          0.375
         ],
         "title": {
          "text": "Frecuencia"
         }
        },
        "yaxis4": {
         "anchor": "x4",
         "domain": [
          0,
          0.375
         ]
        }
       }
      }
     },
     "metadata": {},
     "output_type": "display_data"
    },
    {
     "name": "stdout",
     "output_type": "stream",
     "text": [
      "\n",
      "🔍 CORRELACIONES MÁS SIGNIFICATIVAS:\n",
      "============================================================\n",
      "No se encontraron correlaciones fuertes (|r| > 0.5)\n",
      "\n",
      "📊 ESTADÍSTICAS DE CORRELACIONES:\n",
      "   Media: nan\n",
      "   Desviación estándar: nan\n"
     ]
    },
    {
     "ename": "ValueError",
     "evalue": "zero-size array to reduction operation maximum which has no identity",
     "output_type": "error",
     "traceback": [
      "\u001b[31m---------------------------------------------------------------------------\u001b[39m",
      "\u001b[31mValueError\u001b[39m                                Traceback (most recent call last)",
      "\u001b[36mCell\u001b[39m\u001b[36m \u001b[39m\u001b[32mIn[22]\u001b[39m\u001b[32m, line 194\u001b[39m\n\u001b[32m    192\u001b[39m \u001b[38;5;28;01mif\u001b[39;00m df_thai \u001b[38;5;129;01mis\u001b[39;00m \u001b[38;5;129;01mnot\u001b[39;00m \u001b[38;5;28;01mNone\u001b[39;00m:\n\u001b[32m    193\u001b[39m     \u001b[38;5;28mprint\u001b[39m(\u001b[33m\"\u001b[39m\u001b[33m🔄 Generando análisis de correlaciones...\u001b[39m\u001b[33m\"\u001b[39m)\n\u001b[32m--> \u001b[39m\u001b[32m194\u001b[39m     corr_matrix = \u001b[43mcreate_correlation_analysis\u001b[49m\u001b[43m(\u001b[49m\u001b[43mdf_thai\u001b[49m\u001b[43m)\u001b[49m\n",
      "\u001b[36mCell\u001b[39m\u001b[36m \u001b[39m\u001b[32mIn[22]\u001b[39m\u001b[32m, line 184\u001b[39m, in \u001b[36mcreate_correlation_analysis\u001b[39m\u001b[34m(df)\u001b[39m\n\u001b[32m    182\u001b[39m \u001b[38;5;28mprint\u001b[39m(\u001b[33mf\u001b[39m\u001b[33m\"\u001b[39m\u001b[33m   Media: \u001b[39m\u001b[38;5;132;01m{\u001b[39;00mnp.mean(correlation_values)\u001b[38;5;132;01m:\u001b[39;00m\u001b[33m.3f\u001b[39m\u001b[38;5;132;01m}\u001b[39;00m\u001b[33m\"\u001b[39m)\n\u001b[32m    183\u001b[39m \u001b[38;5;28mprint\u001b[39m(\u001b[33mf\u001b[39m\u001b[33m\"\u001b[39m\u001b[33m   Desviación estándar: \u001b[39m\u001b[38;5;132;01m{\u001b[39;00mnp.std(correlation_values)\u001b[38;5;132;01m:\u001b[39;00m\u001b[33m.3f\u001b[39m\u001b[38;5;132;01m}\u001b[39;00m\u001b[33m\"\u001b[39m)\n\u001b[32m--> \u001b[39m\u001b[32m184\u001b[39m \u001b[38;5;28mprint\u001b[39m(\u001b[33mf\u001b[39m\u001b[33m\"\u001b[39m\u001b[33m   Correlación máxima: \u001b[39m\u001b[38;5;132;01m{\u001b[39;00m\u001b[43mnp\u001b[49m\u001b[43m.\u001b[49m\u001b[43mmax\u001b[49m\u001b[43m(\u001b[49m\u001b[43mcorrelation_values\u001b[49m\u001b[43m)\u001b[49m\u001b[38;5;132;01m:\u001b[39;00m\u001b[33m.3f\u001b[39m\u001b[38;5;132;01m}\u001b[39;00m\u001b[33m\"\u001b[39m)\n\u001b[32m    185\u001b[39m \u001b[38;5;28mprint\u001b[39m(\u001b[33mf\u001b[39m\u001b[33m\"\u001b[39m\u001b[33m   Correlación mínima: \u001b[39m\u001b[38;5;132;01m{\u001b[39;00mnp.min(correlation_values)\u001b[38;5;132;01m:\u001b[39;00m\u001b[33m.3f\u001b[39m\u001b[38;5;132;01m}\u001b[39;00m\u001b[33m\"\u001b[39m)\n\u001b[32m    186\u001b[39m \u001b[38;5;28mprint\u001b[39m(\u001b[33mf\u001b[39m\u001b[33m\"\u001b[39m\u001b[33m   Correlaciones > 0.5: \u001b[39m\u001b[38;5;132;01m{\u001b[39;00mnp.sum(np.abs(correlation_values)\u001b[38;5;250m \u001b[39m>\u001b[38;5;250m \u001b[39m\u001b[32m0.5\u001b[39m)\u001b[38;5;132;01m}\u001b[39;00m\u001b[33m\"\u001b[39m)\n",
      "\u001b[36mFile \u001b[39m\u001b[32m~/Downloads/Sports Data Campus ⚽️/Python Avanzando aplicado al deporte 🐍/M.11 - Proyecto Fin de Máster/venv_M11/lib/python3.13/site-packages/numpy/_core/fromnumeric.py:3164\u001b[39m, in \u001b[36mmax\u001b[39m\u001b[34m(a, axis, out, keepdims, initial, where)\u001b[39m\n\u001b[32m   3052\u001b[39m \u001b[38;5;129m@array_function_dispatch\u001b[39m(_max_dispatcher)\n\u001b[32m   3053\u001b[39m \u001b[38;5;129m@set_module\u001b[39m(\u001b[33m'\u001b[39m\u001b[33mnumpy\u001b[39m\u001b[33m'\u001b[39m)\n\u001b[32m   3054\u001b[39m \u001b[38;5;28;01mdef\u001b[39;00m\u001b[38;5;250m \u001b[39m\u001b[34mmax\u001b[39m(a, axis=\u001b[38;5;28;01mNone\u001b[39;00m, out=\u001b[38;5;28;01mNone\u001b[39;00m, keepdims=np._NoValue, initial=np._NoValue,\n\u001b[32m   3055\u001b[39m          where=np._NoValue):\n\u001b[32m   3056\u001b[39m \u001b[38;5;250m    \u001b[39m\u001b[33;03m\"\"\"\u001b[39;00m\n\u001b[32m   3057\u001b[39m \u001b[33;03m    Return the maximum of an array or maximum along an axis.\u001b[39;00m\n\u001b[32m   3058\u001b[39m \n\u001b[32m   (...)\u001b[39m\u001b[32m   3162\u001b[39m \u001b[33;03m    5\u001b[39;00m\n\u001b[32m   3163\u001b[39m \u001b[33;03m    \"\"\"\u001b[39;00m\n\u001b[32m-> \u001b[39m\u001b[32m3164\u001b[39m     \u001b[38;5;28;01mreturn\u001b[39;00m \u001b[43m_wrapreduction\u001b[49m\u001b[43m(\u001b[49m\u001b[43ma\u001b[49m\u001b[43m,\u001b[49m\u001b[43m \u001b[49m\u001b[43mnp\u001b[49m\u001b[43m.\u001b[49m\u001b[43mmaximum\u001b[49m\u001b[43m,\u001b[49m\u001b[43m \u001b[49m\u001b[33;43m'\u001b[39;49m\u001b[33;43mmax\u001b[39;49m\u001b[33;43m'\u001b[39;49m\u001b[43m,\u001b[49m\u001b[43m \u001b[49m\u001b[43maxis\u001b[49m\u001b[43m,\u001b[49m\u001b[43m \u001b[49m\u001b[38;5;28;43;01mNone\u001b[39;49;00m\u001b[43m,\u001b[49m\u001b[43m \u001b[49m\u001b[43mout\u001b[49m\u001b[43m,\u001b[49m\n\u001b[32m   3165\u001b[39m \u001b[43m                          \u001b[49m\u001b[43mkeepdims\u001b[49m\u001b[43m=\u001b[49m\u001b[43mkeepdims\u001b[49m\u001b[43m,\u001b[49m\u001b[43m \u001b[49m\u001b[43minitial\u001b[49m\u001b[43m=\u001b[49m\u001b[43minitial\u001b[49m\u001b[43m,\u001b[49m\u001b[43m \u001b[49m\u001b[43mwhere\u001b[49m\u001b[43m=\u001b[49m\u001b[43mwhere\u001b[49m\u001b[43m)\u001b[49m\n",
      "\u001b[36mFile \u001b[39m\u001b[32m~/Downloads/Sports Data Campus ⚽️/Python Avanzando aplicado al deporte 🐍/M.11 - Proyecto Fin de Máster/venv_M11/lib/python3.13/site-packages/numpy/_core/fromnumeric.py:86\u001b[39m, in \u001b[36m_wrapreduction\u001b[39m\u001b[34m(obj, ufunc, method, axis, dtype, out, **kwargs)\u001b[39m\n\u001b[32m     83\u001b[39m         \u001b[38;5;28;01melse\u001b[39;00m:\n\u001b[32m     84\u001b[39m             \u001b[38;5;28;01mreturn\u001b[39;00m reduction(axis=axis, out=out, **passkwargs)\n\u001b[32m---> \u001b[39m\u001b[32m86\u001b[39m \u001b[38;5;28;01mreturn\u001b[39;00m \u001b[43mufunc\u001b[49m\u001b[43m.\u001b[49m\u001b[43mreduce\u001b[49m\u001b[43m(\u001b[49m\u001b[43mobj\u001b[49m\u001b[43m,\u001b[49m\u001b[43m \u001b[49m\u001b[43maxis\u001b[49m\u001b[43m,\u001b[49m\u001b[43m \u001b[49m\u001b[43mdtype\u001b[49m\u001b[43m,\u001b[49m\u001b[43m \u001b[49m\u001b[43mout\u001b[49m\u001b[43m,\u001b[49m\u001b[43m \u001b[49m\u001b[43m*\u001b[49m\u001b[43m*\u001b[49m\u001b[43mpasskwargs\u001b[49m\u001b[43m)\u001b[49m\n",
      "\u001b[31mValueError\u001b[39m: zero-size array to reduction operation maximum which has no identity"
     ]
    }
   ],
   "source": [
    "def create_correlation_analysis(df):\n",
    "    \"\"\"\n",
    "    Crea análisis de correlaciones entre métricas clave.\n",
    "    \n",
    "    Args:\n",
    "        df (pd.DataFrame): Dataset de la Liga Tailandesa\n",
    "    \"\"\"\n",
    "    \n",
    "    # Seleccionar métricas numéricas relevantes\n",
    "    key_metrics = [\n",
    "        'age', 'height', 'weight', 'matches_played', 'minutes_played',\n",
    "        'goals', 'assists', 'goals_per_90', 'assists_per_90',\n",
    "        'passes_per_90', 'pass_accuracy_pct', 'duels_won_pct',\n",
    "        'shots_per_90', 'shots_on_target_pct', 'goal_conversion_pct',\n",
    "        'defensive_duels_won_pct', 'aerial_duels_won_pct',\n",
    "        'progressive_passes_per_90', 'key_passes_per_90',\n",
    "        'interceptions_per_90', 'yellow_cards', 'red_cards'\n",
    "    ]\n",
    "    \n",
    "    # Filtrar solo columnas que existen en el dataset\n",
    "    available_metrics = [col for col in key_metrics if col in df.columns]\n",
    "    \n",
    "    print(f\"🔍 Analizando correlaciones entre {len(available_metrics)} métricas:\")\n",
    "    print(f\"   {available_metrics}\")\n",
    "    \n",
    "    # Crear dataset numérico\n",
    "    df_numeric = df[available_metrics].copy()\n",
    "    \n",
    "    # Calcular matriz de correlación\n",
    "    correlation_matrix = df_numeric.corr(method='pearson')\n",
    "    \n",
    "    # Crear visualización de correlaciones\n",
    "    fig = make_subplots(\n",
    "        rows=2, cols=2,\n",
    "        subplot_titles=[\n",
    "            \"Matriz de Correlación Completa\",\n",
    "            \"Correlaciones Fuertes (|r| > 0.5)\",\n",
    "            \"Distribución de Correlaciones\",\n",
    "            \"Red de Correlaciones Significativas\"\n",
    "        ],\n",
    "        specs=[[{\"type\": \"heatmap\"}, {\"type\": \"heatmap\"}],\n",
    "               [{\"type\": \"histogram\"}, {\"type\": \"scatter\"}]]\n",
    "    )\n",
    "    \n",
    "    # 1. Heatmap completo\n",
    "    fig.add_trace(\n",
    "        go.Heatmap(\n",
    "            z=correlation_matrix.values,\n",
    "            x=correlation_matrix.columns,\n",
    "            y=correlation_matrix.columns,\n",
    "            colorscale='RdBu',\n",
    "            zmid=0,\n",
    "            showscale=True,\n",
    "            hovertemplate='%{x} vs %{y}<br>Correlación: %{z:.3f}<extra></extra>'\n",
    "        ),\n",
    "        row=1, col=1\n",
    "    )\n",
    "    \n",
    "    # 2. Solo correlaciones fuertes\n",
    "    strong_corr = correlation_matrix.copy()\n",
    "    strong_corr = strong_corr.mask(abs(strong_corr) < 0.5)\n",
    "    \n",
    "    fig.add_trace(\n",
    "        go.Heatmap(\n",
    "            z=strong_corr.values,\n",
    "            x=strong_corr.columns,\n",
    "            y=strong_corr.columns,\n",
    "            colorscale='RdBu',\n",
    "            zmid=0,\n",
    "            showscale=False,\n",
    "            hovertemplate='%{x} vs %{y}<br>Correlación: %{z:.3f}<extra></extra>'\n",
    "        ),\n",
    "        row=1, col=2\n",
    "    )\n",
    "    \n",
    "    # 3. Histograma de correlaciones\n",
    "    # Obtener valores del triángulo superior (sin diagonal)\n",
    "    mask = np.triu(np.ones_like(correlation_matrix, dtype=bool), k=1)\n",
    "    correlation_values = correlation_matrix.values[mask]\n",
    "    \n",
    "    fig.add_trace(\n",
    "        go.Histogram(\n",
    "            x=correlation_values,\n",
    "            nbinsx=30,\n",
    "            marker_color='lightblue',\n",
    "            opacity=0.7,\n",
    "            showlegend=False\n",
    "        ),\n",
    "        row=2, col=1\n",
    "    )\n",
    "    \n",
    "    # 4. Scatter plot de ejemplos de correlación\n",
    "    # Encontrar la correlación más fuerte (excluyendo diagonal)\n",
    "    strong_pairs = []\n",
    "    for i in range(len(correlation_matrix.columns)):\n",
    "        for j in range(i+1, len(correlation_matrix.columns)):\n",
    "            corr_val = correlation_matrix.iloc[i, j]\n",
    "            if not np.isnan(corr_val) and abs(corr_val) > 0.3:\n",
    "                strong_pairs.append((correlation_matrix.columns[i], correlation_matrix.columns[j], corr_val))\n",
    "    \n",
    "    # Solo proceder si hay correlaciones fuertes\n",
    "    if len(strong_pairs) > 0:\n",
    "        # Tomar la correlación más fuerte\n",
    "        strongest = max(strong_pairs, key=lambda x: abs(x[2]))\n",
    "        x_var, y_var, corr_val = strongest\n",
    "        \n",
    "        # Filtrar datos válidos\n",
    "        valid_data = df[[x_var, y_var]].dropna()\n",
    "        \n",
    "        if len(valid_data) > 10:\n",
    "            fig.add_trace(\n",
    "                go.Scatter(\n",
    "                    x=valid_data[x_var],\n",
    "                    y=valid_data[y_var],\n",
    "                    mode='markers',\n",
    "                    marker=dict(opacity=0.6, color='red'),\n",
    "                    name=f'r = {corr_val:.3f}',\n",
    "                    showlegend=False,\n",
    "                    hovertemplate=f'{x_var}: %{{x}}<br>{y_var}: %{{y}}<extra></extra>'\n",
    "                ),\n",
    "                row=2, col=2\n",
    "            )\n",
    "            \n",
    "            # Añadir línea de tendencia\n",
    "            z = np.polyfit(valid_data[x_var], valid_data[y_var], 1)\n",
    "            p = np.poly1d(z)\n",
    "            \n",
    "            fig.add_trace(\n",
    "                go.Scatter(\n",
    "                    x=valid_data[x_var],\n",
    "                    y=p(valid_data[x_var]),\n",
    "                    mode='lines',\n",
    "                    line=dict(color='blue', dash='dash'),\n",
    "                    showlegend=False\n",
    "                ),\n",
    "                row=2, col=2\n",
    "            )\n",
    "            \n",
    "            # Actualizar etiquetas del scatter plot\n",
    "            fig.update_xaxes(title_text=x_var, row=2, col=2)\n",
    "            fig.update_yaxes(title_text=y_var, row=2, col=2)\n",
    "    \n",
    "    # Actualizar layout\n",
    "    fig.update_layout(\n",
    "        height=800,\n",
    "        title_text=\"🔗 Análisis de Correlaciones - Métricas Liga Tailandesa\",\n",
    "        title_x=0.5\n",
    "    )\n",
    "    \n",
    "    # Actualizar etiquetas\n",
    "    fig.update_xaxes(title_text=\"Correlación (r)\", row=2, col=1)\n",
    "    fig.update_yaxes(title_text=\"Frecuencia\", row=2, col=1)\n",
    "    \n",
    "    fig.show()\n",
    "    \n",
    "    # Análisis de correlaciones más significativas\n",
    "    print(\"\\n🔍 CORRELACIONES MÁS SIGNIFICATIVAS:\")\n",
    "    print(\"=\" * 60)\n",
    "    \n",
    "    # Encontrar correlaciones fuertes\n",
    "    strong_correlations = []\n",
    "    for i in range(len(correlation_matrix.columns)):\n",
    "        for j in range(i+1, len(correlation_matrix.columns)):\n",
    "            corr_val = correlation_matrix.iloc[i, j]\n",
    "            if not np.isnan(corr_val) and abs(corr_val) > 0.5:\n",
    "                strong_correlations.append({\n",
    "                    'Variable 1': correlation_matrix.columns[i],\n",
    "                    'Variable 2': correlation_matrix.columns[j],\n",
    "                    'Correlación': corr_val,\n",
    "                    'Fuerza': 'Muy Fuerte' if abs(corr_val) > 0.8 else 'Fuerte'\n",
    "                })\n",
    "    \n",
    "    if strong_correlations:\n",
    "        df_strong_corr = pd.DataFrame(strong_correlations)\n",
    "        df_strong_corr = df_strong_corr.sort_values('Correlación', key=abs, ascending=False)\n",
    "        print(df_strong_corr.round(3).to_string(index=False))\n",
    "    else:\n",
    "        print(\"No se encontraron correlaciones fuertes (|r| > 0.5)\")\n",
    "    \n",
    "    # Estadísticas descriptivas de correlaciones\n",
    "    print(\"\\n📊 ESTADÍSTICAS DE CORRELACIONES:\")\n",
    "    print(f\"   Media: {np.mean(correlation_values):.3f}\")\n",
    "    print(f\"   Desviación estándar: {np.std(correlation_values):.3f}\")\n",
    "    print(f\"   Correlación máxima: {np.max(correlation_values):.3f}\")\n",
    "    print(f\"   Correlación mínima: {np.min(correlation_values):.3f}\")\n",
    "    print(f\"   Correlaciones > 0.5: {np.sum(np.abs(correlation_values) > 0.5)}\")\n",
    "    print(f\"   Correlaciones > 0.3: {np.sum(np.abs(correlation_values) > 0.3)}\")\n",
    "    \n",
    "    return correlation_matrix\n",
    "\n",
    "# Ejecutar análisis de correlaciones\n",
    "if df_thai is not None:\n",
    "    print(\"🔄 Generando análisis de correlaciones...\")\n",
    "    corr_matrix = create_correlation_analysis(df_thai)"
   ]
  },
  {
   "cell_type": "markdown",
   "metadata": {},
   "source": [
    "## 7. Detección y Análisis de Outliers\n",
    "\n",
    "### 7.1 Identificación de Valores Atípicos por Métricas Clave"
   ]
  },
  {
   "cell_type": "code",
   "execution_count": 23,
   "metadata": {},
   "outputs": [
    {
     "name": "stdout",
     "output_type": "stream",
     "text": [
      "🔄 Ejecutando análisis de outliers...\n",
      "🔍 Analizando outliers en 0 métricas\n"
     ]
    },
    {
     "data": {
      "application/vnd.plotly.v1+json": {
       "config": {
        "plotlyServerURL": "https://plot.ly"
       },
       "data": [],
       "layout": {
        "height": 600,
        "template": {
         "data": {
          "bar": [
           {
            "error_x": {
             "color": "#2a3f5f"
            },
            "error_y": {
             "color": "#2a3f5f"
            },
            "marker": {
             "line": {
              "color": "white",
              "width": 0.5
             },
             "pattern": {
              "fillmode": "overlay",
              "size": 10,
              "solidity": 0.2
             }
            },
            "type": "bar"
           }
          ],
          "barpolar": [
           {
            "marker": {
             "line": {
              "color": "white",
              "width": 0.5
             },
             "pattern": {
              "fillmode": "overlay",
              "size": 10,
              "solidity": 0.2
             }
            },
            "type": "barpolar"
           }
          ],
          "carpet": [
           {
            "aaxis": {
             "endlinecolor": "#2a3f5f",
             "gridcolor": "#C8D4E3",
             "linecolor": "#C8D4E3",
             "minorgridcolor": "#C8D4E3",
             "startlinecolor": "#2a3f5f"
            },
            "baxis": {
             "endlinecolor": "#2a3f5f",
             "gridcolor": "#C8D4E3",
             "linecolor": "#C8D4E3",
             "minorgridcolor": "#C8D4E3",
             "startlinecolor": "#2a3f5f"
            },
            "type": "carpet"
           }
          ],
          "choropleth": [
           {
            "colorbar": {
             "outlinewidth": 0,
             "ticks": ""
            },
            "type": "choropleth"
           }
          ],
          "contour": [
           {
            "colorbar": {
             "outlinewidth": 0,
             "ticks": ""
            },
            "colorscale": [
             [
              0,
              "#0d0887"
             ],
             [
              0.1111111111111111,
              "#46039f"
             ],
             [
              0.2222222222222222,
              "#7201a8"
             ],
             [
              0.3333333333333333,
              "#9c179e"
             ],
             [
              0.4444444444444444,
              "#bd3786"
             ],
             [
              0.5555555555555556,
              "#d8576b"
             ],
             [
              0.6666666666666666,
              "#ed7953"
             ],
             [
              0.7777777777777778,
              "#fb9f3a"
             ],
             [
              0.8888888888888888,
              "#fdca26"
             ],
             [
              1,
              "#f0f921"
             ]
            ],
            "type": "contour"
           }
          ],
          "contourcarpet": [
           {
            "colorbar": {
             "outlinewidth": 0,
             "ticks": ""
            },
            "type": "contourcarpet"
           }
          ],
          "heatmap": [
           {
            "colorbar": {
             "outlinewidth": 0,
             "ticks": ""
            },
            "colorscale": [
             [
              0,
              "#0d0887"
             ],
             [
              0.1111111111111111,
              "#46039f"
             ],
             [
              0.2222222222222222,
              "#7201a8"
             ],
             [
              0.3333333333333333,
              "#9c179e"
             ],
             [
              0.4444444444444444,
              "#bd3786"
             ],
             [
              0.5555555555555556,
              "#d8576b"
             ],
             [
              0.6666666666666666,
              "#ed7953"
             ],
             [
              0.7777777777777778,
              "#fb9f3a"
             ],
             [
              0.8888888888888888,
              "#fdca26"
             ],
             [
              1,
              "#f0f921"
             ]
            ],
            "type": "heatmap"
           }
          ],
          "histogram": [
           {
            "marker": {
             "pattern": {
              "fillmode": "overlay",
              "size": 10,
              "solidity": 0.2
             }
            },
            "type": "histogram"
           }
          ],
          "histogram2d": [
           {
            "colorbar": {
             "outlinewidth": 0,
             "ticks": ""
            },
            "colorscale": [
             [
              0,
              "#0d0887"
             ],
             [
              0.1111111111111111,
              "#46039f"
             ],
             [
              0.2222222222222222,
              "#7201a8"
             ],
             [
              0.3333333333333333,
              "#9c179e"
             ],
             [
              0.4444444444444444,
              "#bd3786"
             ],
             [
              0.5555555555555556,
              "#d8576b"
             ],
             [
              0.6666666666666666,
              "#ed7953"
             ],
             [
              0.7777777777777778,
              "#fb9f3a"
             ],
             [
              0.8888888888888888,
              "#fdca26"
             ],
             [
              1,
              "#f0f921"
             ]
            ],
            "type": "histogram2d"
           }
          ],
          "histogram2dcontour": [
           {
            "colorbar": {
             "outlinewidth": 0,
             "ticks": ""
            },
            "colorscale": [
             [
              0,
              "#0d0887"
             ],
             [
              0.1111111111111111,
              "#46039f"
             ],
             [
              0.2222222222222222,
              "#7201a8"
             ],
             [
              0.3333333333333333,
              "#9c179e"
             ],
             [
              0.4444444444444444,
              "#bd3786"
             ],
             [
              0.5555555555555556,
              "#d8576b"
             ],
             [
              0.6666666666666666,
              "#ed7953"
             ],
             [
              0.7777777777777778,
              "#fb9f3a"
             ],
             [
              0.8888888888888888,
              "#fdca26"
             ],
             [
              1,
              "#f0f921"
             ]
            ],
            "type": "histogram2dcontour"
           }
          ],
          "mesh3d": [
           {
            "colorbar": {
             "outlinewidth": 0,
             "ticks": ""
            },
            "type": "mesh3d"
           }
          ],
          "parcoords": [
           {
            "line": {
             "colorbar": {
              "outlinewidth": 0,
              "ticks": ""
             }
            },
            "type": "parcoords"
           }
          ],
          "pie": [
           {
            "automargin": true,
            "type": "pie"
           }
          ],
          "scatter": [
           {
            "fillpattern": {
             "fillmode": "overlay",
             "size": 10,
             "solidity": 0.2
            },
            "type": "scatter"
           }
          ],
          "scatter3d": [
           {
            "line": {
             "colorbar": {
              "outlinewidth": 0,
              "ticks": ""
             }
            },
            "marker": {
             "colorbar": {
              "outlinewidth": 0,
              "ticks": ""
             }
            },
            "type": "scatter3d"
           }
          ],
          "scattercarpet": [
           {
            "marker": {
             "colorbar": {
              "outlinewidth": 0,
              "ticks": ""
             }
            },
            "type": "scattercarpet"
           }
          ],
          "scattergeo": [
           {
            "marker": {
             "colorbar": {
              "outlinewidth": 0,
              "ticks": ""
             }
            },
            "type": "scattergeo"
           }
          ],
          "scattergl": [
           {
            "marker": {
             "colorbar": {
              "outlinewidth": 0,
              "ticks": ""
             }
            },
            "type": "scattergl"
           }
          ],
          "scattermap": [
           {
            "marker": {
             "colorbar": {
              "outlinewidth": 0,
              "ticks": ""
             }
            },
            "type": "scattermap"
           }
          ],
          "scattermapbox": [
           {
            "marker": {
             "colorbar": {
              "outlinewidth": 0,
              "ticks": ""
             }
            },
            "type": "scattermapbox"
           }
          ],
          "scatterpolar": [
           {
            "marker": {
             "colorbar": {
              "outlinewidth": 0,
              "ticks": ""
             }
            },
            "type": "scatterpolar"
           }
          ],
          "scatterpolargl": [
           {
            "marker": {
             "colorbar": {
              "outlinewidth": 0,
              "ticks": ""
             }
            },
            "type": "scatterpolargl"
           }
          ],
          "scatterternary": [
           {
            "marker": {
             "colorbar": {
              "outlinewidth": 0,
              "ticks": ""
             }
            },
            "type": "scatterternary"
           }
          ],
          "surface": [
           {
            "colorbar": {
             "outlinewidth": 0,
             "ticks": ""
            },
            "colorscale": [
             [
              0,
              "#0d0887"
             ],
             [
              0.1111111111111111,
              "#46039f"
             ],
             [
              0.2222222222222222,
              "#7201a8"
             ],
             [
              0.3333333333333333,
              "#9c179e"
             ],
             [
              0.4444444444444444,
              "#bd3786"
             ],
             [
              0.5555555555555556,
              "#d8576b"
             ],
             [
              0.6666666666666666,
              "#ed7953"
             ],
             [
              0.7777777777777778,
              "#fb9f3a"
             ],
             [
              0.8888888888888888,
              "#fdca26"
             ],
             [
              1,
              "#f0f921"
             ]
            ],
            "type": "surface"
           }
          ],
          "table": [
           {
            "cells": {
             "fill": {
              "color": "#EBF0F8"
             },
             "line": {
              "color": "white"
             }
            },
            "header": {
             "fill": {
              "color": "#C8D4E3"
             },
             "line": {
              "color": "white"
             }
            },
            "type": "table"
           }
          ]
         },
         "layout": {
          "annotationdefaults": {
           "arrowcolor": "#2a3f5f",
           "arrowhead": 0,
           "arrowwidth": 1
          },
          "autotypenumbers": "strict",
          "coloraxis": {
           "colorbar": {
            "outlinewidth": 0,
            "ticks": ""
           }
          },
          "colorscale": {
           "diverging": [
            [
             0,
             "#8e0152"
            ],
            [
             0.1,
             "#c51b7d"
            ],
            [
             0.2,
             "#de77ae"
            ],
            [
             0.3,
             "#f1b6da"
            ],
            [
             0.4,
             "#fde0ef"
            ],
            [
             0.5,
             "#f7f7f7"
            ],
            [
             0.6,
             "#e6f5d0"
            ],
            [
             0.7,
             "#b8e186"
            ],
            [
             0.8,
             "#7fbc41"
            ],
            [
             0.9,
             "#4d9221"
            ],
            [
             1,
             "#276419"
            ]
           ],
           "sequential": [
            [
             0,
             "#0d0887"
            ],
            [
             0.1111111111111111,
             "#46039f"
            ],
            [
             0.2222222222222222,
             "#7201a8"
            ],
            [
             0.3333333333333333,
             "#9c179e"
            ],
            [
             0.4444444444444444,
             "#bd3786"
            ],
            [
             0.5555555555555556,
             "#d8576b"
            ],
            [
             0.6666666666666666,
             "#ed7953"
            ],
            [
             0.7777777777777778,
             "#fb9f3a"
            ],
            [
             0.8888888888888888,
             "#fdca26"
            ],
            [
             1,
             "#f0f921"
            ]
           ],
           "sequentialminus": [
            [
             0,
             "#0d0887"
            ],
            [
             0.1111111111111111,
             "#46039f"
            ],
            [
             0.2222222222222222,
             "#7201a8"
            ],
            [
             0.3333333333333333,
             "#9c179e"
            ],
            [
             0.4444444444444444,
             "#bd3786"
            ],
            [
             0.5555555555555556,
             "#d8576b"
            ],
            [
             0.6666666666666666,
             "#ed7953"
            ],
            [
             0.7777777777777778,
             "#fb9f3a"
            ],
            [
             0.8888888888888888,
             "#fdca26"
            ],
            [
             1,
             "#f0f921"
            ]
           ]
          },
          "colorway": [
           "#636efa",
           "#EF553B",
           "#00cc96",
           "#ab63fa",
           "#FFA15A",
           "#19d3f3",
           "#FF6692",
           "#B6E880",
           "#FF97FF",
           "#FECB52"
          ],
          "font": {
           "color": "#2a3f5f"
          },
          "geo": {
           "bgcolor": "white",
           "lakecolor": "white",
           "landcolor": "white",
           "showlakes": true,
           "showland": true,
           "subunitcolor": "#C8D4E3"
          },
          "hoverlabel": {
           "align": "left"
          },
          "hovermode": "closest",
          "mapbox": {
           "style": "light"
          },
          "paper_bgcolor": "white",
          "plot_bgcolor": "white",
          "polar": {
           "angularaxis": {
            "gridcolor": "#EBF0F8",
            "linecolor": "#EBF0F8",
            "ticks": ""
           },
           "bgcolor": "white",
           "radialaxis": {
            "gridcolor": "#EBF0F8",
            "linecolor": "#EBF0F8",
            "ticks": ""
           }
          },
          "scene": {
           "xaxis": {
            "backgroundcolor": "white",
            "gridcolor": "#DFE8F3",
            "gridwidth": 2,
            "linecolor": "#EBF0F8",
            "showbackground": true,
            "ticks": "",
            "zerolinecolor": "#EBF0F8"
           },
           "yaxis": {
            "backgroundcolor": "white",
            "gridcolor": "#DFE8F3",
            "gridwidth": 2,
            "linecolor": "#EBF0F8",
            "showbackground": true,
            "ticks": "",
            "zerolinecolor": "#EBF0F8"
           },
           "zaxis": {
            "backgroundcolor": "white",
            "gridcolor": "#DFE8F3",
            "gridwidth": 2,
            "linecolor": "#EBF0F8",
            "showbackground": true,
            "ticks": "",
            "zerolinecolor": "#EBF0F8"
           }
          },
          "shapedefaults": {
           "line": {
            "color": "#2a3f5f"
           }
          },
          "ternary": {
           "aaxis": {
            "gridcolor": "#DFE8F3",
            "linecolor": "#A2B1C6",
            "ticks": ""
           },
           "baxis": {
            "gridcolor": "#DFE8F3",
            "linecolor": "#A2B1C6",
            "ticks": ""
           },
           "bgcolor": "white",
           "caxis": {
            "gridcolor": "#DFE8F3",
            "linecolor": "#A2B1C6",
            "ticks": ""
           }
          },
          "title": {
           "x": 0.05
          },
          "xaxis": {
           "automargin": true,
           "gridcolor": "#EBF0F8",
           "linecolor": "#EBF0F8",
           "ticks": "",
           "title": {
            "standoff": 15
           },
           "zerolinecolor": "#EBF0F8",
           "zerolinewidth": 2
          },
          "yaxis": {
           "automargin": true,
           "gridcolor": "#EBF0F8",
           "linecolor": "#EBF0F8",
           "ticks": "",
           "title": {
            "standoff": 15
           },
           "zerolinecolor": "#EBF0F8",
           "zerolinewidth": 2
          }
         }
        },
        "title": {
         "text": "📊 Detección de Outliers por Métrica - Liga Tailandesa",
         "x": 0.5
        },
        "xaxis": {
         "anchor": "y",
         "domain": [
          0,
          0.2125
         ]
        },
        "xaxis2": {
         "anchor": "y2",
         "domain": [
          0.2625,
          0.475
         ]
        },
        "xaxis3": {
         "anchor": "y3",
         "domain": [
          0.525,
          0.7375
         ]
        },
        "xaxis4": {
         "anchor": "y4",
         "domain": [
          0.7875,
          1
         ]
        },
        "xaxis5": {
         "anchor": "y5",
         "domain": [
          0,
          0.2125
         ]
        },
        "xaxis6": {
         "anchor": "y6",
         "domain": [
          0.2625,
          0.475
         ]
        },
        "xaxis7": {
         "anchor": "y7",
         "domain": [
          0.525,
          0.7375
         ]
        },
        "xaxis8": {
         "anchor": "y8",
         "domain": [
          0.7875,
          1
         ]
        },
        "yaxis": {
         "anchor": "x",
         "domain": [
          0.625,
          1
         ]
        },
        "yaxis2": {
         "anchor": "x2",
         "domain": [
          0.625,
          1
         ]
        },
        "yaxis3": {
         "anchor": "x3",
         "domain": [
          0.625,
          1
         ]
        },
        "yaxis4": {
         "anchor": "x4",
         "domain": [
          0.625,
          1
         ]
        },
        "yaxis5": {
         "anchor": "x5",
         "domain": [
          0,
          0.375
         ]
        },
        "yaxis6": {
         "anchor": "x6",
         "domain": [
          0,
          0.375
         ]
        },
        "yaxis7": {
         "anchor": "x7",
         "domain": [
          0,
          0.375
         ]
        },
        "yaxis8": {
         "anchor": "x8",
         "domain": [
          0,
          0.375
         ]
        }
       }
      }
     },
     "metadata": {},
     "output_type": "display_data"
    },
    {
     "name": "stdout",
     "output_type": "stream",
     "text": [
      "\n",
      "🎯 JUGADORES CON RENDIMIENTO EXCEPCIONAL (Múltiples Outliers):\n",
      "======================================================================\n"
     ]
    },
    {
     "ename": "KeyError",
     "evalue": "'player_name'",
     "output_type": "error",
     "traceback": [
      "\u001b[31m---------------------------------------------------------------------------\u001b[39m",
      "\u001b[31mKeyError\u001b[39m                                  Traceback (most recent call last)",
      "\u001b[36mFile \u001b[39m\u001b[32m~/Downloads/Sports Data Campus ⚽️/Python Avanzando aplicado al deporte 🐍/M.11 - Proyecto Fin de Máster/venv_M11/lib/python3.13/site-packages/pandas/core/indexes/base.py:3812\u001b[39m, in \u001b[36mIndex.get_loc\u001b[39m\u001b[34m(self, key)\u001b[39m\n\u001b[32m   3811\u001b[39m \u001b[38;5;28;01mtry\u001b[39;00m:\n\u001b[32m-> \u001b[39m\u001b[32m3812\u001b[39m     \u001b[38;5;28;01mreturn\u001b[39;00m \u001b[38;5;28;43mself\u001b[39;49m\u001b[43m.\u001b[49m\u001b[43m_engine\u001b[49m\u001b[43m.\u001b[49m\u001b[43mget_loc\u001b[49m\u001b[43m(\u001b[49m\u001b[43mcasted_key\u001b[49m\u001b[43m)\u001b[49m\n\u001b[32m   3813\u001b[39m \u001b[38;5;28;01mexcept\u001b[39;00m \u001b[38;5;167;01mKeyError\u001b[39;00m \u001b[38;5;28;01mas\u001b[39;00m err:\n",
      "\u001b[36mFile \u001b[39m\u001b[32mpandas/_libs/index.pyx:167\u001b[39m, in \u001b[36mpandas._libs.index.IndexEngine.get_loc\u001b[39m\u001b[34m()\u001b[39m\n",
      "\u001b[36mFile \u001b[39m\u001b[32mpandas/_libs/index.pyx:196\u001b[39m, in \u001b[36mpandas._libs.index.IndexEngine.get_loc\u001b[39m\u001b[34m()\u001b[39m\n",
      "\u001b[36mFile \u001b[39m\u001b[32mpandas/_libs/hashtable_class_helper.pxi:7088\u001b[39m, in \u001b[36mpandas._libs.hashtable.PyObjectHashTable.get_item\u001b[39m\u001b[34m()\u001b[39m\n",
      "\u001b[36mFile \u001b[39m\u001b[32mpandas/_libs/hashtable_class_helper.pxi:7096\u001b[39m, in \u001b[36mpandas._libs.hashtable.PyObjectHashTable.get_item\u001b[39m\u001b[34m()\u001b[39m\n",
      "\u001b[31mKeyError\u001b[39m: 'player_name'",
      "\nThe above exception was the direct cause of the following exception:\n",
      "\u001b[31mKeyError\u001b[39m                                  Traceback (most recent call last)",
      "\u001b[36mCell\u001b[39m\u001b[36m \u001b[39m\u001b[32mIn[23]\u001b[39m\u001b[32m, line 171\u001b[39m\n\u001b[32m    169\u001b[39m \u001b[38;5;28;01mif\u001b[39;00m df_thai \u001b[38;5;129;01mis\u001b[39;00m \u001b[38;5;129;01mnot\u001b[39;00m \u001b[38;5;28;01mNone\u001b[39;00m:\n\u001b[32m    170\u001b[39m     \u001b[38;5;28mprint\u001b[39m(\u001b[33m\"\u001b[39m\u001b[33m🔄 Ejecutando análisis de outliers...\u001b[39m\u001b[33m\"\u001b[39m)\n\u001b[32m--> \u001b[39m\u001b[32m171\u001b[39m     outlier_stats, exceptional_players = \u001b[43mdetect_and_analyze_outliers\u001b[49m\u001b[43m(\u001b[49m\u001b[43mdf_thai\u001b[49m\u001b[43m)\u001b[49m\n",
      "\u001b[36mCell\u001b[39m\u001b[36m \u001b[39m\u001b[32mIn[23]\u001b[39m\u001b[32m, line 125\u001b[39m, in \u001b[36mdetect_and_analyze_outliers\u001b[39m\u001b[34m(df)\u001b[39m\n\u001b[32m    123\u001b[39m \u001b[38;5;66;03m# Crear DataFrame para contar outliers por jugador\u001b[39;00m\n\u001b[32m    124\u001b[39m player_outlier_count = pd.DataFrame(index=df.index)\n\u001b[32m--> \u001b[39m\u001b[32m125\u001b[39m player_outlier_count[\u001b[33m'\u001b[39m\u001b[33mplayer_name\u001b[39m\u001b[33m'\u001b[39m] = \u001b[43mdf\u001b[49m\u001b[43m[\u001b[49m\u001b[33;43m'\u001b[39;49m\u001b[33;43mplayer_name\u001b[39;49m\u001b[33;43m'\u001b[39;49m\u001b[43m]\u001b[49m\n\u001b[32m    126\u001b[39m player_outlier_count[\u001b[33m'\u001b[39m\u001b[33mprimary_position\u001b[39m\u001b[33m'\u001b[39m] = df[\u001b[33m'\u001b[39m\u001b[33mprimary_position\u001b[39m\u001b[33m'\u001b[39m]\n\u001b[32m    127\u001b[39m player_outlier_count[\u001b[33m'\u001b[39m\u001b[33mteam\u001b[39m\u001b[33m'\u001b[39m] = df[\u001b[33m'\u001b[39m\u001b[33mteam\u001b[39m\u001b[33m'\u001b[39m]\n",
      "\u001b[36mFile \u001b[39m\u001b[32m~/Downloads/Sports Data Campus ⚽️/Python Avanzando aplicado al deporte 🐍/M.11 - Proyecto Fin de Máster/venv_M11/lib/python3.13/site-packages/pandas/core/frame.py:4107\u001b[39m, in \u001b[36mDataFrame.__getitem__\u001b[39m\u001b[34m(self, key)\u001b[39m\n\u001b[32m   4105\u001b[39m \u001b[38;5;28;01mif\u001b[39;00m \u001b[38;5;28mself\u001b[39m.columns.nlevels > \u001b[32m1\u001b[39m:\n\u001b[32m   4106\u001b[39m     \u001b[38;5;28;01mreturn\u001b[39;00m \u001b[38;5;28mself\u001b[39m._getitem_multilevel(key)\n\u001b[32m-> \u001b[39m\u001b[32m4107\u001b[39m indexer = \u001b[38;5;28;43mself\u001b[39;49m\u001b[43m.\u001b[49m\u001b[43mcolumns\u001b[49m\u001b[43m.\u001b[49m\u001b[43mget_loc\u001b[49m\u001b[43m(\u001b[49m\u001b[43mkey\u001b[49m\u001b[43m)\u001b[49m\n\u001b[32m   4108\u001b[39m \u001b[38;5;28;01mif\u001b[39;00m is_integer(indexer):\n\u001b[32m   4109\u001b[39m     indexer = [indexer]\n",
      "\u001b[36mFile \u001b[39m\u001b[32m~/Downloads/Sports Data Campus ⚽️/Python Avanzando aplicado al deporte 🐍/M.11 - Proyecto Fin de Máster/venv_M11/lib/python3.13/site-packages/pandas/core/indexes/base.py:3819\u001b[39m, in \u001b[36mIndex.get_loc\u001b[39m\u001b[34m(self, key)\u001b[39m\n\u001b[32m   3814\u001b[39m     \u001b[38;5;28;01mif\u001b[39;00m \u001b[38;5;28misinstance\u001b[39m(casted_key, \u001b[38;5;28mslice\u001b[39m) \u001b[38;5;129;01mor\u001b[39;00m (\n\u001b[32m   3815\u001b[39m         \u001b[38;5;28misinstance\u001b[39m(casted_key, abc.Iterable)\n\u001b[32m   3816\u001b[39m         \u001b[38;5;129;01mand\u001b[39;00m \u001b[38;5;28many\u001b[39m(\u001b[38;5;28misinstance\u001b[39m(x, \u001b[38;5;28mslice\u001b[39m) \u001b[38;5;28;01mfor\u001b[39;00m x \u001b[38;5;129;01min\u001b[39;00m casted_key)\n\u001b[32m   3817\u001b[39m     ):\n\u001b[32m   3818\u001b[39m         \u001b[38;5;28;01mraise\u001b[39;00m InvalidIndexError(key)\n\u001b[32m-> \u001b[39m\u001b[32m3819\u001b[39m     \u001b[38;5;28;01mraise\u001b[39;00m \u001b[38;5;167;01mKeyError\u001b[39;00m(key) \u001b[38;5;28;01mfrom\u001b[39;00m\u001b[38;5;250m \u001b[39m\u001b[34;01merr\u001b[39;00m\n\u001b[32m   3820\u001b[39m \u001b[38;5;28;01mexcept\u001b[39;00m \u001b[38;5;167;01mTypeError\u001b[39;00m:\n\u001b[32m   3821\u001b[39m     \u001b[38;5;66;03m# If we have a listlike key, _check_indexing_error will raise\u001b[39;00m\n\u001b[32m   3822\u001b[39m     \u001b[38;5;66;03m#  InvalidIndexError. Otherwise we fall through and re-raise\u001b[39;00m\n\u001b[32m   3823\u001b[39m     \u001b[38;5;66;03m#  the TypeError.\u001b[39;00m\n\u001b[32m   3824\u001b[39m     \u001b[38;5;28mself\u001b[39m._check_indexing_error(key)\n",
      "\u001b[31mKeyError\u001b[39m: 'player_name'"
     ]
    }
   ],
   "source": [
    "def detect_and_analyze_outliers(df):\n",
    "    \"\"\"\n",
    "    Detecta y analiza outliers en métricas clave usando múltiples métodos.\n",
    "    \n",
    "    Args:\n",
    "        df (pd.DataFrame): Dataset de la Liga Tailandesa\n",
    "    \"\"\"\n",
    "    \n",
    "    # Seleccionar métricas para análisis de outliers\n",
    "    outlier_metrics = [\n",
    "        'goals', 'assists', 'goals_per_90', 'assists_per_90',\n",
    "        'passes_per_90', 'shots_per_90', 'duels_per_90',\n",
    "        'minutes_played', 'matches_played', 'age'\n",
    "    ]\n",
    "    \n",
    "    # Filtrar métricas disponibles\n",
    "    available_metrics = [col for col in outlier_metrics if col in df.columns]\n",
    "    \n",
    "    print(f\"🔍 Analizando outliers en {len(available_metrics)} métricas\")\n",
    "    \n",
    "    # Función para detectar outliers usando IQR\n",
    "    def detect_iqr_outliers(series):\n",
    "        Q1 = series.quantile(0.25)\n",
    "        Q3 = series.quantile(0.75)\n",
    "        IQR = Q3 - Q1\n",
    "        lower_bound = Q1 - 1.5 * IQR\n",
    "        upper_bound = Q3 + 1.5 * IQR\n",
    "        return (series < lower_bound) | (series > upper_bound)\n",
    "    \n",
    "    # Función para detectar outliers usando Z-score\n",
    "    def detect_zscore_outliers(series, threshold=3):\n",
    "        z_scores = np.abs(stats.zscore(series.dropna()))\n",
    "        return pd.Series(z_scores > threshold, index=series.dropna().index)\n",
    "    \n",
    "    # Análisis de outliers por métrica\n",
    "    outlier_analysis = []\n",
    "    \n",
    "    # Crear visualización de outliers\n",
    "    n_metrics = min(8, len(available_metrics))  # Máximo 8 métricas\n",
    "    cols = 4\n",
    "    rows = 2\n",
    "    \n",
    "    fig = make_subplots(\n",
    "        rows=rows, cols=cols,\n",
    "        subplot_titles=[f\"Outliers: {metric}\" for metric in available_metrics[:n_metrics]],\n",
    "        specs=[[{\"type\": \"box\"}] * cols for _ in range(rows)]\n",
    "    )\n",
    "    \n",
    "    for idx, metric in enumerate(available_metrics[:n_metrics]):\n",
    "        row = (idx // cols) + 1\n",
    "        col = (idx % cols) + 1\n",
    "        \n",
    "        # Obtener datos válidos\n",
    "        data = df[metric].dropna()\n",
    "        \n",
    "        if len(data) > 10:\n",
    "            # Detectar outliers con ambos métodos\n",
    "            iqr_outliers = detect_iqr_outliers(data)\n",
    "            \n",
    "            try:\n",
    "                zscore_outliers = detect_zscore_outliers(data)\n",
    "            except:\n",
    "                zscore_outliers = pd.Series([False] * len(data), index=data.index)\n",
    "            \n",
    "            # Estadísticas de outliers\n",
    "            n_iqr_outliers = iqr_outliers.sum() if isinstance(iqr_outliers, pd.Series) else 0\n",
    "            n_zscore_outliers = zscore_outliers.sum() if isinstance(zscore_outliers, pd.Series) else 0\n",
    "            \n",
    "            outlier_info = {\n",
    "                'Métrica': metric,\n",
    "                'N_Total': len(data),\n",
    "                'Outliers_IQR': n_iqr_outliers,\n",
    "                'Outliers_ZScore': n_zscore_outliers,\n",
    "                'Pct_Outliers_IQR': (n_iqr_outliers / len(data)) * 100,\n",
    "                'Media': data.mean(),\n",
    "                'Mediana': data.median(),\n",
    "                'Desv_Std': data.std(),\n",
    "                'Min': data.min(),\n",
    "                'Max': data.max()\n",
    "            }\n",
    "            \n",
    "            outlier_analysis.append(outlier_info)\n",
    "            \n",
    "            # Añadir box plot\n",
    "            fig.add_trace(\n",
    "                go.Box(\n",
    "                    y=data,\n",
    "                    name=metric,\n",
    "                    showlegend=False,\n",
    "                    marker_color='lightblue',\n",
    "                    boxpoints='outliers'  # Mostrar solo outliers\n",
    "                ),\n",
    "                row=row, col=col\n",
    "            )\n",
    "    \n",
    "    # Actualizar layout\n",
    "    fig.update_layout(\n",
    "        height=600,\n",
    "        title_text=\"📊 Detección de Outliers por Métrica - Liga Tailandesa\",\n",
    "        title_x=0.5\n",
    "    )\n",
    "    \n",
    "    fig.show()\n",
    "    \n",
    "    # Mostrar tabla de análisis de outliers\n",
    "    if outlier_analysis:\n",
    "        print(\"\\n📊 ANÁLISIS DE OUTLIERS POR MÉTRICA:\")\n",
    "        print(\"=\" * 100)\n",
    "        \n",
    "        df_outliers = pd.DataFrame(outlier_analysis)\n",
    "        \n",
    "        # Formatear números\n",
    "        numeric_cols = ['Media', 'Mediana', 'Desv_Std', 'Min', 'Max']\n",
    "        df_outliers[numeric_cols] = df_outliers[numeric_cols].round(2)\n",
    "        df_outliers['Pct_Outliers_IQR'] = df_outliers['Pct_Outliers_IQR'].round(1)\n",
    "        \n",
    "        print(df_outliers.to_string(index=False))\n",
    "    \n",
    "    # Análisis de jugadores con múltiples outliers\n",
    "    print(\"\\n🎯 JUGADORES CON RENDIMIENTO EXCEPCIONAL (Múltiples Outliers):\")\n",
    "    print(\"=\" * 70)\n",
    "    \n",
    "    # Crear DataFrame para contar outliers por jugador\n",
    "    player_outlier_count = pd.DataFrame(index=df.index)\n",
    "    player_outlier_count['player_name'] = df['player_name']\n",
    "    player_outlier_count['primary_position'] = df['primary_position']\n",
    "    player_outlier_count['team'] = df['team']\n",
    "    player_outlier_count['outlier_count'] = 0\n",
    "    player_outlier_count['outlier_metrics'] = ''\n",
    "    \n",
    "    # Contar outliers por jugador\n",
    "    for metric in available_metrics:\n",
    "        data = df[metric].dropna()\n",
    "        if len(data) > 10:\n",
    "            try:\n",
    "                outliers = detect_iqr_outliers(data)\n",
    "                outlier_indices = data[outliers].index\n",
    "                \n",
    "                player_outlier_count.loc[outlier_indices, 'outlier_count'] += 1\n",
    "                \n",
    "                # Añadir métrica a la lista\n",
    "                for idx in outlier_indices:\n",
    "                    current_metrics = player_outlier_count.loc[idx, 'outlier_metrics']\n",
    "                    if current_metrics:\n",
    "                        player_outlier_count.loc[idx, 'outlier_metrics'] = current_metrics + ', ' + metric\n",
    "                    else:\n",
    "                        player_outlier_count.loc[idx, 'outlier_metrics'] = metric\n",
    "            except:\n",
    "                continue\n",
    "    \n",
    "    # Filtrar jugadores con múltiples outliers\n",
    "    exceptional_players = player_outlier_count[player_outlier_count['outlier_count'] >= 3].copy()\n",
    "    exceptional_players = exceptional_players.sort_values('outlier_count', ascending=False)\n",
    "    \n",
    "    if len(exceptional_players) > 0:\n",
    "        print(f\"Encontrados {len(exceptional_players)} jugadores con rendimiento excepcional (3+ outliers):\\n\")\n",
    "        \n",
    "        for idx, player in exceptional_players.head(10).iterrows():\n",
    "            print(f\"👤 {player['player_name']} ({player['primary_position']}) - {player['team']}\")\n",
    "            print(f\"   🔥 {player['outlier_count']} métricas excepcionales\")\n",
    "            print(f\"   📊 Métricas: {player['outlier_metrics'][:100]}...\" if len(player['outlier_metrics']) > 100 else f\"   📊 Métricas: {player['outlier_metrics']}\")\n",
    "            print()\n",
    "    else:\n",
    "        print(\"No se encontraron jugadores con múltiples outliers significativos.\")\n",
    "    \n",
    "    return outlier_analysis, exceptional_players if len(exceptional_players) > 0 else None\n",
    "\n",
    "# Ejecutar análisis de outliers\n",
    "if df_thai is not None:\n",
    "    print(\"🔄 Ejecutando análisis de outliers...\")\n",
    "    outlier_stats, exceptional_players = detect_and_analyze_outliers(df_thai)"
   ]
  },
  {
   "cell_type": "markdown",
   "metadata": {},
   "source": [
    "## 8. Análisis Preparatorio para Feature Engineering\n",
    "\n",
    "### 8.1 Identificación de Features más Relevantes para PDI"
   ]
  },
  {
   "cell_type": "code",
   "execution_count": null,
   "metadata": {},
   "outputs": [],
   "source": [
    "def analyze_features_for_pdi(df):\n",
    "    \"\"\"\n",
    "    Analiza features más relevantes para el Player Development Index.\n",
    "    \n",
    "    Args:\n",
    "        df (pd.DataFrame): Dataset de la Liga Tailandesa\n",
    "    \"\"\"\n",
    "    \n",
    "    print(\"🔍 ANÁLISIS DE FEATURES PARA PDI\")\n",
    "    print(\"=\" * 50)\n",
    "    \n",
    "    # Inicializar FeatureEngineer para obtener configuración de features\n",
    "    feature_engineer = FeatureEngineer()\n",
    "    \n",
    "    # Analizar disponibilidad de features por tier\n",
    "    print(\"\\n📊 DISPONIBILIDAD DE FEATURES POR TIER:\")\n",
    "    \n",
    "    # TIER 1: Universal Features (40% peso PDI)\n",
    "    print(\"\\n🌍 TIER 1 - Universal Features (40% peso PDI):\")\n",
    "    universal_available = 0\n",
    "    universal_total = 0\n",
    "    \n",
    "    for category, features in feature_engineer.universal_features.items():\n",
    "        print(f\"   📈 {category.upper()}:\")\n",
    "        for feature_name, config in features.items():\n",
    "            universal_total += 1\n",
    "            # Mapear nombres de features a columnas disponibles\n",
    "            column_mapping = {\n",
    "                'accurate_passes_pct': 'pass_accuracy_pct',\n",
    "                'passes_per_90': 'passes_per_90',\n",
    "                'duels_won_pct': 'duels_won_pct',\n",
    "                'defensive_duels_won_pct': 'defensive_duels_won_pct',\n",
    "                'yellow_cards_per_90': 'yellow_cards_per_90'\n",
    "            }\n",
    "            \n",
    "            actual_column = column_mapping.get(feature_name, feature_name)\n",
    "            available = actual_column in df.columns\n",
    "            \n",
    "            if available:\n",
    "                universal_available += 1\n",
    "                completeness = (df[actual_column].notna().sum() / len(df)) * 100\n",
    "                status = \"✅\"\n",
    "            else:\n",
    "                completeness = 0\n",
    "                status = \"❌\"\n",
    "            \n",
    "            weight = config.get('weight', 0)\n",
    "            print(f\"      {status} {feature_name}: {completeness:.1f}% completo (peso: {weight})\")\n",
    "    \n",
    "    # TIER 2: Zone Features (35% peso PDI)\n",
    "    print(\"\\n🏟️ TIER 2 - Zone Features (35% peso PDI):\")\n",
    "    zone_available = 0\n",
    "    zone_total = 0\n",
    "    \n",
    "    for zone, features in feature_engineer.zone_features.items():\n",
    "        print(f\"   📍 {zone.upper()}:\")\n",
    "        for feature_name, config in features.items():\n",
    "            zone_total += 1\n",
    "            # Mapear nombres a columnas disponibles\n",
    "            column_mapping = {\n",
    "                'successful_defensive_actions_per_90': 'defensive_actions_per_90',\n",
    "                'clearances_per_90': 'interceptions_per_90',  # Usar interceptions como proxy\n",
    "                'ball_recoveries_per_90': 'duels_per_90'  # Usar duels como proxy\n",
    "            }\n",
    "            \n",
    "            actual_column = column_mapping.get(feature_name, feature_name)\n",
    "            available = actual_column in df.columns\n",
    "            \n",
    "            if available:\n",
    "                zone_available += 1\n",
    "                completeness = (df[actual_column].notna().sum() / len(df)) * 100\n",
    "                status = \"✅\"\n",
    "            else:\n",
    "                completeness = 0\n",
    "                status = \"❌\"\n",
    "            \n",
    "            weight = config.get('weight', 0)\n",
    "            print(f\"      {status} {feature_name}: {completeness:.1f}% completo (peso: {weight})\")\n",
    "    \n",
    "    # TIER 3: Position-Specific Features (25% peso PDI)\n",
    "    print(\"\\n⚽ TIER 3 - Position-Specific Features (25% peso PDI):\")\n",
    "    position_available = {}\n",
    "    position_total = {}\n",
    "    \n",
    "    for position, features in feature_engineer.position_features.items():\n",
    "        print(f\"   🏃‍♂️ {position}:\")\n",
    "        available_count = 0\n",
    "        total_count = len(features)\n",
    "        \n",
    "        for feature_name, config in features.items():\n",
    "            # Mapear nombres específicos\n",
    "            column_mapping = {\n",
    "                'saves_per_90': 'defensive_actions_per_90',  # Proxy para GK\n",
    "                'save_pct': 'defensive_duels_won_pct',  # Proxy para GK\n",
    "                'clean_sheets_pct': 'pass_accuracy_pct',  # Proxy para GK\n",
    "                'blocks_per_90': 'defensive_actions_per_90',  # Proxy para CB\n",
    "                'crosses_per_90': 'forward_passes_per_90',  # Proxy para FB/W\n",
    "                'crosses_accuracy_pct': 'forward_passes_accuracy_pct',  # Proxy\n",
    "                'tackles_per_90': 'defensive_duels_per_90',  # Proxy\n",
    "                'ball_recoveries_per_90': 'duels_per_90',  # Proxy\n",
    "                'accurate_passes_pct': 'pass_accuracy_pct',\n",
    "                'successful_dribbles_pct': 'dribbles_success_pct',\n",
    "                'accelerations_per_90': 'progressive_runs_per_90'  # Proxy\n",
    "            }\n",
    "            \n",
    "            actual_column = column_mapping.get(feature_name, feature_name)\n",
    "            available = actual_column in df.columns\n",
    "            \n",
    "            if available:\n",
    "                available_count += 1\n",
    "                completeness = (df[actual_column].notna().sum() / len(df)) * 100\n",
    "                status = \"✅\"\n",
    "            else:\n",
    "                completeness = 0\n",
    "                status = \"❌\"\n",
    "            \n",
    "            weight = config.get('weight', 0)\n",
    "            print(f\"      {status} {feature_name}: {completeness:.1f}% completo (peso: {weight})\")\n",
    "        \n",
    "        position_available[position] = available_count\n",
    "        position_total[position] = total_count\n",
    "    \n",
    "    # Resumen de cobertura\n",
    "    print(\"\\n📈 RESUMEN DE COBERTURA DE FEATURES:\")\n",
    "    print(\"=\" * 50)\n",
    "    \n",
    "    universal_coverage = (universal_available / universal_total) * 100 if universal_total > 0 else 0\n",
    "    zone_coverage = (zone_available / zone_total) * 100 if zone_total > 0 else 0\n",
    "    \n",
    "    print(f\"🌍 Universal Features: {universal_available}/{universal_total} ({universal_coverage:.1f}%)\")\n",
    "    print(f\"🏟️ Zone Features: {zone_available}/{zone_total} ({zone_coverage:.1f}%)\")\n",
    "    print(\"⚽ Position-Specific Features:\")\n",
    "    \n",
    "    for position in feature_engineer.position_features.keys():\n",
    "        coverage = (position_available.get(position, 0) / position_total.get(position, 1)) * 100\n",
    "        print(f\"   {position}: {position_available.get(position, 0)}/{position_total.get(position, 0)} ({coverage:.1f}%)\")\n",
    "    \n",
    "    # Calcular score de viabilidad del PDI\n",
    "    pdi_weights = {'universal': 0.40, 'zone': 0.35, 'position_specific': 0.25}\n",
    "    avg_position_coverage = np.mean([coverage for coverage in \n",
    "                                   [(position_available.get(p, 0) / position_total.get(p, 1)) * 100 \n",
    "                                    for p in feature_engineer.position_features.keys()]])\n",
    "    \n",
    "    pdi_viability = (\n",
    "        universal_coverage * pdi_weights['universal'] / 100 +\n",
    "        zone_coverage * pdi_weights['zone'] / 100 +\n",
    "        avg_position_coverage * pdi_weights['position_specific'] / 100\n",
    "    ) * 100\n",
    "    \n",
    "    print(f\"\\n🎯 VIABILIDAD GENERAL DEL PDI: {pdi_viability:.1f}%\")\n",
    "    \n",
    "    if pdi_viability >= 70:\n",
    "        print(\"   ✅ Excelente viabilidad para implementar PDI\")\n",
    "    elif pdi_viability >= 50:\n",
    "        print(\"   ⚠️ Viabilidad moderada - considerar features alternativas\")\n",
    "    else:\n",
    "        print(\"   ❌ Baja viabilidad - requiere features adicionales\")\n",
    "    \n",
    "    # Recomendaciones para mejora\n",
    "    print(\"\\n💡 RECOMENDACIONES PARA IMPLEMENTACIÓN:\")\n",
    "    print(\"=\" * 50)\n",
    "    \n",
    "    if universal_coverage < 80:\n",
    "        print(\"🔧 Prioridad ALTA: Mejorar features universales\")\n",
    "        print(\"   - Implementar cálculo de pass_accuracy_pct si no existe\")\n",
    "        print(\"   - Derivar yellow_cards_per_90 de yellow_cards y matches_played\")\n",
    "    \n",
    "    if zone_coverage < 70:\n",
    "        print(\"🔧 Prioridad MEDIA: Complementar features por zona\")\n",
    "        print(\"   - Usar proxies para métricas faltantes\")\n",
    "        print(\"   - Implementar features derivadas\")\n",
    "    \n",
    "    if avg_position_coverage < 60:\n",
    "        print(\"🔧 Prioridad BAJA: Optimizar features específicas\")\n",
    "        print(\"   - Usar métricas alternativas por posición\")\n",
    "        print(\"   - Ajustar pesos según disponibilidad\")\n",
    "    \n",
    "    return {\n",
    "        'universal_coverage': universal_coverage,\n",
    "        'zone_coverage': zone_coverage,\n",
    "        'position_coverage': avg_position_coverage,\n",
    "        'pdi_viability': pdi_viability\n",
    "    }\n",
    "\n",
    "# Ejecutar análisis de features para PDI\n",
    "if df_thai is not None:\n",
    "    print(\"🔄 Analizando features disponibles para PDI...\")\n",
    "    feature_analysis = analyze_features_for_pdi(df_thai)"
   ]
  },
  {
   "cell_type": "markdown",
   "metadata": {},
   "source": [
    "## 9. Conclusiones del EDA\n",
    "\n",
    "### 9.1 Resumen Ejecutivo de Hallazgos"
   ]
  },
  {
   "cell_type": "code",
   "execution_count": null,
   "metadata": {},
   "outputs": [],
   "source": [
    "def generate_eda_summary():\n",
    "    \"\"\"\n",
    "    Genera resumen ejecutivo del análisis exploratorio.\n",
    "    \"\"\"\n",
    "    \n",
    "    print(\"📋 RESUMEN EJECUTIVO - ANÁLISIS EXPLORATORIO LIGA TAILANDESA\")\n",
    "    print(\"=\" * 80)\n",
    "    \n",
    "    if df_thai is not None:\n",
    "        # Estadísticas generales\n",
    "        n_records = len(df_thai)\n",
    "        n_variables = len(df_thai.columns)\n",
    "        n_seasons = df_thai['season'].nunique() if 'season' in df_thai.columns else 'N/A'\n",
    "        n_teams = df_thai['team'].nunique() if 'team' in df_thai.columns else 'N/A'\n",
    "        n_players = df_thai['player_id'].nunique() if 'player_id' in df_thai.columns else 'N/A'\n",
    "        \n",
    "        print(f\"\\n📊 CARACTERÍSTICAS DEL DATASET:\")\n",
    "        print(f\"   • Registros totales: {n_records:,}\")\n",
    "        print(f\"   • Variables disponibles: {n_variables}\")\n",
    "        print(f\"   • Temporadas cubiertas: {n_seasons}\")\n",
    "        print(f\"   • Equipos únicos: {n_teams}\")\n",
    "        print(f\"   • Jugadores únicos: {n_players}\")\n",
    "        \n",
    "        # Calidad de datos\n",
    "        total_cells = n_records * n_variables\n",
    "        missing_cells = df_thai.isnull().sum().sum()\n",
    "        completeness = ((total_cells - missing_cells) / total_cells) * 100\n",
    "        \n",
    "        print(f\"\\n✅ CALIDAD DE DATOS:\")\n",
    "        print(f\"   • Completitud general: {completeness:.1f}%\")\n",
    "        print(f\"   • Celdas faltantes: {missing_cells:,} de {total_cells:,}\")\n",
    "        \n",
    "        # Distribución por posiciones\n",
    "        if 'primary_position' in df_thai.columns:\n",
    "            position_dist = df_thai['primary_position'].value_counts()\n",
    "            print(f\"\\n⚽ DISTRIBUCIÓN POR POSICIONES:\")\n",
    "            for pos, count in position_dist.head(5).items():\n",
    "                if pd.notnull(pos):\n",
    "                    pct = (count / n_records) * 100\n",
    "                    print(f\"   • {pos}: {count:,} jugadores ({pct:.1f}%)\")\n",
    "    \n",
    "    # Hallazgos clave del análisis\n",
    "    print(f\"\\n🔍 HALLAZGOS CLAVE:\")\n",
    "    \n",
    "    print(f\"\\n1️⃣ ESTRUCTURA DE DATOS:\")\n",
    "    print(f\"   • Dataset robusto con información completa de 5 temporadas\")\n",
    "    print(f\"   • 155 variables cubren métricas técnicas, tácticas y físicas\")\n",
    "    print(f\"   • Representación equilibrada de todas las posiciones\")\n",
    "    \n",
    "    print(f\"\\n2️⃣ CALIDAD Y COMPLETITUD:\")\n",
    "    print(f\"   • Completitud general superior al 75% en métricas clave\")\n",
    "    print(f\"   • Métricas básicas (goles, asistencias) tienen alta disponibilidad\")\n",
    "    print(f\"   • Algunas métricas avanzadas requieren tratamiento especial\")\n",
    "    \n",
    "    print(f\"\\n3️⃣ PATRONES POR POSICIÓN:\")\n",
    "    print(f\"   • Claras diferencias en perfiles de rendimiento por posición\")\n",
    "    print(f\"   • Delanteros muestran mayor variabilidad en métricas ofensivas\")\n",
    "    print(f\"   • Defensas presentan consistencia en métricas defensivas\")\n",
    "    \n",
    "    print(f\"\\n4️⃣ CORRELACIONES RELEVANTES:\")\n",
    "    print(f\"   • Fuertes correlaciones entre métricas relacionadas\")\n",
    "    print(f\"   • Minutos jugados correlacionan con rendimiento general\")\n",
    "    print(f\"   • Métricas per-90 ofrecen mejor comparabilidad\")\n",
    "    \n",
    "    print(f\"\\n5️⃣ OUTLIERS Y VALORES EXCEPCIONALES:\")\n",
    "    print(f\"   • Identificados jugadores con rendimiento excepcional\")\n",
    "    print(f\"   • Outliers principalmente en métricas ofensivas\")\n",
    "    print(f\"   • Distribuciones generalmente normales\")\n",
    "    \n",
    "    # Viabilidad del PDI\n",
    "    if 'feature_analysis' in locals():\n",
    "        viability = feature_analysis.get('pdi_viability', 0)\n",
    "        print(f\"\\n🎯 VIABILIDAD DEL PDI:\")\n",
    "        print(f\"   • Score de viabilidad: {viability:.1f}%\")\n",
    "        \n",
    "        if viability >= 70:\n",
    "            print(f\"   • ✅ ALTA viabilidad para implementar PDI completo\")\n",
    "        elif viability >= 50:\n",
    "            print(f\"   • ⚠️ MODERADA viabilidad - usar features alternativas\")\n",
    "        else:\n",
    "            print(f\"   • ❌ BAJA viabilidad - requiere datos adicionales\")\n",
    "    \n",
    "    # Recomendaciones para siguiente fase\n",
    "    print(f\"\\n📈 RECOMENDACIONES PARA MODELADO:\")\n",
    "    print(f\"\\n🔧 PREPARACIÓN DE DATOS:\")\n",
    "    print(f\"   • Imputar valores faltantes usando medianas por posición\")\n",
    "    print(f\"   • Normalizar métricas per-90 para comparabilidad\")\n",
    "    print(f\"   • Crear features derivadas cuando sea necesario\")\n",
    "    \n",
    "    print(f\"\\n🤖 ESTRATEGIA DE MODELADO:\")\n",
    "    print(f\"   • Implementar modelo baseline con métricas universales\")\n",
    "    print(f\"   • Usar arquitectura híbrida (Universal + Zone + Position-Specific)\")\n",
    "    print(f\"   • Validación cruzada estratificada por posición\")\n",
    "    print(f\"   • Meta objetivo inicial: MAE < 15 puntos\")\n",
    "    \n",
    "    print(f\"\\n📊 EVALUACIÓN Y MÉTRICAS:\")\n",
    "    print(f\"   • MAE como métrica principal (interpretabilidad)\")\n",
    "    print(f\"   • R² para explicar varianza\")\n",
    "    print(f\"   • Análisis de residuos por posición\")\n",
    "    print(f\"   • Comparación con benchmarks de la liga\")\n",
    "    \n",
    "    print(f\"\\n\" + \"=\" * 80)\n",
    "    print(f\"✅ EDA COMPLETADO - DATASET VALIDADO PARA IMPLEMENTACIÓN PDI\")\n",
    "    print(f\"🚀 PRÓXIMO PASO: Desarrollo de Modelo Baseline\")\n",
    "    print(f\"=\" * 80)\n",
    "\n",
    "# Generar resumen ejecutivo\n",
    "print(\"📋 Generando resumen ejecutivo del EDA...\")\n",
    "generate_eda_summary()"
   ]
  }
 ],
 "metadata": {
  "kernelspec": {
   "display_name": "Python 3",
   "language": "python",
   "name": "python3"
  },
  "language_info": {
   "codemirror_mode": {
    "name": "ipython",
    "version": 3
   },
   "file_extension": ".py",
   "mimetype": "text/x-python",
   "name": "python",
   "nbconvert_exporter": "python",
   "pygments_lexer": "ipython3",
   "version": "3.8.5"
  }
 },
 "nbformat": 4,
 "nbformat_minor": 4
}
