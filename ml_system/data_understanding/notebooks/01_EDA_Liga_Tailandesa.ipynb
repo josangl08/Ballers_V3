{
 "cells": [
  {
   "cell_type": "markdown",
   "metadata": {},
   "source": [
    "# Análisis Exploratorio de Datos (EDA) - Liga Tailandesa\n",
    "\n",
    "**Proyecto:** Player Development Index (PDI) para Liga Tailandesa  \n",
    "**Metodología:** CRISP-DM  \n",
    "**Objetivo Académico:** Análisis exploratorio riguroso de 2,359 registros de 5 temporadas  \n",
    "**Fecha:** Agosto 2025  \n",
    "\n",
    "---\n",
    "\n",
    "## 1. Introducción y Objetivos\n",
    "\n",
    "### 1.1 Contexto del Proyecto\n",
    "Este análisis forma parte del proyecto de fin de máster en Python aplicado al deporte. Utilizamos datos reales de la Liga Tailandesa para desarrollar un sistema de evaluación de jugadores basado en machine learning.\n",
    "\n",
    "### 1.2 Objetivos del EDA\n",
    "1. **Comprensión de datos**: Estructura, dimensiones y calidad del dataset\n",
    "2. **Análisis por posición**: Distribuciones y patrones específicos por rol\n",
    "3. **Identificación de features**: Variables relevantes para el PDI\n",
    "4. **Detección de anomalías**: Outliers y valores faltantes\n",
    "5. **Preparación para modelado**: Insights para feature engineering\n",
    "\n",
    "### 1.3 Estructura de Datos\n",
    "- **Registros**: 2,359 observaciones de jugadores profesionales\n",
    "- **Variables**: 155 columnas con métricas técnicas, tácticas y físicas\n",
    "- **Posiciones**: 8 roles principales (GK, CB, FB, DMF, CMF, AMF, W, CF)\n",
    "- **Temporadas**: 5 temporadas de la Liga Tailandesa"
   ]
  },
  {
   "cell_type": "markdown",
   "metadata": {},
   "source": [
    "## 2. Importación de Librerías y Configuración"
   ]
  },
  {
   "cell_type": "code",
   "execution_count": 1,
   "metadata": {},
   "outputs": [
    {
     "name": "stdout",
     "output_type": "stream",
     "text": [
      "\u001b[32m[22:46:36] [INFO    ]\u001b[0m logging_config.setup_logging:212 - logging_system_initialized\n"
     ]
    }
   ],
   "source": [
    "import pandas as pd\n",
    "from scipy import stats\n",
    "import numpy as np\n",
    "import sys\n",
    "import warnings\n",
    "import plotly.io as pio\n",
    "from pathlib import Path\n",
    "from plotly.subplots import make_subplots\n",
    "import plotly.graph_objects as go\n",
    "import plotly.express as px\n",
    "\n",
    "# Módulos del sistema ML (migrado desde controllers/ml)\n",
    "# Añadir dinámicamente la raíz que contiene el paquete 'ml_system' (subiendo desde el directorio del notebook)\n",
    "repo_root = Path.cwd().resolve()\n",
    "for base in [repo_root, *repo_root.parents]:\n",
    "    if (base / 'ml_system').is_dir():\n",
    "        sys.path.insert(0, str(base))\n",
    "        break\n",
    "\n",
    "# Rutas de datos del proyecto\n",
    "from config import DATA_DIR\n",
    "\n",
    "from ml_system.evaluation.analysis.advanced_features import LegacyFeatureWeights as FeatureEngineer\n",
    "from ml_system.evaluation.metrics.pdi_calculator import PDICalculator\n",
    "\n",
    "# Configuraciones\n",
    "warnings.filterwarnings('ignore')\n",
    "pd.set_option('display.max_columns', None)\n",
    "pd.set_option('display.width', None)\n",
    "pio.templates.default = \"plotly_white\""
   ]
  },
  {
   "cell_type": "markdown",
   "metadata": {},
   "source": [
    "## 3. Carga y Descripción Inicial de Datos"
   ]
  },
  {
   "cell_type": "code",
   "execution_count": 2,
   "metadata": {},
   "outputs": [
    {
     "name": "stdout",
     "output_type": "stream",
     "text": [
      "🔄 Cargando datos de la Liga Tailandesa desde CSV...\n",
      "📁 Cargando 5 archivos CSV...\n",
      "   ✅ 2020-21: 465 registros\n",
      "   ✅ 2021-22: 458 registros\n",
      "   ✅ 2022-23: 473 registros\n",
      "   ✅ 2023-24: 470 registros\n",
      "   ✅ 2024-25: 493 registros\n",
      "✅ Datos cargados exitosamente: 2,359 registros de 5 temporadas\n",
      "\n",
      "📊 Dimensiones del dataset: (2359, 149)\n",
      "📅 Temporadas disponibles: ['2020-21', '2021-22', '2022-23', '2023-24', '2024-25']\n",
      "🏟️ Equipos únicos: 181\n",
      "👤 Jugadores únicos: 1081\n"
     ]
    }
   ],
   "source": [
    "def load_thai_league_csv_data():\n",
    "    \"\"\"\n",
    "    Carga datos de la Liga Tailandesa desde archivos CSV.\n",
    "    \n",
    "    Returns:\n",
    "        pd.DataFrame: Dataset completo de estadísticas profesionales\n",
    "    \"\"\"\n",
    "    try:\n",
    "        # Intentar resolver desde la raíz del repo (subiendo desde el notebook)\n",
    "        repo_root = Path.cwd().resolve()\n",
    "        csv_dir = None\n",
    "        for base in [repo_root, *repo_root.parents]:\n",
    "            candidate = base / 'data' / 'thai_league_cache'\n",
    "            if candidate.is_dir():\n",
    "                csv_dir = candidate\n",
    "                break\n",
    "        if csv_dir is None:\n",
    "            # Fallback: usar DATA_DIR del proyecto si está disponible\n",
    "            csv_dir = Path(DATA_DIR) / 'thai_league_cache'\n",
    "        if not csv_dir.exists():\n",
    "            print(f\"❌ Directorio no encontrado: {csv_dir}\")\n",
    "            return None\n",
    "        \n",
    "        csv_files = list(csv_dir.glob('thai_league_*.csv'))\n",
    "        if not csv_files:\n",
    "            print(f\"❌ No se encontraron archivos CSV en: {csv_dir}\")\n",
    "            return None\n",
    "        \n",
    "        print(f\"📁 Cargando {len(csv_files)} archivos CSV...\")\n",
    "        \n",
    "        all_dataframes = []\n",
    "        for csv_file in sorted(csv_files):\n",
    "            try:\n",
    "                season = csv_file.stem.replace('thai_league_', '')\n",
    "                df = pd.read_csv(csv_file)\n",
    "                df['season'] = season\n",
    "                print(f\"   ✅ {season}: {len(df):,} registros\")\n",
    "                all_dataframes.append(df)\n",
    "            except Exception as e:\n",
    "                print(f\"   ❌ Error cargando {csv_file}: {e}\")\n",
    "                continue\n",
    "        \n",
    "        if not all_dataframes:\n",
    "            print(\"❌ No se pudo cargar ningún archivo CSV\")\n",
    "            return None\n",
    "        \n",
    "        # Combinar todos los DataFrames\n",
    "        combined_df = pd.concat(all_dataframes, ignore_index=True)\n",
    "        \n",
    "        # Mapear columnas CSV originales → nombres estándar usados en el EDA\n",
    "        column_mapping = {\n",
    "            'Matches played': 'matches_played',\n",
    "            'Minutes played': 'minutes_played',\n",
    "            'Age': 'age',\n",
    "            'Height': 'height',\n",
    "            'Weight': 'weight',\n",
    "            'Goals': 'goals',\n",
    "            'Assists': 'assists',\n",
    "            'Assists per 90': 'assists_per_90',\n",
    "            'Goals per 90': 'goals_per_90',\n",
    "            'Duels per 90': 'duels_per_90',\n",
    "            'Passes per 90': 'passes_per_90',\n",
    "            'Accurate passes,  %': 'pass_accuracy_pct',\n",
    "            'Duels won,  %': 'duels_won_pct',\n",
    "            'Shots per 90': 'shots_per_90',\n",
    "            'Shots on target,  %': 'shots_on_target_pct',\n",
    "            'Goal conversion,  %': 'goal_conversion_pct',\n",
    "            'Defensive duels won,  %': 'defensive_duels_won_pct',\n",
    "            'Aerial duels won,  %': 'aerial_duels_won_pct',\n",
    "            'Interceptions per 90': 'interceptions_per_90',\n",
    "            'Yellow cards': 'yellow_cards',\n",
    "            'Red cards': 'red_cards',\n",
    "            'Progressive passes per 90': 'progressive_passes_per_90',\n",
    "            'Key passes per 90': 'key_passes_per_90',\n",
    "            'Forward passes per 90': 'forward_passes_per_90',\n",
    "            'Accurate long passes,  %': 'long_passes_accuracy_pct',\n",
    "            'Crosses per 90': 'crosses_per_90',\n",
    "            'Successful dribbles,  %': 'dribbles_success_pct',\n",
    "            'Successful defensive actions per 90': 'defensive_actions_per_90',\n",
    "            'Offensive duels won,  %': 'offensive_duels_won_pct',\n",
    "            'Touches in box per 90': 'touches_in_box_per_90',\n",
    "            'Conceded goals per 90': 'goals_conceded_per_90',\n",
    "            'Saves per 90': 'saves_per_90',\n",
    "            'Save rate,  %': 'save_pct'\n",
    "        }\n",
    "        for csv_col, std_col in column_mapping.items():\n",
    "            if csv_col in combined_df.columns:\n",
    "                combined_df[std_col] = combined_df[csv_col]\n",
    "        print(f\"✅ Datos cargados exitosamente: {len(combined_df):,} registros de {len(combined_df['season'].unique())} temporadas\")\n",
    "        \n",
    "        return combined_df\n",
    "            \n",
    "    except Exception as e:\n",
    "        print(f\"❌ Error cargando datos CSV: {str(e)}\")\n",
    "        return None\n",
    "\n",
    "# Cargar datos desde CSV\n",
    "print(\"🔄 Cargando datos de la Liga Tailandesa desde CSV...\")\n",
    "df_thai = load_thai_league_csv_data()\n",
    "\n",
    "if df_thai is not None:\n",
    "    print(f\"\\n📊 Dimensiones del dataset: {df_thai.shape}\")\n",
    "    print(f\"📅 Temporadas disponibles: {sorted(df_thai['season'].unique())}\")\n",
    "    print(f\"🏟️ Equipos únicos: {df_thai['Team'].nunique() if 'Team' in df_thai.columns else 'N/A'}\")\n",
    "    print(f\"👤 Jugadores únicos: {df_thai['Player'].nunique() if 'Player' in df_thai.columns else 'N/A'}\")\n",
    "else:\n",
    "    print(\"❌ No se pudieron cargar los datos\")"
   ]
  },
  {
   "cell_type": "code",
   "execution_count": 3,
   "metadata": {},
   "outputs": [
    {
     "name": "stdout",
     "output_type": "stream",
     "text": [
      "============================================================\n",
      "📋 RESUMEN EJECUTIVO DEL DATASET\n",
      "============================================================\n",
      "🔢 Total de registros: 2,359\n",
      "📏 Total de variables: 149\n",
      "💾 Memoria utilizada: 4.5 MB\n",
      "\n",
      "📅 Distribución por temporadas:\n",
      "   2020-21: 465 registros (19.7%)\n",
      "   2021-22: 458 registros (19.4%)\n",
      "   2022-23: 473 registros (20.1%)\n",
      "   2023-24: 470 registros (19.9%)\n",
      "   2024-25: 493 registros (20.9%)\n",
      "\n",
      "⚽ Distribución por posiciones principales:\n",
      "   CF: 351 jugadores (14.9%)\n",
      "   GK: 191 jugadores (8.1%)\n",
      "   LB: 167 jugadores (7.1%)\n",
      "   RB: 160 jugadores (6.8%)\n",
      "   RCB: 146 jugadores (6.2%)\n",
      "   RCMF: 142 jugadores (6.0%)\n",
      "   RW: 125 jugadores (5.3%)\n",
      "   LCMF: 122 jugadores (5.2%)\n",
      "   LCB: 111 jugadores (4.7%)\n",
      "   LW: 105 jugadores (4.5%)\n",
      "   AMF: 81 jugadores (3.4%)\n",
      "   RCB3: 66 jugadores (2.8%)\n",
      "   DMF: 65 jugadores (2.8%)\n",
      "   LCB3: 62 jugadores (2.6%)\n",
      "   RCMF3: 47 jugadores (2.0%)\n",
      "   LCMF3: 47 jugadores (2.0%)\n",
      "   RAMF: 44 jugadores (1.9%)\n",
      "   RWB: 41 jugadores (1.7%)\n",
      "   LAMF: 40 jugadores (1.7%)\n",
      "   RDMF: 40 jugadores (1.7%)\n",
      "   CB: 37 jugadores (1.6%)\n",
      "   LDMF: 34 jugadores (1.4%)\n",
      "   LWB: 34 jugadores (1.4%)\n",
      "   LB5: 29 jugadores (1.2%)\n",
      "   LWF: 25 jugadores (1.1%)\n",
      "   RB5: 23 jugadores (1.0%)\n",
      "   RWF: 23 jugadores (1.0%)\n",
      "\n",
      "🔍 Completitud de variables críticas:\n",
      "   goals: 100.0% completo\n",
      "   assists: 100.0% completo\n",
      "   matches_played: 100.0% completo\n",
      "   minutes_played: 100.0% completo\n",
      "\n",
      "============================================================\n"
     ]
    }
   ],
   "source": [
    "# Información básica del dataset\n",
    "print(\"=\" * 60)\n",
    "print(\"📋 RESUMEN EJECUTIVO DEL DATASET\")\n",
    "print(\"=\" * 60)\n",
    "\n",
    "if df_thai is not None:\n",
    "    # Información general\n",
    "    print(f\"🔢 Total de registros: {len(df_thai):,}\")\n",
    "    print(f\"📏 Total de variables: {len(df_thai.columns)}\")\n",
    "    print(f\"💾 Memoria utilizada: {df_thai.memory_usage(deep=True).sum() / 1024**2:.1f} MB\")\n",
    "    \n",
    "    # Distribución por temporadas\n",
    "    print(\"\\n📅 Distribución por temporadas:\")\n",
    "    season_counts = df_thai['season'].value_counts().sort_index()\n",
    "    for season, count in season_counts.items():\n",
    "        percentage = (count / len(df_thai)) * 100\n",
    "        print(f\"   {season}: {count:,} registros ({percentage:.1f}%)\")\n",
    "    \n",
    "    # Distribución por posiciones\n",
    "    print(\"\\n⚽ Distribución por posiciones principales:\")\n",
    "    position_counts = df_thai['Primary position'].value_counts()\n",
    "    for position, count in position_counts.items():\n",
    "        if isinstance(position, str):  # Check if position is a valid string\n",
    "            percentage = (count / len(df_thai)) * 100\n",
    "            print(f\"   {position}: {count:,} jugadores ({percentage:.1f}%)\")\n",
    "    \n",
    "    # Valores faltantes por columna crítica\n",
    "    critical_columns = ['goals', 'assists', 'matches_played', 'minutes_played', 'pass_accuracy_pct']\n",
    "    print(\"\\n🔍 Completitud de variables críticas:\")\n",
    "    for col in critical_columns:\n",
    "        if col in df_thai.columns:\n",
    "            missing_pct = (df_thai[col].isnull().sum() / len(df_thai)) * 100\n",
    "            print(f\"   {col}: {100-missing_pct:.1f}% completo\")\n",
    "\n",
    "print(\"\\n\" + \"=\" * 60)"
   ]
  },
  {
   "cell_type": "markdown",
   "metadata": {},
   "source": [
    "## 4. Análisis de Calidad de Datos\n",
    "\n",
    "### 4.1 Identificación de Variables por Tipo"
   ]
  },
  {
   "cell_type": "code",
   "execution_count": 4,
   "metadata": {},
   "outputs": [
    {
     "name": "stdout",
     "output_type": "stream",
     "text": [
      "🔍 ANÁLISIS DE ESTRUCTURA DE DATOS\n",
      "==================================================\n",
      "\n",
      "📊 IDENTIFICADORES (9 variables):\n",
      "   • Full name\n",
      "   • Wyscout id\n",
      "   • Team\n",
      "   • Team within selected timeframe\n",
      "   • Team logo\n",
      "   • Competition\n",
      "   • Sliding tackles per 90\n",
      "   • PAdj Sliding tackles\n",
      "   • season\n",
      "\n",
      "📊 DEMOGRAFICAS (18 variables):\n",
      "   • Position\n",
      "   • Primary position\n",
      "   • Primary position, %\n",
      "   • Secondary position\n",
      "   • Secondary position, %\n",
      "   • Third position\n",
      "   • Third position, %\n",
      "   • Age\n",
      "   • Birthday\n",
      "   • Birth country\n",
      "   ... y 8 más\n",
      "\n",
      "📊 METRICAS BASICAS (22 variables):\n",
      "   • Goals\n",
      "   • Assists\n",
      "   • Goals per 90\n",
      "   • Non-penalty goals\n",
      "   • Non-penalty goals per 90\n",
      "   • Head goals\n",
      "   • Head goals per 90\n",
      "   • Assists per 90\n",
      "   • Shot assists per 90\n",
      "   • Second assists per 90\n",
      "   ... y 12 más\n",
      "\n",
      "📊 METRICAS PER 90 (10 variables):\n",
      "   • duels_per_90\n",
      "   • passes_per_90\n",
      "   • shots_per_90\n",
      "   • interceptions_per_90\n",
      "   • progressive_passes_per_90\n",
      "   • key_passes_per_90\n",
      "   • forward_passes_per_90\n",
      "   • crosses_per_90\n",
      "   • defensive_actions_per_90\n",
      "   • touches_in_box_per_90\n",
      "\n",
      "📊 METRICAS PORCENTAJE (5 variables):\n",
      "   • Successful defensive actions per 90\n",
      "   • Successful attacking actions per 90\n",
      "   • Goal conversion, %\n",
      "   • Successful dribbles, %\n",
      "   • Penalty conversion, %\n",
      "\n",
      "📊 METRICAS AVANZADAS (9 variables):\n",
      "   • xG\n",
      "   • xA\n",
      "   • xG per 90\n",
      "   • Progressive runs per 90\n",
      "   • xA per 90\n",
      "   • Progressive passes per 90\n",
      "   • Accurate progressive passes, %\n",
      "   • xG against\n",
      "   • xG against per 90\n",
      "\n",
      "📊 DISCIPLINA (8 variables):\n",
      "   • Fouls per 90\n",
      "   • Yellow cards\n",
      "   • Yellow cards per 90\n",
      "   • Red cards\n",
      "   • Red cards per 90\n",
      "   • Fouls suffered per 90\n",
      "   • yellow_cards\n",
      "   • red_cards\n",
      "\n",
      "📈 RESUMEN DE COMPLETITUD:\n",
      "   Completitud general del dataset: 91.3%\n",
      "   Celdas totales: 351,491\n",
      "   Celdas faltantes: 30,739\n"
     ]
    }
   ],
   "source": [
    "def analyze_data_types(df):\n",
    "    \"\"\"\n",
    "    Analiza tipos de datos y categoriza variables según su naturaleza.\n",
    "    \n",
    "    Args:\n",
    "        df (pd.DataFrame): Dataset a analizar\n",
    "        \n",
    "    Returns:\n",
    "        dict: Categorización de variables\n",
    "    \"\"\"\n",
    "    analysis = {\n",
    "        'identificadores': [],\n",
    "        'demograficas': [],\n",
    "        'metricas_basicas': [],\n",
    "        'metricas_per_90': [],\n",
    "        'metricas_porcentaje': [],\n",
    "        'metricas_avanzadas': [],\n",
    "        'disciplina': []\n",
    "    }\n",
    "    \n",
    "    # Categorizar columnas basado en nombres y patrones\n",
    "    for col in df.columns:\n",
    "        col_lower = col.lower()\n",
    "        \n",
    "        # Identificadores y metadatos\n",
    "        if any(x in col_lower for x in ['id', 'name', 'team', 'season', 'competition']):\n",
    "            analysis['identificadores'].append(col)\n",
    "        \n",
    "        # Información demográfica\n",
    "        elif any(x in col_lower for x in ['age', 'height', 'weight', 'birth', 'country', 'position']):\n",
    "            analysis['demograficas'].append(col)\n",
    "        \n",
    "        # Métricas básicas\n",
    "        elif any(x in col_lower for x in ['matches_played', 'minutes_played', 'goals', 'assists']):\n",
    "            analysis['metricas_basicas'].append(col)\n",
    "        \n",
    "        # Métricas por 90 minutos\n",
    "        elif 'per_90' in col_lower or '_90' in col_lower:\n",
    "            analysis['metricas_per_90'].append(col)\n",
    "        \n",
    "        # Métricas de porcentaje\n",
    "        elif any(x in col_lower for x in ['pct', 'accuracy', 'success', 'conversion']):\n",
    "            analysis['metricas_porcentaje'].append(col)\n",
    "        \n",
    "        # Métricas avanzadas (xG, xA, etc.)\n",
    "        elif any(x in col_lower for x in ['expected', 'xg', 'xa', 'progressive']):\n",
    "            analysis['metricas_avanzadas'].append(col)\n",
    "        \n",
    "        # Disciplina\n",
    "        elif any(x in col_lower for x in ['card', 'foul']):\n",
    "            analysis['disciplina'].append(col)\n",
    "    \n",
    "    return analysis\n",
    "\n",
    "# Analizar estructura de datos\n",
    "if df_thai is not None:\n",
    "    data_structure = analyze_data_types(df_thai)\n",
    "    \n",
    "    print(\"🔍 ANÁLISIS DE ESTRUCTURA DE DATOS\")\n",
    "    print(\"=\" * 50)\n",
    "    \n",
    "    for category, columns in data_structure.items():\n",
    "        print(f\"\\n📊 {category.upper().replace('_', ' ')} ({len(columns)} variables):\")\n",
    "        for col in columns[:10]:  # Mostrar primeras 10\n",
    "            print(f\"   • {col}\")\n",
    "        if len(columns) > 10:\n",
    "            print(f\"   ... y {len(columns) - 10} más\")\n",
    "    \n",
    "    # Resumen estadístico de completitud\n",
    "    print(f\"\\n📈 RESUMEN DE COMPLETITUD:\")\n",
    "    total_cells = len(df_thai) * len(df_thai.columns)\n",
    "    missing_cells = df_thai.isnull().sum().sum()\n",
    "    completeness = ((total_cells - missing_cells) / total_cells) * 100\n",
    "    \n",
    "    print(f\"   Completitud general del dataset: {completeness:.1f}%\")\n",
    "    print(f\"   Celdas totales: {total_cells:,}\")\n",
    "    print(f\"   Celdas faltantes: {missing_cells:,}\")"
   ]
  },
  {
   "cell_type": "markdown",
   "metadata": {},
   "source": [
    "### 4.2 Análisis de Valores Faltantes por Categoría"
   ]
  },
  {
   "cell_type": "code",
   "execution_count": 5,
   "metadata": {},
   "outputs": [
    {
     "name": "stdout",
     "output_type": "stream",
     "text": [
      "🔍 Generando análisis de valores faltantes...\n"
     ]
    },
    {
     "data": {
      "application/vnd.plotly.v1+json": {
       "config": {
        "plotlyServerURL": "https://plot.ly"
       },
       "data": [
        {
         "name": "Identificadores",
         "showlegend": false,
         "type": "box",
         "xaxis": "x",
         "y": {
          "bdata": "AAAAAAAAWUAAAAAAAABZQHZctI6L1lZAAAAAAAAAWUB2XLSOi9ZWQPyCf1/w71VA2q0yu1VmV0AAAAAAAABZQAAAAAAAAFlA",
          "dtype": "f8"
         },
         "yaxis": "y"
        },
        {
         "name": "Demograficas",
         "showlegend": false,
         "type": "box",
         "xaxis": "x",
         "y": {
          "bdata": "v0vqd0n9WEC/S+p3Sf1YQAAAAAAAAFlAssstdrnFUUAAAAAAAABZQJkVD7PiYUZAAAAAAAAAWUA+475n3PdYQP0uqd8l9VhAv0vqd0n9WEAAAAAAAABZQAAAAAAAAFlAAAAAAAAAWUAAAAAAAABZQAAAAAAAAFlAPuO+Z9z3WEAAAAAAAABZQAAAAAAAAFlA",
          "dtype": "f8"
         },
         "yaxis": "y"
        },
        {
         "name": "Metricas Basicas",
         "showlegend": false,
         "type": "box",
         "xaxis": "x",
         "y": {
          "bdata": "AAAAAAAAWUAAAAAAAABZQBpiSEMMaVdAAAAAAAAAWUDarTK7VWZXQAAAAAAAAFlA2q0yu1VmV0DarTK7VWZXQNqtMrtVZldA2q0yu1VmV0DarTK7VWZXQAAAAAAAAFlAwKM9eLQHH0AQ4otBfDEgQMCjPXi0Bx9AAAAAAAAAWUAAAAAAAABZQAAAAAAAAFlAAAAAAAAAWUDarTK7VWZXQBpiSEMMaVdAwKM9eLQHH0A=",
          "dtype": "f8"
         },
         "yaxis": "y"
        },
        {
         "name": "Metricas Per 90",
         "showlegend": false,
         "type": "box",
         "xaxis": "x",
         "y": {
          "bdata": "2q0yu1VmV0DarTK7VWZXQNqtMrtVZldA2q0yu1VmV0DarTK7VWZXQNqtMrtVZldA2q0yu1VmV0DarTK7VWZXQNqtMrtVZldA2q0yu1VmV0A=",
          "dtype": "f8"
         },
         "yaxis": "y"
        },
        {
         "name": "Metricas Porcentaje",
         "showlegend": false,
         "type": "box",
         "xaxis": "x",
         "y": {
          "bdata": "2q0yu1VmV0DarTK7VWZXQAAAAAAAAFlA2q0yu1VmV0AAAAAAAABZQA==",
          "dtype": "f8"
         },
         "yaxis": "y"
        },
        {
         "name": "Metricas Avanzadas",
         "showlegend": false,
         "type": "box",
         "xaxis": "x",
         "y": {
          "bdata": "AAAAAAAAWUAAAAAAAABZQNqtMrtVZldA2q0yu1VmV0DarTK7VWZXQNqtMrtVZldA2q0yu1VmV0AAAAAAAABZQNqtMrtVZldA",
          "dtype": "f8"
         },
         "yaxis": "y"
        },
        {
         "name": "Disciplina",
         "showlegend": false,
         "type": "box",
         "xaxis": "x",
         "y": {
          "bdata": "2q0yu1VmV0AAAAAAAABZQBpiSEMMaVdAAAAAAAAAWUAaYkhDDGlXQNqtMrtVZldAAAAAAAAAWUAAAAAAAABZQA==",
          "dtype": "f8"
         },
         "yaxis": "y"
        },
        {
         "marker": {
          "color": "lightcoral"
         },
         "orientation": "h",
         "showlegend": false,
         "type": "bar",
         "x": {
          "bdata": "xCV8uIQPV0DEJXy4hA9XQMQlfLiED1dAvoPOd9D5VkBn6vBMHZ5LQDrRSCca6TxAIOgDBH2AKEBTHF2Ko0shQFMcXYqjSyFAZyLVTKSaGUBnItVMpJoZQGci1UykmhlAZyLVTKSaGUBnItVMpJoZQGci1UykmhlAZyLVTKSaGUBnItVMpJoZQGci1UykmhlAZyLVTKSaGUBnItVMpJoZQA==",
          "dtype": "f8"
         },
         "xaxis": "x2",
         "y": [
          "Conceded goals per 90",
          "Prevented goals per 90",
          "goals_conceded_per_90",
          "Prevented goals",
          "Third position",
          "Secondary position",
          "Competition",
          "Team",
          "Team logo",
          "Sliding tackles per 90",
          "Non-penalty goals per 90",
          "Head goals per 90",
          "Assists per 90",
          "Shot assists per 90",
          "Second assists per 90",
          "Third assists per 90",
          "assists_per_90",
          "duels_per_90",
          "passes_per_90",
          "shots_per_90"
         ],
         "yaxis": "y2"
        },
        {
         "marker": {
          "color": "lightblue"
         },
         "nbinsx": 20,
         "showlegend": false,
         "type": "histogram",
         "x": {
          "bdata": "AAAAAAAAWUAAAAAAAABZQHZctI6L1lZAAAAAAAAAWUB2XLSOi9ZWQPyCf1/w71VA2q0yu1VmV0AAAAAAAABZQAAAAAAAAFlAv0vqd0n9WEC/S+p3Sf1YQAAAAAAAAFlAssstdrnFUUAAAAAAAABZQJkVD7PiYUZAAAAAAAAAWUA+475n3PdYQP0uqd8l9VhAv0vqd0n9WEAAAAAAAABZQAAAAAAAAFlAAAAAAAAAWUAAAAAAAABZQAAAAAAAAFlAPuO+Z9z3WEAAAAAAAABZQAAAAAAAAFlAAAAAAAAAWUAAAAAAAABZQBpiSEMMaVdAAAAAAAAAWUDarTK7VWZXQAAAAAAAAFlA2q0yu1VmV0DarTK7VWZXQNqtMrtVZldA2q0yu1VmV0DarTK7VWZXQAAAAAAAAFlAwKM9eLQHH0AQ4otBfDEgQMCjPXi0Bx9AAAAAAAAAWUAAAAAAAABZQAAAAAAAAFlAAAAAAAAAWUDarTK7VWZXQBpiSEMMaVdAwKM9eLQHH0DarTK7VWZXQNqtMrtVZldA2q0yu1VmV0DarTK7VWZXQNqtMrtVZldA2q0yu1VmV0DarTK7VWZXQNqtMrtVZldA2q0yu1VmV0DarTK7VWZXQNqtMrtVZldA2q0yu1VmV0AAAAAAAABZQNqtMrtVZldAAAAAAAAAWUAAAAAAAABZQAAAAAAAAFlA2q0yu1VmV0DarTK7VWZXQNqtMrtVZldA2q0yu1VmV0DarTK7VWZXQAAAAAAAAFlA2q0yu1VmV0DarTK7VWZXQAAAAAAAAFlAGmJIQwxpV0AAAAAAAABZQBpiSEMMaVdA2q0yu1VmV0AAAAAAAABZQAAAAAAAAFlA",
          "dtype": "f8"
         },
         "xaxis": "x3",
         "yaxis": "y3"
        },
        {
         "colorscale": [
          [
           0,
           "rgb(165,0,38)"
          ],
          [
           0.1,
           "rgb(215,48,39)"
          ],
          [
           0.2,
           "rgb(244,109,67)"
          ],
          [
           0.3,
           "rgb(253,174,97)"
          ],
          [
           0.4,
           "rgb(254,224,139)"
          ],
          [
           0.5,
           "rgb(255,255,191)"
          ],
          [
           0.6,
           "rgb(217,239,139)"
          ],
          [
           0.7,
           "rgb(166,217,106)"
          ],
          [
           0.8,
           "rgb(102,189,99)"
          ],
          [
           0.9,
           "rgb(26,152,80)"
          ],
          [
           1,
           "rgb(0,104,55)"
          ]
         ],
         "showscale": false,
         "type": "heatmap",
         "x": [
          "2020-21",
          "2021-22",
          "2022-23",
          "2023-24",
          "2024-25"
         ],
         "xaxis": "x4",
         "y": [
          "assists",
          "goals",
          "passes_per_90"
         ],
         "yaxis": "y4",
         "z": {
          "bdata": "AAAAAAAAWUAAAAAAAABZQAAAAAAAAFlAAAAAAAAAWUAAAAAAAABZQAAAAAAAAFlAAAAAAAAAWUAAAAAAAABZQAAAAAAAAFlAAAAAAAAAWUC21lprrbVXQMUQHe7PTldAW68cQySFV0A8G/WdjfpWQGlO7TOMeldA",
          "dtype": "f8",
          "shape": "3, 5"
         }
        }
       ],
       "layout": {
        "annotations": [
         {
          "font": {
           "size": 16
          },
          "showarrow": false,
          "text": "Distribución de Completitud por Categoría",
          "x": 0.225,
          "xanchor": "center",
          "xref": "paper",
          "y": 1,
          "yanchor": "bottom",
          "yref": "paper"
         },
         {
          "font": {
           "size": 16
          },
          "showarrow": false,
          "text": "Top 20 Variables con Más Datos Faltantes",
          "x": 0.775,
          "xanchor": "center",
          "xref": "paper",
          "y": 1,
          "yanchor": "bottom",
          "yref": "paper"
         },
         {
          "font": {
           "size": 16
          },
          "showarrow": false,
          "text": "Histograma de Completitud",
          "x": 0.225,
          "xanchor": "center",
          "xref": "paper",
          "y": 0.375,
          "yanchor": "bottom",
          "yref": "paper"
         },
         {
          "font": {
           "size": 16
          },
          "showarrow": false,
          "text": "Mapa de Calor - Completitud por Temporada",
          "x": 0.775,
          "xanchor": "center",
          "xref": "paper",
          "y": 0.375,
          "yanchor": "bottom",
          "yref": "paper"
         }
        ],
        "height": 800,
        "showlegend": false,
        "template": {
         "data": {
          "bar": [
           {
            "error_x": {
             "color": "#2a3f5f"
            },
            "error_y": {
             "color": "#2a3f5f"
            },
            "marker": {
             "line": {
              "color": "white",
              "width": 0.5
             },
             "pattern": {
              "fillmode": "overlay",
              "size": 10,
              "solidity": 0.2
             }
            },
            "type": "bar"
           }
          ],
          "barpolar": [
           {
            "marker": {
             "line": {
              "color": "white",
              "width": 0.5
             },
             "pattern": {
              "fillmode": "overlay",
              "size": 10,
              "solidity": 0.2
             }
            },
            "type": "barpolar"
           }
          ],
          "carpet": [
           {
            "aaxis": {
             "endlinecolor": "#2a3f5f",
             "gridcolor": "#C8D4E3",
             "linecolor": "#C8D4E3",
             "minorgridcolor": "#C8D4E3",
             "startlinecolor": "#2a3f5f"
            },
            "baxis": {
             "endlinecolor": "#2a3f5f",
             "gridcolor": "#C8D4E3",
             "linecolor": "#C8D4E3",
             "minorgridcolor": "#C8D4E3",
             "startlinecolor": "#2a3f5f"
            },
            "type": "carpet"
           }
          ],
          "choropleth": [
           {
            "colorbar": {
             "outlinewidth": 0,
             "ticks": ""
            },
            "type": "choropleth"
           }
          ],
          "contour": [
           {
            "colorbar": {
             "outlinewidth": 0,
             "ticks": ""
            },
            "colorscale": [
             [
              0,
              "#0d0887"
             ],
             [
              0.1111111111111111,
              "#46039f"
             ],
             [
              0.2222222222222222,
              "#7201a8"
             ],
             [
              0.3333333333333333,
              "#9c179e"
             ],
             [
              0.4444444444444444,
              "#bd3786"
             ],
             [
              0.5555555555555556,
              "#d8576b"
             ],
             [
              0.6666666666666666,
              "#ed7953"
             ],
             [
              0.7777777777777778,
              "#fb9f3a"
             ],
             [
              0.8888888888888888,
              "#fdca26"
             ],
             [
              1,
              "#f0f921"
             ]
            ],
            "type": "contour"
           }
          ],
          "contourcarpet": [
           {
            "colorbar": {
             "outlinewidth": 0,
             "ticks": ""
            },
            "type": "contourcarpet"
           }
          ],
          "heatmap": [
           {
            "colorbar": {
             "outlinewidth": 0,
             "ticks": ""
            },
            "colorscale": [
             [
              0,
              "#0d0887"
             ],
             [
              0.1111111111111111,
              "#46039f"
             ],
             [
              0.2222222222222222,
              "#7201a8"
             ],
             [
              0.3333333333333333,
              "#9c179e"
             ],
             [
              0.4444444444444444,
              "#bd3786"
             ],
             [
              0.5555555555555556,
              "#d8576b"
             ],
             [
              0.6666666666666666,
              "#ed7953"
             ],
             [
              0.7777777777777778,
              "#fb9f3a"
             ],
             [
              0.8888888888888888,
              "#fdca26"
             ],
             [
              1,
              "#f0f921"
             ]
            ],
            "type": "heatmap"
           }
          ],
          "histogram": [
           {
            "marker": {
             "pattern": {
              "fillmode": "overlay",
              "size": 10,
              "solidity": 0.2
             }
            },
            "type": "histogram"
           }
          ],
          "histogram2d": [
           {
            "colorbar": {
             "outlinewidth": 0,
             "ticks": ""
            },
            "colorscale": [
             [
              0,
              "#0d0887"
             ],
             [
              0.1111111111111111,
              "#46039f"
             ],
             [
              0.2222222222222222,
              "#7201a8"
             ],
             [
              0.3333333333333333,
              "#9c179e"
             ],
             [
              0.4444444444444444,
              "#bd3786"
             ],
             [
              0.5555555555555556,
              "#d8576b"
             ],
             [
              0.6666666666666666,
              "#ed7953"
             ],
             [
              0.7777777777777778,
              "#fb9f3a"
             ],
             [
              0.8888888888888888,
              "#fdca26"
             ],
             [
              1,
              "#f0f921"
             ]
            ],
            "type": "histogram2d"
           }
          ],
          "histogram2dcontour": [
           {
            "colorbar": {
             "outlinewidth": 0,
             "ticks": ""
            },
            "colorscale": [
             [
              0,
              "#0d0887"
             ],
             [
              0.1111111111111111,
              "#46039f"
             ],
             [
              0.2222222222222222,
              "#7201a8"
             ],
             [
              0.3333333333333333,
              "#9c179e"
             ],
             [
              0.4444444444444444,
              "#bd3786"
             ],
             [
              0.5555555555555556,
              "#d8576b"
             ],
             [
              0.6666666666666666,
              "#ed7953"
             ],
             [
              0.7777777777777778,
              "#fb9f3a"
             ],
             [
              0.8888888888888888,
              "#fdca26"
             ],
             [
              1,
              "#f0f921"
             ]
            ],
            "type": "histogram2dcontour"
           }
          ],
          "mesh3d": [
           {
            "colorbar": {
             "outlinewidth": 0,
             "ticks": ""
            },
            "type": "mesh3d"
           }
          ],
          "parcoords": [
           {
            "line": {
             "colorbar": {
              "outlinewidth": 0,
              "ticks": ""
             }
            },
            "type": "parcoords"
           }
          ],
          "pie": [
           {
            "automargin": true,
            "type": "pie"
           }
          ],
          "scatter": [
           {
            "fillpattern": {
             "fillmode": "overlay",
             "size": 10,
             "solidity": 0.2
            },
            "type": "scatter"
           }
          ],
          "scatter3d": [
           {
            "line": {
             "colorbar": {
              "outlinewidth": 0,
              "ticks": ""
             }
            },
            "marker": {
             "colorbar": {
              "outlinewidth": 0,
              "ticks": ""
             }
            },
            "type": "scatter3d"
           }
          ],
          "scattercarpet": [
           {
            "marker": {
             "colorbar": {
              "outlinewidth": 0,
              "ticks": ""
             }
            },
            "type": "scattercarpet"
           }
          ],
          "scattergeo": [
           {
            "marker": {
             "colorbar": {
              "outlinewidth": 0,
              "ticks": ""
             }
            },
            "type": "scattergeo"
           }
          ],
          "scattergl": [
           {
            "marker": {
             "colorbar": {
              "outlinewidth": 0,
              "ticks": ""
             }
            },
            "type": "scattergl"
           }
          ],
          "scattermap": [
           {
            "marker": {
             "colorbar": {
              "outlinewidth": 0,
              "ticks": ""
             }
            },
            "type": "scattermap"
           }
          ],
          "scattermapbox": [
           {
            "marker": {
             "colorbar": {
              "outlinewidth": 0,
              "ticks": ""
             }
            },
            "type": "scattermapbox"
           }
          ],
          "scatterpolar": [
           {
            "marker": {
             "colorbar": {
              "outlinewidth": 0,
              "ticks": ""
             }
            },
            "type": "scatterpolar"
           }
          ],
          "scatterpolargl": [
           {
            "marker": {
             "colorbar": {
              "outlinewidth": 0,
              "ticks": ""
             }
            },
            "type": "scatterpolargl"
           }
          ],
          "scatterternary": [
           {
            "marker": {
             "colorbar": {
              "outlinewidth": 0,
              "ticks": ""
             }
            },
            "type": "scatterternary"
           }
          ],
          "surface": [
           {
            "colorbar": {
             "outlinewidth": 0,
             "ticks": ""
            },
            "colorscale": [
             [
              0,
              "#0d0887"
             ],
             [
              0.1111111111111111,
              "#46039f"
             ],
             [
              0.2222222222222222,
              "#7201a8"
             ],
             [
              0.3333333333333333,
              "#9c179e"
             ],
             [
              0.4444444444444444,
              "#bd3786"
             ],
             [
              0.5555555555555556,
              "#d8576b"
             ],
             [
              0.6666666666666666,
              "#ed7953"
             ],
             [
              0.7777777777777778,
              "#fb9f3a"
             ],
             [
              0.8888888888888888,
              "#fdca26"
             ],
             [
              1,
              "#f0f921"
             ]
            ],
            "type": "surface"
           }
          ],
          "table": [
           {
            "cells": {
             "fill": {
              "color": "#EBF0F8"
             },
             "line": {
              "color": "white"
             }
            },
            "header": {
             "fill": {
              "color": "#C8D4E3"
             },
             "line": {
              "color": "white"
             }
            },
            "type": "table"
           }
          ]
         },
         "layout": {
          "annotationdefaults": {
           "arrowcolor": "#2a3f5f",
           "arrowhead": 0,
           "arrowwidth": 1
          },
          "autotypenumbers": "strict",
          "coloraxis": {
           "colorbar": {
            "outlinewidth": 0,
            "ticks": ""
           }
          },
          "colorscale": {
           "diverging": [
            [
             0,
             "#8e0152"
            ],
            [
             0.1,
             "#c51b7d"
            ],
            [
             0.2,
             "#de77ae"
            ],
            [
             0.3,
             "#f1b6da"
            ],
            [
             0.4,
             "#fde0ef"
            ],
            [
             0.5,
             "#f7f7f7"
            ],
            [
             0.6,
             "#e6f5d0"
            ],
            [
             0.7,
             "#b8e186"
            ],
            [
             0.8,
             "#7fbc41"
            ],
            [
             0.9,
             "#4d9221"
            ],
            [
             1,
             "#276419"
            ]
           ],
           "sequential": [
            [
             0,
             "#0d0887"
            ],
            [
             0.1111111111111111,
             "#46039f"
            ],
            [
             0.2222222222222222,
             "#7201a8"
            ],
            [
             0.3333333333333333,
             "#9c179e"
            ],
            [
             0.4444444444444444,
             "#bd3786"
            ],
            [
             0.5555555555555556,
             "#d8576b"
            ],
            [
             0.6666666666666666,
             "#ed7953"
            ],
            [
             0.7777777777777778,
             "#fb9f3a"
            ],
            [
             0.8888888888888888,
             "#fdca26"
            ],
            [
             1,
             "#f0f921"
            ]
           ],
           "sequentialminus": [
            [
             0,
             "#0d0887"
            ],
            [
             0.1111111111111111,
             "#46039f"
            ],
            [
             0.2222222222222222,
             "#7201a8"
            ],
            [
             0.3333333333333333,
             "#9c179e"
            ],
            [
             0.4444444444444444,
             "#bd3786"
            ],
            [
             0.5555555555555556,
             "#d8576b"
            ],
            [
             0.6666666666666666,
             "#ed7953"
            ],
            [
             0.7777777777777778,
             "#fb9f3a"
            ],
            [
             0.8888888888888888,
             "#fdca26"
            ],
            [
             1,
             "#f0f921"
            ]
           ]
          },
          "colorway": [
           "#636efa",
           "#EF553B",
           "#00cc96",
           "#ab63fa",
           "#FFA15A",
           "#19d3f3",
           "#FF6692",
           "#B6E880",
           "#FF97FF",
           "#FECB52"
          ],
          "font": {
           "color": "#2a3f5f"
          },
          "geo": {
           "bgcolor": "white",
           "lakecolor": "white",
           "landcolor": "white",
           "showlakes": true,
           "showland": true,
           "subunitcolor": "#C8D4E3"
          },
          "hoverlabel": {
           "align": "left"
          },
          "hovermode": "closest",
          "mapbox": {
           "style": "light"
          },
          "paper_bgcolor": "white",
          "plot_bgcolor": "white",
          "polar": {
           "angularaxis": {
            "gridcolor": "#EBF0F8",
            "linecolor": "#EBF0F8",
            "ticks": ""
           },
           "bgcolor": "white",
           "radialaxis": {
            "gridcolor": "#EBF0F8",
            "linecolor": "#EBF0F8",
            "ticks": ""
           }
          },
          "scene": {
           "xaxis": {
            "backgroundcolor": "white",
            "gridcolor": "#DFE8F3",
            "gridwidth": 2,
            "linecolor": "#EBF0F8",
            "showbackground": true,
            "ticks": "",
            "zerolinecolor": "#EBF0F8"
           },
           "yaxis": {
            "backgroundcolor": "white",
            "gridcolor": "#DFE8F3",
            "gridwidth": 2,
            "linecolor": "#EBF0F8",
            "showbackground": true,
            "ticks": "",
            "zerolinecolor": "#EBF0F8"
           },
           "zaxis": {
            "backgroundcolor": "white",
            "gridcolor": "#DFE8F3",
            "gridwidth": 2,
            "linecolor": "#EBF0F8",
            "showbackground": true,
            "ticks": "",
            "zerolinecolor": "#EBF0F8"
           }
          },
          "shapedefaults": {
           "line": {
            "color": "#2a3f5f"
           }
          },
          "ternary": {
           "aaxis": {
            "gridcolor": "#DFE8F3",
            "linecolor": "#A2B1C6",
            "ticks": ""
           },
           "baxis": {
            "gridcolor": "#DFE8F3",
            "linecolor": "#A2B1C6",
            "ticks": ""
           },
           "bgcolor": "white",
           "caxis": {
            "gridcolor": "#DFE8F3",
            "linecolor": "#A2B1C6",
            "ticks": ""
           }
          },
          "title": {
           "x": 0.05
          },
          "xaxis": {
           "automargin": true,
           "gridcolor": "#EBF0F8",
           "linecolor": "#EBF0F8",
           "ticks": "",
           "title": {
            "standoff": 15
           },
           "zerolinecolor": "#EBF0F8",
           "zerolinewidth": 2
          },
          "yaxis": {
           "automargin": true,
           "gridcolor": "#EBF0F8",
           "linecolor": "#EBF0F8",
           "ticks": "",
           "title": {
            "standoff": 15
           },
           "zerolinecolor": "#EBF0F8",
           "zerolinewidth": 2
          }
         }
        },
        "title": {
         "text": "📊 Análisis Integral de Calidad de Datos - Liga Tailandesa",
         "x": 0.5
        },
        "xaxis": {
         "anchor": "y",
         "domain": [
          0,
          0.45
         ]
        },
        "xaxis2": {
         "anchor": "y2",
         "domain": [
          0.55,
          1
         ],
         "title": {
          "text": "Completitud (%)"
         }
        },
        "xaxis3": {
         "anchor": "y3",
         "domain": [
          0,
          0.45
         ],
         "title": {
          "text": "Completitud (%)"
         }
        },
        "xaxis4": {
         "anchor": "y4",
         "domain": [
          0.55,
          1
         ]
        },
        "yaxis": {
         "anchor": "x",
         "domain": [
          0.625,
          1
         ]
        },
        "yaxis2": {
         "anchor": "x2",
         "domain": [
          0.625,
          1
         ],
         "title": {
          "text": "Variables"
         }
        },
        "yaxis3": {
         "anchor": "x3",
         "domain": [
          0,
          0.375
         ],
         "title": {
          "text": "Frecuencia"
         }
        },
        "yaxis4": {
         "anchor": "x4",
         "domain": [
          0,
          0.375
         ]
        }
       }
      }
     },
     "metadata": {},
     "output_type": "display_data"
    },
    {
     "name": "stdout",
     "output_type": "stream",
     "text": [
      "\n",
      "📈 RESUMEN DE COMPLETITUD POR CATEGORÍA:\n",
      "                     mean   std   min    max\n",
      "categoria                                   \n",
      "Demograficas         95.3  14.3  44.8  100.0\n",
      "Disciplina           96.8   3.4  93.6  100.0\n",
      "Identificadores      96.0   5.0  87.7  100.0\n",
      "Metricas Avanzadas   95.7   3.2  93.6  100.0\n",
      "Metricas Basicas     80.6  35.2   7.8  100.0\n",
      "Metricas Per 90      93.6   0.0  93.6   93.6\n",
      "Metricas Porcentaje  96.2   3.5  93.6  100.0\n"
     ]
    }
   ],
   "source": [
    "def create_missing_values_analysis(df, data_structure):\n",
    "    \"\"\"\n",
    "    Crea análisis visual de valores faltantes por categoría.\n",
    "    \n",
    "    Args:\n",
    "        df (pd.DataFrame): Dataset\n",
    "        data_structure (dict): Estructura categorizada de variables\n",
    "    \"\"\"\n",
    "    \n",
    "    # Preparar datos para visualización\n",
    "    missing_data = []\n",
    "    \n",
    "    for category, columns in data_structure.items():\n",
    "        if columns:  # Solo si hay columnas en la categoría\n",
    "            for col in columns:\n",
    "                if col in df.columns:\n",
    "                    missing_pct = (df[col].isnull().sum() / len(df)) * 100\n",
    "                    missing_data.append({\n",
    "                        'variable': col,\n",
    "                        'categoria': category.replace('_', ' ').title(),\n",
    "                        'missing_pct': missing_pct,\n",
    "                        'available_pct': 100 - missing_pct\n",
    "                    })\n",
    "    \n",
    "    df_missing = pd.DataFrame(missing_data)\n",
    "    \n",
    "    # Crear visualización interactiva\n",
    "    fig = make_subplots(\n",
    "        rows=2, cols=2,\n",
    "        subplot_titles=[\n",
    "            \"Distribución de Completitud por Categoría\",\n",
    "            \"Top 20 Variables con Más Datos Faltantes\",\n",
    "            \"Histograma de Completitud\",\n",
    "            \"Mapa de Calor - Completitud por Temporada\"\n",
    "        ],\n",
    "        specs=[[{\"type\": \"box\"}, {\"type\": \"bar\"}],\n",
    "               [{\"type\": \"histogram\"}, {\"type\": \"heatmap\"}]]\n",
    "    )\n",
    "    \n",
    "    # 1. Box plot por categoría\n",
    "    for category in df_missing['categoria'].unique():\n",
    "        cat_data = df_missing[df_missing['categoria'] == category]['available_pct']\n",
    "        fig.add_trace(\n",
    "            go.Box(y=cat_data, name=category, showlegend=False),\n",
    "            row=1, col=1\n",
    "        )\n",
    "    \n",
    "    # 2. Top variables con datos faltantes\n",
    "    top_missing = df_missing.nlargest(20, 'missing_pct')\n",
    "    fig.add_trace(\n",
    "        go.Bar(\n",
    "            x=top_missing['missing_pct'],\n",
    "            y=top_missing['variable'],\n",
    "            orientation='h',\n",
    "            marker_color='lightcoral',\n",
    "            showlegend=False\n",
    "        ),\n",
    "        row=1, col=2\n",
    "    )\n",
    "    \n",
    "    # 3. Histograma de completitud\n",
    "    fig.add_trace(\n",
    "        go.Histogram(\n",
    "            x=df_missing['available_pct'],\n",
    "            nbinsx=20,\n",
    "            marker_color='lightblue',\n",
    "            showlegend=False\n",
    "        ),\n",
    "        row=2, col=1\n",
    "    )\n",
    "    \n",
    "    # 4. Completitud por temporada (muestra)\n",
    "    if 'season' in df.columns:\n",
    "        season_completeness = []\n",
    "        key_metrics = ['goals', 'assists', 'passes_per_90', 'duels_won_pct']\n",
    "        \n",
    "        for season in sorted(df['season'].unique()):\n",
    "            season_df = df[df['season'] == season]\n",
    "            for metric in key_metrics:\n",
    "                if metric in df.columns:\n",
    "                    completeness = ((len(season_df) - season_df[metric].isnull().sum()) / len(season_df)) * 100\n",
    "                    season_completeness.append([season, metric, completeness])\n",
    "        \n",
    "        if season_completeness:\n",
    "            df_season_comp = pd.DataFrame(season_completeness, columns=['season', 'metric', 'completeness'])\n",
    "            pivot_data = df_season_comp.pivot(index='metric', columns='season', values='completeness')\n",
    "            \n",
    "            fig.add_trace(\n",
    "                go.Heatmap(\n",
    "                    z=pivot_data.values,\n",
    "                    x=pivot_data.columns,\n",
    "                    y=pivot_data.index,\n",
    "                    colorscale='RdYlGn',\n",
    "                    showscale=False\n",
    "                ),\n",
    "                row=2, col=2\n",
    "            )\n",
    "    \n",
    "    # Actualizar layout\n",
    "    fig.update_layout(\n",
    "        height=800,\n",
    "        title_text=\"📊 Análisis Integral de Calidad de Datos - Liga Tailandesa\",\n",
    "        title_x=0.5,\n",
    "        showlegend=False\n",
    "    )\n",
    "    \n",
    "    # Actualizar ejes\n",
    "    fig.update_xaxes(title_text=\"Completitud (%)\", row=1, col=2)\n",
    "    fig.update_yaxes(title_text=\"Variables\", row=1, col=2)\n",
    "    fig.update_xaxes(title_text=\"Completitud (%)\", row=2, col=1)\n",
    "    fig.update_yaxes(title_text=\"Frecuencia\", row=2, col=1)\n",
    "    \n",
    "    fig.show()\n",
    "    \n",
    "    return df_missing\n",
    "\n",
    "# Ejecutar análisis de valores faltantes\n",
    "if df_thai is not None and 'data_structure' in locals():\n",
    "    print(\"🔍 Generando análisis de valores faltantes...\")\n",
    "    missing_analysis = create_missing_values_analysis(df_thai, data_structure)\n",
    "    \n",
    "    # Resumen estadístico\n",
    "    print(\"\\n📈 RESUMEN DE COMPLETITUD POR CATEGORÍA:\")\n",
    "    category_summary = missing_analysis.groupby('categoria')['available_pct'].agg(['mean', 'std', 'min', 'max'])\n",
    "    print(category_summary.round(1))"
   ]
  },
  {
   "cell_type": "markdown",
   "metadata": {},
   "source": [
    "## 5. Análisis por Posiciones\n",
    "\n",
    "### 5.1 Distribución de Jugadores por Posición y Temporada"
   ]
  },
  {
   "cell_type": "code",
   "execution_count": 6,
   "metadata": {},
   "outputs": [
    {
     "name": "stdout",
     "output_type": "stream",
     "text": [
      "🔄 Generando análisis por posiciones...\n"
     ]
    },
    {
     "data": {
      "application/vnd.plotly.v1+json": {
       "config": {
        "plotlyServerURL": "https://plot.ly"
       },
       "data": [
        {
         "domain": {
          "x": [
           0,
           0.45
          ],
          "y": [
           0.625,
           1
          ]
         },
         "hole": 0.3,
         "labels": [
          "Delantero Centro",
          "Portero",
          "LB",
          "RB",
          "RCB",
          "RCMF",
          "RW",
          "LCMF",
          "LCB",
          "LW",
          "Mediocentro Ofensivo",
          "RCB3",
          "Mediocentro Defensivo",
          "LCB3",
          "RCMF3",
          "LCMF3",
          "RAMF",
          "RWB",
          "LAMF",
          "RDMF",
          "Central",
          "LDMF",
          "LWB",
          "LB5",
          "LWF",
          "RB5",
          "RWF"
         ],
         "showlegend": true,
         "type": "pie",
         "values": {
          "bdata": "XwG/AKcAoACSAI4AfQB6AG8AaQBRAEIAQQA+AC8ALwAsACkAKAAoACUAIgAiAB0AGQAXABcA",
          "dtype": "i2"
         }
        },
        {
         "line": {
          "color": "rgb(141,211,199)"
         },
         "mode": "lines+markers",
         "name": "Portero",
         "showlegend": false,
         "type": "scatter",
         "x": [
          "2020-21",
          "2021-22",
          "2022-23",
          "2023-24",
          "2024-25"
         ],
         "xaxis": "x",
         "y": {
          "bdata": "JCYnIys=",
          "dtype": "i1"
         },
         "yaxis": "y"
        },
        {
         "line": {
          "color": "rgb(255,255,179)"
         },
         "mode": "lines+markers",
         "name": "Central",
         "showlegend": false,
         "type": "scatter",
         "x": [
          "2020-21",
          "2021-22",
          "2022-23",
          "2023-24",
          "2024-25"
         ],
         "xaxis": "x",
         "y": {
          "bdata": "Bw0GBQY=",
          "dtype": "i1"
         },
         "yaxis": "y"
        },
        {
         "line": {
          "color": "rgb(251,128,114)"
         },
         "mode": "lines+markers",
         "name": "Mediocentro Defensivo",
         "showlegend": false,
         "type": "scatter",
         "x": [
          "2020-21",
          "2021-22",
          "2022-23",
          "2023-24",
          "2024-25"
         ],
         "xaxis": "x",
         "y": {
          "bdata": "Cw4IDRM=",
          "dtype": "i1"
         },
         "yaxis": "y"
        },
        {
         "line": {
          "color": "rgb(253,180,98)"
         },
         "mode": "lines+markers",
         "name": "Mediocentro Ofensivo",
         "showlegend": false,
         "type": "scatter",
         "x": [
          "2020-21",
          "2021-22",
          "2022-23",
          "2023-24",
          "2024-25"
         ],
         "xaxis": "x",
         "y": {
          "bdata": "FQ8PDhA=",
          "dtype": "i1"
         },
         "yaxis": "y"
        },
        {
         "line": {
          "color": "rgb(252,205,229)"
         },
         "mode": "lines+markers",
         "name": "Delantero Centro",
         "showlegend": false,
         "type": "scatter",
         "x": [
          "2020-21",
          "2021-22",
          "2022-23",
          "2023-24",
          "2024-25"
         ],
         "xaxis": "x",
         "y": {
          "bdata": "S0ZGQEg=",
          "dtype": "i1"
         },
         "yaxis": "y"
        },
        {
         "name": "GK",
         "showlegend": false,
         "type": "box",
         "xaxis": "x2",
         "y": {
          "bdata": "EwsPC70KTwofCt0JdgkqCdAIrwhUCNoHygdHB+YGrgX4BKgEbQQjBGoDOQOtAnECTQL0AXsBIQH5AMgAxQBlAGMAYQBgAEAAYgsVCxML2wk6CeMIPQgFCAUItAeRB0AHQAb3BdcFuwW7BYMF1gSyBJsDfgNvA1YDUAO+AkoCRwKmATUB4gCoAIkAdQBiAGIAYAA2AJoLPgs8CyIL+gquCm8K1QjCCFUIJAgGB5MGAgbUBYUFZAWgBOoD0gN8AxYDFQO/AlwCVwJLAjYBKwHBAKUAcwBoAGYAYwBhADMAMgAgAN0LzQu3C6QLYgtYC8QKqAqJCjgKZglYCeYFeAUgBQgFggRgBEgE5QM/AyID+AHxAeIBmQEzAS8BEQFsAGMAYgBBADMACACZCtkJfwlcCQEJ6AjQCLEIWggmB4kGaQYOBskFCgXaBP4DnQMWA1wC8gGyAacBmgGTAWcBJgHIAMQAxACXAGYAYwBjAGIAVQBFADMAKAAPAA4ADAACAA==",
          "dtype": "i2"
         },
         "yaxis": "y2"
        },
        {
         "name": "CB",
         "showlegend": false,
         "type": "box",
         "xaxis": "x2",
         "y": {
          "bdata": "vApiClUJoAcKB+MGkQUuC9sKcQryCcEJrAhCBcAElQTDAbABqAFZABQJqQWfA90ClQIoAYwKLwqWCY4FWgTZCQwI+gcPB8sGxwA=",
          "dtype": "i2"
         },
         "yaxis": "y2"
        },
        {
         "name": "DMF",
         "showlegend": false,
         "type": "box",
         "xaxis": "x2",
         "y": {
          "bdata": "QQpzCVYHsAYvBS0FSwPPAj8BHAFWAC8KWAk4CVMIdwedBpEFkgQOBAMElgEcAe8AFQCgCVoJtAjjBy8FKgFFADsAagk2CSAJ7AjpCNoI1gfSB+gFPAPUAvYBvgAbCDoHJAeNBoIGQAauA2IDSgNpAioCsQGpAZ0BwQBvACsAFwAGAA==",
          "dtype": "i2"
         },
         "yaxis": "y2"
        },
        {
         "name": "AMF",
         "showlegend": false,
         "type": "box",
         "xaxis": "x2",
         "y": {
          "bdata": "IgrvCEYIkgdIBxkH3QaXBYsFbQStA00COAKbAXMBRgEjARMB7wDLACgACgkGCZUIgAhkCKAGbAUKBZEEnwOYAsAAOAAvABkAQwkbCc0IUwiGBmgG+wQ1BPsDMgK1AS0BKAF9ABYAfgp/CbUIPwUEBVoEPgTsA3gDtgJLAQQBQgApAO8IhgjpB9AHKwfZBhADxAKKAl0CUwL9AKEAZAA/ACIA",
          "dtype": "i2"
         },
         "yaxis": "y2"
        },
        {
         "name": "CF",
         "showlegend": false,
         "type": "box",
         "xaxis": "x2",
         "y": {
          "bdata": "NAvDCroKoQpfCiUKCwoECvMJxwlrCTgJeAhgCC4IdwfrBsgGxgaaBpQG8AW9BYoFMAUHBf4E7wSeBGgEMATjA7UDpgOhA50DYQNeAwMDywKYAlwCUwJEAkIC8QHxAecB5QGvAa8BrgGkAZkBgQGBAUQBGQEPAfgA+ADuAOUAygDKAMoAvQCyAI0AggAgAAkACAAEAAIAOQsUC3QKUAo0CicKJgoJCrMJfwn5COUIXwhACDAIbgcuB/UG0AayBnEGBQbmBYAFagUbBfME6wTmBNcEiASBBEgENgQjBCAEAgT3A+oD4QOhA3ADZgMVA/kCrgKbApUCXQJYAj0CJQIVAp4BYAFgAVIBTQEsAQoB3ADaAF8AMAApABEADwAOAA0ABQBhC9oKxwqkCgsK0QktCYEIVghVCDsIGwieB2UHSQfBBqIGkAaFBnMGVgYaBtAFywXGBbQFTQUoBd0EkgTkA94DzgOKA/AC7gLkApMCbAJVAlQCQQI8AjMCHwIbAhACCwL7AekB3gGSAXwBewF7AVIBTgFLAUYBKAEXARABBQECAUIAMwAwACsAHQALANcLhAtMC7wKkQo+ChsKDwo7CZsIgwg4CAEIyQerB4YHXganBc0EsgShBHkEdQRzBGcEUQQ6BDIEIAQdBBoEDgQEBP0DjwNsA1QDPAMRA+QC4wLDAsACTgJHAjUC7wHqAbIBqgGkAXMBcAEqARgB5gDKAHYAdQA8ADkAMAAVAAsAUwhNCAkI/gfpB2AHNgfQBosGSQYzBhcGywWjBY8FgwV2BXQFXwVJBT8FFgXQBL0EiQSHBC4EIARsA1oDTwMoAw0D+AKXApECfwJ+AnACMgImAhwCEQL8AfgB8wHrAbsBmgGVAWsBZgFRATMBKgEfARYBEwEFAf8A+AD0AN8AwgDBAJ0AbgA0ACQAIQAfABkA",
          "dtype": "i2"
         },
         "yaxis": "y2"
        },
        {
         "box": {
          "visible": true
         },
         "name": "GK",
         "showlegend": false,
         "type": "violin",
         "xaxis": "x3",
         "y": {
          "bdata": "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",
          "dtype": "f8"
         },
         "yaxis": "y3"
        },
        {
         "box": {
          "visible": true
         },
         "name": "CB",
         "showlegend": false,
         "type": "violin",
         "xaxis": "x3",
         "y": {
          "bdata": "AAAAAAAAQUAAAAAAAAA/QAAAAAAAADxAAAAAAAAAPkAAAAAAAAA+QAAAAAAAAERAAAAAAACAQUAAAAAAAAA9QAAAAAAAgEFAAAAAAAAAOkAAAAAAAAA/QAAAAAAAADxAAAAAAAAAPUAAAAAAAABAQAAAAAAAAEBAAAAAAAAAPEAAAAAAAAA+QAAAAAAAAEJAAAAAAAAAQEAAAAAAAAA0QAAAAAAAgEBAAAAAAAAAP0AAAAAAAAA/QAAAAAAAgEBAAAAAAAAAM0AAAAAAAIBBQAAAAAAAAEJAAAAAAAAAOkAAAAAAAAA/QAAAAAAAAD9AAAAAAAAAQUAAAAAAAABAQAAAAAAAADxAAAAAAAAAOkAAAAAAAAA6QAAAAAAAgEFAAAAAAAAAOkA=",
          "dtype": "f8"
         },
         "yaxis": "y3"
        },
        {
         "box": {
          "visible": true
         },
         "name": "DMF",
         "showlegend": false,
         "type": "violin",
         "xaxis": "x3",
         "y": {
          "bdata": "AAAAAAAAPUAAAAAAAIBBQAAAAAAAADpAAAAAAAAAP0AAAAAAAAA7QAAAAAAAAD1AAAAAAAAAPUAAAAAAAAA+QAAAAAAAAD1AAAAAAAAAQkAAAAAAAAA2QAAAAAAAADdAAAAAAAAAPkAAAAAAAAA4QAAAAAAAAEFAAAAAAAAAPUAAAAAAAAA7QAAAAAAAADhAAAAAAAAAOUAAAAAAAAA/QAAAAAAAAEBAAAAAAAAANkAAAAAAAAA7QAAAAAAAADtAAAAAAAAAN0AAAAAAAAA9QAAAAAAAgEFAAAAAAAAAPkAAAAAAAABAQAAAAAAAAD5AAAAAAAAAP0AAAAAAAAA9QAAAAAAAADpAAAAAAAAAPUAAAAAAAAA4QAAAAAAAAEBAAAAAAACAQEAAAAAAAAA9QAAAAAAAAEBAAAAAAACAQEAAAAAAAAA9QAAAAAAAADtAAAAAAAAAOkAAAAAAAAA7QAAAAAAAAEFAAAAAAAAANEAAAAAAAAA+QAAAAAAAAD5AAAAAAAAAPEAAAAAAAIBFQAAAAAAAAEFAAAAAAAAAPEAAAAAAAABAQAAAAAAAADlAAAAAAACAQkAAAAAAAAA7QAAAAAAAADtAAAAAAAAAOkAAAAAAAAA0QAAAAAAAAD5AAAAAAAAANUAAAAAAAAA0QAAAAAAAADdAAAAAAAAAM0AAAAAAAABAQA==",
          "dtype": "f8"
         },
         "yaxis": "y3"
        },
        {
         "box": {
          "visible": true
         },
         "name": "AMF",
         "showlegend": false,
         "type": "violin",
         "xaxis": "x3",
         "y": {
          "bdata": "AAAAAAAAQUAAAAAAAAA+QAAAAAAAAD5AAAAAAACAQEAAAAAAAAA8QAAAAAAAAD5AAAAAAAAAN0AAAAAAAAA2QAAAAAAAADtAAAAAAAAAO0AAAAAAAAA4QAAAAAAAAD1AAAAAAAAAOkAAAAAAAAA5QAAAAAAAAEFAAAAAAAAAQkAAAAAAAAAzQAAAAAAAADtAAAAAAAAAN0AAAAAAAABBQAAAAAAAADVAAAAAAAAAP0AAAAAAAAA+QAAAAAAAgEFAAAAAAAAAOEAAAAAAAAA9QAAAAAAAAEBAAAAAAAAAOkAAAAAAAAA8QAAAAAAAADZAAAAAAAAAQEAAAAAAAAA8QAAAAAAAADRAAAAAAAAAO0AAAAAAAAAuQAAAAAAAAEFAAAAAAAAAQUAAAAAAAABAQAAAAAAAAEBAAAAAAACAQUAAAAAAAABCQAAAAAAAAD9AAAAAAAAAN0AAAAAAAAA7QAAAAAAAAEBAAAAAAAAAO0AAAAAAAAA7QAAAAAAAADFAAAAAAAAAP0AAAAAAAIBAQAAAAAAAADNAAAAAAAAAPkAAAAAAAABAQAAAAAAAAEJAAAAAAAAAP0AAAAAAAAA+QAAAAAAAgEJAAAAAAAAAMkAAAAAAAAA0QAAAAAAAADxAAAAAAAAANEAAAAAAAABAQAAAAAAAgEFAAAAAAAAAOUAAAAAAAAA1QAAAAAAAADhAAAAAAAAAP0AAAAAAAIBAQAAAAAAAADVAAAAAAAAAQkAAAAAAAAA/QAAAAAAAAD5AAAAAAAAAQUAAAAAAAAA+QAAAAAAAgEBAAAAAAAAANkAAAAAAAAAyQAAAAAAAAEBAAAAAAAAAP0AAAAAAAAA7QAAAAAAAADRA",
          "dtype": "f8"
         },
         "yaxis": "y3"
        },
        {
         "box": {
          "visible": true
         },
         "name": "CF",
         "showlegend": false,
         "type": "violin",
         "xaxis": "x3",
         "y": {
          "bdata": "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",
          "dtype": "f8"
         },
         "yaxis": "y3"
        }
       ],
       "layout": {
        "annotations": [
         {
          "font": {
           "size": 16
          },
          "showarrow": false,
          "text": "Distribución General por Posición",
          "x": 0.225,
          "xanchor": "center",
          "xref": "paper",
          "y": 1,
          "yanchor": "bottom",
          "yref": "paper"
         },
         {
          "font": {
           "size": 16
          },
          "showarrow": false,
          "text": "Evolución Temporal por Posición",
          "x": 0.775,
          "xanchor": "center",
          "xref": "paper",
          "y": 1,
          "yanchor": "bottom",
          "yref": "paper"
         },
         {
          "font": {
           "size": 16
          },
          "showarrow": false,
          "text": "Minutos Jugados por Posición",
          "x": 0.225,
          "xanchor": "center",
          "xref": "paper",
          "y": 0.375,
          "yanchor": "bottom",
          "yref": "paper"
         },
         {
          "font": {
           "size": 16
          },
          "showarrow": false,
          "text": "Experiencia (Edad) por Posición",
          "x": 0.775,
          "xanchor": "center",
          "xref": "paper",
          "y": 0.375,
          "yanchor": "bottom",
          "yref": "paper"
         }
        ],
        "height": 800,
        "template": {
         "data": {
          "bar": [
           {
            "error_x": {
             "color": "#2a3f5f"
            },
            "error_y": {
             "color": "#2a3f5f"
            },
            "marker": {
             "line": {
              "color": "white",
              "width": 0.5
             },
             "pattern": {
              "fillmode": "overlay",
              "size": 10,
              "solidity": 0.2
             }
            },
            "type": "bar"
           }
          ],
          "barpolar": [
           {
            "marker": {
             "line": {
              "color": "white",
              "width": 0.5
             },
             "pattern": {
              "fillmode": "overlay",
              "size": 10,
              "solidity": 0.2
             }
            },
            "type": "barpolar"
           }
          ],
          "carpet": [
           {
            "aaxis": {
             "endlinecolor": "#2a3f5f",
             "gridcolor": "#C8D4E3",
             "linecolor": "#C8D4E3",
             "minorgridcolor": "#C8D4E3",
             "startlinecolor": "#2a3f5f"
            },
            "baxis": {
             "endlinecolor": "#2a3f5f",
             "gridcolor": "#C8D4E3",
             "linecolor": "#C8D4E3",
             "minorgridcolor": "#C8D4E3",
             "startlinecolor": "#2a3f5f"
            },
            "type": "carpet"
           }
          ],
          "choropleth": [
           {
            "colorbar": {
             "outlinewidth": 0,
             "ticks": ""
            },
            "type": "choropleth"
           }
          ],
          "contour": [
           {
            "colorbar": {
             "outlinewidth": 0,
             "ticks": ""
            },
            "colorscale": [
             [
              0,
              "#0d0887"
             ],
             [
              0.1111111111111111,
              "#46039f"
             ],
             [
              0.2222222222222222,
              "#7201a8"
             ],
             [
              0.3333333333333333,
              "#9c179e"
             ],
             [
              0.4444444444444444,
              "#bd3786"
             ],
             [
              0.5555555555555556,
              "#d8576b"
             ],
             [
              0.6666666666666666,
              "#ed7953"
             ],
             [
              0.7777777777777778,
              "#fb9f3a"
             ],
             [
              0.8888888888888888,
              "#fdca26"
             ],
             [
              1,
              "#f0f921"
             ]
            ],
            "type": "contour"
           }
          ],
          "contourcarpet": [
           {
            "colorbar": {
             "outlinewidth": 0,
             "ticks": ""
            },
            "type": "contourcarpet"
           }
          ],
          "heatmap": [
           {
            "colorbar": {
             "outlinewidth": 0,
             "ticks": ""
            },
            "colorscale": [
             [
              0,
              "#0d0887"
             ],
             [
              0.1111111111111111,
              "#46039f"
             ],
             [
              0.2222222222222222,
              "#7201a8"
             ],
             [
              0.3333333333333333,
              "#9c179e"
             ],
             [
              0.4444444444444444,
              "#bd3786"
             ],
             [
              0.5555555555555556,
              "#d8576b"
             ],
             [
              0.6666666666666666,
              "#ed7953"
             ],
             [
              0.7777777777777778,
              "#fb9f3a"
             ],
             [
              0.8888888888888888,
              "#fdca26"
             ],
             [
              1,
              "#f0f921"
             ]
            ],
            "type": "heatmap"
           }
          ],
          "histogram": [
           {
            "marker": {
             "pattern": {
              "fillmode": "overlay",
              "size": 10,
              "solidity": 0.2
             }
            },
            "type": "histogram"
           }
          ],
          "histogram2d": [
           {
            "colorbar": {
             "outlinewidth": 0,
             "ticks": ""
            },
            "colorscale": [
             [
              0,
              "#0d0887"
             ],
             [
              0.1111111111111111,
              "#46039f"
             ],
             [
              0.2222222222222222,
              "#7201a8"
             ],
             [
              0.3333333333333333,
              "#9c179e"
             ],
             [
              0.4444444444444444,
              "#bd3786"
             ],
             [
              0.5555555555555556,
              "#d8576b"
             ],
             [
              0.6666666666666666,
              "#ed7953"
             ],
             [
              0.7777777777777778,
              "#fb9f3a"
             ],
             [
              0.8888888888888888,
              "#fdca26"
             ],
             [
              1,
              "#f0f921"
             ]
            ],
            "type": "histogram2d"
           }
          ],
          "histogram2dcontour": [
           {
            "colorbar": {
             "outlinewidth": 0,
             "ticks": ""
            },
            "colorscale": [
             [
              0,
              "#0d0887"
             ],
             [
              0.1111111111111111,
              "#46039f"
             ],
             [
              0.2222222222222222,
              "#7201a8"
             ],
             [
              0.3333333333333333,
              "#9c179e"
             ],
             [
              0.4444444444444444,
              "#bd3786"
             ],
             [
              0.5555555555555556,
              "#d8576b"
             ],
             [
              0.6666666666666666,
              "#ed7953"
             ],
             [
              0.7777777777777778,
              "#fb9f3a"
             ],
             [
              0.8888888888888888,
              "#fdca26"
             ],
             [
              1,
              "#f0f921"
             ]
            ],
            "type": "histogram2dcontour"
           }
          ],
          "mesh3d": [
           {
            "colorbar": {
             "outlinewidth": 0,
             "ticks": ""
            },
            "type": "mesh3d"
           }
          ],
          "parcoords": [
           {
            "line": {
             "colorbar": {
              "outlinewidth": 0,
              "ticks": ""
             }
            },
            "type": "parcoords"
           }
          ],
          "pie": [
           {
            "automargin": true,
            "type": "pie"
           }
          ],
          "scatter": [
           {
            "fillpattern": {
             "fillmode": "overlay",
             "size": 10,
             "solidity": 0.2
            },
            "type": "scatter"
           }
          ],
          "scatter3d": [
           {
            "line": {
             "colorbar": {
              "outlinewidth": 0,
              "ticks": ""
             }
            },
            "marker": {
             "colorbar": {
              "outlinewidth": 0,
              "ticks": ""
             }
            },
            "type": "scatter3d"
           }
          ],
          "scattercarpet": [
           {
            "marker": {
             "colorbar": {
              "outlinewidth": 0,
              "ticks": ""
             }
            },
            "type": "scattercarpet"
           }
          ],
          "scattergeo": [
           {
            "marker": {
             "colorbar": {
              "outlinewidth": 0,
              "ticks": ""
             }
            },
            "type": "scattergeo"
           }
          ],
          "scattergl": [
           {
            "marker": {
             "colorbar": {
              "outlinewidth": 0,
              "ticks": ""
             }
            },
            "type": "scattergl"
           }
          ],
          "scattermap": [
           {
            "marker": {
             "colorbar": {
              "outlinewidth": 0,
              "ticks": ""
             }
            },
            "type": "scattermap"
           }
          ],
          "scattermapbox": [
           {
            "marker": {
             "colorbar": {
              "outlinewidth": 0,
              "ticks": ""
             }
            },
            "type": "scattermapbox"
           }
          ],
          "scatterpolar": [
           {
            "marker": {
             "colorbar": {
              "outlinewidth": 0,
              "ticks": ""
             }
            },
            "type": "scatterpolar"
           }
          ],
          "scatterpolargl": [
           {
            "marker": {
             "colorbar": {
              "outlinewidth": 0,
              "ticks": ""
             }
            },
            "type": "scatterpolargl"
           }
          ],
          "scatterternary": [
           {
            "marker": {
             "colorbar": {
              "outlinewidth": 0,
              "ticks": ""
             }
            },
            "type": "scatterternary"
           }
          ],
          "surface": [
           {
            "colorbar": {
             "outlinewidth": 0,
             "ticks": ""
            },
            "colorscale": [
             [
              0,
              "#0d0887"
             ],
             [
              0.1111111111111111,
              "#46039f"
             ],
             [
              0.2222222222222222,
              "#7201a8"
             ],
             [
              0.3333333333333333,
              "#9c179e"
             ],
             [
              0.4444444444444444,
              "#bd3786"
             ],
             [
              0.5555555555555556,
              "#d8576b"
             ],
             [
              0.6666666666666666,
              "#ed7953"
             ],
             [
              0.7777777777777778,
              "#fb9f3a"
             ],
             [
              0.8888888888888888,
              "#fdca26"
             ],
             [
              1,
              "#f0f921"
             ]
            ],
            "type": "surface"
           }
          ],
          "table": [
           {
            "cells": {
             "fill": {
              "color": "#EBF0F8"
             },
             "line": {
              "color": "white"
             }
            },
            "header": {
             "fill": {
              "color": "#C8D4E3"
             },
             "line": {
              "color": "white"
             }
            },
            "type": "table"
           }
          ]
         },
         "layout": {
          "annotationdefaults": {
           "arrowcolor": "#2a3f5f",
           "arrowhead": 0,
           "arrowwidth": 1
          },
          "autotypenumbers": "strict",
          "coloraxis": {
           "colorbar": {
            "outlinewidth": 0,
            "ticks": ""
           }
          },
          "colorscale": {
           "diverging": [
            [
             0,
             "#8e0152"
            ],
            [
             0.1,
             "#c51b7d"
            ],
            [
             0.2,
             "#de77ae"
            ],
            [
             0.3,
             "#f1b6da"
            ],
            [
             0.4,
             "#fde0ef"
            ],
            [
             0.5,
             "#f7f7f7"
            ],
            [
             0.6,
             "#e6f5d0"
            ],
            [
             0.7,
             "#b8e186"
            ],
            [
             0.8,
             "#7fbc41"
            ],
            [
             0.9,
             "#4d9221"
            ],
            [
             1,
             "#276419"
            ]
           ],
           "sequential": [
            [
             0,
             "#0d0887"
            ],
            [
             0.1111111111111111,
             "#46039f"
            ],
            [
             0.2222222222222222,
             "#7201a8"
            ],
            [
             0.3333333333333333,
             "#9c179e"
            ],
            [
             0.4444444444444444,
             "#bd3786"
            ],
            [
             0.5555555555555556,
             "#d8576b"
            ],
            [
             0.6666666666666666,
             "#ed7953"
            ],
            [
             0.7777777777777778,
             "#fb9f3a"
            ],
            [
             0.8888888888888888,
             "#fdca26"
            ],
            [
             1,
             "#f0f921"
            ]
           ],
           "sequentialminus": [
            [
             0,
             "#0d0887"
            ],
            [
             0.1111111111111111,
             "#46039f"
            ],
            [
             0.2222222222222222,
             "#7201a8"
            ],
            [
             0.3333333333333333,
             "#9c179e"
            ],
            [
             0.4444444444444444,
             "#bd3786"
            ],
            [
             0.5555555555555556,
             "#d8576b"
            ],
            [
             0.6666666666666666,
             "#ed7953"
            ],
            [
             0.7777777777777778,
             "#fb9f3a"
            ],
            [
             0.8888888888888888,
             "#fdca26"
            ],
            [
             1,
             "#f0f921"
            ]
           ]
          },
          "colorway": [
           "#636efa",
           "#EF553B",
           "#00cc96",
           "#ab63fa",
           "#FFA15A",
           "#19d3f3",
           "#FF6692",
           "#B6E880",
           "#FF97FF",
           "#FECB52"
          ],
          "font": {
           "color": "#2a3f5f"
          },
          "geo": {
           "bgcolor": "white",
           "lakecolor": "white",
           "landcolor": "white",
           "showlakes": true,
           "showland": true,
           "subunitcolor": "#C8D4E3"
          },
          "hoverlabel": {
           "align": "left"
          },
          "hovermode": "closest",
          "mapbox": {
           "style": "light"
          },
          "paper_bgcolor": "white",
          "plot_bgcolor": "white",
          "polar": {
           "angularaxis": {
            "gridcolor": "#EBF0F8",
            "linecolor": "#EBF0F8",
            "ticks": ""
           },
           "bgcolor": "white",
           "radialaxis": {
            "gridcolor": "#EBF0F8",
            "linecolor": "#EBF0F8",
            "ticks": ""
           }
          },
          "scene": {
           "xaxis": {
            "backgroundcolor": "white",
            "gridcolor": "#DFE8F3",
            "gridwidth": 2,
            "linecolor": "#EBF0F8",
            "showbackground": true,
            "ticks": "",
            "zerolinecolor": "#EBF0F8"
           },
           "yaxis": {
            "backgroundcolor": "white",
            "gridcolor": "#DFE8F3",
            "gridwidth": 2,
            "linecolor": "#EBF0F8",
            "showbackground": true,
            "ticks": "",
            "zerolinecolor": "#EBF0F8"
           },
           "zaxis": {
            "backgroundcolor": "white",
            "gridcolor": "#DFE8F3",
            "gridwidth": 2,
            "linecolor": "#EBF0F8",
            "showbackground": true,
            "ticks": "",
            "zerolinecolor": "#EBF0F8"
           }
          },
          "shapedefaults": {
           "line": {
            "color": "#2a3f5f"
           }
          },
          "ternary": {
           "aaxis": {
            "gridcolor": "#DFE8F3",
            "linecolor": "#A2B1C6",
            "ticks": ""
           },
           "baxis": {
            "gridcolor": "#DFE8F3",
            "linecolor": "#A2B1C6",
            "ticks": ""
           },
           "bgcolor": "white",
           "caxis": {
            "gridcolor": "#DFE8F3",
            "linecolor": "#A2B1C6",
            "ticks": ""
           }
          },
          "title": {
           "x": 0.05
          },
          "xaxis": {
           "automargin": true,
           "gridcolor": "#EBF0F8",
           "linecolor": "#EBF0F8",
           "ticks": "",
           "title": {
            "standoff": 15
           },
           "zerolinecolor": "#EBF0F8",
           "zerolinewidth": 2
          },
          "yaxis": {
           "automargin": true,
           "gridcolor": "#EBF0F8",
           "linecolor": "#EBF0F8",
           "ticks": "",
           "title": {
            "standoff": 15
           },
           "zerolinecolor": "#EBF0F8",
           "zerolinewidth": 2
          }
         }
        },
        "title": {
         "text": "⚽ Análisis Integral por Posiciones - Liga Tailandesa",
         "x": 0.5
        },
        "xaxis": {
         "anchor": "y",
         "domain": [
          0.55,
          1
         ],
         "title": {
          "text": "Temporada"
         }
        },
        "xaxis2": {
         "anchor": "y2",
         "domain": [
          0,
          0.45
         ]
        },
        "xaxis3": {
         "anchor": "y3",
         "domain": [
          0.55,
          1
         ]
        },
        "yaxis": {
         "anchor": "x",
         "domain": [
          0.625,
          1
         ],
         "title": {
          "text": "Número de Jugadores"
         }
        },
        "yaxis2": {
         "anchor": "x2",
         "domain": [
          0,
          0.375
         ],
         "title": {
          "text": "Minutos Jugados"
         }
        },
        "yaxis3": {
         "anchor": "x3",
         "domain": [
          0,
          0.375
         ],
         "title": {
          "text": "Edad (años)"
         }
        }
       }
      }
     },
     "metadata": {},
     "output_type": "display_data"
    },
    {
     "name": "stdout",
     "output_type": "stream",
     "text": [
      "\n",
      "📊 ESTADÍSTICAS DESCRIPTIVAS POR POSICIÓN:\n",
      "============================================================\n",
      "\n",
      "🏃‍♂️ Portero (GK)\n",
      "   📊 Cantidad: 191 jugadores\n",
      "   📈 age: 29.5 ± 4.9 [16-41]\n",
      "   📈 height: 159.6 ± 60.8 [0-193]\n",
      "   📈 weight: 45.7 ± 37.1 [0-90]\n",
      "   📈 matches_played: 12.4 ± 9.8 [1-30]\n",
      "   📈 minutes_played: 1202.0 ± 983.2 [2-3037]\n",
      "   📈 goals: 0.0 ± 0.0 [0-0]\n",
      "   📈 assists: 0.0 ± 0.2 [0-1]\n",
      "\n",
      "🏃‍♂️ Central (CB)\n",
      "   📊 Cantidad: 37 jugadores\n",
      "   📈 age: 30.5 ± 4.3 [19-40]\n",
      "   📈 height: 156.0 ± 69.8 [0-202]\n",
      "   📈 weight: 50.9 ± 38.4 [0-90]\n",
      "   📈 matches_played: 19.4 ± 7.8 [2-30]\n",
      "   📈 minutes_played: 1689.2 ± 862.6 [89-2862]\n",
      "   📈 goals: 1.5 ± 3.0 [0-15]\n",
      "   📈 assists: 0.2 ± 0.4 [0-1]\n",
      "\n",
      "🏃‍♂️ Mediocentro Defensivo (DMF)\n",
      "   📊 Cantidad: 65 jugadores\n",
      "   📈 age: 28.5 ± 4.6 [19-43]\n",
      "   📈 height: 135.5 ± 75.0 [0-186]\n",
      "   📈 weight: 25.8 ± 33.1 [0-78]\n",
      "   📈 matches_played: 17.1 ± 9.1 [1-29]\n",
      "   📈 minutes_played: 1245.6 ± 866.1 [6-2625]\n",
      "   📈 goals: 0.7 ± 1.4 [0-9]\n",
      "   📈 assists: 0.9 ± 1.4 [0-6]\n",
      "\n",
      "🏃‍♂️ Mediocentro Ofensivo (AMF)\n",
      "   📊 Cantidad: 81 jugadores\n",
      "   📈 age: 28.1 ± 5.4 [15-37]\n",
      "   📈 height: 142.5 ± 68.6 [0-192]\n",
      "   📈 weight: 35.0 ± 34.3 [0-90]\n",
      "   📈 matches_played: 16.2 ± 8.9 [1-30]\n",
      "   📈 minutes_played: 1113.7 ± 830.7 [22-2686]\n",
      "   📈 goals: 2.7 ± 3.3 [0-15]\n",
      "   📈 assists: 1.8 ± 2.0 [0-9]\n",
      "\n",
      "🏃‍♂️ Delantero Centro (CF)\n",
      "   📊 Cantidad: 351 jugadores\n",
      "   📈 age: 29.1 ± 5.0 [16-52]\n",
      "   📈 height: 165.6 ± 51.9 [0-203]\n",
      "   📈 weight: 46.2 ± 37.7 [0-95]\n",
      "   📈 matches_played: 15.4 ± 8.5 [1-30]\n",
      "   📈 minutes_played: 1063.0 ± 812.9 [2-3031]\n",
      "   📈 goals: 4.3 ± 4.9 [0-25]\n",
      "   📈 assists: 1.2 ± 1.7 [0-7]\n"
     ]
    }
   ],
   "source": [
    "def create_position_analysis(df):\n",
    "    \"\"\"\n",
    "    Crea análisis completo de distribución por posiciones.\n",
    "    \n",
    "    Args:\n",
    "        df (pd.DataFrame): Dataset de la Liga Tailandesa\n",
    "    \"\"\"\n",
    "    \n",
    "    # Preparar datos de posiciones\n",
    "    position_data = df[df['Primary position'].notna()].copy()\n",
    "    \n",
    "    # Definir orden jerárquico de posiciones\n",
    "    position_order = ['GK', 'CB', 'FB', 'DMF', 'CMF', 'AMF', 'W', 'CF']\n",
    "    position_names = {\n",
    "        'GK': 'Portero',\n",
    "        'CB': 'Central',\n",
    "        'FB': 'Lateral',\n",
    "        'DMF': 'Mediocentro Defensivo',\n",
    "        'CMF': 'Mediocentro',\n",
    "        'AMF': 'Mediocentro Ofensivo',\n",
    "        'W': 'Extremo',\n",
    "        'CF': 'Delantero Centro'\n",
    "    }\n",
    "    \n",
    "    # Crear visualización multi-panel\n",
    "    fig = make_subplots(\n",
    "        rows=2, cols=2,\n",
    "        subplot_titles=[\n",
    "            \"Distribución General por Posición\",\n",
    "            \"Evolución Temporal por Posición\",\n",
    "            \"Minutos Jugados por Posición\",\n",
    "            \"Experiencia (Edad) por Posición\"\n",
    "        ],\n",
    "        specs=[[{\"type\": \"pie\"}, {\"type\": \"scatter\"}],\n",
    "               [{\"type\": \"box\"}, {\"type\": \"violin\"}]]\n",
    "    )\n",
    "    \n",
    "    # 1. Pie chart - Distribución general\n",
    "    position_counts = position_data['Primary position'].value_counts()\n",
    "    \n",
    "    fig.add_trace(\n",
    "        go.Pie(\n",
    "            labels=[position_names.get(pos, pos) for pos in position_counts.index],\n",
    "            values=position_counts.values,\n",
    "            hole=0.3,\n",
    "            showlegend=True\n",
    "        ),\n",
    "        row=1, col=1\n",
    "    )\n",
    "    \n",
    "    # 2. Líneas temporales por posición\n",
    "    if 'season' in df.columns:\n",
    "        season_position = position_data.groupby(['season', 'Primary position']).size().reset_index(name='count')\n",
    "        \n",
    "        colors = px.colors.qualitative.Set3[:len(position_order)]\n",
    "        \n",
    "        for i, position in enumerate(position_order):\n",
    "            if position in season_position['Primary position'].values:\n",
    "                pos_data = season_position[season_position['Primary position'] == position]\n",
    "                fig.add_trace(\n",
    "                    go.Scatter(\n",
    "                        x=pos_data['season'],\n",
    "                        y=pos_data['count'],\n",
    "                        mode='lines+markers',\n",
    "                        name=position_names.get(position, position),\n",
    "                        line=dict(color=colors[i]),\n",
    "                        showlegend=False\n",
    "                    ),\n",
    "                    row=1, col=2\n",
    "                )\n",
    "    \n",
    "    # 3. Box plot - Minutos por posición\n",
    "    if 'minutes_played' in df.columns:\n",
    "        for position in position_order:\n",
    "            if position in position_data['Primary position'].values:\n",
    "                pos_minutes = position_data[position_data['Primary position'] == position]['minutes_played'].dropna()\n",
    "                if len(pos_minutes) > 0:\n",
    "                    fig.add_trace(\n",
    "                        go.Box(\n",
    "                            y=pos_minutes,\n",
    "                            name=position,\n",
    "                            showlegend=False\n",
    "                        ),\n",
    "                        row=2, col=1\n",
    "                    )\n",
    "    \n",
    "    # 4. Violin plot - Edad por posición\n",
    "    if 'age' in df.columns:\n",
    "        for position in position_order:\n",
    "            if position in position_data['Primary position'].values:\n",
    "                pos_ages = position_data[position_data['Primary position'] == position]['age'].dropna()\n",
    "                if len(pos_ages) > 0:\n",
    "                    fig.add_trace(\n",
    "                        go.Violin(\n",
    "                            y=pos_ages,\n",
    "                            name=position,\n",
    "                            showlegend=False,\n",
    "                            box_visible=True\n",
    "                        ),\n",
    "                        row=2, col=2\n",
    "                    )\n",
    "    \n",
    "    # Actualizar layout\n",
    "    fig.update_layout(\n",
    "        height=800,\n",
    "        title_text=\"⚽ Análisis Integral por Posiciones - Liga Tailandesa\",\n",
    "        title_x=0.5\n",
    "    )\n",
    "    \n",
    "    # Actualizar ejes\n",
    "    fig.update_xaxes(title_text=\"Temporada\", row=1, col=2)\n",
    "    fig.update_yaxes(title_text=\"Número de Jugadores\", row=1, col=2)\n",
    "    fig.update_yaxes(title_text=\"Minutos Jugados\", row=2, col=1)\n",
    "    fig.update_yaxes(title_text=\"Edad (años)\", row=2, col=2)\n",
    "    \n",
    "    fig.show()\n",
    "    \n",
    "    # Generar estadísticas descriptivas por posición\n",
    "    print(\"\\n📊 ESTADÍSTICAS DESCRIPTIVAS POR POSICIÓN:\")\n",
    "    print(\"=\" * 60)\n",
    "    \n",
    "    key_metrics = ['age', 'height', 'weight', 'matches_played', 'minutes_played', 'goals', 'assists']\n",
    "    available_metrics = [col for col in key_metrics if col in df.columns]\n",
    "    \n",
    "    for position in position_order:\n",
    "        if position in position_data['Primary position'].values:\n",
    "            pos_df = position_data[position_data['Primary position'] == position]\n",
    "            print(f\"\\n🏃‍♂️ {position_names.get(position, position)} ({position})\")\n",
    "            print(f\"   📊 Cantidad: {len(pos_df)} jugadores\")\n",
    "            \n",
    "            for metric in available_metrics:\n",
    "                if metric in pos_df.columns:\n",
    "                    values = pos_df[metric].dropna()\n",
    "                    if len(values) > 0:\n",
    "                        print(f\"   📈 {metric}: {values.mean():.1f} ± {values.std():.1f} [{values.min():.0f}-{values.max():.0f}]\")\n",
    "\n",
    "# Ejecutar análisis por posiciones\n",
    "if df_thai is not None:\n",
    "    print(\"🔄 Generando análisis por posiciones...\")\n",
    "    create_position_analysis(df_thai)"
   ]
  },
  {
   "cell_type": "markdown",
   "metadata": {},
   "source": [
    "### 5.2 Perfiles de Rendimiento por Posición"
   ]
  },
  {
   "cell_type": "code",
   "execution_count": 7,
   "metadata": {},
   "outputs": [
    {
     "name": "stdout",
     "output_type": "stream",
     "text": [
      "🔄 Generando perfiles de rendimiento por posición...\n",
      "🔍 Métricas disponibles para análisis:\n",
      "   GK: ['goals_conceded_per_90']\n",
      "   CB: ['goals_per_90', 'assists_per_90', 'shots_per_90']\n",
      "   FB: ['crosses_per_90', 'forward_passes_per_90']\n",
      "   DMF: ['interceptions_per_90']\n",
      "   CMF: ['passes_per_90', 'progressive_passes_per_90']\n",
      "   AMF: ['key_passes_per_90', 'assists_per_90', 'progressive_passes_per_90']\n",
      "   W: ['crosses_per_90', 'assists_per_90']\n",
      "   CF: ['goals_per_90']\n"
     ]
    },
    {
     "data": {
      "application/vnd.plotly.v1+json": {
       "config": {
        "plotlyServerURL": "https://plot.ly"
       },
       "data": [
        {
         "fill": "toself",
         "name": "GK",
         "r": [
          100
         ],
         "showlegend": false,
         "subplot": "polar",
         "theta": [
          "Goals Conceded/"
         ],
         "type": "scatterpolar"
        },
        {
         "fill": "toself",
         "name": "CB",
         "r": [
          12.903225806451612,
          0,
          100
         ],
         "showlegend": false,
         "subplot": "polar2",
         "theta": [
          "Goals/90",
          "Assists/90",
          "Shots/90"
         ],
         "type": "scatterpolar"
        },
        {
         "fill": "toself",
         "name": "DMF",
         "r": [
          100
         ],
         "showlegend": false,
         "subplot": "polar4",
         "theta": [
          "Interceptions/9"
         ],
         "type": "scatterpolar"
        },
        {
         "fill": "toself",
         "name": "AMF",
         "r": [
          9.648370497427102,
          3.430531732418525,
          100
         ],
         "showlegend": false,
         "subplot": "polar6",
         "theta": [
          "Key Passes/90",
          "Assists/90",
          "Progressive Pas"
         ],
         "type": "scatterpolar"
        },
        {
         "fill": "toself",
         "name": "CF",
         "r": [
          100
         ],
         "showlegend": false,
         "subplot": "polar8",
         "theta": [
          "Goals/90"
         ],
         "type": "scatterpolar"
        }
       ],
       "layout": {
        "annotations": [
         {
          "font": {
           "size": 16
          },
          "showarrow": false,
          "text": "GK - Perfil de Rendimiento",
          "x": 0.10625,
          "xanchor": "center",
          "xref": "paper",
          "y": 1,
          "yanchor": "bottom",
          "yref": "paper"
         },
         {
          "font": {
           "size": 16
          },
          "showarrow": false,
          "text": "CB - Perfil de Rendimiento",
          "x": 0.36875,
          "xanchor": "center",
          "xref": "paper",
          "y": 1,
          "yanchor": "bottom",
          "yref": "paper"
         },
         {
          "font": {
           "size": 16
          },
          "showarrow": false,
          "text": "FB - Perfil de Rendimiento",
          "x": 0.6312500000000001,
          "xanchor": "center",
          "xref": "paper",
          "y": 1,
          "yanchor": "bottom",
          "yref": "paper"
         },
         {
          "font": {
           "size": 16
          },
          "showarrow": false,
          "text": "DMF - Perfil de Rendimiento",
          "x": 0.89375,
          "xanchor": "center",
          "xref": "paper",
          "y": 1,
          "yanchor": "bottom",
          "yref": "paper"
         },
         {
          "font": {
           "size": 16
          },
          "showarrow": false,
          "text": "CMF - Perfil de Rendimiento",
          "x": 0.10625,
          "xanchor": "center",
          "xref": "paper",
          "y": 0.375,
          "yanchor": "bottom",
          "yref": "paper"
         },
         {
          "font": {
           "size": 16
          },
          "showarrow": false,
          "text": "AMF - Perfil de Rendimiento",
          "x": 0.36875,
          "xanchor": "center",
          "xref": "paper",
          "y": 0.375,
          "yanchor": "bottom",
          "yref": "paper"
         },
         {
          "font": {
           "size": 16
          },
          "showarrow": false,
          "text": "W - Perfil de Rendimiento",
          "x": 0.6312500000000001,
          "xanchor": "center",
          "xref": "paper",
          "y": 0.375,
          "yanchor": "bottom",
          "yref": "paper"
         },
         {
          "font": {
           "size": 16
          },
          "showarrow": false,
          "text": "CF - Perfil de Rendimiento",
          "x": 0.89375,
          "xanchor": "center",
          "xref": "paper",
          "y": 0.375,
          "yanchor": "bottom",
          "yref": "paper"
         }
        ],
        "height": 600,
        "polar": {
         "domain": {
          "x": [
           0,
           0.2125
          ],
          "y": [
           0.625,
           1
          ]
         }
        },
        "polar2": {
         "domain": {
          "x": [
           0.2625,
           0.475
          ],
          "y": [
           0.625,
           1
          ]
         }
        },
        "polar3": {
         "domain": {
          "x": [
           0.525,
           0.7375
          ],
          "y": [
           0.625,
           1
          ]
         }
        },
        "polar4": {
         "domain": {
          "x": [
           0.7875,
           1
          ],
          "y": [
           0.625,
           1
          ]
         }
        },
        "polar5": {
         "domain": {
          "x": [
           0,
           0.2125
          ],
          "y": [
           0,
           0.375
          ]
         }
        },
        "polar6": {
         "domain": {
          "x": [
           0.2625,
           0.475
          ],
          "y": [
           0,
           0.375
          ]
         }
        },
        "polar7": {
         "domain": {
          "x": [
           0.525,
           0.7375
          ],
          "y": [
           0,
           0.375
          ]
         }
        },
        "polar8": {
         "domain": {
          "x": [
           0.7875,
           1
          ],
          "y": [
           0,
           0.375
          ]
         }
        },
        "template": {
         "data": {
          "bar": [
           {
            "error_x": {
             "color": "#2a3f5f"
            },
            "error_y": {
             "color": "#2a3f5f"
            },
            "marker": {
             "line": {
              "color": "white",
              "width": 0.5
             },
             "pattern": {
              "fillmode": "overlay",
              "size": 10,
              "solidity": 0.2
             }
            },
            "type": "bar"
           }
          ],
          "barpolar": [
           {
            "marker": {
             "line": {
              "color": "white",
              "width": 0.5
             },
             "pattern": {
              "fillmode": "overlay",
              "size": 10,
              "solidity": 0.2
             }
            },
            "type": "barpolar"
           }
          ],
          "carpet": [
           {
            "aaxis": {
             "endlinecolor": "#2a3f5f",
             "gridcolor": "#C8D4E3",
             "linecolor": "#C8D4E3",
             "minorgridcolor": "#C8D4E3",
             "startlinecolor": "#2a3f5f"
            },
            "baxis": {
             "endlinecolor": "#2a3f5f",
             "gridcolor": "#C8D4E3",
             "linecolor": "#C8D4E3",
             "minorgridcolor": "#C8D4E3",
             "startlinecolor": "#2a3f5f"
            },
            "type": "carpet"
           }
          ],
          "choropleth": [
           {
            "colorbar": {
             "outlinewidth": 0,
             "ticks": ""
            },
            "type": "choropleth"
           }
          ],
          "contour": [
           {
            "colorbar": {
             "outlinewidth": 0,
             "ticks": ""
            },
            "colorscale": [
             [
              0,
              "#0d0887"
             ],
             [
              0.1111111111111111,
              "#46039f"
             ],
             [
              0.2222222222222222,
              "#7201a8"
             ],
             [
              0.3333333333333333,
              "#9c179e"
             ],
             [
              0.4444444444444444,
              "#bd3786"
             ],
             [
              0.5555555555555556,
              "#d8576b"
             ],
             [
              0.6666666666666666,
              "#ed7953"
             ],
             [
              0.7777777777777778,
              "#fb9f3a"
             ],
             [
              0.8888888888888888,
              "#fdca26"
             ],
             [
              1,
              "#f0f921"
             ]
            ],
            "type": "contour"
           }
          ],
          "contourcarpet": [
           {
            "colorbar": {
             "outlinewidth": 0,
             "ticks": ""
            },
            "type": "contourcarpet"
           }
          ],
          "heatmap": [
           {
            "colorbar": {
             "outlinewidth": 0,
             "ticks": ""
            },
            "colorscale": [
             [
              0,
              "#0d0887"
             ],
             [
              0.1111111111111111,
              "#46039f"
             ],
             [
              0.2222222222222222,
              "#7201a8"
             ],
             [
              0.3333333333333333,
              "#9c179e"
             ],
             [
              0.4444444444444444,
              "#bd3786"
             ],
             [
              0.5555555555555556,
              "#d8576b"
             ],
             [
              0.6666666666666666,
              "#ed7953"
             ],
             [
              0.7777777777777778,
              "#fb9f3a"
             ],
             [
              0.8888888888888888,
              "#fdca26"
             ],
             [
              1,
              "#f0f921"
             ]
            ],
            "type": "heatmap"
           }
          ],
          "histogram": [
           {
            "marker": {
             "pattern": {
              "fillmode": "overlay",
              "size": 10,
              "solidity": 0.2
             }
            },
            "type": "histogram"
           }
          ],
          "histogram2d": [
           {
            "colorbar": {
             "outlinewidth": 0,
             "ticks": ""
            },
            "colorscale": [
             [
              0,
              "#0d0887"
             ],
             [
              0.1111111111111111,
              "#46039f"
             ],
             [
              0.2222222222222222,
              "#7201a8"
             ],
             [
              0.3333333333333333,
              "#9c179e"
             ],
             [
              0.4444444444444444,
              "#bd3786"
             ],
             [
              0.5555555555555556,
              "#d8576b"
             ],
             [
              0.6666666666666666,
              "#ed7953"
             ],
             [
              0.7777777777777778,
              "#fb9f3a"
             ],
             [
              0.8888888888888888,
              "#fdca26"
             ],
             [
              1,
              "#f0f921"
             ]
            ],
            "type": "histogram2d"
           }
          ],
          "histogram2dcontour": [
           {
            "colorbar": {
             "outlinewidth": 0,
             "ticks": ""
            },
            "colorscale": [
             [
              0,
              "#0d0887"
             ],
             [
              0.1111111111111111,
              "#46039f"
             ],
             [
              0.2222222222222222,
              "#7201a8"
             ],
             [
              0.3333333333333333,
              "#9c179e"
             ],
             [
              0.4444444444444444,
              "#bd3786"
             ],
             [
              0.5555555555555556,
              "#d8576b"
             ],
             [
              0.6666666666666666,
              "#ed7953"
             ],
             [
              0.7777777777777778,
              "#fb9f3a"
             ],
             [
              0.8888888888888888,
              "#fdca26"
             ],
             [
              1,
              "#f0f921"
             ]
            ],
            "type": "histogram2dcontour"
           }
          ],
          "mesh3d": [
           {
            "colorbar": {
             "outlinewidth": 0,
             "ticks": ""
            },
            "type": "mesh3d"
           }
          ],
          "parcoords": [
           {
            "line": {
             "colorbar": {
              "outlinewidth": 0,
              "ticks": ""
             }
            },
            "type": "parcoords"
           }
          ],
          "pie": [
           {
            "automargin": true,
            "type": "pie"
           }
          ],
          "scatter": [
           {
            "fillpattern": {
             "fillmode": "overlay",
             "size": 10,
             "solidity": 0.2
            },
            "type": "scatter"
           }
          ],
          "scatter3d": [
           {
            "line": {
             "colorbar": {
              "outlinewidth": 0,
              "ticks": ""
             }
            },
            "marker": {
             "colorbar": {
              "outlinewidth": 0,
              "ticks": ""
             }
            },
            "type": "scatter3d"
           }
          ],
          "scattercarpet": [
           {
            "marker": {
             "colorbar": {
              "outlinewidth": 0,
              "ticks": ""
             }
            },
            "type": "scattercarpet"
           }
          ],
          "scattergeo": [
           {
            "marker": {
             "colorbar": {
              "outlinewidth": 0,
              "ticks": ""
             }
            },
            "type": "scattergeo"
           }
          ],
          "scattergl": [
           {
            "marker": {
             "colorbar": {
              "outlinewidth": 0,
              "ticks": ""
             }
            },
            "type": "scattergl"
           }
          ],
          "scattermap": [
           {
            "marker": {
             "colorbar": {
              "outlinewidth": 0,
              "ticks": ""
             }
            },
            "type": "scattermap"
           }
          ],
          "scattermapbox": [
           {
            "marker": {
             "colorbar": {
              "outlinewidth": 0,
              "ticks": ""
             }
            },
            "type": "scattermapbox"
           }
          ],
          "scatterpolar": [
           {
            "marker": {
             "colorbar": {
              "outlinewidth": 0,
              "ticks": ""
             }
            },
            "type": "scatterpolar"
           }
          ],
          "scatterpolargl": [
           {
            "marker": {
             "colorbar": {
              "outlinewidth": 0,
              "ticks": ""
             }
            },
            "type": "scatterpolargl"
           }
          ],
          "scatterternary": [
           {
            "marker": {
             "colorbar": {
              "outlinewidth": 0,
              "ticks": ""
             }
            },
            "type": "scatterternary"
           }
          ],
          "surface": [
           {
            "colorbar": {
             "outlinewidth": 0,
             "ticks": ""
            },
            "colorscale": [
             [
              0,
              "#0d0887"
             ],
             [
              0.1111111111111111,
              "#46039f"
             ],
             [
              0.2222222222222222,
              "#7201a8"
             ],
             [
              0.3333333333333333,
              "#9c179e"
             ],
             [
              0.4444444444444444,
              "#bd3786"
             ],
             [
              0.5555555555555556,
              "#d8576b"
             ],
             [
              0.6666666666666666,
              "#ed7953"
             ],
             [
              0.7777777777777778,
              "#fb9f3a"
             ],
             [
              0.8888888888888888,
              "#fdca26"
             ],
             [
              1,
              "#f0f921"
             ]
            ],
            "type": "surface"
           }
          ],
          "table": [
           {
            "cells": {
             "fill": {
              "color": "#EBF0F8"
             },
             "line": {
              "color": "white"
             }
            },
            "header": {
             "fill": {
              "color": "#C8D4E3"
             },
             "line": {
              "color": "white"
             }
            },
            "type": "table"
           }
          ]
         },
         "layout": {
          "annotationdefaults": {
           "arrowcolor": "#2a3f5f",
           "arrowhead": 0,
           "arrowwidth": 1
          },
          "autotypenumbers": "strict",
          "coloraxis": {
           "colorbar": {
            "outlinewidth": 0,
            "ticks": ""
           }
          },
          "colorscale": {
           "diverging": [
            [
             0,
             "#8e0152"
            ],
            [
             0.1,
             "#c51b7d"
            ],
            [
             0.2,
             "#de77ae"
            ],
            [
             0.3,
             "#f1b6da"
            ],
            [
             0.4,
             "#fde0ef"
            ],
            [
             0.5,
             "#f7f7f7"
            ],
            [
             0.6,
             "#e6f5d0"
            ],
            [
             0.7,
             "#b8e186"
            ],
            [
             0.8,
             "#7fbc41"
            ],
            [
             0.9,
             "#4d9221"
            ],
            [
             1,
             "#276419"
            ]
           ],
           "sequential": [
            [
             0,
             "#0d0887"
            ],
            [
             0.1111111111111111,
             "#46039f"
            ],
            [
             0.2222222222222222,
             "#7201a8"
            ],
            [
             0.3333333333333333,
             "#9c179e"
            ],
            [
             0.4444444444444444,
             "#bd3786"
            ],
            [
             0.5555555555555556,
             "#d8576b"
            ],
            [
             0.6666666666666666,
             "#ed7953"
            ],
            [
             0.7777777777777778,
             "#fb9f3a"
            ],
            [
             0.8888888888888888,
             "#fdca26"
            ],
            [
             1,
             "#f0f921"
            ]
           ],
           "sequentialminus": [
            [
             0,
             "#0d0887"
            ],
            [
             0.1111111111111111,
             "#46039f"
            ],
            [
             0.2222222222222222,
             "#7201a8"
            ],
            [
             0.3333333333333333,
             "#9c179e"
            ],
            [
             0.4444444444444444,
             "#bd3786"
            ],
            [
             0.5555555555555556,
             "#d8576b"
            ],
            [
             0.6666666666666666,
             "#ed7953"
            ],
            [
             0.7777777777777778,
             "#fb9f3a"
            ],
            [
             0.8888888888888888,
             "#fdca26"
            ],
            [
             1,
             "#f0f921"
            ]
           ]
          },
          "colorway": [
           "#636efa",
           "#EF553B",
           "#00cc96",
           "#ab63fa",
           "#FFA15A",
           "#19d3f3",
           "#FF6692",
           "#B6E880",
           "#FF97FF",
           "#FECB52"
          ],
          "font": {
           "color": "#2a3f5f"
          },
          "geo": {
           "bgcolor": "white",
           "lakecolor": "white",
           "landcolor": "white",
           "showlakes": true,
           "showland": true,
           "subunitcolor": "#C8D4E3"
          },
          "hoverlabel": {
           "align": "left"
          },
          "hovermode": "closest",
          "mapbox": {
           "style": "light"
          },
          "paper_bgcolor": "white",
          "plot_bgcolor": "white",
          "polar": {
           "angularaxis": {
            "gridcolor": "#EBF0F8",
            "linecolor": "#EBF0F8",
            "ticks": ""
           },
           "bgcolor": "white",
           "radialaxis": {
            "gridcolor": "#EBF0F8",
            "linecolor": "#EBF0F8",
            "ticks": ""
           }
          },
          "scene": {
           "xaxis": {
            "backgroundcolor": "white",
            "gridcolor": "#DFE8F3",
            "gridwidth": 2,
            "linecolor": "#EBF0F8",
            "showbackground": true,
            "ticks": "",
            "zerolinecolor": "#EBF0F8"
           },
           "yaxis": {
            "backgroundcolor": "white",
            "gridcolor": "#DFE8F3",
            "gridwidth": 2,
            "linecolor": "#EBF0F8",
            "showbackground": true,
            "ticks": "",
            "zerolinecolor": "#EBF0F8"
           },
           "zaxis": {
            "backgroundcolor": "white",
            "gridcolor": "#DFE8F3",
            "gridwidth": 2,
            "linecolor": "#EBF0F8",
            "showbackground": true,
            "ticks": "",
            "zerolinecolor": "#EBF0F8"
           }
          },
          "shapedefaults": {
           "line": {
            "color": "#2a3f5f"
           }
          },
          "ternary": {
           "aaxis": {
            "gridcolor": "#DFE8F3",
            "linecolor": "#A2B1C6",
            "ticks": ""
           },
           "baxis": {
            "gridcolor": "#DFE8F3",
            "linecolor": "#A2B1C6",
            "ticks": ""
           },
           "bgcolor": "white",
           "caxis": {
            "gridcolor": "#DFE8F3",
            "linecolor": "#A2B1C6",
            "ticks": ""
           }
          },
          "title": {
           "x": 0.05
          },
          "xaxis": {
           "automargin": true,
           "gridcolor": "#EBF0F8",
           "linecolor": "#EBF0F8",
           "ticks": "",
           "title": {
            "standoff": 15
           },
           "zerolinecolor": "#EBF0F8",
           "zerolinewidth": 2
          },
          "yaxis": {
           "automargin": true,
           "gridcolor": "#EBF0F8",
           "linecolor": "#EBF0F8",
           "ticks": "",
           "title": {
            "standoff": 15
           },
           "zerolinecolor": "#EBF0F8",
           "zerolinewidth": 2
          }
         }
        },
        "title": {
         "text": "⚽ Perfiles de Rendimiento por Posición (Percentil 75)",
         "x": 0.5
        }
       }
      }
     },
     "metadata": {},
     "output_type": "display_data"
    },
    {
     "name": "stdout",
     "output_type": "stream",
     "text": [
      "\n",
      "📊 RESUMEN ESTADÍSTICO POR POSICIÓN:\n",
      "================================================================================\n",
      "Posición   N  Edad Media  Partidos Media  Minutos Totales  goals_conceded/90  goals/90  assists/90  shots/90  interceptions/90  key_passes/90  progressive_passes/90\n",
      "      GK 191       29.46           12.37           229573               1.48       NaN         NaN       NaN               NaN            NaN                    NaN\n",
      "      CB  37       30.51           19.41            62500                NaN      0.06        0.01      0.39               NaN            NaN                    NaN\n",
      "     DMF  65       28.46           17.06            80962                NaN       NaN         NaN       NaN              3.45            NaN                    NaN\n",
      "     AMF  81       28.14           16.23            90213                NaN       NaN        0.13       NaN               NaN            0.4                   5.11\n",
      "      CF 351       29.05           15.42           373127                NaN      0.30         NaN       NaN               NaN            NaN                    NaN\n"
     ]
    }
   ],
   "source": [
    "def create_performance_profiles_by_position(df):\n",
    "    \"\"\"\n",
    "    Crea perfiles de rendimiento específicos por posición.\n",
    "    \n",
    "    Args:\n",
    "        df (pd.DataFrame): Dataset de la Liga Tailandesa\n",
    "    \"\"\"\n",
    "    \n",
    "    # Definir métricas clave por posición\n",
    "    position_metrics = {\n",
    "        'GK': ['goals_conceded_per_90', 'saves_per_90', 'pass_accuracy_pct'],\n",
    "        'CB': ['aerial_duels_won_pct', 'defensive_duels_won_pct', 'long_passes_accuracy_pct'],\n",
    "        'FB': ['crosses_per_90', 'defensive_duels_won_pct', 'forward_passes_per_90'],\n",
    "        'DMF': ['interceptions_per_90', 'pass_accuracy_pct', 'defensive_duels_won_pct'],\n",
    "        'CMF': ['passes_per_90', 'pass_accuracy_pct', 'progressive_passes_per_90'],\n",
    "        'AMF': ['key_passes_per_90', 'assists_per_90', 'progressive_passes_per_90'],\n",
    "        'W': ['dribbles_success_pct', 'crosses_per_90', 'assists_per_90'],\n",
    "        'CF': ['goals_per_90', 'shots_on_target_pct', 'goal_conversion_pct']\n",
    "    }\n",
    "    \n",
    "    # Métricas alternativas si las principales no están disponibles\n",
    "    fallback_metrics = {\n",
    "        'ofensivas': ['goals_per_90', 'assists_per_90', 'shots_per_90', 'touches_in_box_per_90'],\n",
    "        'defensivas': ['defensive_actions_per_90', 'interceptions_per_90', 'aerial_duels_won_pct'],\n",
    "        'pases': ['passes_per_90', 'pass_accuracy_pct', 'forward_passes_per_90', 'progressive_passes_per_90'],\n",
    "        'fisicas': ['duels_won_pct', 'duels_per_90', 'offensive_duels_won_pct']\n",
    "    }\n",
    "    \n",
    "    # Encontrar métricas disponibles\n",
    "    available_columns = df.columns.tolist()\n",
    "    \n",
    "    print(\"🔍 Métricas disponibles para análisis:\")\n",
    "    available_metrics = {}\n",
    "    \n",
    "    for position, metrics in position_metrics.items():\n",
    "        available_for_position = [m for m in metrics if m in available_columns]\n",
    "        if not available_for_position:\n",
    "            # Usar métricas fallback\n",
    "            for category, fallbacks in fallback_metrics.items():\n",
    "                available_fallbacks = [m for m in fallbacks if m in available_columns]\n",
    "                if available_fallbacks:\n",
    "                    available_for_position.extend(available_fallbacks[:3])  # Tomar primeras 3\n",
    "                    break\n",
    "        \n",
    "        available_metrics[position] = available_for_position[:5]  # Máximo 5 métricas\n",
    "        print(f\"   {position}: {available_for_position}\")\n",
    "    \n",
    "    # Crear radar charts por posición\n",
    "    position_order = ['GK', 'CB', 'FB', 'DMF', 'CMF', 'AMF', 'W', 'CF']\n",
    "    \n",
    "    # Filtrar datos con posición válida\n",
    "    df_valid = df[df['Primary position'].notna()].copy()\n",
    "    \n",
    "    # Crear subplots para radar charts\n",
    "    cols = 4\n",
    "    rows = 2\n",
    "    \n",
    "    fig = make_subplots(\n",
    "        rows=rows, cols=cols,\n",
    "        subplot_titles=[f\"{pos} - Perfil de Rendimiento\" for pos in position_order],\n",
    "        specs=[[{\"type\": \"scatterpolar\"}] * cols for _ in range(rows)]\n",
    "    )\n",
    "    \n",
    "    for idx, position in enumerate(position_order):\n",
    "        row = (idx // cols) + 1\n",
    "        col = (idx % cols) + 1\n",
    "        \n",
    "        # Filtrar datos por posición\n",
    "        pos_data = df_valid[df_valid['Primary position'] == position]\n",
    "        \n",
    "        if len(pos_data) > 0 and available_metrics.get(position):\n",
    "            metrics = available_metrics[position]\n",
    "            \n",
    "            # Calcular percentiles para cada métrica\n",
    "            percentiles = []\n",
    "            metric_names = []\n",
    "            \n",
    "            for metric in metrics:\n",
    "                if metric in pos_data.columns:\n",
    "                    values = pos_data[metric].dropna()\n",
    "                    if len(values) > 0:\n",
    "                        # Calcular percentil 75 como referencia de \"buen rendimiento\"\n",
    "                        p75 = np.percentile(values, 75)\n",
    "                        percentiles.append(p75)\n",
    "                        \n",
    "                        # Simplificar nombre de métrica\n",
    "                        clean_name = metric.replace('_per_90', '/90').replace('_pct', '%').replace('_', ' ').title()\n",
    "                        metric_names.append(clean_name[:15])  # Truncar nombres largos\n",
    "            \n",
    "            if percentiles:\n",
    "                # Normalizar a escala 0-100 para visualización\n",
    "                if max(percentiles) > 0:\n",
    "                    normalized_values = [(p / max(percentiles)) * 100 for p in percentiles]\n",
    "                else:\n",
    "                    normalized_values = [50] * len(percentiles)\n",
    "                \n",
    "                # Añadir radar chart\n",
    "                fig.add_trace(\n",
    "                    go.Scatterpolar(\n",
    "                        r=normalized_values,\n",
    "                        theta=metric_names,\n",
    "                        fill='toself',\n",
    "                        name=position,\n",
    "                        showlegend=False\n",
    "                    ),\n",
    "                    row=row, col=col\n",
    "                )\n",
    "    \n",
    "    # Actualizar layout\n",
    "    fig.update_layout(\n",
    "        height=600,\n",
    "        title_text=\"⚽ Perfiles de Rendimiento por Posición (Percentil 75)\",\n",
    "        title_x=0.5\n",
    "    )\n",
    "    \n",
    "    fig.show()\n",
    "    \n",
    "    # Crear tabla resumen de estadísticas por posición\n",
    "    print(\"\\n📊 RESUMEN ESTADÍSTICO POR POSICIÓN:\")\n",
    "    print(\"=\" * 80)\n",
    "    \n",
    "    summary_stats = []\n",
    "    \n",
    "    for position in position_order:\n",
    "        pos_data = df_valid[df_valid['Primary position'] == position]\n",
    "        if len(pos_data) > 0:\n",
    "            # Estadísticas básicas\n",
    "            stats = {\n",
    "                'Posición': position,\n",
    "                'N': len(pos_data),\n",
    "                'Edad Media': pos_data['age'].mean() if 'age' in pos_data.columns else None,\n",
    "                'Partidos Media': pos_data['matches_played'].mean() if 'matches_played' in pos_data.columns else None,\n",
    "                'Minutos Totales': pos_data['minutes_played'].sum() if 'minutes_played' in pos_data.columns else None\n",
    "            }\n",
    "            \n",
    "            # Añadir métricas específicas de la posición\n",
    "            for metric in available_metrics.get(position, [])[:3]:  # Top 3 métricas\n",
    "                if metric in pos_data.columns:\n",
    "                    clean_name = metric.replace('_per_90', '/90').replace('_pct', '%')\n",
    "                    stats[clean_name] = pos_data[metric].mean()\n",
    "            \n",
    "            summary_stats.append(stats)\n",
    "    \n",
    "    # Convertir a DataFrame y mostrar\n",
    "    if summary_stats:\n",
    "        df_summary = pd.DataFrame(summary_stats)\n",
    "        \n",
    "        # Redondear valores numéricos\n",
    "        numeric_cols = df_summary.select_dtypes(include=[np.number]).columns\n",
    "        df_summary[numeric_cols] = df_summary[numeric_cols].round(2)\n",
    "        \n",
    "        print(df_summary.to_string(index=False))\n",
    "\n",
    "# Ejecutar análisis de perfiles de rendimiento\n",
    "if df_thai is not None:\n",
    "    print(\"🔄 Generando perfiles de rendimiento por posición...\")\n",
    "    create_performance_profiles_by_position(df_thai)"
   ]
  },
  {
   "cell_type": "markdown",
   "metadata": {},
   "source": [
    "## 6. Análisis de Correlaciones y Relaciones entre Variables\n",
    "\n",
    "### 6.1 Matriz de Correlación de Métricas Clave"
   ]
  },
  {
   "cell_type": "code",
   "execution_count": 8,
   "metadata": {},
   "outputs": [
    {
     "name": "stdout",
     "output_type": "stream",
     "text": [
      "🔄 Generando análisis de correlaciones...\n",
      "🔍 Analizando correlaciones entre 16 métricas:\n",
      "   ['age', 'height', 'weight', 'matches_played', 'minutes_played', 'goals', 'assists', 'goals_per_90', 'assists_per_90', 'passes_per_90', 'shots_per_90', 'progressive_passes_per_90', 'key_passes_per_90', 'interceptions_per_90', 'yellow_cards', 'red_cards']\n"
     ]
    },
    {
     "data": {
      "application/vnd.plotly.v1+json": {
       "config": {
        "plotlyServerURL": "https://plot.ly"
       },
       "data": [
        {
         "colorscale": [
          [
           0,
           "rgb(103,0,31)"
          ],
          [
           0.1,
           "rgb(178,24,43)"
          ],
          [
           0.2,
           "rgb(214,96,77)"
          ],
          [
           0.3,
           "rgb(244,165,130)"
          ],
          [
           0.4,
           "rgb(253,219,199)"
          ],
          [
           0.5,
           "rgb(247,247,247)"
          ],
          [
           0.6,
           "rgb(209,229,240)"
          ],
          [
           0.7,
           "rgb(146,197,222)"
          ],
          [
           0.8,
           "rgb(67,147,195)"
          ],
          [
           0.9,
           "rgb(33,102,172)"
          ],
          [
           1,
           "rgb(5,48,97)"
          ]
         ],
         "hovertemplate": "%{x} vs %{y}<br>Correlación: %{z:.3f}<extra></extra>",
         "showscale": true,
         "type": "heatmap",
         "x": [
          "age",
          "height",
          "weight",
          "matches_played",
          "minutes_played",
          "goals",
          "assists",
          "goals_per_90",
          "assists_per_90",
          "passes_per_90",
          "shots_per_90",
          "progressive_passes_per_90",
          "key_passes_per_90",
          "interceptions_per_90",
          "yellow_cards",
          "red_cards"
         ],
         "xaxis": "x",
         "y": [
          "age",
          "height",
          "weight",
          "matches_played",
          "minutes_played",
          "goals",
          "assists",
          "goals_per_90",
          "assists_per_90",
          "passes_per_90",
          "shots_per_90",
          "progressive_passes_per_90",
          "key_passes_per_90",
          "interceptions_per_90",
          "yellow_cards",
          "red_cards"
         ],
         "yaxis": "y",
         "z": {
          "bdata": "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",
          "dtype": "f8",
          "shape": "16, 16"
         },
         "zmid": 0
        },
        {
         "colorscale": [
          [
           0,
           "rgb(103,0,31)"
          ],
          [
           0.1,
           "rgb(178,24,43)"
          ],
          [
           0.2,
           "rgb(214,96,77)"
          ],
          [
           0.3,
           "rgb(244,165,130)"
          ],
          [
           0.4,
           "rgb(253,219,199)"
          ],
          [
           0.5,
           "rgb(247,247,247)"
          ],
          [
           0.6,
           "rgb(209,229,240)"
          ],
          [
           0.7,
           "rgb(146,197,222)"
          ],
          [
           0.8,
           "rgb(67,147,195)"
          ],
          [
           0.9,
           "rgb(33,102,172)"
          ],
          [
           1,
           "rgb(5,48,97)"
          ]
         ],
         "hovertemplate": "%{x} vs %{y}<br>Correlación: %{z:.3f}<extra></extra>",
         "showscale": false,
         "type": "heatmap",
         "x": [
          "age",
          "height",
          "weight",
          "matches_played",
          "minutes_played",
          "goals",
          "assists",
          "goals_per_90",
          "assists_per_90",
          "passes_per_90",
          "shots_per_90",
          "progressive_passes_per_90",
          "key_passes_per_90",
          "interceptions_per_90",
          "yellow_cards",
          "red_cards"
         ],
         "xaxis": "x2",
         "y": [
          "age",
          "height",
          "weight",
          "matches_played",
          "minutes_played",
          "goals",
          "assists",
          "goals_per_90",
          "assists_per_90",
          "passes_per_90",
          "shots_per_90",
          "progressive_passes_per_90",
          "key_passes_per_90",
          "interceptions_per_90",
          "yellow_cards",
          "red_cards"
         ],
         "yaxis": "y2",
         "z": {
          "bdata": "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",
          "dtype": "f8",
          "shape": "16, 16"
         },
         "zmid": 0
        },
        {
         "marker": {
          "color": "lightblue"
         },
         "nbinsx": 30,
         "opacity": 0.7,
         "showlegend": false,
         "type": "histogram",
         "x": {
          "bdata": "NAN9XKdn0T8jx197sKXaP9JRh55egdE/aAZZdQ4b1D/MhYeBsifFPyagxBRu7cA/lsmH0VOUrT8SO8wkT9aZP6x/ggPYopK/Yc8WVNnRcz+6gzhk79SiP2wgq91D06m/3e91A+xOpL/nsMg3KlTHP7FRh34rv68/4HKt44hM3j+xpAvODIDEP/METrvIiMY/q/CTJcXmwj8wM/jdvnW9P/E5d94/Mbs/LnrgVn01pj9Fph7oaWmdP/DSsrMeDas/+i8G3f6nZ7/8NOx64dmbPz2hvMrhTa2/1Q2IWirNtD9ZP/cShU+pP1j2SR/qNc4/U1QeZuHP0j/9O/AQTfTNPw81o2OZzsc/EXcsJBxexT9MWS6dFvi1P3VYZb2XC5c/hoC7WvDrwT8iDxeNbx2hv2InnHg4Z7A/LCf4SLGMs7/U+4RXTnG9P3vBsWR+/KM/NQKkg4t57T9VPDGli8zZPzT71oitY90/vroszbFBwz+K5TjeETi3P0SSEKFQncY/gtgczIdOtD8CXN6LDPnBP6wI2A4lNr0/Y7v7meU3rz9gO/fr4RTkP6Q0jeocZcY/EvcBD2Nw2j8KcNRV+RfdP1hsNf6ZR7o/ex+GBfiJoz/xGJWUeCzCP0MJHsUNBYW/m77I9ahbxD8gIMnfHFebPzYSUDq7Dbg/7JLSXcJV5D9pivgMpWvIP0DI06y6md0/HOOBYmpI6D/QZkku/qrHP5QkiWaEQsC/xBPpg0aj4T+p2B/HkRLQv8q/c1A9Sc8/wgWohduw0L/LsOkUaaHLPz4kRIEhgKQ/DMP4Fkfm0D80thjbQorkP+gq9GP+2cI//OO4/v4z1D/ntGGpUBq4P3jOjxoqNeA/ssglezXgxr8NJ4iaexXQP8fGvqIKXZc/y+BJ0hQ2xj+RWwOOZa7Gv6WzDjoD/OM/ugp6OsuS1L+ResAy4TPPPz1ZJWsZ/dO/Iy0gLIR4iD/WPZhbBk6Vv+Sn7ZWyI68/If8Gs4Gp1D8e6uD3cbOEP+LiBFDY0+M/Mdcc3qBWyL/luIw7Oc+NvzoqCv7dDqm/7XxgIl7Kwr+/Lybp97rnPx2jZbRuN7Y/lbQ6dmEZ1z9NNujy1ZDOP5Xlsu+isqI/lGy+6n931b9XgL9irJfaP4QXT7e7b9u/xjq6DnJKpr8jW1Y86IWiv5MgP9PDRpc/hvhvFzs53j+wzrQwupDNP4uapS6ty68/zQJes5FX0L9ldTkABkmBv7oAs1kS+Ku/QXI2LWseyz//7jxPx0fBPy0hNqcFjc4/",
          "dtype": "f8"
         },
         "xaxis": "x3",
         "yaxis": "y3"
        },
        {
         "hovertemplate": "matches_played: %{x}<br>minutes_played: %{y}<extra></extra>",
         "marker": {
          "color": "red",
          "opacity": 0.6
         },
         "mode": "markers",
         "name": "r = 0.921",
         "showlegend": false,
         "type": "scatter",
         "x": {
          "bdata": "Hh4dHR0dHR4dHh0eHRwcHBwdHRwdHRwcHBwcHRscHBsbGxscGxscGxobHBsaGhscGxscGhwdGxkcGRoaGhkaHBoYGBkbHBobGxsbFxgYFxcbFx0dGxYYGRsaGxcZGRYWFRQcFxUYFRsXHRsVGBkYGBMXFxoYExkWExQSFBMZFxQcFhkWGRMVGRcSEhgZERIUHRYTGBQXFR0XEBUSERAVFg8bFhQSGxYTERQSFBYOEhMSERIOFBAQEhYSDhMOFQwMDRQRDgwQDBYTGQwTFxUYDgsQDxIMExIMEBQNFAwVFQ8KDA0PEg4KEw0MFhQSDBEJCw8NCRIQDxQKDAkLEAsPDwoKEAkIEw0TDwcHDBAPCw4LBxMQDhEPDAwOEQoQBggHDwkIEQsJDAcJEAwJCRENBQYMCgsNCAUFEwoOBgcGCggFDQ0KCgcLCREEBgQEBAQHBwQKDAYHBAUHBAgMCAgEBwQIDAQDCAMHCAMFCAcEBgYJBgUDBA0EBAUEBgUGBQgEBAUHBQgIAgIFBAUCBwUGCQMHBQIGBAQCAwIDBAMEAgICAQIBAwEBBQQDAQEDAgECAgEBAgEEAwEBAQEBAgICAgICAQECAQEBAQEBAQEBAQEBHh0dHR0dHR0dHh0dHBwcHBwbHBwdGxwbHBwdHRsaGxocGxoaGxwbHhwaHB4bGhoaHBkdGRodHhoaHBsaGRobFxwYGhkdGxwXHBoYFxoZGhwYFxoXGhYaGBkbGxUVGBsdFhoaGBoVGBQcGhgUGB0eFhcZFhMWFRsVGRkaGxQYGBsbGRkXFxoYFRkaEhAYEhEZGxYTFxUQFA8VFxAPDw8aFRgcEA8PFg8PGBUSERIVExYVGQ4YFhMWDg0TDg0ZEhUNDRQSDhYNDRYYDg4OEQ8MDhgNFhMTDxgPFAwUEBcZCxMVEBEcDRkWFw0MCw0OCwoVFwsWCgsaCQoNCxMKEQkTEA0QDRELCQ4LChEJEhYQDgkQCBMNDw4LEAkRDxIRChMQDBEHCRQNDwoQBwYLEAgKDwsLEBEOCw8KBgsKDwgLBwwLCgcNEQsLEwsGBQgOBwsICggGCgYIBgsPDQsJCwgKBQQJCwoKBgUHCwcIBQYGCwMGCwYKAwUFCAQICAoJCAgKCQUDCgcGAwMCCAUECgMCAwMEAgMBAQEEAwIEAQUCBgIGAgMDBAMCAQIBAQIFAwICAwEDAwMCAgICAQECAwEBAQEBAQECAQEBAQEeHh4dHR0dHR0cHRwcHBwcHRscHBscGhoaHhscGhsbGxodGRwZHBkbGxkZGx0ZGRoaGR4YHRcaGxgaFxsbGhoaGxoXFxYaGxkZFhwZGhsaGhkXFRoZFxoZHRgYFRwVGBYVGRgZFhgZGxodGhgaHRUZFBYbGRcSExoXExYWFxYUGBURERsXFRMXFBgXFBMcEhUVExQVGRcTEBoYExcTFQ8PFBkTGRARFxUSDxYbExsVDhgYFw4PDhIRFBMTDg4UExEXHBETDxMZFQ0NFA4MFxcYGQ0SFhMZDREOExYNDRMXEhYSDw8NDAoSDBQRCg4PGQsNDw4NCwwRDAoRCRcOFA8LFQ0MGRAMChIYCBEIEQwICQgXDhANCQ4VCA0HCAkJDA0MDwoSCwoWEAwIFAYGCAYGDA4PDwgNBwcMDQoMDwwJDwgIFhAJCwkGBg0GDAwJDgYLBgsNCAgKCxILDQULDAgJBg8GBw0GCAQIAwgGBgQIBgYGDwYNBgcGBgMCAwMCBAcCBwYCBAcKCAYCBQMGBQYEBwkHBwMIAgMCBQUEAQMBAgQBAQEDBQMDAQICAgQCAwQCBAIFBAMDAQECBAEDAgQEBAIDAQEBAgICAQMCAQEBAgECAQECAQEBAR4eHh4eHh4eHR0dHR0eHh4dHRwdGxwdGxscHBscHRoaHBwcHRwaHBwbHB0aGRodGxkbGxoYHRgbGRobHBobGRsdHRwcGBsbGRobGBscFxgXGRsaGxcaGxocFxwbGBkbHRwWGBgaGRkdGB0eFhcZFBgTGRsUFxQWHBQYGRoUGRoaFRcZFBQVFxkRFx0cFBMaDxEZEhIPGxIXFw8PFBcZGBMODg8XDhoSERcSExIOFQ0WEBkNEQ4RFxMNEw0OFA0VEAwTDQ4MExQPFAwNDxERDA8LDBMODQsUEhoVDREYDQ4LDgwODwsSEhIVChQQDw8QDBQKDw0JDhMTDgoQEQkOEQwSDA4ODxASCAwQDwsQDhIVDQkNFRYKDA4UDQwWExIJDgkSFQ0QBxEJEBQPCgsGEA8TDAcOBgoVDBQTDQkMCQkGCAwPBQ0TEAkFDgcLDQwMCA8GBgsFDQoKBQQFBwkHBgsICgsFDA4ECA4RCAQNCQkKCgMDCwsFBQkFAwUNBwcECggDCgcFAwkGBgIHBwwDBAkCBQUFBwcEBwIDAQECAwQDAQIDAwQBAgMEAgQCAwECAgEDAgcEAwEBAgMCAwEBAQICAgECAgECAQIBAQEBAgEBAQEBAQEBGxkbGBgXGBkXGhYZFxYXFxYYFhYWFRkYGxYaGBgWFxgVFxcXFxQZFRcUFBMTFBgTFxcYFhYTFhYTFRMZExMTFBcSFRYSFRYTGhQVFRYTExMUERIXFhkVEBUUEhcUEhcSFhITFhIXGRcQEhIXExQVDxUREhQSFRMSEBYWEBAVFBMRFA8QFxETEBURExQUEhENERcRERESFRENDRUTFBURDQ4PEBATFBMSDRARDw4RDA8ODA4SDBEUDgoRExEOEA0OEg0KCw8LEgoPCRUJDg0RDgwODAoODQ0MDhMODxIODQwMEAgSCAsMDBIMCQgQEQ8PCxILBwwICw4ODA8MDxMMDw8TDQ4MDgoLCgcJCAwIDgsJDwoLDAwHCwYNEwgJCwcLBwsPBggOBgcTDQwJCQwLCgsMCQoKCQUIDg0GCA8LBQYHDQ0MCA0HBQgFDAcOBAcICgUIDgkEBgUMBggHBgQIBgYIDAgHCgUICgMJBgkDBAoIBAUKBAgFBwYDCQcIBQUIBgQICwUGBQQFCQYICAUDCAICBgQCAgQKBwQFBAUEAwMDAwICAgYDAgUEBAQDAwMEBAYDBAYBAQIBAQEBAQIEAgQBAgEBAQIEAQMDAQEBAgIDAgIBAQICAgEBAwEBAQEBAQIBAQEBAQEBAQEBAQ==",
          "dtype": "i1"
         },
         "xaxis": "x4",
         "y": {
          "bdata": "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",
          "dtype": "i2"
         },
         "yaxis": "y4"
        },
        {
         "line": {
          "color": "blue",
          "dash": "dash"
         },
         "mode": "lines",
         "showlegend": false,
         "type": "scatter",
         "x": {
          "bdata": "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",
          "dtype": "i1"
         },
         "xaxis": "x4",
         "y": {
          "bdata": "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",
          "dtype": "f8"
         },
         "yaxis": "y4"
        }
       ],
       "layout": {
        "annotations": [
         {
          "font": {
           "size": 16
          },
          "showarrow": false,
          "text": "Matriz de Correlación Completa",
          "x": 0.225,
          "xanchor": "center",
          "xref": "paper",
          "y": 1,
          "yanchor": "bottom",
          "yref": "paper"
         },
         {
          "font": {
           "size": 16
          },
          "showarrow": false,
          "text": "Correlaciones Fuertes (|r| > 0.5)",
          "x": 0.775,
          "xanchor": "center",
          "xref": "paper",
          "y": 1,
          "yanchor": "bottom",
          "yref": "paper"
         },
         {
          "font": {
           "size": 16
          },
          "showarrow": false,
          "text": "Distribución de Correlaciones",
          "x": 0.225,
          "xanchor": "center",
          "xref": "paper",
          "y": 0.375,
          "yanchor": "bottom",
          "yref": "paper"
         },
         {
          "font": {
           "size": 16
          },
          "showarrow": false,
          "text": "Red de Correlaciones Significativas",
          "x": 0.775,
          "xanchor": "center",
          "xref": "paper",
          "y": 0.375,
          "yanchor": "bottom",
          "yref": "paper"
         }
        ],
        "height": 800,
        "template": {
         "data": {
          "bar": [
           {
            "error_x": {
             "color": "#2a3f5f"
            },
            "error_y": {
             "color": "#2a3f5f"
            },
            "marker": {
             "line": {
              "color": "white",
              "width": 0.5
             },
             "pattern": {
              "fillmode": "overlay",
              "size": 10,
              "solidity": 0.2
             }
            },
            "type": "bar"
           }
          ],
          "barpolar": [
           {
            "marker": {
             "line": {
              "color": "white",
              "width": 0.5
             },
             "pattern": {
              "fillmode": "overlay",
              "size": 10,
              "solidity": 0.2
             }
            },
            "type": "barpolar"
           }
          ],
          "carpet": [
           {
            "aaxis": {
             "endlinecolor": "#2a3f5f",
             "gridcolor": "#C8D4E3",
             "linecolor": "#C8D4E3",
             "minorgridcolor": "#C8D4E3",
             "startlinecolor": "#2a3f5f"
            },
            "baxis": {
             "endlinecolor": "#2a3f5f",
             "gridcolor": "#C8D4E3",
             "linecolor": "#C8D4E3",
             "minorgridcolor": "#C8D4E3",
             "startlinecolor": "#2a3f5f"
            },
            "type": "carpet"
           }
          ],
          "choropleth": [
           {
            "colorbar": {
             "outlinewidth": 0,
             "ticks": ""
            },
            "type": "choropleth"
           }
          ],
          "contour": [
           {
            "colorbar": {
             "outlinewidth": 0,
             "ticks": ""
            },
            "colorscale": [
             [
              0,
              "#0d0887"
             ],
             [
              0.1111111111111111,
              "#46039f"
             ],
             [
              0.2222222222222222,
              "#7201a8"
             ],
             [
              0.3333333333333333,
              "#9c179e"
             ],
             [
              0.4444444444444444,
              "#bd3786"
             ],
             [
              0.5555555555555556,
              "#d8576b"
             ],
             [
              0.6666666666666666,
              "#ed7953"
             ],
             [
              0.7777777777777778,
              "#fb9f3a"
             ],
             [
              0.8888888888888888,
              "#fdca26"
             ],
             [
              1,
              "#f0f921"
             ]
            ],
            "type": "contour"
           }
          ],
          "contourcarpet": [
           {
            "colorbar": {
             "outlinewidth": 0,
             "ticks": ""
            },
            "type": "contourcarpet"
           }
          ],
          "heatmap": [
           {
            "colorbar": {
             "outlinewidth": 0,
             "ticks": ""
            },
            "colorscale": [
             [
              0,
              "#0d0887"
             ],
             [
              0.1111111111111111,
              "#46039f"
             ],
             [
              0.2222222222222222,
              "#7201a8"
             ],
             [
              0.3333333333333333,
              "#9c179e"
             ],
             [
              0.4444444444444444,
              "#bd3786"
             ],
             [
              0.5555555555555556,
              "#d8576b"
             ],
             [
              0.6666666666666666,
              "#ed7953"
             ],
             [
              0.7777777777777778,
              "#fb9f3a"
             ],
             [
              0.8888888888888888,
              "#fdca26"
             ],
             [
              1,
              "#f0f921"
             ]
            ],
            "type": "heatmap"
           }
          ],
          "histogram": [
           {
            "marker": {
             "pattern": {
              "fillmode": "overlay",
              "size": 10,
              "solidity": 0.2
             }
            },
            "type": "histogram"
           }
          ],
          "histogram2d": [
           {
            "colorbar": {
             "outlinewidth": 0,
             "ticks": ""
            },
            "colorscale": [
             [
              0,
              "#0d0887"
             ],
             [
              0.1111111111111111,
              "#46039f"
             ],
             [
              0.2222222222222222,
              "#7201a8"
             ],
             [
              0.3333333333333333,
              "#9c179e"
             ],
             [
              0.4444444444444444,
              "#bd3786"
             ],
             [
              0.5555555555555556,
              "#d8576b"
             ],
             [
              0.6666666666666666,
              "#ed7953"
             ],
             [
              0.7777777777777778,
              "#fb9f3a"
             ],
             [
              0.8888888888888888,
              "#fdca26"
             ],
             [
              1,
              "#f0f921"
             ]
            ],
            "type": "histogram2d"
           }
          ],
          "histogram2dcontour": [
           {
            "colorbar": {
             "outlinewidth": 0,
             "ticks": ""
            },
            "colorscale": [
             [
              0,
              "#0d0887"
             ],
             [
              0.1111111111111111,
              "#46039f"
             ],
             [
              0.2222222222222222,
              "#7201a8"
             ],
             [
              0.3333333333333333,
              "#9c179e"
             ],
             [
              0.4444444444444444,
              "#bd3786"
             ],
             [
              0.5555555555555556,
              "#d8576b"
             ],
             [
              0.6666666666666666,
              "#ed7953"
             ],
             [
              0.7777777777777778,
              "#fb9f3a"
             ],
             [
              0.8888888888888888,
              "#fdca26"
             ],
             [
              1,
              "#f0f921"
             ]
            ],
            "type": "histogram2dcontour"
           }
          ],
          "mesh3d": [
           {
            "colorbar": {
             "outlinewidth": 0,
             "ticks": ""
            },
            "type": "mesh3d"
           }
          ],
          "parcoords": [
           {
            "line": {
             "colorbar": {
              "outlinewidth": 0,
              "ticks": ""
             }
            },
            "type": "parcoords"
           }
          ],
          "pie": [
           {
            "automargin": true,
            "type": "pie"
           }
          ],
          "scatter": [
           {
            "fillpattern": {
             "fillmode": "overlay",
             "size": 10,
             "solidity": 0.2
            },
            "type": "scatter"
           }
          ],
          "scatter3d": [
           {
            "line": {
             "colorbar": {
              "outlinewidth": 0,
              "ticks": ""
             }
            },
            "marker": {
             "colorbar": {
              "outlinewidth": 0,
              "ticks": ""
             }
            },
            "type": "scatter3d"
           }
          ],
          "scattercarpet": [
           {
            "marker": {
             "colorbar": {
              "outlinewidth": 0,
              "ticks": ""
             }
            },
            "type": "scattercarpet"
           }
          ],
          "scattergeo": [
           {
            "marker": {
             "colorbar": {
              "outlinewidth": 0,
              "ticks": ""
             }
            },
            "type": "scattergeo"
           }
          ],
          "scattergl": [
           {
            "marker": {
             "colorbar": {
              "outlinewidth": 0,
              "ticks": ""
             }
            },
            "type": "scattergl"
           }
          ],
          "scattermap": [
           {
            "marker": {
             "colorbar": {
              "outlinewidth": 0,
              "ticks": ""
             }
            },
            "type": "scattermap"
           }
          ],
          "scattermapbox": [
           {
            "marker": {
             "colorbar": {
              "outlinewidth": 0,
              "ticks": ""
             }
            },
            "type": "scattermapbox"
           }
          ],
          "scatterpolar": [
           {
            "marker": {
             "colorbar": {
              "outlinewidth": 0,
              "ticks": ""
             }
            },
            "type": "scatterpolar"
           }
          ],
          "scatterpolargl": [
           {
            "marker": {
             "colorbar": {
              "outlinewidth": 0,
              "ticks": ""
             }
            },
            "type": "scatterpolargl"
           }
          ],
          "scatterternary": [
           {
            "marker": {
             "colorbar": {
              "outlinewidth": 0,
              "ticks": ""
             }
            },
            "type": "scatterternary"
           }
          ],
          "surface": [
           {
            "colorbar": {
             "outlinewidth": 0,
             "ticks": ""
            },
            "colorscale": [
             [
              0,
              "#0d0887"
             ],
             [
              0.1111111111111111,
              "#46039f"
             ],
             [
              0.2222222222222222,
              "#7201a8"
             ],
             [
              0.3333333333333333,
              "#9c179e"
             ],
             [
              0.4444444444444444,
              "#bd3786"
             ],
             [
              0.5555555555555556,
              "#d8576b"
             ],
             [
              0.6666666666666666,
              "#ed7953"
             ],
             [
              0.7777777777777778,
              "#fb9f3a"
             ],
             [
              0.8888888888888888,
              "#fdca26"
             ],
             [
              1,
              "#f0f921"
             ]
            ],
            "type": "surface"
           }
          ],
          "table": [
           {
            "cells": {
             "fill": {
              "color": "#EBF0F8"
             },
             "line": {
              "color": "white"
             }
            },
            "header": {
             "fill": {
              "color": "#C8D4E3"
             },
             "line": {
              "color": "white"
             }
            },
            "type": "table"
           }
          ]
         },
         "layout": {
          "annotationdefaults": {
           "arrowcolor": "#2a3f5f",
           "arrowhead": 0,
           "arrowwidth": 1
          },
          "autotypenumbers": "strict",
          "coloraxis": {
           "colorbar": {
            "outlinewidth": 0,
            "ticks": ""
           }
          },
          "colorscale": {
           "diverging": [
            [
             0,
             "#8e0152"
            ],
            [
             0.1,
             "#c51b7d"
            ],
            [
             0.2,
             "#de77ae"
            ],
            [
             0.3,
             "#f1b6da"
            ],
            [
             0.4,
             "#fde0ef"
            ],
            [
             0.5,
             "#f7f7f7"
            ],
            [
             0.6,
             "#e6f5d0"
            ],
            [
             0.7,
             "#b8e186"
            ],
            [
             0.8,
             "#7fbc41"
            ],
            [
             0.9,
             "#4d9221"
            ],
            [
             1,
             "#276419"
            ]
           ],
           "sequential": [
            [
             0,
             "#0d0887"
            ],
            [
             0.1111111111111111,
             "#46039f"
            ],
            [
             0.2222222222222222,
             "#7201a8"
            ],
            [
             0.3333333333333333,
             "#9c179e"
            ],
            [
             0.4444444444444444,
             "#bd3786"
            ],
            [
             0.5555555555555556,
             "#d8576b"
            ],
            [
             0.6666666666666666,
             "#ed7953"
            ],
            [
             0.7777777777777778,
             "#fb9f3a"
            ],
            [
             0.8888888888888888,
             "#fdca26"
            ],
            [
             1,
             "#f0f921"
            ]
           ],
           "sequentialminus": [
            [
             0,
             "#0d0887"
            ],
            [
             0.1111111111111111,
             "#46039f"
            ],
            [
             0.2222222222222222,
             "#7201a8"
            ],
            [
             0.3333333333333333,
             "#9c179e"
            ],
            [
             0.4444444444444444,
             "#bd3786"
            ],
            [
             0.5555555555555556,
             "#d8576b"
            ],
            [
             0.6666666666666666,
             "#ed7953"
            ],
            [
             0.7777777777777778,
             "#fb9f3a"
            ],
            [
             0.8888888888888888,
             "#fdca26"
            ],
            [
             1,
             "#f0f921"
            ]
           ]
          },
          "colorway": [
           "#636efa",
           "#EF553B",
           "#00cc96",
           "#ab63fa",
           "#FFA15A",
           "#19d3f3",
           "#FF6692",
           "#B6E880",
           "#FF97FF",
           "#FECB52"
          ],
          "font": {
           "color": "#2a3f5f"
          },
          "geo": {
           "bgcolor": "white",
           "lakecolor": "white",
           "landcolor": "white",
           "showlakes": true,
           "showland": true,
           "subunitcolor": "#C8D4E3"
          },
          "hoverlabel": {
           "align": "left"
          },
          "hovermode": "closest",
          "mapbox": {
           "style": "light"
          },
          "paper_bgcolor": "white",
          "plot_bgcolor": "white",
          "polar": {
           "angularaxis": {
            "gridcolor": "#EBF0F8",
            "linecolor": "#EBF0F8",
            "ticks": ""
           },
           "bgcolor": "white",
           "radialaxis": {
            "gridcolor": "#EBF0F8",
            "linecolor": "#EBF0F8",
            "ticks": ""
           }
          },
          "scene": {
           "xaxis": {
            "backgroundcolor": "white",
            "gridcolor": "#DFE8F3",
            "gridwidth": 2,
            "linecolor": "#EBF0F8",
            "showbackground": true,
            "ticks": "",
            "zerolinecolor": "#EBF0F8"
           },
           "yaxis": {
            "backgroundcolor": "white",
            "gridcolor": "#DFE8F3",
            "gridwidth": 2,
            "linecolor": "#EBF0F8",
            "showbackground": true,
            "ticks": "",
            "zerolinecolor": "#EBF0F8"
           },
           "zaxis": {
            "backgroundcolor": "white",
            "gridcolor": "#DFE8F3",
            "gridwidth": 2,
            "linecolor": "#EBF0F8",
            "showbackground": true,
            "ticks": "",
            "zerolinecolor": "#EBF0F8"
           }
          },
          "shapedefaults": {
           "line": {
            "color": "#2a3f5f"
           }
          },
          "ternary": {
           "aaxis": {
            "gridcolor": "#DFE8F3",
            "linecolor": "#A2B1C6",
            "ticks": ""
           },
           "baxis": {
            "gridcolor": "#DFE8F3",
            "linecolor": "#A2B1C6",
            "ticks": ""
           },
           "bgcolor": "white",
           "caxis": {
            "gridcolor": "#DFE8F3",
            "linecolor": "#A2B1C6",
            "ticks": ""
           }
          },
          "title": {
           "x": 0.05
          },
          "xaxis": {
           "automargin": true,
           "gridcolor": "#EBF0F8",
           "linecolor": "#EBF0F8",
           "ticks": "",
           "title": {
            "standoff": 15
           },
           "zerolinecolor": "#EBF0F8",
           "zerolinewidth": 2
          },
          "yaxis": {
           "automargin": true,
           "gridcolor": "#EBF0F8",
           "linecolor": "#EBF0F8",
           "ticks": "",
           "title": {
            "standoff": 15
           },
           "zerolinecolor": "#EBF0F8",
           "zerolinewidth": 2
          }
         }
        },
        "title": {
         "text": "🔗 Análisis de Correlaciones - Métricas Liga Tailandesa",
         "x": 0.5
        },
        "xaxis": {
         "anchor": "y",
         "domain": [
          0,
          0.45
         ]
        },
        "xaxis2": {
         "anchor": "y2",
         "domain": [
          0.55,
          1
         ]
        },
        "xaxis3": {
         "anchor": "y3",
         "domain": [
          0,
          0.45
         ],
         "title": {
          "text": "Correlación (r)"
         }
        },
        "xaxis4": {
         "anchor": "y4",
         "domain": [
          0.55,
          1
         ],
         "title": {
          "text": "matches_played"
         }
        },
        "yaxis": {
         "anchor": "x",
         "domain": [
          0.625,
          1
         ]
        },
        "yaxis2": {
         "anchor": "x2",
         "domain": [
          0.625,
          1
         ]
        },
        "yaxis3": {
         "anchor": "x3",
         "domain": [
          0,
          0.375
         ],
         "title": {
          "text": "Frecuencia"
         }
        },
        "yaxis4": {
         "anchor": "x4",
         "domain": [
          0,
          0.375
         ],
         "title": {
          "text": "minutes_played"
         }
        }
       }
      }
     },
     "metadata": {},
     "output_type": "display_data"
    },
    {
     "name": "stdout",
     "output_type": "stream",
     "text": [
      "\n",
      "🔍 CORRELACIONES MÁS SIGNIFICATIVAS:\n",
      "============================================================\n",
      "    Variable 1                Variable 2  Correlación     Fuerza\n",
      "matches_played            minutes_played        0.921 Muy Fuerte\n",
      "         goals              goals_per_90        0.759     Fuerte\n",
      " passes_per_90 progressive_passes_per_90        0.742     Fuerte\n",
      "       assists            assists_per_90        0.642     Fuerte\n",
      "minutes_played              yellow_cards        0.635     Fuerte\n",
      "matches_played              yellow_cards        0.628     Fuerte\n",
      "  goals_per_90              shots_per_90        0.625     Fuerte\n",
      "assists_per_90         key_passes_per_90        0.620     Fuerte\n",
      "         goals              shots_per_90        0.551     Fuerte\n",
      "       assists         key_passes_per_90        0.506     Fuerte\n",
      "\n",
      "📊 ESTADÍSTICAS DE CORRELACIONES:\n",
      "   Media: 0.143\n",
      "   Desviación estándar: 0.235\n",
      "   Correlación máxima: 0.921\n",
      "   Correlación mínima: -0.429\n",
      "   Correlaciones > 0.5: 10\n",
      "   Correlaciones > 0.3: 27\n"
     ]
    }
   ],
   "source": [
    "def create_correlation_analysis(df):\n",
    "    \"\"\"\n",
    "    Crea análisis de correlaciones entre métricas clave.\n",
    "    \n",
    "    Args:\n",
    "        df (pd.DataFrame): Dataset de la Liga Tailandesa\n",
    "    \"\"\"\n",
    "    \n",
    "    # Seleccionar métricas numéricas relevantes\n",
    "    key_metrics = [\n",
    "        'age', 'height', 'weight', 'matches_played', 'minutes_played',\n",
    "        'goals', 'assists', 'goals_per_90', 'assists_per_90',\n",
    "        'passes_per_90', 'pass_accuracy_pct', 'duels_won_pct',\n",
    "        'shots_per_90', 'shots_on_target_pct', 'goal_conversion_pct',\n",
    "        'defensive_duels_won_pct', 'aerial_duels_won_pct',\n",
    "        'progressive_passes_per_90', 'key_passes_per_90',\n",
    "        'interceptions_per_90', 'yellow_cards', 'red_cards'\n",
    "    ]\n",
    "    \n",
    "    # Filtrar solo columnas que existen en el dataset\n",
    "    available_metrics = [col for col in key_metrics if col in df.columns]\n",
    "    \n",
    "    print(f\"🔍 Analizando correlaciones entre {len(available_metrics)} métricas:\")\n",
    "    print(f\"   {available_metrics}\")\n",
    "    \n",
    "    # Salida segura si no hay métricas disponibles\n",
    "    if len(available_metrics) == 0:\n",
    "        print(\"No hay métricas numéricas disponibles para correlación.\")\n",
    "        return None\n",
    "    \n",
    "    # Crear dataset numérico\n",
    "    df_numeric = df[available_metrics].copy()\n",
    "    \n",
    "    # Calcular matriz de correlación\n",
    "    correlation_matrix = df_numeric.corr(method='pearson')\n",
    "    \n",
    "    # Crear visualización de correlaciones\n",
    "    fig = make_subplots(\n",
    "        rows=2, cols=2,\n",
    "        subplot_titles=[\n",
    "            \"Matriz de Correlación Completa\",\n",
    "            \"Correlaciones Fuertes (|r| > 0.5)\",\n",
    "            \"Distribución de Correlaciones\",\n",
    "            \"Red de Correlaciones Significativas\"\n",
    "        ],\n",
    "        specs=[[{\"type\": \"heatmap\"}, {\"type\": \"heatmap\"}],\n",
    "               [{\"type\": \"histogram\"}, {\"type\": \"scatter\"}]]\n",
    "    )\n",
    "    \n",
    "    # 1. Heatmap completo\n",
    "    fig.add_trace(\n",
    "        go.Heatmap(\n",
    "            z=correlation_matrix.values,\n",
    "            x=correlation_matrix.columns,\n",
    "            y=correlation_matrix.columns,\n",
    "            colorscale='RdBu',\n",
    "            zmid=0,\n",
    "            showscale=True,\n",
    "            hovertemplate='%{x} vs %{y}<br>Correlación: %{z:.3f}<extra></extra>'\n",
    "        ),\n",
    "        row=1, col=1\n",
    "    )\n",
    "    \n",
    "    # 2. Solo correlaciones fuertes\n",
    "    strong_corr = correlation_matrix.copy()\n",
    "    strong_corr = strong_corr.mask(abs(strong_corr) < 0.5)\n",
    "    \n",
    "    fig.add_trace(\n",
    "        go.Heatmap(\n",
    "            z=strong_corr.values,\n",
    "            x=strong_corr.columns,\n",
    "            y=strong_corr.columns,\n",
    "            colorscale='RdBu',\n",
    "            zmid=0,\n",
    "            showscale=False,\n",
    "            hovertemplate='%{x} vs %{y}<br>Correlación: %{z:.3f}<extra></extra>'\n",
    "        ),\n",
    "        row=1, col=2\n",
    "    )\n",
    "    \n",
    "    # 3. Histograma de correlaciones\n",
    "    # Obtener valores del triángulo superior (sin diagonal)\n",
    "    mask = np.triu(np.ones_like(correlation_matrix, dtype=bool), k=1)\n",
    "    correlation_values = correlation_matrix.values[mask]\n",
    "    \n",
    "    fig.add_trace(\n",
    "        go.Histogram(\n",
    "            x=correlation_values,\n",
    "            nbinsx=30,\n",
    "            marker_color='lightblue',\n",
    "            opacity=0.7,\n",
    "            showlegend=False\n",
    "        ),\n",
    "        row=2, col=1\n",
    "    )\n",
    "    \n",
    "    # 4. Scatter plot de ejemplos de correlación\n",
    "    # Encontrar la correlación más fuerte (excluyendo diagonal)\n",
    "    strong_pairs = []\n",
    "    for i in range(len(correlation_matrix.columns)):\n",
    "        for j in range(i+1, len(correlation_matrix.columns)):\n",
    "            corr_val = correlation_matrix.iloc[i, j]\n",
    "            if not np.isnan(corr_val) and abs(corr_val) > 0.3:\n",
    "                strong_pairs.append((correlation_matrix.columns[i], correlation_matrix.columns[j], corr_val))\n",
    "    \n",
    "    # Solo proceder si hay correlaciones fuertes\n",
    "    if len(strong_pairs) > 0:\n",
    "        # Tomar la correlación más fuerte\n",
    "        strongest = max(strong_pairs, key=lambda x: abs(x[2]))\n",
    "        x_var, y_var, corr_val = strongest\n",
    "        \n",
    "        # Filtrar datos válidos\n",
    "        valid_data = df[[x_var, y_var]].dropna()\n",
    "        \n",
    "        if len(valid_data) > 10:\n",
    "            fig.add_trace(\n",
    "                go.Scatter(\n",
    "                    x=valid_data[x_var],\n",
    "                    y=valid_data[y_var],\n",
    "                    mode='markers',\n",
    "                    marker=dict(opacity=0.6, color='red'),\n",
    "                    name=f'r = {corr_val:.3f}',\n",
    "                    showlegend=False,\n",
    "                    hovertemplate=f'{x_var}: %{{x}}<br>{y_var}: %{{y}}<extra></extra>'\n",
    "                ),\n",
    "                row=2, col=2\n",
    "            )\n",
    "            \n",
    "            # Añadir línea de tendencia\n",
    "            z = np.polyfit(valid_data[x_var], valid_data[y_var], 1)\n",
    "            p = np.poly1d(z)\n",
    "            \n",
    "            fig.add_trace(\n",
    "                go.Scatter(\n",
    "                    x=valid_data[x_var],\n",
    "                    y=p(valid_data[x_var]),\n",
    "                    mode='lines',\n",
    "                    line=dict(color='blue', dash='dash'),\n",
    "                    showlegend=False\n",
    "                ),\n",
    "                row=2, col=2\n",
    "            )\n",
    "            \n",
    "            # Actualizar etiquetas del scatter plot\n",
    "            fig.update_xaxes(title_text=x_var, row=2, col=2)\n",
    "            fig.update_yaxes(title_text=y_var, row=2, col=2)\n",
    "    \n",
    "    # Actualizar layout\n",
    "    fig.update_layout(\n",
    "        height=800,\n",
    "        title_text=\"🔗 Análisis de Correlaciones - Métricas Liga Tailandesa\",\n",
    "        title_x=0.5\n",
    "    )\n",
    "    \n",
    "    # Actualizar etiquetas\n",
    "    fig.update_xaxes(title_text=\"Correlación (r)\", row=2, col=1)\n",
    "    fig.update_yaxes(title_text=\"Frecuencia\", row=2, col=1)\n",
    "    \n",
    "    fig.show()\n",
    "    \n",
    "    # Análisis de correlaciones más significativas\n",
    "    print(\"\\n🔍 CORRELACIONES MÁS SIGNIFICATIVAS:\")\n",
    "    print(\"=\" * 60)\n",
    "    \n",
    "    # Encontrar correlaciones fuertes\n",
    "    strong_correlations = []\n",
    "    for i in range(len(correlation_matrix.columns)):\n",
    "        for j in range(i+1, len(correlation_matrix.columns)):\n",
    "            corr_val = correlation_matrix.iloc[i, j]\n",
    "            if not np.isnan(corr_val) and abs(corr_val) > 0.5:\n",
    "                strong_correlations.append({\n",
    "                    'Variable 1': correlation_matrix.columns[i],\n",
    "                    'Variable 2': correlation_matrix.columns[j],\n",
    "                    'Correlación': corr_val,\n",
    "                    'Fuerza': 'Muy Fuerte' if abs(corr_val) > 0.8 else 'Fuerte'\n",
    "                })\n",
    "    \n",
    "    if strong_correlations:\n",
    "        df_strong_corr = pd.DataFrame(strong_correlations)\n",
    "        df_strong_corr = df_strong_corr.sort_values('Correlación', key=abs, ascending=False)\n",
    "        print(df_strong_corr.round(3).to_string(index=False))\n",
    "    else:\n",
    "        print(\"No se encontraron correlaciones fuertes (|r| > 0.5)\")\n",
    "    \n",
    "    # Estadísticas descriptivas de correlaciones\n",
    "    print(\"\\n📊 ESTADÍSTICAS DE CORRELACIONES:\")\n",
    "    if correlation_values.size == 0:\n",
    "        print(\"   No hay pares suficientes para correlación (p.ej., solo 1 métrica).\")\n",
    "    else:\n",
    "        finite_vals = correlation_values[~np.isnan(correlation_values)]\n",
    "        if finite_vals.size == 0:\n",
    "            print(\"   No hay correlaciones válidas (todas NaN).\")\n",
    "        else:\n",
    "            print(f\"   Media: {np.mean(finite_vals):.3f}\")\n",
    "            print(f\"   Desviación estándar: {np.std(finite_vals):.3f}\")\n",
    "            print(f\"   Correlación máxima: {np.max(finite_vals):.3f}\")\n",
    "            print(f\"   Correlación mínima: {np.min(finite_vals):.3f}\")\n",
    "            print(f\"   Correlaciones > 0.5: {np.sum(np.abs(finite_vals) > 0.5)}\")\n",
    "            print(f\"   Correlaciones > 0.3: {np.sum(np.abs(finite_vals) > 0.3)}\")\n",
    "    \n",
    "    return correlation_matrix\n",
    "\n",
    "# Ejecutar análisis de correlaciones\n",
    "if df_thai is not None:\n",
    "    print(\"🔄 Generando análisis de correlaciones...\")\n",
    "    corr_matrix = create_correlation_analysis(df_thai)"
   ]
  },
  {
   "cell_type": "markdown",
   "metadata": {},
   "source": [
    "## 7. Detección y Análisis de Outliers\n",
    "\n",
    "### 7.1 Identificación de Valores Atípicos por Métricas Clave"
   ]
  },
  {
   "cell_type": "code",
   "execution_count": 9,
   "metadata": {},
   "outputs": [
    {
     "name": "stdout",
     "output_type": "stream",
     "text": [
      "🔄 Ejecutando análisis de outliers...\n",
      "🔍 Analizando outliers en 10 métricas\n"
     ]
    },
    {
     "data": {
      "application/vnd.plotly.v1+json": {
       "config": {
        "plotlyServerURL": "https://plot.ly"
       },
       "data": [
        {
         "boxpoints": "outliers",
         "marker": {
          "color": "lightblue"
         },
         "name": "goals",
         "showlegend": false,
         "type": "box",
         "xaxis": "x",
         "y": {
          "bdata": "AAEMAAABAAACAAMABw0AAAMBDBkCDgIDDwkBAgAAAAEQDwADAQoVAwcGEgIAAgADCgECAAMEAgABAggBAAICAgEQAAEAAA0EAQAAABACAQACAAYMAAAEAwQBCQABAQAAAAAAAAQADAQDCwIAAAAAAwABAAECAAEAAQYAAAAEAgAFBAIBAgACAwAABAIBAAEDBgABAgAAAAsAAAMAAAEDAgAEAgIABgUAAAAABgAAAQEABQMAAwEBAQMCAAIAAgAAAgAAAAIAAAEGBAAAAAAFBQAAAAABBQQAAAEAAQAAAAAAAAYAAAEAAAMEBAACAAEAAAgAAgABAAAAAAAAAAECAQAAAAUAAAAAAAAAAAADBQAAAAICAAEAAQACAAAAAAMDAAEAAwAAAQAAAQAAAAEBAAAAAwMAAAAAAwAAAAABAQECAAEBAAIBAAEBAAEAAgAAAAAAAAEAAAAAAAAAAAAAAQAAAQAAAQAAAAAAAQAAAAABAAAAAQAAAAAAAAAAAAAAAAEAAQAAAAAAAAEAAAAAAAAAAQAAAAAAAAAAAAAAAAAAAAAAAAAAAAAAAAAAAAAAAAAAAAAAAQAAAAAAAAAAAAAAAAAAAAAAAAAAAAAAAAAAABEDAwAAAQ4AAQ8CAwABDQABAwMPAxMCAAgNBA4BAgABAQEAAAABAwAMAQUIAAIAAgMCAAIAAgEACgIJAAEBAAMEAAEKAgQEAAABCQUBBgwAAAEBDgAACAEDAQAAAAEBAAAABQAAAAMAAgAAAgAEBgAAAQAABgAAAAECAwEDAQEFAAEAAAEDAwIAAAADAAAAAAEBAwAACAAAAAEAAAAAAAAAAAABAAMABgYAAgAAAgAAAgYCAwEDAgQCAgABAQAAAwIAAgACAQAEAAgAAAEDCgAAAAEABAQAAAYABAAABgAAAAADAAYAAQABAAAIAgAEBAABAAACAAAAAAMAAQAAAQAAAAAAAAAAAAABAAAGAAABAAACAwEAAAABAAAAAAAAAAEBAQEAAAAAAAABAAAAAAABAQIBAAIAAAAAAAABAAAAAQAABAAAAgAAAAIAAAAAAAAAAAAAAQEAAAAAAAABAAABAAAAAAABAQAAAAABAQAAAAEAAAAAAAABAAAAAQEAAAABAAAAAAAAAAAAAAAAAAAAAAAAAAAAAAAAAAAAAAAAAAAAAAAAAAAAAAAAAAAAAAAAAAAAAAAAAAAAAAAAAAAAAAAAAAAAAAAFAAgAAAABAAEDEQsAEwkCAwADAAECAQ8ACAEABQAAAAIBAAEDAwcAAAIEAQUOAgsBBAULBwABBwIAAAAAAgAAAAABBQACAAAHAAQCAAEBAgACAAoBDgEBAQAABAcAAwICAAALAQAABAEGAgABBgAGAAEEAwAAAgQEBAMBCQcACAAEAAYEAQcFAQMABwEDAAIAAAEFAgUAAAMAAAAAAgAAAgEAAAwAAQADAAAEAAIAAAAAAwUBDgAAAAQBBgACAAEAAwIAAQIBAQsAAAAAAAgAAAAAAAABAQEAAQEBAAAEAAIAAQEAAQACBAIDAAUAAgMAAQABAAEBAQQAAAEBAAAAAAABAQAAAAABAAIAAAAAAwEAAwMAAQAAAwEAAAAAAAABAAAAAAEBAQEBAQAAAwEABAAAAAEBAAEAAAQAAAIAAAAAAAEAAAAAAAMAAQEAAQAAAAAAAAAAAAABAQABAAAAAQABAAABAAAAAAAAAAEAAAAAAAABAAAAAAAAAAAAAAAAAAEAAAAAAgAAAAAAAAEAAAAAAAAAAAAAAAAAAAAAAAAAAAAAAAAAAAAAAAAAAAAAAAAAAAAAAAAAAAAAAAAAAAAAAAAAAAAAAAAAAAAAAAAAAAAAAAAAAAAQCQAAAgAPAQACAAUUAAgBCgAIAAoVAwAHAgAGBQABAQwBAQUCAAEACAABAAACCAECAAcAAAADAAIBAAQBAAEDAQUBAAMBAAYAAAMABwMBAAkECxEAAQAAAQcECQ4CAAYDAQEACAQEAQUABwAJAAAAAAADBgMBAAEBAgMAAgEAAgQABAABAAAAAAQCAQABAAECAQEFAgIEAxAAAQEBAgAAAAEAAAICAQAABAAAAAAAAQIABAIBAQEBAQYEAAEGAwAAAQAAAAMFAQUHAQYAAAAEAQEBCQABAAQEAgYDAwIHBAIKAQAACAEDAAEAAAABAwIEAQADAQIBAAEAAAAAAQUBAAEAAAAAAAAAAAMBAQEAAAEAAA8CAAIAAQAFAAMAAQAAAAEAAAQAAQAAAQABAQABAgIBAAEBAAABAgAAAAAAAAAAAAMAAAAAAAAAAAAAAAAAAQAAAgABAgAAAAAAAAAAAAAAAAEAAQABAQIBAAAAAAAAAAEAAAEBAAAAAAAAAAABAAIAAAAAAAAAAAAAAAAAAQAAAAAAAAAAAAAAAAAAAAAAAAAAAAAAAAAAAAAAAAAAAAAAAAAAAAAAAAAAAAAAAAAAAAAAAAAAAAAAAAAAAAAAAAAAAAAAAAAAAgQAAAAAAQABAQYCAgABAAoAGAACAQEAAgcEAQQLBgQIAAMBBAABAQUAAgQJDQAABQUAAQACAQACAwECAwMAAwAABwAABgEABQIGAAACAAEAAAQDAAEAAQECDAEAAwADBgUAAAIBAgMJAAgAAgYAAwkFBQEGAgACAQYDAQEADwEEAQIAAAEABQEAAQEEAwAGBAAAAAECAQMEAgAAAQMBAQACBQEAAAECAwEAAAQAAgACAAAGAQAAAAAAAAAAAgAAAAAAAAICAAEGAQIAAAkAAAEEAQIAAwIAAAAAAgEIAAEAAAMAAAADBQIAAAQAAQEAAAEBAAADAgAAAAABAQEAAQEAAAMHBAcAAAAAAgEAAAAAAAABAQEAAAEBAQABAAIAAAECBAAAAQACAQABAQACAQAAAgYBAAABAAABAAEBAAAAAAABAAAAAAAAAAAAAAEAAAAAAAAAAQAAAgAAAAMBAAABAgAAAAEAAAEAAAEBAQAAAAAAAAAAAAAAAAAAAQAAAAAAAAAAAQABAAAAAAAAAAABAAAAAAAAAAAAAAAAAAAAAAAAAAAAAQAAAAEAAAAAAAEAAAAAAAAAAAAAAAAAAAAAAAABAAAAAAAAAAAAAAAAAAEAAAAAAAAAAAAAAAAAAAAAAAAAAA==",
          "dtype": "i1"
         },
         "yaxis": "y"
        },
        {
         "boxpoints": "outliers",
         "marker": {
          "color": "lightblue"
         },
         "name": "assists",
         "showlegend": false,
         "type": "box",
         "xaxis": "x2",
         "y": {
          "bdata": "AQMGBAAAAAAABA4BCgQAAQEGBQEDAQUCAAEEBwAEAQAEBAABAAYAAAsBBAEABAAEBgICAAEFBAAAAgIBBQABAgAGAAAAAgQCAgMAAAEAAAADAQQDBQAAAwIFAQIBAgABAAACAAAAAwkAAQMAAAAAAwABAgADAAEAAAIAAAADAAADAQEAAgAAAwIBAAECAAEDBAACBAIBAQAAAAEBBQMCAAAAAQAFAQIAAAEAAwABAAAAAQAAAQEABAIBAAECAQAAAAABAAIBAAABAQAAAAAAAAAABAQAAQEBAAIBAQACAwAAAAEAAAEAAAAAAgABAAAAAAMAAAIBAAAAAAAAAAAAAQEAAAEBAAAAAAAAAgAAAQAAAAEBAAABAQAAAgAAAAEBAAABAAAAAAAAAQAAAQAAAQABAQAAAAAAAQAAAgEAAAEAAQIAAQEAAQAAAAAAAAAAAQEAAAAAAAAAAAAAAQEAAAAAAAAAAAAAAAAAAAAAAAAAAAAAAAAAAAAAAAAAAAAAAAEAAQAAAAAAAAAAAAAAAAAAAAAAAQAAAAAAAAAAAAAAAAAAAAAAAAAAAAAAAAAAAAAAAAAAAAAAAAAAAAAAAAAAAAAAAAAAAAAAAAAAAAAAAAIAAQMAAwMAAAQDAAABAgADBAYFAQIEAAUBAwABAAEBAgEAAQACBwACAAEHAQMEAQAEAAEAAgECAwUEAAQBAAQABAEFAAMAAAUAAgUAAwIAAAEBBgEDAQIECQAAAQQBAQEDAwAAAAEAAgAAAAIAAAMAAgAAAgIAAAMDAAACBAABAAMBAwEAAQMBAAAAAAABAgEBAgAAAQAAAQEAAAAAAQACAAADAAIAAQAEAAAAAAABAQMBAQABAwQAAQACAAAAAAEAAwADAAABAAABAAADAgEAAAAAAAAAAAABAAEAAwAAAAIBAQAAAQIAAAABAgACAgACAAACAAAAAAIAAAAAAQAAAAEBAAAAAAEBAAAABAEBAAABAAAAAQAAAAAAAAEAAAEAAAAAAAAAAAAAAQAAAAAAAAABBAAAAAIAAAAAAAAAAAADAAABAAAAAAABAAIBAAABAAAAAAAAAAAAAAAAAAAAAQEAAQABAAAAAAAAAQAAAAAAAAAAAAAAAAACAAEAAAAAAAAAAAAAAAAAAAAAAAAAAAAAAAAAAAAAAQEAAAAAAQAAAAAAAAAAAAAAAAAAAAAAAAAAAAAAAAAAAAAAAAAAAAAAAAAAAAABAQUAAAEAAAMBBwMABQQBAAABAAEIAQMECQEBBQAAAQEDAAABAwUEAgEBAgYCAgQAAQMBAQAABAABAAIBAAIBBgEAAwEAAAADAAEHBAEGBQAAAAQAAwMCAQEAAAQAAwEAAQEDAAADAQEDAAEABQABAAEHAQEAAAEBAAQBAwIAAAAAAAACBAMBAAMCAAACAQIAAgECAAQAAAEAAQIAAAABAAEBAAMBAgAAAAECAQACAQAAAgICBAEDAwAAAQEAAAAAAwACAAEAAAIAAAAAAQMBAAEBAAAAAAABAgACAAECAQEAAAIAAAAFAwIDAAAAAwIAAgAAAAIAAAAAAAIAAAAAAQAAAQEAAAAAAAAAAQAAAQIAAwAAAgAAAQAAAAEAAAAAAAABAAAAAAIAAQABAAIAAgABAAACAQEAAAEAAAAAAQAAAAIBAQIAAAAAAAAAAAAAAAEAAAAAAAABAQABAAAAAAAAAQAAAAAAAAEAAAAAAAEAAAAAAAAAAAAAAAAAAAEAAAAAAAAAAAAAAQAAAAAAAAAAAQAAAAAAAAAAAAEAAAAAAAAAAAAAAAAAAAAAAAAAAAAAAAAAAAAAAAAAAQAAAAAAAAAAAAAAAAAAAAAAAAAAAAAAAAAAAAADAAAAAQAAAgABAAEGAAQHBQEGAAMHAAAGAgAEBQABAQcCAgEDBgICBQAAAAEBAwIMAgIAAgAAAAICAQYCAAEEBAgBAAQAAAMAAQMAAQEAAAYEBQQAAQMCAAEECQEAAQQDAAQCBAcCAgEEAAADAAAAAAACAgIFAQEDAQIAAgAAAAYAAQAAAAAAAQAAAAAAAAACAAICAAECAwMBAAAAAAEBAAABAAQAAQAAAAAAAQAAAQEAAwQABQIAAQADAAABAAAAAAAAAQEAAQIBAgECAAAAAAUAAQABAAABAAAEAAMDAAEBAAAAAAMCAAEAAAAAAQAAAAAAAgMAAAMAAAACAAABAAABAAABAAEAAAAAAAECAAEAAQAAAAEAAAAAAAEAAQACAQACAAIAAAAAAQAAAQAAAQEAAwAAAwMDAQAAAAAAAAIAAAABAAAAAAAAAAEBAAAAAQEBAAMBAAAAAQAAAAAAAQAAAAEBAAIBAAAAAAABAAAAAgAAAAEAAAIAAAAAAAEAAQAAAAEAAAAAAQABAAAAAAAAAAAAAAABAAAAAAAAAAAAAAAAAAAAAAAAAAAAAAAAAAAAAAAAAAAAAAAAAAAAAAAAAAAAAAAAAAAAAAAAAAAAAAAAAAABAAAAAQIAAQAAAQACAQUDAQECAAICBgMCAAIBAAMCAAQFBAABAAMABgIAAAIBAAMGAAABAwYAAAEDAgADAAQAAwIABQIBAgADAgEAAQAGAAADCAQDAAIAAAMCAAABAAAAAwADBgAAAAIBAAQBAAUAAgAAAAAAAgABAAAEAQACAAABAQcBAAABAAIAAwAAAQECAQAFAAEAAAEAAAECAQAAAAAAAAIABQMAAQEDAQEAAQABAQMBAAAEAAABAAAAAAEAAgAAAAEAAAIAAAADAQIAAQMAAAAAAAEBAQQAAQAAAQAAAAACAAIAAAABAQIBAgEAAQEAAAQAAQEBAgEAAgECAQAAAAAAAAIFAQABAAABAAAAAAAAAQAAAAAAAAAAAQACAAAAAQAEAgEAAAABAAAAAwEAAAAAAAEAAAQBAAAAAAAAAAAAAAAAAAAAAAAAAQABAAEAAAAAAAAAAAABAQAAAQABAAAAAAABAAIAAAAAAAAAAAAAAAAAAAAAAAAAAAAAAAABAAAAAQEAAgAAAAAAAAAAAAAAAAABAAEAAQAAAAAAAgAAAAAAAAABAAAAAAAAAAAAAAAAAAAAAAAAAAAAAAAAAAAAAAAAAAAAAAAAAAEAAAAAAAAAAAAAAAAAAAAAAAAAAAAAAAAAAA==",
          "dtype": "i1"
         },
         "yaxis": "y2"
        },
        {
         "boxpoints": "outliers",
         "marker": {
          "color": "lightblue"
         },
         "name": "goals_per_90",
         "showlegend": false,
         "type": "box",
         "xaxis": "x3",
         "y": {
          "bdata": "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",
          "dtype": "f8"
         },
         "yaxis": "y3"
        },
        {
         "boxpoints": "outliers",
         "marker": {
          "color": "lightblue"
         },
         "name": "assists_per_90",
         "showlegend": false,
         "type": "box",
         "xaxis": "x4",
         "y": {
          "bdata": "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",
          "dtype": "f8"
         },
         "yaxis": "y4"
        },
        {
         "boxpoints": "outliers",
         "marker": {
          "color": "lightblue"
         },
         "name": "passes_per_90",
         "showlegend": false,
         "type": "box",
         "xaxis": "x5",
         "y": {
          "bdata": "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",
          "dtype": "f8"
         },
         "yaxis": "y5"
        },
        {
         "boxpoints": "outliers",
         "marker": {
          "color": "lightblue"
         },
         "name": "shots_per_90",
         "showlegend": false,
         "type": "box",
         "xaxis": "x6",
         "y": {
          "bdata": "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",
          "dtype": "f8"
         },
         "yaxis": "y6"
        },
        {
         "boxpoints": "outliers",
         "marker": {
          "color": "lightblue"
         },
         "name": "duels_per_90",
         "showlegend": false,
         "type": "box",
         "xaxis": "x7",
         "y": {
          "bdata": "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",
          "dtype": "f8"
         },
         "yaxis": "y7"
        },
        {
         "boxpoints": "outliers",
         "marker": {
          "color": "lightblue"
         },
         "name": "minutes_played",
         "showlegend": false,
         "type": "box",
         "xaxis": "x8",
         "y": {
          "bdata": "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",
          "dtype": "i2"
         },
         "yaxis": "y8"
        }
       ],
       "layout": {
        "annotations": [
         {
          "font": {
           "size": 16
          },
          "showarrow": false,
          "text": "Outliers: goals",
          "x": 0.10625,
          "xanchor": "center",
          "xref": "paper",
          "y": 1,
          "yanchor": "bottom",
          "yref": "paper"
         },
         {
          "font": {
           "size": 16
          },
          "showarrow": false,
          "text": "Outliers: assists",
          "x": 0.36875,
          "xanchor": "center",
          "xref": "paper",
          "y": 1,
          "yanchor": "bottom",
          "yref": "paper"
         },
         {
          "font": {
           "size": 16
          },
          "showarrow": false,
          "text": "Outliers: goals_per_90",
          "x": 0.6312500000000001,
          "xanchor": "center",
          "xref": "paper",
          "y": 1,
          "yanchor": "bottom",
          "yref": "paper"
         },
         {
          "font": {
           "size": 16
          },
          "showarrow": false,
          "text": "Outliers: assists_per_90",
          "x": 0.89375,
          "xanchor": "center",
          "xref": "paper",
          "y": 1,
          "yanchor": "bottom",
          "yref": "paper"
         },
         {
          "font": {
           "size": 16
          },
          "showarrow": false,
          "text": "Outliers: passes_per_90",
          "x": 0.10625,
          "xanchor": "center",
          "xref": "paper",
          "y": 0.375,
          "yanchor": "bottom",
          "yref": "paper"
         },
         {
          "font": {
           "size": 16
          },
          "showarrow": false,
          "text": "Outliers: shots_per_90",
          "x": 0.36875,
          "xanchor": "center",
          "xref": "paper",
          "y": 0.375,
          "yanchor": "bottom",
          "yref": "paper"
         },
         {
          "font": {
           "size": 16
          },
          "showarrow": false,
          "text": "Outliers: duels_per_90",
          "x": 0.6312500000000001,
          "xanchor": "center",
          "xref": "paper",
          "y": 0.375,
          "yanchor": "bottom",
          "yref": "paper"
         },
         {
          "font": {
           "size": 16
          },
          "showarrow": false,
          "text": "Outliers: minutes_played",
          "x": 0.89375,
          "xanchor": "center",
          "xref": "paper",
          "y": 0.375,
          "yanchor": "bottom",
          "yref": "paper"
         }
        ],
        "height": 600,
        "template": {
         "data": {
          "bar": [
           {
            "error_x": {
             "color": "#2a3f5f"
            },
            "error_y": {
             "color": "#2a3f5f"
            },
            "marker": {
             "line": {
              "color": "white",
              "width": 0.5
             },
             "pattern": {
              "fillmode": "overlay",
              "size": 10,
              "solidity": 0.2
             }
            },
            "type": "bar"
           }
          ],
          "barpolar": [
           {
            "marker": {
             "line": {
              "color": "white",
              "width": 0.5
             },
             "pattern": {
              "fillmode": "overlay",
              "size": 10,
              "solidity": 0.2
             }
            },
            "type": "barpolar"
           }
          ],
          "carpet": [
           {
            "aaxis": {
             "endlinecolor": "#2a3f5f",
             "gridcolor": "#C8D4E3",
             "linecolor": "#C8D4E3",
             "minorgridcolor": "#C8D4E3",
             "startlinecolor": "#2a3f5f"
            },
            "baxis": {
             "endlinecolor": "#2a3f5f",
             "gridcolor": "#C8D4E3",
             "linecolor": "#C8D4E3",
             "minorgridcolor": "#C8D4E3",
             "startlinecolor": "#2a3f5f"
            },
            "type": "carpet"
           }
          ],
          "choropleth": [
           {
            "colorbar": {
             "outlinewidth": 0,
             "ticks": ""
            },
            "type": "choropleth"
           }
          ],
          "contour": [
           {
            "colorbar": {
             "outlinewidth": 0,
             "ticks": ""
            },
            "colorscale": [
             [
              0,
              "#0d0887"
             ],
             [
              0.1111111111111111,
              "#46039f"
             ],
             [
              0.2222222222222222,
              "#7201a8"
             ],
             [
              0.3333333333333333,
              "#9c179e"
             ],
             [
              0.4444444444444444,
              "#bd3786"
             ],
             [
              0.5555555555555556,
              "#d8576b"
             ],
             [
              0.6666666666666666,
              "#ed7953"
             ],
             [
              0.7777777777777778,
              "#fb9f3a"
             ],
             [
              0.8888888888888888,
              "#fdca26"
             ],
             [
              1,
              "#f0f921"
             ]
            ],
            "type": "contour"
           }
          ],
          "contourcarpet": [
           {
            "colorbar": {
             "outlinewidth": 0,
             "ticks": ""
            },
            "type": "contourcarpet"
           }
          ],
          "heatmap": [
           {
            "colorbar": {
             "outlinewidth": 0,
             "ticks": ""
            },
            "colorscale": [
             [
              0,
              "#0d0887"
             ],
             [
              0.1111111111111111,
              "#46039f"
             ],
             [
              0.2222222222222222,
              "#7201a8"
             ],
             [
              0.3333333333333333,
              "#9c179e"
             ],
             [
              0.4444444444444444,
              "#bd3786"
             ],
             [
              0.5555555555555556,
              "#d8576b"
             ],
             [
              0.6666666666666666,
              "#ed7953"
             ],
             [
              0.7777777777777778,
              "#fb9f3a"
             ],
             [
              0.8888888888888888,
              "#fdca26"
             ],
             [
              1,
              "#f0f921"
             ]
            ],
            "type": "heatmap"
           }
          ],
          "histogram": [
           {
            "marker": {
             "pattern": {
              "fillmode": "overlay",
              "size": 10,
              "solidity": 0.2
             }
            },
            "type": "histogram"
           }
          ],
          "histogram2d": [
           {
            "colorbar": {
             "outlinewidth": 0,
             "ticks": ""
            },
            "colorscale": [
             [
              0,
              "#0d0887"
             ],
             [
              0.1111111111111111,
              "#46039f"
             ],
             [
              0.2222222222222222,
              "#7201a8"
             ],
             [
              0.3333333333333333,
              "#9c179e"
             ],
             [
              0.4444444444444444,
              "#bd3786"
             ],
             [
              0.5555555555555556,
              "#d8576b"
             ],
             [
              0.6666666666666666,
              "#ed7953"
             ],
             [
              0.7777777777777778,
              "#fb9f3a"
             ],
             [
              0.8888888888888888,
              "#fdca26"
             ],
             [
              1,
              "#f0f921"
             ]
            ],
            "type": "histogram2d"
           }
          ],
          "histogram2dcontour": [
           {
            "colorbar": {
             "outlinewidth": 0,
             "ticks": ""
            },
            "colorscale": [
             [
              0,
              "#0d0887"
             ],
             [
              0.1111111111111111,
              "#46039f"
             ],
             [
              0.2222222222222222,
              "#7201a8"
             ],
             [
              0.3333333333333333,
              "#9c179e"
             ],
             [
              0.4444444444444444,
              "#bd3786"
             ],
             [
              0.5555555555555556,
              "#d8576b"
             ],
             [
              0.6666666666666666,
              "#ed7953"
             ],
             [
              0.7777777777777778,
              "#fb9f3a"
             ],
             [
              0.8888888888888888,
              "#fdca26"
             ],
             [
              1,
              "#f0f921"
             ]
            ],
            "type": "histogram2dcontour"
           }
          ],
          "mesh3d": [
           {
            "colorbar": {
             "outlinewidth": 0,
             "ticks": ""
            },
            "type": "mesh3d"
           }
          ],
          "parcoords": [
           {
            "line": {
             "colorbar": {
              "outlinewidth": 0,
              "ticks": ""
             }
            },
            "type": "parcoords"
           }
          ],
          "pie": [
           {
            "automargin": true,
            "type": "pie"
           }
          ],
          "scatter": [
           {
            "fillpattern": {
             "fillmode": "overlay",
             "size": 10,
             "solidity": 0.2
            },
            "type": "scatter"
           }
          ],
          "scatter3d": [
           {
            "line": {
             "colorbar": {
              "outlinewidth": 0,
              "ticks": ""
             }
            },
            "marker": {
             "colorbar": {
              "outlinewidth": 0,
              "ticks": ""
             }
            },
            "type": "scatter3d"
           }
          ],
          "scattercarpet": [
           {
            "marker": {
             "colorbar": {
              "outlinewidth": 0,
              "ticks": ""
             }
            },
            "type": "scattercarpet"
           }
          ],
          "scattergeo": [
           {
            "marker": {
             "colorbar": {
              "outlinewidth": 0,
              "ticks": ""
             }
            },
            "type": "scattergeo"
           }
          ],
          "scattergl": [
           {
            "marker": {
             "colorbar": {
              "outlinewidth": 0,
              "ticks": ""
             }
            },
            "type": "scattergl"
           }
          ],
          "scattermap": [
           {
            "marker": {
             "colorbar": {
              "outlinewidth": 0,
              "ticks": ""
             }
            },
            "type": "scattermap"
           }
          ],
          "scattermapbox": [
           {
            "marker": {
             "colorbar": {
              "outlinewidth": 0,
              "ticks": ""
             }
            },
            "type": "scattermapbox"
           }
          ],
          "scatterpolar": [
           {
            "marker": {
             "colorbar": {
              "outlinewidth": 0,
              "ticks": ""
             }
            },
            "type": "scatterpolar"
           }
          ],
          "scatterpolargl": [
           {
            "marker": {
             "colorbar": {
              "outlinewidth": 0,
              "ticks": ""
             }
            },
            "type": "scatterpolargl"
           }
          ],
          "scatterternary": [
           {
            "marker": {
             "colorbar": {
              "outlinewidth": 0,
              "ticks": ""
             }
            },
            "type": "scatterternary"
           }
          ],
          "surface": [
           {
            "colorbar": {
             "outlinewidth": 0,
             "ticks": ""
            },
            "colorscale": [
             [
              0,
              "#0d0887"
             ],
             [
              0.1111111111111111,
              "#46039f"
             ],
             [
              0.2222222222222222,
              "#7201a8"
             ],
             [
              0.3333333333333333,
              "#9c179e"
             ],
             [
              0.4444444444444444,
              "#bd3786"
             ],
             [
              0.5555555555555556,
              "#d8576b"
             ],
             [
              0.6666666666666666,
              "#ed7953"
             ],
             [
              0.7777777777777778,
              "#fb9f3a"
             ],
             [
              0.8888888888888888,
              "#fdca26"
             ],
             [
              1,
              "#f0f921"
             ]
            ],
            "type": "surface"
           }
          ],
          "table": [
           {
            "cells": {
             "fill": {
              "color": "#EBF0F8"
             },
             "line": {
              "color": "white"
             }
            },
            "header": {
             "fill": {
              "color": "#C8D4E3"
             },
             "line": {
              "color": "white"
             }
            },
            "type": "table"
           }
          ]
         },
         "layout": {
          "annotationdefaults": {
           "arrowcolor": "#2a3f5f",
           "arrowhead": 0,
           "arrowwidth": 1
          },
          "autotypenumbers": "strict",
          "coloraxis": {
           "colorbar": {
            "outlinewidth": 0,
            "ticks": ""
           }
          },
          "colorscale": {
           "diverging": [
            [
             0,
             "#8e0152"
            ],
            [
             0.1,
             "#c51b7d"
            ],
            [
             0.2,
             "#de77ae"
            ],
            [
             0.3,
             "#f1b6da"
            ],
            [
             0.4,
             "#fde0ef"
            ],
            [
             0.5,
             "#f7f7f7"
            ],
            [
             0.6,
             "#e6f5d0"
            ],
            [
             0.7,
             "#b8e186"
            ],
            [
             0.8,
             "#7fbc41"
            ],
            [
             0.9,
             "#4d9221"
            ],
            [
             1,
             "#276419"
            ]
           ],
           "sequential": [
            [
             0,
             "#0d0887"
            ],
            [
             0.1111111111111111,
             "#46039f"
            ],
            [
             0.2222222222222222,
             "#7201a8"
            ],
            [
             0.3333333333333333,
             "#9c179e"
            ],
            [
             0.4444444444444444,
             "#bd3786"
            ],
            [
             0.5555555555555556,
             "#d8576b"
            ],
            [
             0.6666666666666666,
             "#ed7953"
            ],
            [
             0.7777777777777778,
             "#fb9f3a"
            ],
            [
             0.8888888888888888,
             "#fdca26"
            ],
            [
             1,
             "#f0f921"
            ]
           ],
           "sequentialminus": [
            [
             0,
             "#0d0887"
            ],
            [
             0.1111111111111111,
             "#46039f"
            ],
            [
             0.2222222222222222,
             "#7201a8"
            ],
            [
             0.3333333333333333,
             "#9c179e"
            ],
            [
             0.4444444444444444,
             "#bd3786"
            ],
            [
             0.5555555555555556,
             "#d8576b"
            ],
            [
             0.6666666666666666,
             "#ed7953"
            ],
            [
             0.7777777777777778,
             "#fb9f3a"
            ],
            [
             0.8888888888888888,
             "#fdca26"
            ],
            [
             1,
             "#f0f921"
            ]
           ]
          },
          "colorway": [
           "#636efa",
           "#EF553B",
           "#00cc96",
           "#ab63fa",
           "#FFA15A",
           "#19d3f3",
           "#FF6692",
           "#B6E880",
           "#FF97FF",
           "#FECB52"
          ],
          "font": {
           "color": "#2a3f5f"
          },
          "geo": {
           "bgcolor": "white",
           "lakecolor": "white",
           "landcolor": "white",
           "showlakes": true,
           "showland": true,
           "subunitcolor": "#C8D4E3"
          },
          "hoverlabel": {
           "align": "left"
          },
          "hovermode": "closest",
          "mapbox": {
           "style": "light"
          },
          "paper_bgcolor": "white",
          "plot_bgcolor": "white",
          "polar": {
           "angularaxis": {
            "gridcolor": "#EBF0F8",
            "linecolor": "#EBF0F8",
            "ticks": ""
           },
           "bgcolor": "white",
           "radialaxis": {
            "gridcolor": "#EBF0F8",
            "linecolor": "#EBF0F8",
            "ticks": ""
           }
          },
          "scene": {
           "xaxis": {
            "backgroundcolor": "white",
            "gridcolor": "#DFE8F3",
            "gridwidth": 2,
            "linecolor": "#EBF0F8",
            "showbackground": true,
            "ticks": "",
            "zerolinecolor": "#EBF0F8"
           },
           "yaxis": {
            "backgroundcolor": "white",
            "gridcolor": "#DFE8F3",
            "gridwidth": 2,
            "linecolor": "#EBF0F8",
            "showbackground": true,
            "ticks": "",
            "zerolinecolor": "#EBF0F8"
           },
           "zaxis": {
            "backgroundcolor": "white",
            "gridcolor": "#DFE8F3",
            "gridwidth": 2,
            "linecolor": "#EBF0F8",
            "showbackground": true,
            "ticks": "",
            "zerolinecolor": "#EBF0F8"
           }
          },
          "shapedefaults": {
           "line": {
            "color": "#2a3f5f"
           }
          },
          "ternary": {
           "aaxis": {
            "gridcolor": "#DFE8F3",
            "linecolor": "#A2B1C6",
            "ticks": ""
           },
           "baxis": {
            "gridcolor": "#DFE8F3",
            "linecolor": "#A2B1C6",
            "ticks": ""
           },
           "bgcolor": "white",
           "caxis": {
            "gridcolor": "#DFE8F3",
            "linecolor": "#A2B1C6",
            "ticks": ""
           }
          },
          "title": {
           "x": 0.05
          },
          "xaxis": {
           "automargin": true,
           "gridcolor": "#EBF0F8",
           "linecolor": "#EBF0F8",
           "ticks": "",
           "title": {
            "standoff": 15
           },
           "zerolinecolor": "#EBF0F8",
           "zerolinewidth": 2
          },
          "yaxis": {
           "automargin": true,
           "gridcolor": "#EBF0F8",
           "linecolor": "#EBF0F8",
           "ticks": "",
           "title": {
            "standoff": 15
           },
           "zerolinecolor": "#EBF0F8",
           "zerolinewidth": 2
          }
         }
        },
        "title": {
         "text": "📊 Detección de Outliers por Métrica - Liga Tailandesa",
         "x": 0.5
        },
        "xaxis": {
         "anchor": "y",
         "domain": [
          0,
          0.2125
         ]
        },
        "xaxis2": {
         "anchor": "y2",
         "domain": [
          0.2625,
          0.475
         ]
        },
        "xaxis3": {
         "anchor": "y3",
         "domain": [
          0.525,
          0.7375
         ]
        },
        "xaxis4": {
         "anchor": "y4",
         "domain": [
          0.7875,
          1
         ]
        },
        "xaxis5": {
         "anchor": "y5",
         "domain": [
          0,
          0.2125
         ]
        },
        "xaxis6": {
         "anchor": "y6",
         "domain": [
          0.2625,
          0.475
         ]
        },
        "xaxis7": {
         "anchor": "y7",
         "domain": [
          0.525,
          0.7375
         ]
        },
        "xaxis8": {
         "anchor": "y8",
         "domain": [
          0.7875,
          1
         ]
        },
        "yaxis": {
         "anchor": "x",
         "domain": [
          0.625,
          1
         ]
        },
        "yaxis2": {
         "anchor": "x2",
         "domain": [
          0.625,
          1
         ]
        },
        "yaxis3": {
         "anchor": "x3",
         "domain": [
          0.625,
          1
         ]
        },
        "yaxis4": {
         "anchor": "x4",
         "domain": [
          0.625,
          1
         ]
        },
        "yaxis5": {
         "anchor": "x5",
         "domain": [
          0,
          0.375
         ]
        },
        "yaxis6": {
         "anchor": "x6",
         "domain": [
          0,
          0.375
         ]
        },
        "yaxis7": {
         "anchor": "x7",
         "domain": [
          0,
          0.375
         ]
        },
        "yaxis8": {
         "anchor": "x8",
         "domain": [
          0,
          0.375
         ]
        }
       }
      }
     },
     "metadata": {},
     "output_type": "display_data"
    },
    {
     "name": "stdout",
     "output_type": "stream",
     "text": [
      "\n",
      "📊 ANÁLISIS DE OUTLIERS POR MÉTRICA:\n",
      "====================================================================================================\n",
      "       Métrica  N_Total  Outliers_IQR  Outliers_ZScore  Pct_Outliers_IQR   Media  Mediana  Desv_Std  Min     Max\n",
      "         goals     2359           400               65              17.0    1.37     0.00      2.80 0.00   25.00\n",
      "       assists     2359           269               45              11.4    0.82     0.00      1.47 0.00   14.00\n",
      "  goals_per_90     2209           181               42               8.2    0.10     0.00      0.18 0.00    1.82\n",
      "assists_per_90     2208           142               44               6.4    0.07     0.00      0.12 0.00    1.29\n",
      " passes_per_90     2208            15               11               0.7   29.10    28.84     11.18 2.65   71.70\n",
      "  shots_per_90     2208            43               17               1.9    1.02     0.74      0.98 0.00    6.43\n",
      "  duels_per_90     2208           190                2               8.6   14.72    14.87      6.17 0.00   34.51\n",
      "minutes_played     2359             0                0               0.0 1069.01   892.00    831.07 0.00 3037.00\n",
      "\n",
      "🎯 JUGADORES CON RENDIMIENTO EXCEPCIONAL (Múltiples Outliers):\n",
      "======================================================================\n",
      "Encontrados 98 jugadores con rendimiento excepcional (3+ outliers):\n",
      "\n",
      "👤 Caion (CF) - nan\n",
      "   🔥 5 métricas excepcionales\n",
      "   📊 Métricas: goals, assists, goals_per_90, shots_per_90, duels_per_90\n",
      "\n",
      "👤 S. Chaided (CF) - Buriram United\n",
      "   🔥 4 métricas excepcionales\n",
      "   📊 Métricas: goals, assists, goals_per_90, assists_per_90\n",
      "\n",
      "👤 Derley (CF) - Chonburi\n",
      "   🔥 4 métricas excepcionales\n",
      "   📊 Métricas: goals, assists, goals_per_90, duels_per_90\n",
      "\n",
      "👤 Maicón (CF) - nan\n",
      "   🔥 4 métricas excepcionales\n",
      "   📊 Métricas: goals, assists, goals_per_90, assists_per_90\n",
      "\n",
      "👤 J. Baggio (AMF) - Sukhothai\n",
      "   🔥 4 métricas excepcionales\n",
      "   📊 Métricas: goals, assists, goals_per_90, shots_per_90\n",
      "\n",
      "👤 Bissoli (CF) - Buriram United\n",
      "   🔥 4 métricas excepcionales\n",
      "   📊 Métricas: goals, assists, goals_per_90, shots_per_90\n",
      "\n",
      "👤 Lucas Crispim (DMF) - Buriram United\n",
      "   🔥 4 métricas excepcionales\n",
      "   📊 Métricas: goals, assists, goals_per_90, assists_per_90\n",
      "\n",
      "👤 R. Živković (LWF) - Bangkok United\n",
      "   🔥 4 métricas excepcionales\n",
      "   📊 Métricas: goals, assists, goals_per_90, assists_per_90\n",
      "\n",
      "👤 B. Phala (LW) - Port FC\n",
      "   🔥 4 métricas excepcionales\n",
      "   📊 Métricas: goals, assists, goals_per_90, assists_per_90\n",
      "\n",
      "👤 Mahmoud Eid (RWF) - Bangkok United\n",
      "   🔥 4 métricas excepcionales\n",
      "   📊 Métricas: goals, assists, goals_per_90, assists_per_90\n",
      "\n"
     ]
    }
   ],
   "source": [
    "def detect_and_analyze_outliers(df):\n",
    "    \"\"\"\n",
    "    Detecta y analiza outliers en métricas clave usando múltiples métodos.\n",
    "    \n",
    "    Args:\n",
    "        df (pd.DataFrame): Dataset de la Liga Tailandesa\n",
    "    \"\"\"\n",
    "    \n",
    "    # Mapear columnas clave a nombres estándar\n",
    "    name_candidates = ['player_name', 'Player', 'player']\n",
    "    pos_candidates = ['primary_position', 'Primary position', 'position']\n",
    "    team_candidates = ['team', 'Team']\n",
    "    name_col = next((c for c in name_candidates if c in df.columns), None)\n",
    "    pos_col = next((c for c in pos_candidates if c in df.columns), None)\n",
    "    team_col = next((c for c in team_candidates if c in df.columns), None)\n",
    "    \n",
    "    # Seleccionar métricas para análisis de outliers\n",
    "    outlier_metrics = [\n",
    "        'goals', 'assists', 'goals_per_90', 'assists_per_90',\n",
    "        'passes_per_90', 'shots_per_90', 'duels_per_90',\n",
    "        'minutes_played', 'matches_played', 'age'\n",
    "    ]\n",
    "    \n",
    "    # Filtrar métricas disponibles\n",
    "    available_metrics = [col for col in outlier_metrics if col in df.columns]\n",
    "    \n",
    "    print(f\"🔍 Analizando outliers en {len(available_metrics)} métricas\")\n",
    "    if len(available_metrics) == 0:\n",
    "        print(\"No hay métricas disponibles para analizar outliers.\")\n",
    "        return [], None\n",
    "    \n",
    "    # Función para detectar outliers usando IQR\n",
    "    def detect_iqr_outliers(series):\n",
    "        Q1 = series.quantile(0.25)\n",
    "        Q3 = series.quantile(0.75)\n",
    "        IQR = Q3 - Q1\n",
    "        lower_bound = Q1 - 1.5 * IQR\n",
    "        upper_bound = Q3 + 1.5 * IQR\n",
    "        return (series < lower_bound) | (series > upper_bound)\n",
    "    \n",
    "    # Función para detectar outliers usando Z-score\n",
    "    def detect_zscore_outliers(series, threshold=3):\n",
    "        z_scores = np.abs(stats.zscore(series.dropna()))\n",
    "        return pd.Series(z_scores > threshold, index=series.dropna().index)\n",
    "    \n",
    "    # Análisis de outliers por métrica\n",
    "    outlier_analysis = []\n",
    "    \n",
    "    # Crear visualización de outliers\n",
    "    n_metrics = min(8, len(available_metrics))  # Máximo 8 métricas\n",
    "    cols = 4\n",
    "    rows = 2\n",
    "    \n",
    "    fig = make_subplots(\n",
    "        rows=rows, cols=cols,\n",
    "        subplot_titles=[f\"Outliers: {metric}\" for metric in available_metrics[:n_metrics]],\n",
    "        specs=[[{\"type\": \"box\"}] * cols for _ in range(rows)]\n",
    "    )\n",
    "    \n",
    "    for idx, metric in enumerate(available_metrics[:n_metrics]):\n",
    "        row = (idx // cols) + 1\n",
    "        col = (idx % cols) + 1\n",
    "        \n",
    "        # Obtener datos válidos\n",
    "        data = df[metric].dropna()\n",
    "        \n",
    "        if len(data) > 10:\n",
    "            # Detectar outliers con ambos métodos\n",
    "            iqr_outliers = detect_iqr_outliers(data)\n",
    "            \n",
    "            try:\n",
    "                zscore_outliers = detect_zscore_outliers(data)\n",
    "            except:\n",
    "                zscore_outliers = pd.Series([False] * len(data), index=data.index)\n",
    "            \n",
    "            # Estadísticas de outliers\n",
    "            n_iqr_outliers = iqr_outliers.sum() if isinstance(iqr_outliers, pd.Series) else 0\n",
    "            n_zscore_outliers = zscore_outliers.sum() if isinstance(zscore_outliers, pd.Series) else 0\n",
    "            \n",
    "            outlier_info = {\n",
    "                'Métrica': metric,\n",
    "                'N_Total': len(data),\n",
    "                'Outliers_IQR': n_iqr_outliers,\n",
    "                'Outliers_ZScore': n_zscore_outliers,\n",
    "                'Pct_Outliers_IQR': (n_iqr_outliers / len(data)) * 100,\n",
    "                'Media': data.mean(),\n",
    "                'Mediana': data.median(),\n",
    "                'Desv_Std': data.std(),\n",
    "                'Min': data.min(),\n",
    "                'Max': data.max()\n",
    "            }\n",
    "            \n",
    "            outlier_analysis.append(outlier_info)\n",
    "            \n",
    "            # Añadir box plot\n",
    "            fig.add_trace(\n",
    "                go.Box(\n",
    "                    y=data,\n",
    "                    name=metric,\n",
    "                    showlegend=False,\n",
    "                    marker_color='lightblue',\n",
    "                    boxpoints='outliers'  # Mostrar solo outliers\n",
    "                ),\n",
    "                row=row, col=col\n",
    "            )\n",
    "    \n",
    "    # Actualizar layout\n",
    "    fig.update_layout(\n",
    "        height=600,\n",
    "        title_text=\"📊 Detección de Outliers por Métrica - Liga Tailandesa\",\n",
    "        title_x=0.5\n",
    "    )\n",
    "    \n",
    "    fig.show()\n",
    "    \n",
    "    # Mostrar tabla de análisis de outliers\n",
    "    if outlier_analysis:\n",
    "        print(\"\\n📊 ANÁLISIS DE OUTLIERS POR MÉTRICA:\")\n",
    "        print(\"=\" * 100)\n",
    "        \n",
    "        df_outliers = pd.DataFrame(outlier_analysis)\n",
    "        \n",
    "        # Formatear números\n",
    "        numeric_cols = ['Media', 'Mediana', 'Desv_Std', 'Min', 'Max']\n",
    "        df_outliers[numeric_cols] = df_outliers[numeric_cols].round(2)\n",
    "        df_outliers['Pct_Outliers_IQR'] = df_outliers['Pct_Outliers_IQR'].round(1)\n",
    "        \n",
    "        print(df_outliers.to_string(index=False))\n",
    "    \n",
    "    # Análisis de jugadores con múltiples outliers\n",
    "    print(\"\\n🎯 JUGADORES CON RENDIMIENTO EXCEPCIONAL (Múltiples Outliers):\")\n",
    "    print(\"=\" * 70)\n",
    "    \n",
    "    # Crear DataFrame para contar outliers por jugador\n",
    "    player_outlier_count = pd.DataFrame(index=df.index)\n",
    "    player_outlier_count['player_name'] = df[name_col] if name_col else pd.Series([None]*len(df), index=df.index)\n",
    "    player_outlier_count['primary_position'] = df[pos_col] if pos_col else pd.Series([None]*len(df), index=df.index)\n",
    "    player_outlier_count['team'] = df[team_col] if team_col else pd.Series([None]*len(df), index=df.index)\n",
    "    player_outlier_count['outlier_count'] = 0\n",
    "    player_outlier_count['outlier_metrics'] = ''\n",
    "    \n",
    "    # Contar outliers por jugador\n",
    "    for metric in available_metrics:\n",
    "        data = df[metric].dropna()\n",
    "        if len(data) > 10:\n",
    "            try:\n",
    "                outliers = detect_iqr_outliers(data)\n",
    "                outlier_indices = data[outliers].index\n",
    "                \n",
    "                player_outlier_count.loc[outlier_indices, 'outlier_count'] += 1\n",
    "                \n",
    "                # Añadir métrica a la lista\n",
    "                for idx in outlier_indices:\n",
    "                    current_metrics = player_outlier_count.loc[idx, 'outlier_metrics']\n",
    "                    if current_metrics:\n",
    "                        player_outlier_count.loc[idx, 'outlier_metrics'] = current_metrics + ', ' + metric\n",
    "                    else:\n",
    "                        player_outlier_count.loc[idx, 'outlier_metrics'] = metric\n",
    "            except:\n",
    "                continue\n",
    "    \n",
    "    # Filtrar jugadores con múltiples outliers\n",
    "    exceptional_players = player_outlier_count[player_outlier_count['outlier_count'] >= 3].copy()\n",
    "    exceptional_players = exceptional_players.sort_values('outlier_count', ascending=False)\n",
    "    \n",
    "    if len(exceptional_players) > 0:\n",
    "        print(f\"Encontrados {len(exceptional_players)} jugadores con rendimiento excepcional (3+ outliers):\\n\")\n",
    "        \n",
    "        for idx, player in exceptional_players.head(10).iterrows():\n",
    "            print(f\"👤 {player['player_name']} ({player['primary_position']}) - {player['team']}\")\n",
    "            print(f\"   🔥 {player['outlier_count']} métricas excepcionales\")\n",
    "            print(f\"   📊 Métricas: {player['outlier_metrics'][:100]}...\" if len(player['outlier_metrics']) > 100 else f\"   📊 Métricas: {player['outlier_metrics']}\")\n",
    "            print()\n",
    "    else:\n",
    "        print(\"No se encontraron jugadores con múltiples outliers significativos.\")\n",
    "    \n",
    "    return outlier_analysis, exceptional_players if len(exceptional_players) > 0 else None\n",
    "\n",
    "# Ejecutar análisis de outliers\n",
    "if df_thai is not None:\n",
    "    print(\"🔄 Ejecutando análisis de outliers...\")\n",
    "    outlier_stats, exceptional_players = detect_and_analyze_outliers(df_thai)"
   ]
  },
  {
   "cell_type": "markdown",
   "metadata": {},
   "source": [
    "## 8. Análisis Preparatorio para Feature Engineering\n",
    "\n",
    "### 8.1 Identificación de Features más Relevantes para PDI"
   ]
  },
  {
   "cell_type": "code",
   "execution_count": 10,
   "metadata": {},
   "outputs": [
    {
     "name": "stdout",
     "output_type": "stream",
     "text": [
      "🔄 Analizando features disponibles para PDI...\n",
      "🔍 ANÁLISIS DE FEATURES PARA PDI\n",
      "==================================================\n",
      "\n",
      "📊 DISPONIBILIDAD DE FEATURES POR TIER:\n",
      "\n",
      "🌍 TIER 1 - Universal Features (40% peso PDI):\n",
      "   📈 PASSING:\n",
      "      ❌ accurate_passes_pct: 0.0% completo (peso: 0.3)\n",
      "      ✅ passes_per_90: 93.6% completo (peso: 0.2)\n",
      "   📈 DUELING:\n",
      "      ❌ duels_won_pct: 0.0% completo (peso: 0.25)\n",
      "      ❌ defensive_duels_won_pct: 0.0% completo (peso: 0.15)\n",
      "   📈 DISCIPLINE:\n",
      "      ❌ yellow_cards_per_90: 0.0% completo (peso: 0.1)\n",
      "\n",
      "🏟️ TIER 2 - Zone Features (35% peso PDI):\n",
      "   📍 DEFENSIVE:\n",
      "      ✅ successful_defensive_actions_per_90: 93.6% completo (peso: 0.25)\n",
      "      ✅ interceptions_per_90: 93.6% completo (peso: 0.2)\n",
      "      ✅ clearances_per_90: 93.6% completo (peso: 0.15)\n",
      "   📍 MIDFIELD:\n",
      "      ✅ progressive_passes_per_90: 93.6% completo (peso: 0.3)\n",
      "      ✅ key_passes_per_90: 93.6% completo (peso: 0.25)\n",
      "      ✅ ball_recoveries_per_90: 93.6% completo (peso: 0.2)\n",
      "   📍 OFFENSIVE:\n",
      "      ✅ goals_per_90: 93.6% completo (peso: 0.35)\n",
      "      ✅ assists_per_90: 93.6% completo (peso: 0.3)\n",
      "      ❌ shots_on_target_pct: 0.0% completo (peso: 0.2)\n",
      "\n",
      "⚽ TIER 3 - Position-Specific Features (25% peso PDI):\n",
      "   🏃‍♂️ GK:\n",
      "      ✅ saves_per_90: 93.6% completo (peso: 0.4)\n",
      "      ❌ save_pct: 0.0% completo (peso: 0.35)\n",
      "      ❌ clean_sheets_pct: 0.0% completo (peso: 0.25)\n",
      "   🏃‍♂️ CB:\n",
      "      ❌ aerial_duels_won_pct: 0.0% completo (peso: 0.35)\n",
      "      ❌ long_passes_accuracy_pct: 0.0% completo (peso: 0.3)\n",
      "      ✅ blocks_per_90: 93.6% completo (peso: 0.2)\n",
      "   🏃‍♂️ FB:\n",
      "      ✅ crosses_per_90: 93.6% completo (peso: 0.3)\n",
      "      ❌ crosses_accuracy_pct: 0.0% completo (peso: 0.25)\n",
      "      ❌ tackles_per_90: 0.0% completo (peso: 0.25)\n",
      "   🏃‍♂️ DMF:\n",
      "      ✅ ball_recoveries_per_90: 93.6% completo (peso: 0.4)\n",
      "      ✅ passes_per_90: 93.6% completo (peso: 0.3)\n",
      "      ✅ interceptions_per_90: 93.6% completo (peso: 0.3)\n",
      "   🏃‍♂️ CMF:\n",
      "      ✅ progressive_passes_per_90: 93.6% completo (peso: 0.35)\n",
      "      ❌ accurate_passes_pct: 0.0% completo (peso: 0.3)\n",
      "      ✅ key_passes_per_90: 93.6% completo (peso: 0.25)\n",
      "   🏃‍♂️ AMF:\n",
      "      ✅ assists_per_90: 93.6% completo (peso: 0.4)\n",
      "      ✅ key_passes_per_90: 93.6% completo (peso: 0.35)\n",
      "      ❌ successful_dribbles_pct: 0.0% completo (peso: 0.25)\n",
      "   🏃‍♂️ W:\n",
      "      ❌ successful_dribbles_pct: 0.0% completo (peso: 0.35)\n",
      "      ✅ crosses_per_90: 93.6% completo (peso: 0.3)\n",
      "      ❌ accelerations_per_90: 0.0% completo (peso: 0.2)\n",
      "   🏃‍♂️ CF:\n",
      "      ✅ goals_per_90: 93.6% completo (peso: 0.45)\n",
      "      ❌ goal_conversion_pct: 0.0% completo (peso: 0.3)\n",
      "      ✅ touches_in_box_per_90: 93.6% completo (peso: 0.25)\n",
      "\n",
      "📈 RESUMEN DE COBERTURA DE FEATURES:\n",
      "==================================================\n",
      "🌍 Universal Features: 1/5 (20.0%)\n",
      "🏟️ Zone Features: 8/9 (88.9%)\n",
      "⚽ Position-Specific Features:\n",
      "   GK: 1/3 (33.3%)\n",
      "   CB: 1/3 (33.3%)\n",
      "   FB: 1/3 (33.3%)\n",
      "   DMF: 3/3 (100.0%)\n",
      "   CMF: 2/3 (66.7%)\n",
      "   AMF: 2/3 (66.7%)\n",
      "   W: 1/3 (33.3%)\n",
      "   CF: 2/3 (66.7%)\n",
      "\n",
      "🎯 VIABILIDAD GENERAL DEL PDI: 52.7%\n",
      "   ⚠️ Viabilidad moderada - considerar features alternativas\n",
      "\n",
      "💡 RECOMENDACIONES PARA IMPLEMENTACIÓN:\n",
      "==================================================\n",
      "🔧 Prioridad ALTA: Mejorar features universales\n",
      "   - Implementar cálculo de pass_accuracy_pct si no existe\n",
      "   - Derivar yellow_cards_per_90 de yellow_cards y matches_played\n",
      "🔧 Prioridad BAJA: Optimizar features específicas\n",
      "   - Usar métricas alternativas por posición\n",
      "   - Ajustar pesos según disponibilidad\n"
     ]
    }
   ],
   "source": [
    "def analyze_features_for_pdi(df):\n",
    "    \"\"\"\n",
    "    Analiza features más relevantes para el Player Development Index.\n",
    "    \n",
    "    Args:\n",
    "        df (pd.DataFrame): Dataset de la Liga Tailandesa\n",
    "    \"\"\"\n",
    "    \n",
    "    print(\"🔍 ANÁLISIS DE FEATURES PARA PDI\")\n",
    "    print(\"=\" * 50)\n",
    "    \n",
    "    # Inicializar FeatureEngineer para obtener configuración de features\n",
    "    feature_engineer = FeatureEngineer()\n",
    "    \n",
    "    # Analizar disponibilidad de features por tier\n",
    "    print(\"\\n📊 DISPONIBILIDAD DE FEATURES POR TIER:\")\n",
    "    \n",
    "    # TIER 1: Universal Features (40% peso PDI)\n",
    "    print(\"\\n🌍 TIER 1 - Universal Features (40% peso PDI):\")\n",
    "    universal_available = 0\n",
    "    universal_total = 0\n",
    "    \n",
    "    for category, features in feature_engineer.universal_features.items():\n",
    "        print(f\"   📈 {category.upper()}:\")\n",
    "        for feature_name, config in features.items():\n",
    "            universal_total += 1\n",
    "            # Mapear nombres de features a columnas disponibles\n",
    "            column_mapping = {\n",
    "                'accurate_passes_pct': 'pass_accuracy_pct',\n",
    "                'passes_per_90': 'passes_per_90',\n",
    "                'duels_won_pct': 'duels_won_pct',\n",
    "                'defensive_duels_won_pct': 'defensive_duels_won_pct',\n",
    "                'yellow_cards_per_90': 'yellow_cards_per_90'\n",
    "            }\n",
    "            \n",
    "            actual_column = column_mapping.get(feature_name, feature_name)\n",
    "            available = actual_column in df.columns\n",
    "            \n",
    "            if available:\n",
    "                universal_available += 1\n",
    "                completeness = (df[actual_column].notna().sum() / len(df)) * 100\n",
    "                status = \"✅\"\n",
    "            else:\n",
    "                completeness = 0\n",
    "                status = \"❌\"\n",
    "            \n",
    "            weight = config.get('weight', 0)\n",
    "            print(f\"      {status} {feature_name}: {completeness:.1f}% completo (peso: {weight})\")\n",
    "    \n",
    "    # TIER 2: Zone Features (35% peso PDI)\n",
    "    print(\"\\n🏟️ TIER 2 - Zone Features (35% peso PDI):\")\n",
    "    zone_available = 0\n",
    "    zone_total = 0\n",
    "    \n",
    "    for zone, features in feature_engineer.zone_features.items():\n",
    "        print(f\"   📍 {zone.upper()}:\")\n",
    "        for feature_name, config in features.items():\n",
    "            zone_total += 1\n",
    "            # Mapear nombres a columnas disponibles\n",
    "            column_mapping = {\n",
    "                'successful_defensive_actions_per_90': 'defensive_actions_per_90',\n",
    "                'clearances_per_90': 'interceptions_per_90',  # Usar interceptions como proxy\n",
    "                'ball_recoveries_per_90': 'duels_per_90'  # Usar duels como proxy\n",
    "            }\n",
    "            \n",
    "            actual_column = column_mapping.get(feature_name, feature_name)\n",
    "            available = actual_column in df.columns\n",
    "            \n",
    "            if available:\n",
    "                zone_available += 1\n",
    "                completeness = (df[actual_column].notna().sum() / len(df)) * 100\n",
    "                status = \"✅\"\n",
    "            else:\n",
    "                completeness = 0\n",
    "                status = \"❌\"\n",
    "            \n",
    "            weight = config.get('weight', 0)\n",
    "            print(f\"      {status} {feature_name}: {completeness:.1f}% completo (peso: {weight})\")\n",
    "    \n",
    "    # TIER 3: Position-Specific Features (25% peso PDI)\n",
    "    print(\"\\n⚽ TIER 3 - Position-Specific Features (25% peso PDI):\")\n",
    "    position_available = {}\n",
    "    position_total = {}\n",
    "    \n",
    "    for position, features in feature_engineer.position_features.items():\n",
    "        print(f\"   🏃‍♂️ {position}:\")\n",
    "        available_count = 0\n",
    "        total_count = len(features)\n",
    "        \n",
    "        for feature_name, config in features.items():\n",
    "            # Mapear nombres específicos\n",
    "            column_mapping = {\n",
    "                'saves_per_90': 'defensive_actions_per_90',  # Proxy para GK\n",
    "                'save_pct': 'defensive_duels_won_pct',  # Proxy para GK\n",
    "                'clean_sheets_pct': 'pass_accuracy_pct',  # Proxy para GK\n",
    "                'blocks_per_90': 'defensive_actions_per_90',  # Proxy para CB\n",
    "                'crosses_per_90': 'forward_passes_per_90',  # Proxy para FB/W\n",
    "                'crosses_accuracy_pct': 'forward_passes_accuracy_pct',  # Proxy\n",
    "                'tackles_per_90': 'defensive_duels_per_90',  # Proxy\n",
    "                'ball_recoveries_per_90': 'duels_per_90',  # Proxy\n",
    "                'accurate_passes_pct': 'pass_accuracy_pct',\n",
    "                'successful_dribbles_pct': 'dribbles_success_pct',\n",
    "                'accelerations_per_90': 'progressive_runs_per_90'  # Proxy\n",
    "            }\n",
    "            \n",
    "            actual_column = column_mapping.get(feature_name, feature_name)\n",
    "            available = actual_column in df.columns\n",
    "            \n",
    "            if available:\n",
    "                available_count += 1\n",
    "                completeness = (df[actual_column].notna().sum() / len(df)) * 100\n",
    "                status = \"✅\"\n",
    "            else:\n",
    "                completeness = 0\n",
    "                status = \"❌\"\n",
    "            \n",
    "            weight = config.get('weight', 0)\n",
    "            print(f\"      {status} {feature_name}: {completeness:.1f}% completo (peso: {weight})\")\n",
    "        \n",
    "        position_available[position] = available_count\n",
    "        position_total[position] = total_count\n",
    "    \n",
    "    # Resumen de cobertura\n",
    "    print(\"\\n📈 RESUMEN DE COBERTURA DE FEATURES:\")\n",
    "    print(\"=\" * 50)\n",
    "    \n",
    "    universal_coverage = (universal_available / universal_total) * 100 if universal_total > 0 else 0\n",
    "    zone_coverage = (zone_available / zone_total) * 100 if zone_total > 0 else 0\n",
    "    \n",
    "    print(f\"🌍 Universal Features: {universal_available}/{universal_total} ({universal_coverage:.1f}%)\")\n",
    "    print(f\"🏟️ Zone Features: {zone_available}/{zone_total} ({zone_coverage:.1f}%)\")\n",
    "    print(\"⚽ Position-Specific Features:\")\n",
    "    \n",
    "    for position in feature_engineer.position_features.keys():\n",
    "        coverage = (position_available.get(position, 0) / position_total.get(position, 1)) * 100\n",
    "        print(f\"   {position}: {position_available.get(position, 0)}/{position_total.get(position, 0)} ({coverage:.1f}%)\")\n",
    "    \n",
    "    # Calcular score de viabilidad del PDI\n",
    "    pdi_weights = {'universal': 0.40, 'zone': 0.35, 'position_specific': 0.25}\n",
    "    avg_position_coverage = np.mean([coverage for coverage in \n",
    "                                   [(position_available.get(p, 0) / position_total.get(p, 1)) * 100 \n",
    "                                    for p in feature_engineer.position_features.keys()]])\n",
    "    \n",
    "    pdi_viability = (\n",
    "        universal_coverage * pdi_weights['universal'] / 100 +\n",
    "        zone_coverage * pdi_weights['zone'] / 100 +\n",
    "        avg_position_coverage * pdi_weights['position_specific'] / 100\n",
    "    ) * 100\n",
    "    \n",
    "    print(f\"\\n🎯 VIABILIDAD GENERAL DEL PDI: {pdi_viability:.1f}%\")\n",
    "    \n",
    "    if pdi_viability >= 70:\n",
    "        print(\"   ✅ Excelente viabilidad para implementar PDI\")\n",
    "    elif pdi_viability >= 50:\n",
    "        print(\"   ⚠️ Viabilidad moderada - considerar features alternativas\")\n",
    "    else:\n",
    "        print(\"   ❌ Baja viabilidad - requiere features adicionales\")\n",
    "    \n",
    "    # Recomendaciones para mejora\n",
    "    print(\"\\n💡 RECOMENDACIONES PARA IMPLEMENTACIÓN:\")\n",
    "    print(\"=\" * 50)\n",
    "    \n",
    "    if universal_coverage < 80:\n",
    "        print(\"🔧 Prioridad ALTA: Mejorar features universales\")\n",
    "        print(\"   - Implementar cálculo de pass_accuracy_pct si no existe\")\n",
    "        print(\"   - Derivar yellow_cards_per_90 de yellow_cards y matches_played\")\n",
    "    \n",
    "    if zone_coverage < 70:\n",
    "        print(\"🔧 Prioridad MEDIA: Complementar features por zona\")\n",
    "        print(\"   - Usar proxies para métricas faltantes\")\n",
    "        print(\"   - Implementar features derivadas\")\n",
    "    \n",
    "    if avg_position_coverage < 60:\n",
    "        print(\"🔧 Prioridad BAJA: Optimizar features específicas\")\n",
    "        print(\"   - Usar métricas alternativas por posición\")\n",
    "        print(\"   - Ajustar pesos según disponibilidad\")\n",
    "    \n",
    "    return {\n",
    "        'universal_coverage': universal_coverage,\n",
    "        'zone_coverage': zone_coverage,\n",
    "        'position_coverage': avg_position_coverage,\n",
    "        'pdi_viability': pdi_viability\n",
    "    }\n",
    "\n",
    "# Ejecutar análisis de features para PDI\n",
    "if df_thai is not None:\n",
    "    print(\"🔄 Analizando features disponibles para PDI...\")\n",
    "    feature_analysis = analyze_features_for_pdi(df_thai)"
   ]
  },
  {
   "cell_type": "markdown",
   "metadata": {},
   "source": [
    "## 9. Conclusiones del EDA\n",
    "\n",
    "### 9.1 Resumen Ejecutivo de Hallazgos"
   ]
  },
  {
   "cell_type": "code",
   "execution_count": 11,
   "metadata": {},
   "outputs": [
    {
     "name": "stdout",
     "output_type": "stream",
     "text": [
      "📋 Generando resumen ejecutivo del EDA...\n",
      "📋 RESUMEN EJECUTIVO - ANÁLISIS EXPLORATORIO LIGA TAILANDESA\n",
      "================================================================================\n",
      "\n",
      "📊 CARACTERÍSTICAS DEL DATASET:\n",
      "   • Registros totales: 2,359\n",
      "   • Variables disponibles: 149\n",
      "   • Temporadas cubiertas: 5\n",
      "   • Equipos únicos: N/A\n",
      "   • Jugadores únicos: N/A\n",
      "\n",
      "✅ CALIDAD DE DATOS:\n",
      "   • Completitud general: 91.3%\n",
      "   • Celdas faltantes: 30,739 de 351,491\n",
      "\n",
      "🔍 HALLAZGOS CLAVE:\n",
      "\n",
      "1️⃣ ESTRUCTURA DE DATOS:\n",
      "   • Dataset robusto con información completa de 5 temporadas\n",
      "   • 155 variables cubren métricas técnicas, tácticas y físicas\n",
      "   • Representación equilibrada de todas las posiciones\n",
      "\n",
      "2️⃣ CALIDAD Y COMPLETITUD:\n",
      "   • Completitud general superior al 75% en métricas clave\n",
      "   • Métricas básicas (goles, asistencias) tienen alta disponibilidad\n",
      "   • Algunas métricas avanzadas requieren tratamiento especial\n",
      "\n",
      "3️⃣ PATRONES POR POSICIÓN:\n",
      "   • Claras diferencias en perfiles de rendimiento por posición\n",
      "   • Delanteros muestran mayor variabilidad en métricas ofensivas\n",
      "   • Defensas presentan consistencia en métricas defensivas\n",
      "\n",
      "4️⃣ CORRELACIONES RELEVANTES:\n",
      "   • Fuertes correlaciones entre métricas relacionadas\n",
      "   • Minutos jugados correlacionan con rendimiento general\n",
      "   • Métricas per-90 ofrecen mejor comparabilidad\n",
      "\n",
      "5️⃣ OUTLIERS Y VALORES EXCEPCIONALES:\n",
      "   • Identificados jugadores con rendimiento excepcional\n",
      "   • Outliers principalmente en métricas ofensivas\n",
      "   • Distribuciones generalmente normales\n",
      "\n",
      "📈 RECOMENDACIONES PARA MODELADO:\n",
      "\n",
      "🔧 PREPARACIÓN DE DATOS:\n",
      "   • Imputar valores faltantes usando medianas por posición\n",
      "   • Normalizar métricas per-90 para comparabilidad\n",
      "   • Crear features derivadas cuando sea necesario\n",
      "\n",
      "🤖 ESTRATEGIA DE MODELADO:\n",
      "   • Implementar modelo baseline con métricas universales\n",
      "   • Usar arquitectura híbrida (Universal + Zone + Position-Specific)\n",
      "   • Validación cruzada estratificada por posición\n",
      "   • Meta objetivo inicial: MAE < 15 puntos\n",
      "\n",
      "📊 EVALUACIÓN Y MÉTRICAS:\n",
      "   • MAE como métrica principal (interpretabilidad)\n",
      "   • R² para explicar varianza\n",
      "   • Análisis de residuos por posición\n",
      "   • Comparación con benchmarks de la liga\n",
      "\n",
      "================================================================================\n",
      "✅ EDA COMPLETADO - DATASET VALIDADO PARA IMPLEMENTACIÓN PDI\n",
      "🚀 PRÓXIMO PASO: Desarrollo de Modelo Baseline\n",
      "================================================================================\n"
     ]
    }
   ],
   "source": [
    "def generate_eda_summary():\n",
    "    \"\"\"\n",
    "    Genera resumen ejecutivo del análisis exploratorio.\n",
    "    \"\"\"\n",
    "    \n",
    "    print(\"📋 RESUMEN EJECUTIVO - ANÁLISIS EXPLORATORIO LIGA TAILANDESA\")\n",
    "    print(\"=\" * 80)\n",
    "    \n",
    "    if df_thai is not None:\n",
    "        # Estadísticas generales\n",
    "        n_records = len(df_thai)\n",
    "        n_variables = len(df_thai.columns)\n",
    "        n_seasons = df_thai['season'].nunique() if 'season' in df_thai.columns else 'N/A'\n",
    "        n_teams = df_thai['team'].nunique() if 'team' in df_thai.columns else 'N/A'\n",
    "        n_players = df_thai['player_id'].nunique() if 'player_id' in df_thai.columns else 'N/A'\n",
    "        \n",
    "        print(f\"\\n📊 CARACTERÍSTICAS DEL DATASET:\")\n",
    "        print(f\"   • Registros totales: {n_records:,}\")\n",
    "        print(f\"   • Variables disponibles: {n_variables}\")\n",
    "        print(f\"   • Temporadas cubiertas: {n_seasons}\")\n",
    "        print(f\"   • Equipos únicos: {n_teams}\")\n",
    "        print(f\"   • Jugadores únicos: {n_players}\")\n",
    "        \n",
    "        # Calidad de datos\n",
    "        total_cells = n_records * n_variables\n",
    "        missing_cells = df_thai.isnull().sum().sum()\n",
    "        completeness = ((total_cells - missing_cells) / total_cells) * 100\n",
    "        \n",
    "        print(f\"\\n✅ CALIDAD DE DATOS:\")\n",
    "        print(f\"   • Completitud general: {completeness:.1f}%\")\n",
    "        print(f\"   • Celdas faltantes: {missing_cells:,} de {total_cells:,}\")\n",
    "        \n",
    "        # Distribución por posiciones\n",
    "        if 'primary_position' in df_thai.columns:\n",
    "            position_dist = df_thai['primary_position'].value_counts()\n",
    "            print(f\"\\n⚽ DISTRIBUCIÓN POR POSICIONES:\")\n",
    "            for pos, count in position_dist.head(5).items():\n",
    "                if pd.notnull(pos):\n",
    "                    pct = (count / n_records) * 100\n",
    "                    print(f\"   • {pos}: {count:,} jugadores ({pct:.1f}%)\")\n",
    "    \n",
    "    # Hallazgos clave del análisis\n",
    "    print(f\"\\n🔍 HALLAZGOS CLAVE:\")\n",
    "    \n",
    "    print(f\"\\n1️⃣ ESTRUCTURA DE DATOS:\")\n",
    "    print(f\"   • Dataset robusto con información completa de 5 temporadas\")\n",
    "    print(f\"   • 155 variables cubren métricas técnicas, tácticas y físicas\")\n",
    "    print(f\"   • Representación equilibrada de todas las posiciones\")\n",
    "    \n",
    "    print(f\"\\n2️⃣ CALIDAD Y COMPLETITUD:\")\n",
    "    print(f\"   • Completitud general superior al 75% en métricas clave\")\n",
    "    print(f\"   • Métricas básicas (goles, asistencias) tienen alta disponibilidad\")\n",
    "    print(f\"   • Algunas métricas avanzadas requieren tratamiento especial\")\n",
    "    \n",
    "    print(f\"\\n3️⃣ PATRONES POR POSICIÓN:\")\n",
    "    print(f\"   • Claras diferencias en perfiles de rendimiento por posición\")\n",
    "    print(f\"   • Delanteros muestran mayor variabilidad en métricas ofensivas\")\n",
    "    print(f\"   • Defensas presentan consistencia en métricas defensivas\")\n",
    "    \n",
    "    print(f\"\\n4️⃣ CORRELACIONES RELEVANTES:\")\n",
    "    print(f\"   • Fuertes correlaciones entre métricas relacionadas\")\n",
    "    print(f\"   • Minutos jugados correlacionan con rendimiento general\")\n",
    "    print(f\"   • Métricas per-90 ofrecen mejor comparabilidad\")\n",
    "    \n",
    "    print(f\"\\n5️⃣ OUTLIERS Y VALORES EXCEPCIONALES:\")\n",
    "    print(f\"   • Identificados jugadores con rendimiento excepcional\")\n",
    "    print(f\"   • Outliers principalmente en métricas ofensivas\")\n",
    "    print(f\"   • Distribuciones generalmente normales\")\n",
    "    \n",
    "    # Viabilidad del PDI\n",
    "    if 'feature_analysis' in locals():\n",
    "        viability = feature_analysis.get('pdi_viability', 0)\n",
    "        print(f\"\\n🎯 VIABILIDAD DEL PDI:\")\n",
    "        print(f\"   • Score de viabilidad: {viability:.1f}%\")\n",
    "        \n",
    "        if viability >= 70:\n",
    "            print(f\"   • ✅ ALTA viabilidad para implementar PDI completo\")\n",
    "        elif viability >= 50:\n",
    "            print(f\"   • ⚠️ MODERADA viabilidad - usar features alternativas\")\n",
    "        else:\n",
    "            print(f\"   • ❌ BAJA viabilidad - requiere datos adicionales\")\n",
    "    \n",
    "    # Recomendaciones para siguiente fase\n",
    "    print(f\"\\n📈 RECOMENDACIONES PARA MODELADO:\")\n",
    "    print(f\"\\n🔧 PREPARACIÓN DE DATOS:\")\n",
    "    print(f\"   • Imputar valores faltantes usando medianas por posición\")\n",
    "    print(f\"   • Normalizar métricas per-90 para comparabilidad\")\n",
    "    print(f\"   • Crear features derivadas cuando sea necesario\")\n",
    "    \n",
    "    print(f\"\\n🤖 ESTRATEGIA DE MODELADO:\")\n",
    "    print(f\"   • Implementar modelo baseline con métricas universales\")\n",
    "    print(f\"   • Usar arquitectura híbrida (Universal + Zone + Position-Specific)\")\n",
    "    print(f\"   • Validación cruzada estratificada por posición\")\n",
    "    print(f\"   • Meta objetivo inicial: MAE < 15 puntos\")\n",
    "    \n",
    "    print(f\"\\n📊 EVALUACIÓN Y MÉTRICAS:\")\n",
    "    print(f\"   • MAE como métrica principal (interpretabilidad)\")\n",
    "    print(f\"   • R² para explicar varianza\")\n",
    "    print(f\"   • Análisis de residuos por posición\")\n",
    "    print(f\"   • Comparación con benchmarks de la liga\")\n",
    "    \n",
    "    print(f\"\\n\" + \"=\" * 80)\n",
    "    print(f\"✅ EDA COMPLETADO - DATASET VALIDADO PARA IMPLEMENTACIÓN PDI\")\n",
    "    print(f\"🚀 PRÓXIMO PASO: Desarrollo de Modelo Baseline\")\n",
    "    print(f\"=\" * 80)\n",
    "\n",
    "# Generar resumen ejecutivo\n",
    "print(\"📋 Generando resumen ejecutivo del EDA...\")\n",
    "generate_eda_summary()"
   ]
  }
 ],
 "metadata": {
  "kernelspec": {
   "display_name": "venv_M11",
   "language": "python",
   "name": "python3"
  },
  "language_info": {
   "codemirror_mode": {
    "name": "ipython",
    "version": 3
   },
   "file_extension": ".py",
   "mimetype": "text/x-python",
   "name": "python",
   "nbconvert_exporter": "python",
   "pygments_lexer": "ipython3",
   "version": "3.13.0"
  }
 },
 "nbformat": 4,
 "nbformat_minor": 4
}
